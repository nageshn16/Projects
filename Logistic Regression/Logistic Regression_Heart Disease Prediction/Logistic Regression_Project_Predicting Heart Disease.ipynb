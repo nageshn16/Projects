{
 "cells": [
  {
   "cell_type": "markdown",
   "metadata": {},
   "source": [
    "### Project - Heart Disease Prediction using Logistic Regression \n",
    "\n",
    "The objective of this project is to predict the risk of Heart Disease among future patients, based on Clinical Data. The data has been retrieved from the below UCI repository. We will be using Logistic Regression algorithm for the same\n",
    "\n",
    "https://archive.ics.uci.edu/dataset/45/heart+disease\n"
   ]
  },
  {
   "cell_type": "code",
   "execution_count": 1,
   "metadata": {},
   "outputs": [],
   "source": [
    "import pandas as pd\n",
    "import numpy as np\n",
    "import matplotlib.pyplot as plt\n",
    "\n",
    "from sklearn.model_selection import train_test_split\n",
    "from sklearn.linear_model import LogisticRegression\n",
    "\n",
    "from sklearn.metrics import accuracy_score, confusion_matrix\n"
   ]
  },
  {
   "cell_type": "code",
   "execution_count": 2,
   "metadata": {},
   "outputs": [],
   "source": [
    "heart = pd.read_csv('heart_disease.csv')"
   ]
  },
  {
   "cell_type": "markdown",
   "metadata": {},
   "source": [
    "#### Feature Definitions in the below URL : \n",
    "\n",
    "https://archive.ics.uci.edu/dataset/45/heart+disease"
   ]
  },
  {
   "cell_type": "code",
   "execution_count": 3,
   "metadata": {},
   "outputs": [
    {
     "data": {
      "text/html": [
       "<div>\n",
       "<style scoped>\n",
       "    .dataframe tbody tr th:only-of-type {\n",
       "        vertical-align: middle;\n",
       "    }\n",
       "\n",
       "    .dataframe tbody tr th {\n",
       "        vertical-align: top;\n",
       "    }\n",
       "\n",
       "    .dataframe thead th {\n",
       "        text-align: right;\n",
       "    }\n",
       "</style>\n",
       "<table border=\"1\" class=\"dataframe\">\n",
       "  <thead>\n",
       "    <tr style=\"text-align: right;\">\n",
       "      <th></th>\n",
       "      <th>Unnamed: 0</th>\n",
       "      <th>age</th>\n",
       "      <th>sex</th>\n",
       "      <th>cp</th>\n",
       "      <th>trestbps</th>\n",
       "      <th>chol</th>\n",
       "      <th>fbs</th>\n",
       "      <th>restecg</th>\n",
       "      <th>thalach</th>\n",
       "      <th>exang</th>\n",
       "      <th>oldpeak</th>\n",
       "      <th>slope</th>\n",
       "      <th>ca</th>\n",
       "      <th>thal</th>\n",
       "      <th>present</th>\n",
       "    </tr>\n",
       "  </thead>\n",
       "  <tbody>\n",
       "    <tr>\n",
       "      <th>0</th>\n",
       "      <td>1</td>\n",
       "      <td>63</td>\n",
       "      <td>1</td>\n",
       "      <td>1</td>\n",
       "      <td>145</td>\n",
       "      <td>233</td>\n",
       "      <td>1</td>\n",
       "      <td>2</td>\n",
       "      <td>150</td>\n",
       "      <td>0</td>\n",
       "      <td>2.3</td>\n",
       "      <td>3</td>\n",
       "      <td>0.0</td>\n",
       "      <td>6.0</td>\n",
       "      <td>0</td>\n",
       "    </tr>\n",
       "    <tr>\n",
       "      <th>1</th>\n",
       "      <td>2</td>\n",
       "      <td>67</td>\n",
       "      <td>1</td>\n",
       "      <td>4</td>\n",
       "      <td>160</td>\n",
       "      <td>286</td>\n",
       "      <td>0</td>\n",
       "      <td>2</td>\n",
       "      <td>108</td>\n",
       "      <td>1</td>\n",
       "      <td>1.5</td>\n",
       "      <td>2</td>\n",
       "      <td>3.0</td>\n",
       "      <td>3.0</td>\n",
       "      <td>1</td>\n",
       "    </tr>\n",
       "    <tr>\n",
       "      <th>2</th>\n",
       "      <td>3</td>\n",
       "      <td>67</td>\n",
       "      <td>1</td>\n",
       "      <td>4</td>\n",
       "      <td>120</td>\n",
       "      <td>229</td>\n",
       "      <td>0</td>\n",
       "      <td>2</td>\n",
       "      <td>129</td>\n",
       "      <td>1</td>\n",
       "      <td>2.6</td>\n",
       "      <td>2</td>\n",
       "      <td>2.0</td>\n",
       "      <td>7.0</td>\n",
       "      <td>1</td>\n",
       "    </tr>\n",
       "    <tr>\n",
       "      <th>3</th>\n",
       "      <td>4</td>\n",
       "      <td>37</td>\n",
       "      <td>1</td>\n",
       "      <td>3</td>\n",
       "      <td>130</td>\n",
       "      <td>250</td>\n",
       "      <td>0</td>\n",
       "      <td>0</td>\n",
       "      <td>187</td>\n",
       "      <td>0</td>\n",
       "      <td>3.5</td>\n",
       "      <td>3</td>\n",
       "      <td>0.0</td>\n",
       "      <td>3.0</td>\n",
       "      <td>0</td>\n",
       "    </tr>\n",
       "    <tr>\n",
       "      <th>4</th>\n",
       "      <td>5</td>\n",
       "      <td>41</td>\n",
       "      <td>0</td>\n",
       "      <td>2</td>\n",
       "      <td>130</td>\n",
       "      <td>204</td>\n",
       "      <td>0</td>\n",
       "      <td>2</td>\n",
       "      <td>172</td>\n",
       "      <td>0</td>\n",
       "      <td>1.4</td>\n",
       "      <td>1</td>\n",
       "      <td>0.0</td>\n",
       "      <td>3.0</td>\n",
       "      <td>0</td>\n",
       "    </tr>\n",
       "  </tbody>\n",
       "</table>\n",
       "</div>"
      ],
      "text/plain": [
       "   Unnamed: 0  age  sex  cp  trestbps  chol  fbs  restecg  thalach  exang  \\\n",
       "0           1   63    1   1       145   233    1        2      150      0   \n",
       "1           2   67    1   4       160   286    0        2      108      1   \n",
       "2           3   67    1   4       120   229    0        2      129      1   \n",
       "3           4   37    1   3       130   250    0        0      187      0   \n",
       "4           5   41    0   2       130   204    0        2      172      0   \n",
       "\n",
       "   oldpeak  slope   ca thal  present  \n",
       "0      2.3      3  0.0  6.0        0  \n",
       "1      1.5      2  3.0  3.0        1  \n",
       "2      2.6      2  2.0  7.0        1  \n",
       "3      3.5      3  0.0  3.0        0  \n",
       "4      1.4      1  0.0  3.0        0  "
      ]
     },
     "execution_count": 3,
     "metadata": {},
     "output_type": "execute_result"
    }
   ],
   "source": [
    "### Exploring the data set\n",
    "\n",
    "heart.head()"
   ]
  },
  {
   "cell_type": "code",
   "execution_count": 4,
   "metadata": {},
   "outputs": [
    {
     "name": "stdout",
     "output_type": "stream",
     "text": [
      "<class 'pandas.core.frame.DataFrame'>\n",
      "RangeIndex: 303 entries, 0 to 302\n",
      "Data columns (total 15 columns):\n",
      " #   Column      Non-Null Count  Dtype  \n",
      "---  ------      --------------  -----  \n",
      " 0   Unnamed: 0  303 non-null    int64  \n",
      " 1   age         303 non-null    int64  \n",
      " 2   sex         303 non-null    int64  \n",
      " 3   cp          303 non-null    int64  \n",
      " 4   trestbps    303 non-null    int64  \n",
      " 5   chol        303 non-null    int64  \n",
      " 6   fbs         303 non-null    int64  \n",
      " 7   restecg     303 non-null    int64  \n",
      " 8   thalach     303 non-null    int64  \n",
      " 9   exang       303 non-null    int64  \n",
      " 10  oldpeak     303 non-null    float64\n",
      " 11  slope       303 non-null    int64  \n",
      " 12  ca          303 non-null    object \n",
      " 13  thal        303 non-null    object \n",
      " 14  present     303 non-null    int64  \n",
      "dtypes: float64(1), int64(12), object(2)\n",
      "memory usage: 35.6+ KB\n"
     ]
    }
   ],
   "source": [
    "heart.info()"
   ]
  },
  {
   "cell_type": "code",
   "execution_count": 5,
   "metadata": {},
   "outputs": [
    {
     "name": "stdout",
     "output_type": "stream",
     "text": [
      "0.0    176\n",
      "1.0     65\n",
      "2.0     38\n",
      "3.0     20\n",
      "NaN      4\n",
      "Name: ca, dtype: int64\n",
      "3.0    166\n",
      "7.0    117\n",
      "6.0     18\n",
      "NaN      2\n",
      "Name: thal, dtype: int64\n"
     ]
    }
   ],
   "source": [
    "### We can convert 'ca' and 'thal' to numeric data as they have numbers\n",
    "\n",
    "heart['ca'] = heart['ca'].replace('?', np.NaN).astype(float)\n",
    "heart['thal'] = heart['thal'].replace('?', np.NaN).astype(float)\n",
    "\n",
    "#heart['thal'] = heart['thal'].astype(float)\n",
    "\n",
    "\n",
    "print(heart['ca'].value_counts(dropna = False))\n",
    "print(heart['thal'].value_counts(dropna = False))"
   ]
  },
  {
   "cell_type": "code",
   "execution_count": 6,
   "metadata": {},
   "outputs": [
    {
     "name": "stdout",
     "output_type": "stream",
     "text": [
      "<class 'pandas.core.frame.DataFrame'>\n",
      "RangeIndex: 303 entries, 0 to 302\n",
      "Data columns (total 15 columns):\n",
      " #   Column      Non-Null Count  Dtype  \n",
      "---  ------      --------------  -----  \n",
      " 0   Unnamed: 0  303 non-null    int64  \n",
      " 1   age         303 non-null    int64  \n",
      " 2   sex         303 non-null    int64  \n",
      " 3   cp          303 non-null    int64  \n",
      " 4   trestbps    303 non-null    int64  \n",
      " 5   chol        303 non-null    int64  \n",
      " 6   fbs         303 non-null    int64  \n",
      " 7   restecg     303 non-null    int64  \n",
      " 8   thalach     303 non-null    int64  \n",
      " 9   exang       303 non-null    int64  \n",
      " 10  oldpeak     303 non-null    float64\n",
      " 11  slope       303 non-null    int64  \n",
      " 12  ca          299 non-null    float64\n",
      " 13  thal        301 non-null    float64\n",
      " 14  present     303 non-null    int64  \n",
      "dtypes: float64(3), int64(12)\n",
      "memory usage: 35.6 KB\n"
     ]
    }
   ],
   "source": [
    "heart.info()"
   ]
  },
  {
   "cell_type": "code",
   "execution_count": 7,
   "metadata": {},
   "outputs": [],
   "source": [
    "num_cols = ['age', 'trestbps', 'chol', 'thalach', 'oldpeak']\n",
    "cat_cols = ['sex', 'cp', 'fbs','restecg', 'exang', 'ca','thal']\n",
    "\n",
    "agg_dict = {}\n",
    "\n",
    "for col in num_cols:\n",
    "    agg_dict[col] = 'mean'\n"
   ]
  },
  {
   "cell_type": "code",
   "execution_count": 8,
   "metadata": {},
   "outputs": [
    {
     "data": {
      "text/html": [
       "<div>\n",
       "<style scoped>\n",
       "    .dataframe tbody tr th:only-of-type {\n",
       "        vertical-align: middle;\n",
       "    }\n",
       "\n",
       "    .dataframe tbody tr th {\n",
       "        vertical-align: top;\n",
       "    }\n",
       "\n",
       "    .dataframe thead th {\n",
       "        text-align: right;\n",
       "    }\n",
       "</style>\n",
       "<table border=\"1\" class=\"dataframe\">\n",
       "  <thead>\n",
       "    <tr style=\"text-align: right;\">\n",
       "      <th></th>\n",
       "      <th>age</th>\n",
       "      <th>trestbps</th>\n",
       "      <th>chol</th>\n",
       "      <th>thalach</th>\n",
       "      <th>oldpeak</th>\n",
       "    </tr>\n",
       "    <tr>\n",
       "      <th>present</th>\n",
       "      <th></th>\n",
       "      <th></th>\n",
       "      <th></th>\n",
       "      <th></th>\n",
       "      <th></th>\n",
       "    </tr>\n",
       "  </thead>\n",
       "  <tbody>\n",
       "    <tr>\n",
       "      <th>0</th>\n",
       "      <td>52.585366</td>\n",
       "      <td>129.250000</td>\n",
       "      <td>242.640244</td>\n",
       "      <td>158.378049</td>\n",
       "      <td>0.586585</td>\n",
       "    </tr>\n",
       "    <tr>\n",
       "      <th>1</th>\n",
       "      <td>56.625899</td>\n",
       "      <td>134.568345</td>\n",
       "      <td>251.474820</td>\n",
       "      <td>139.258993</td>\n",
       "      <td>1.574101</td>\n",
       "    </tr>\n",
       "  </tbody>\n",
       "</table>\n",
       "</div>"
      ],
      "text/plain": [
       "               age    trestbps        chol     thalach   oldpeak\n",
       "present                                                         \n",
       "0        52.585366  129.250000  242.640244  158.378049  0.586585\n",
       "1        56.625899  134.568345  251.474820  139.258993  1.574101"
      ]
     },
     "execution_count": 8,
     "metadata": {},
     "output_type": "execute_result"
    }
   ],
   "source": [
    "heart.groupby('present').agg(agg_dict)"
   ]
  },
  {
   "cell_type": "code",
   "execution_count": 9,
   "metadata": {},
   "outputs": [
    {
     "data": {
      "image/png": "[encoded data removed]",
      "text/plain": [
       "<Figure size 432x288 with 1 Axes>"
      ]
     },
     "metadata": {
      "needs_background": "light"
     },
     "output_type": "display_data"
    },
    {
     "data": {
      "image/png": "[encoded data removed]",
      "text/plain": [
       "<Figure size 432x288 with 1 Axes>"
      ]
     },
     "metadata": {
      "needs_background": "light"
     },
     "output_type": "display_data"
    },
    {
     "data": {
      "image/png": "[encoded data removed]",
      "text/plain": [
       "<Figure size 432x288 with 1 Axes>"
      ]
     },
     "metadata": {
      "needs_background": "light"
     },
     "output_type": "display_data"
    },
    {
     "data": {
      "image/png": "[encoded data removed]",
      "text/plain": [
       "<Figure size 432x288 with 1 Axes>"
      ]
     },
     "metadata": {
      "needs_background": "light"
     },
     "output_type": "display_data"
    },
    {
     "data": {
      "image/png": "[encoded data removed]",
      "text/plain": [
       "<Figure size 432x288 with 1 Axes>"
      ]
     },
     "metadata": {
      "needs_background": "light"
     },
     "output_type": "display_data"
    }
   ],
   "source": [
    "import seaborn as sns\n",
    "\n",
    "#sns.boxplot(data = heart, x = 'present', y = 'age')\n",
    "\n",
    "for col in num_cols:\n",
    "    sns.boxplot(data = heart, x ='present', y = col)\n",
    "    #plt.title(col)\n",
    "    plt.show()"
   ]
  },
  {
   "cell_type": "markdown",
   "metadata": {},
   "source": [
    "#### Upon observing the box plots and histograms, we can consider 'chol', 'age', 'thalach' and 'oldpeak' as features that are impacting the outcome. We will use chisquare test for categorical features"
   ]
  },
  {
   "cell_type": "code",
   "execution_count": 10,
   "metadata": {},
   "outputs": [
    {
     "data": {
      "image/png": "[encoded data removed]",
      "text/plain": [
       "<Figure size 432x288 with 1 Axes>"
      ]
     },
     "metadata": {
      "needs_background": "light"
     },
     "output_type": "display_data"
    },
    {
     "data": {
      "image/png": "[encoded data removed]",
      "text/plain": [
       "<Figure size 432x288 with 1 Axes>"
      ]
     },
     "metadata": {
      "needs_background": "light"
     },
     "output_type": "display_data"
    },
    {
     "data": {
      "image/png": "[encoded data removed]",
      "text/plain": [
       "<Figure size 432x288 with 1 Axes>"
      ]
     },
     "metadata": {
      "needs_background": "light"
     },
     "output_type": "display_data"
    },
    {
     "data": {
      "image/png": "[encoded data removed]",
      "text/plain": [
       "<Figure size 432x288 with 1 Axes>"
      ]
     },
     "metadata": {
      "needs_background": "light"
     },
     "output_type": "display_data"
    },
    {
     "data": {
      "image/png": "[encoded data removed]",
      "text/plain": [
       "<Figure size 432x288 with 1 Axes>"
      ]
     },
     "metadata": {
      "needs_background": "light"
     },
     "output_type": "display_data"
    }
   ],
   "source": [
    "import matplotlib.pyplot as plt\n",
    "import pandas as pd\n",
    "\n",
    "# Create a sample DataFrame\n",
    "\n",
    "for col in num_cols:    \n",
    "\n",
    "    df = heart\n",
    "\n",
    "    # Split the data based on the categorical feature\n",
    "    category_0 = df[df['present'] == 0]\n",
    "    category_1 = df[df['present'] == 1]\n",
    "\n",
    "    # Plot the histograms\n",
    "    plt.hist(category_0[col], bins=10, alpha=0.5, label='Heart Disease not Present')\n",
    "    plt.hist(category_1[col], bins=10, alpha=0.5, label='Heart Disease Present')\n",
    "    plt.xlabel(col)\n",
    "    plt.ylabel('Frequency')\n",
    "    plt.title('Histogram of Feature by Category')\n",
    "    plt.legend()\n",
    "    plt.show()\n"
   ]
  },
  {
   "cell_type": "code",
   "execution_count": 11,
   "metadata": {},
   "outputs": [],
   "source": [
    "cross_tab = pd.crosstab(heart['sex'], heart['present'])"
   ]
  },
  {
   "cell_type": "code",
   "execution_count": 12,
   "metadata": {},
   "outputs": [
    {
     "name": "stdout",
     "output_type": "stream",
     "text": [
      "2.666712348180942e-06\n"
     ]
    }
   ],
   "source": [
    "from scipy.stats import chi2_contingency\n",
    "\n",
    "chisq_result = chi2_contingency(cross_tab)\n",
    "print(chisq_result[1])"
   ]
  },
  {
   "cell_type": "code",
   "execution_count": 13,
   "metadata": {},
   "outputs": [
    {
     "name": "stdout",
     "output_type": "stream",
     "text": [
      "2.666712348180942e-06 Categorical variable sex\n",
      "The relationship between sex  and heart disease is significant\n",
      "\n",
      "\n",
      "1.2517106007837527e-17 Categorical variable cp\n",
      "The relationship between cp  and heart disease is significant\n",
      "\n",
      "\n",
      "0.7812734067063785 Categorical variable fbs\n",
      "The relationship between  fbs  and heart disease is not signficant\n",
      "\n",
      "\n",
      "0.006566523814217354 Categorical variable restecg\n",
      "The relationship between restecg  and heart disease is significant\n",
      "\n",
      "\n",
      "1.413788096718085e-13 Categorical variable exang\n",
      "The relationship between exang  and heart disease is significant\n",
      "\n",
      "\n",
      "1.7199517696913475e-15 Categorical variable ca\n",
      "The relationship between ca  and heart disease is significant\n",
      "\n",
      "\n",
      "8.201820286056396e-19 Categorical variable thal\n",
      "The relationship between thal  and heart disease is significant\n",
      "\n",
      "\n"
     ]
    }
   ],
   "source": [
    "cat_cols_selected = []\n",
    "for col in cat_cols:\n",
    "    cross_tab = pd.crosstab(heart[col], heart['present'])\n",
    "    chisq_result = chi2_contingency(cross_tab)\n",
    "    \n",
    "    print(chisq_result[1], 'Categorical variable', col)\n",
    "    if chisq_result[1] < 0.05:\n",
    "        print('The relationship between', col,' and heart disease is significant')\n",
    "        cat_cols_selected.append(col)\n",
    "    else:\n",
    "        print('The relationship between ', col, ' and heart disease is not signficant')\n",
    "    \n",
    "    print('\\n')\n",
    "\n",
    "    "
   ]
  },
  {
   "cell_type": "code",
   "execution_count": 14,
   "metadata": {},
   "outputs": [
    {
     "name": "stdout",
     "output_type": "stream",
     "text": [
      "['sex', 'cp', 'restecg', 'exang', 'ca', 'thal']\n"
     ]
    }
   ],
   "source": [
    "print(cat_cols_selected)"
   ]
  },
  {
   "cell_type": "markdown",
   "metadata": {},
   "source": [
    "#### The categorical features selected are 'sex', 'cp', 'restecg' , 'exang', 'ca' and 'thal'"
   ]
  },
  {
   "cell_type": "code",
   "execution_count": 15,
   "metadata": {},
   "outputs": [],
   "source": [
    "cols_selected = ['age', 'chol', 'thalach', 'oldpeak'] + cat_cols_selected "
   ]
  },
  {
   "cell_type": "code",
   "execution_count": 16,
   "metadata": {},
   "outputs": [
    {
     "data": {
      "text/plain": [
       "['age',\n",
       " 'chol',\n",
       " 'thalach',\n",
       " 'oldpeak',\n",
       " 'sex',\n",
       " 'cp',\n",
       " 'restecg',\n",
       " 'exang',\n",
       " 'ca',\n",
       " 'thal']"
      ]
     },
     "execution_count": 16,
     "metadata": {},
     "output_type": "execute_result"
    }
   ],
   "source": [
    "cols_selected"
   ]
  },
  {
   "cell_type": "markdown",
   "metadata": {},
   "source": [
    "#### The features were selected as they had high correlations with the outcome variable. 'chol' which is an indicator of Cholestrol could have been excluded as the box plot didn't show significant impact, but it was selected basis domain knowledge. The categorical features were selected based on the Chi-square tests. Now we will proceed towards building the datasets for the model. "
   ]
  },
  {
   "cell_type": "code",
   "execution_count": 17,
   "metadata": {},
   "outputs": [],
   "source": [
    "X = heart[cols_selected]\n",
    "y = heart['present']"
   ]
  },
  {
   "cell_type": "code",
   "execution_count": 18,
   "metadata": {},
   "outputs": [
    {
     "data": {
      "text/plain": [
       "(303, 10)"
      ]
     },
     "execution_count": 18,
     "metadata": {},
     "output_type": "execute_result"
    }
   ],
   "source": [
    "X.shape"
   ]
  },
  {
   "cell_type": "code",
   "execution_count": 19,
   "metadata": {},
   "outputs": [
    {
     "data": {
      "text/plain": [
       "(303,)"
      ]
     },
     "execution_count": 19,
     "metadata": {},
     "output_type": "execute_result"
    }
   ],
   "source": [
    "y.shape"
   ]
  },
  {
   "cell_type": "code",
   "execution_count": 20,
   "metadata": {
    "scrolled": true
   },
   "outputs": [
    {
     "data": {
      "text/plain": [
       "age        0\n",
       "chol       0\n",
       "thalach    0\n",
       "oldpeak    0\n",
       "sex        0\n",
       "cp         0\n",
       "restecg    0\n",
       "exang      0\n",
       "ca         4\n",
       "thal       2\n",
       "dtype: int64"
      ]
     },
     "execution_count": 20,
     "metadata": {},
     "output_type": "execute_result"
    }
   ],
   "source": [
    "X.isna().sum()"
   ]
  },
  {
   "cell_type": "code",
   "execution_count": 21,
   "metadata": {},
   "outputs": [
    {
     "data": {
      "text/plain": [
       "0.0    176\n",
       "1.0     65\n",
       "2.0     38\n",
       "3.0     20\n",
       "NaN      4\n",
       "Name: ca, dtype: int64"
      ]
     },
     "execution_count": 21,
     "metadata": {},
     "output_type": "execute_result"
    }
   ],
   "source": [
    "X['ca'].value_counts(dropna = False)"
   ]
  },
  {
   "cell_type": "code",
   "execution_count": 22,
   "metadata": {},
   "outputs": [
    {
     "data": {
      "text/plain": [
       "3.0    166\n",
       "7.0    117\n",
       "6.0     18\n",
       "NaN      2\n",
       "Name: thal, dtype: int64"
      ]
     },
     "execution_count": 22,
     "metadata": {},
     "output_type": "execute_result"
    }
   ],
   "source": [
    "X['thal'].value_counts(dropna = False)"
   ]
  },
  {
   "cell_type": "markdown",
   "metadata": {},
   "source": [
    "#### Replacing the missing values with the most frequent values for both the features. (As they look numerical but are in fact, categorical indicators). "
   ]
  },
  {
   "cell_type": "code",
   "execution_count": 23,
   "metadata": {},
   "outputs": [
    {
     "name": "stderr",
     "output_type": "stream",
     "text": [
      "C:\\Users\\NageshN\\anaconda3\\lib\\site-packages\\pandas\\core\\indexing.py:1720: SettingWithCopyWarning: \n",
      "A value is trying to be set on a copy of a slice from a DataFrame.\n",
      "Try using .loc[row_indexer,col_indexer] = value instead\n",
      "\n",
      "See the caveats in the documentation: https://pandas.pydata.org/pandas-docs/stable/user_guide/indexing.html#returning-a-view-versus-a-copy\n",
      "  self._setitem_single_column(loc, value, pi)\n"
     ]
    },
    {
     "data": {
      "text/plain": [
       "0.0    180\n",
       "1.0     65\n",
       "2.0     38\n",
       "3.0     20\n",
       "Name: ca, dtype: int64"
      ]
     },
     "execution_count": 23,
     "metadata": {},
     "output_type": "execute_result"
    }
   ],
   "source": [
    "X.loc[X['ca'].isnull(),'ca'] = 0.0\n",
    "\n",
    "X['ca'].value_counts(dropna = False)\n"
   ]
  },
  {
   "cell_type": "code",
   "execution_count": 24,
   "metadata": {},
   "outputs": [
    {
     "data": {
      "text/plain": [
       "3.0    168\n",
       "7.0    117\n",
       "6.0     18\n",
       "Name: thal, dtype: int64"
      ]
     },
     "execution_count": 24,
     "metadata": {},
     "output_type": "execute_result"
    }
   ],
   "source": [
    "X.loc[X['thal'].isnull(),'thal'] = 3.0\n",
    "\n",
    "X['thal'].value_counts(dropna = False)\n"
   ]
  },
  {
   "cell_type": "markdown",
   "metadata": {},
   "source": [
    "### Dividing the Data (and ensuring class balance in both training and test sets)"
   ]
  },
  {
   "cell_type": "code",
   "execution_count": 25,
   "metadata": {},
   "outputs": [
    {
     "data": {
      "image/png": "[encoded data removed]",
      "text/plain": [
       "<Figure size 432x288 with 1 Axes>"
      ]
     },
     "metadata": {
      "needs_background": "light"
     },
     "output_type": "display_data"
    },
    {
     "data": {
      "image/png": "[encoded data removed]",
      "text/plain": [
       "<Figure size 432x288 with 1 Axes>"
      ]
     },
     "metadata": {
      "needs_background": "light"
     },
     "output_type": "display_data"
    }
   ],
   "source": [
    "\n",
    "\n",
    "X_train, X_test, y_train, y_test = train_test_split(X, y, test_size = 0.2, stratify = y, random_state = 741)\n",
    "\n",
    "plt.hist(y_train)\n",
    "plt.title('Class distribution in Training Set')\n",
    "plt.show()\n",
    "\n",
    "plt.title('Class distribution in Test Set')\n",
    "plt.hist(y_test)\n",
    "plt.show()"
   ]
  },
  {
   "cell_type": "code",
   "execution_count": 26,
   "metadata": {},
   "outputs": [
    {
     "name": "stdout",
     "output_type": "stream",
     "text": [
      "Class Distribution in Test Set: {0: 33, 1: 28}\n"
     ]
    }
   ],
   "source": [
    "# Checking the class distribution in the test set\n",
    "unique, counts = np.unique(y_test, return_counts=True)\n",
    "class_distribution = dict(zip(unique, counts))\n",
    "print(\"Class Distribution in Test Set:\", class_distribution)"
   ]
  },
  {
   "cell_type": "markdown",
   "metadata": {},
   "source": [
    "### Building the Model"
   ]
  },
  {
   "cell_type": "code",
   "execution_count": 27,
   "metadata": {},
   "outputs": [
    {
     "data": {
      "text/html": [
       "<div>\n",
       "<style scoped>\n",
       "    .dataframe tbody tr th:only-of-type {\n",
       "        vertical-align: middle;\n",
       "    }\n",
       "\n",
       "    .dataframe tbody tr th {\n",
       "        vertical-align: top;\n",
       "    }\n",
       "\n",
       "    .dataframe thead th {\n",
       "        text-align: right;\n",
       "    }\n",
       "</style>\n",
       "<table border=\"1\" class=\"dataframe\">\n",
       "  <thead>\n",
       "    <tr style=\"text-align: right;\">\n",
       "      <th></th>\n",
       "      <th>age</th>\n",
       "      <th>chol</th>\n",
       "      <th>thalach</th>\n",
       "      <th>oldpeak</th>\n",
       "      <th>sex</th>\n",
       "      <th>cp</th>\n",
       "      <th>restecg</th>\n",
       "      <th>exang</th>\n",
       "      <th>ca</th>\n",
       "      <th>thal</th>\n",
       "    </tr>\n",
       "  </thead>\n",
       "  <tbody>\n",
       "    <tr>\n",
       "      <th>114</th>\n",
       "      <td>62</td>\n",
       "      <td>263</td>\n",
       "      <td>97</td>\n",
       "      <td>1.2</td>\n",
       "      <td>0</td>\n",
       "      <td>3</td>\n",
       "      <td>0</td>\n",
       "      <td>0</td>\n",
       "      <td>1.0</td>\n",
       "      <td>7.0</td>\n",
       "    </tr>\n",
       "    <tr>\n",
       "      <th>99</th>\n",
       "      <td>48</td>\n",
       "      <td>222</td>\n",
       "      <td>186</td>\n",
       "      <td>0.0</td>\n",
       "      <td>1</td>\n",
       "      <td>4</td>\n",
       "      <td>2</td>\n",
       "      <td>0</td>\n",
       "      <td>0.0</td>\n",
       "      <td>3.0</td>\n",
       "    </tr>\n",
       "    <tr>\n",
       "      <th>237</th>\n",
       "      <td>46</td>\n",
       "      <td>249</td>\n",
       "      <td>144</td>\n",
       "      <td>0.8</td>\n",
       "      <td>1</td>\n",
       "      <td>4</td>\n",
       "      <td>2</td>\n",
       "      <td>0</td>\n",
       "      <td>0.0</td>\n",
       "      <td>7.0</td>\n",
       "    </tr>\n",
       "    <tr>\n",
       "      <th>131</th>\n",
       "      <td>51</td>\n",
       "      <td>227</td>\n",
       "      <td>154</td>\n",
       "      <td>0.0</td>\n",
       "      <td>1</td>\n",
       "      <td>3</td>\n",
       "      <td>0</td>\n",
       "      <td>1</td>\n",
       "      <td>1.0</td>\n",
       "      <td>7.0</td>\n",
       "    </tr>\n",
       "    <tr>\n",
       "      <th>18</th>\n",
       "      <td>48</td>\n",
       "      <td>275</td>\n",
       "      <td>139</td>\n",
       "      <td>0.2</td>\n",
       "      <td>0</td>\n",
       "      <td>3</td>\n",
       "      <td>0</td>\n",
       "      <td>0</td>\n",
       "      <td>0.0</td>\n",
       "      <td>3.0</td>\n",
       "    </tr>\n",
       "  </tbody>\n",
       "</table>\n",
       "</div>"
      ],
      "text/plain": [
       "     age  chol  thalach  oldpeak  sex  cp  restecg  exang   ca  thal\n",
       "114   62   263       97      1.2    0   3        0      0  1.0   7.0\n",
       "99    48   222      186      0.0    1   4        2      0  0.0   3.0\n",
       "237   46   249      144      0.8    1   4        2      0  0.0   7.0\n",
       "131   51   227      154      0.0    1   3        0      1  1.0   7.0\n",
       "18    48   275      139      0.2    0   3        0      0  0.0   3.0"
      ]
     },
     "execution_count": 27,
     "metadata": {},
     "output_type": "execute_result"
    }
   ],
   "source": [
    "X_train.head()"
   ]
  },
  {
   "cell_type": "code",
   "execution_count": 28,
   "metadata": {},
   "outputs": [
    {
     "name": "stdout",
     "output_type": "stream",
     "text": [
      "The model accuracy is  0.819672131147541\n",
      "The model sensitivity is  0.8214285714285714\n",
      "The model specificity is  0.54\n"
     ]
    },
    {
     "name": "stderr",
     "output_type": "stream",
     "text": [
      "C:\\Users\\NageshN\\anaconda3\\lib\\site-packages\\sklearn\\linear_model\\_logistic.py:444: ConvergenceWarning: lbfgs failed to converge (status=1):\n",
      "STOP: TOTAL NO. of ITERATIONS REACHED LIMIT.\n",
      "\n",
      "Increase the number of iterations (max_iter) or scale the data as shown in:\n",
      "    https://scikit-learn.org/stable/modules/preprocessing.html\n",
      "Please also refer to the documentation for alternative solver options:\n",
      "    https://scikit-learn.org/stable/modules/linear_model.html#logistic-regression\n",
      "  n_iter_i = _check_optimize_result(\n"
     ]
    }
   ],
   "source": [
    "model = LogisticRegression()\n",
    "\n",
    "model.fit(X_train, y_train)\n",
    "\n",
    "predicted_classes = model.predict(X_test)\n",
    "actual_classes = y_test\n",
    "\n",
    "\n",
    "accuracy = model.score(X_test, y_test)\n",
    "\n",
    "tp = sum((predicted_classes == 1) & (actual_classes == 1))\n",
    "fn = sum((predicted_classes == 0) & (actual_classes == 1))\n",
    "\n",
    "tn = sum((predicted_classes == 0) & (actual_classes == 0))\n",
    "fp = sum((predicted_classes == 1) & (actual_classes == 1))\n",
    "\n",
    "sensitivity = tp / (tp + fn)\n",
    "specificity = tn / (tn + fp)\n",
    "\n",
    "print('The model accuracy is ', accuracy)\n",
    "print('The model sensitivity is ', sensitivity)\n",
    "print('The model specificity is ', specificity)"
   ]
  },
  {
   "cell_type": "code",
   "execution_count": 29,
   "metadata": {},
   "outputs": [
    {
     "name": "stdout",
     "output_type": "stream",
     "text": [
      "The model accuracy is  0.8636363636363636\n",
      "The model sensitivity is  0.8198198198198198\n",
      "The model specificity is  0.5645933014354066\n"
     ]
    }
   ],
   "source": [
    "### Increasing the number of iterations due to the error above\n",
    "\n",
    "model = LogisticRegression(max_iter = 1000)\n",
    "\n",
    "model.fit(X_train, y_train)\n",
    "\n",
    "predicted_classes = model.predict(X_train)\n",
    "actual_classes = y_train\n",
    "\n",
    "\n",
    "accuracy = model.score(X_train, y_train)\n",
    "\n",
    "tp = sum((predicted_classes == 1) & (actual_classes == 1))\n",
    "fn = sum((predicted_classes == 0) & (actual_classes == 1))\n",
    "\n",
    "tn = sum((predicted_classes == 0) & (actual_classes == 0))\n",
    "fp = sum((predicted_classes == 1) & (actual_classes == 1))\n",
    "\n",
    "sensitivity = tp / (tp + fn)\n",
    "specificity = tn / (tn + fp)\n",
    "\n",
    "print('The model accuracy is ', accuracy)\n",
    "print('The model sensitivity is ', sensitivity)\n",
    "print('The model specificity is ', specificity)"
   ]
  },
  {
   "cell_type": "markdown",
   "metadata": {},
   "source": [
    "### Thus we can observe that the overall model accuracy is 86%. The sensitivity is 0.82 but the specificity is 0.56. Thus we can say that the model would predict positive cases with a higher accuracy in comparision to the negative cases. "
   ]
  },
  {
   "cell_type": "code",
   "execution_count": 30,
   "metadata": {},
   "outputs": [
    {
     "data": {
      "image/png": "[encoded data removed]",
      "text/plain": [
       "<Figure size 648x360 with 1 Axes>"
      ]
     },
     "metadata": {
      "needs_background": "light"
     },
     "output_type": "display_data"
    }
   ],
   "source": [
    "predicted_probabilities = model.predict_proba(X_train)[:,1]\n",
    "\n",
    "from sklearn.metrics import roc_curve\n",
    "\n",
    "fpr, tpr, thresholds = roc_curve(y_train, predicted_probabilities)\n",
    "\n",
    "plt.figure(figsize=(9,5))\n",
    "plt.plot([0,1], [0,1], 'k--', label = 'Random')\n",
    "plt.plot(fpr,tpr,color = 'skyblue', label = 'ROC')\n",
    "\n",
    "plt.xlabel('False Positive Rate')\n",
    "plt.ylabel('True Positive Rate')\n",
    "plt.xticks(ticks = np.arange(0, 1.01, 0.05), rotation = 30)\n",
    "plt.yticks(ticks = np.arange(0, 1.01, 0.05))\n",
    "\n",
    "\n",
    "plt.grid(True, linestyle='--', linewidth=1, color='gray')\n",
    "\n",
    "\n",
    "plt.legend(fontsize=10, loc='best')\n",
    "plt.show()"
   ]
  },
  {
   "cell_type": "code",
   "execution_count": 31,
   "metadata": {},
   "outputs": [],
   "source": [
    "tpr_greater_than_point_8 = np.where(tpr > 0.8)"
   ]
  },
  {
   "cell_type": "code",
   "execution_count": 32,
   "metadata": {},
   "outputs": [
    {
     "data": {
      "text/plain": [
       "(array([20, 21, 22, 23, 24, 25, 26, 27, 28, 29, 30, 31, 32, 33, 34, 35, 36,\n",
       "        37, 38, 39, 40, 41, 42, 43, 44, 45, 46, 47, 48, 49], dtype=int64),)"
      ]
     },
     "execution_count": 32,
     "metadata": {},
     "output_type": "execute_result"
    }
   ],
   "source": [
    "tpr_greater_than_point_8"
   ]
  },
  {
   "cell_type": "code",
   "execution_count": 33,
   "metadata": {},
   "outputs": [
    {
     "data": {
      "text/plain": [
       "array([0.81081081, 0.81081081, 0.81981982, 0.81981982, 0.82882883,\n",
       "       0.82882883, 0.83783784, 0.83783784, 0.86486486, 0.86486486,\n",
       "       0.87387387, 0.87387387, 0.9009009 , 0.9009009 , 0.90990991,\n",
       "       0.90990991, 0.92792793, 0.92792793, 0.93693694, 0.93693694,\n",
       "       0.95495495, 0.95495495, 0.97297297, 0.97297297, 0.98198198,\n",
       "       0.98198198, 0.99099099, 0.99099099, 1.        , 1.        ])"
      ]
     },
     "execution_count": 33,
     "metadata": {},
     "output_type": "execute_result"
    }
   ],
   "source": [
    "tpr[20:]"
   ]
  },
  {
   "cell_type": "code",
   "execution_count": 34,
   "metadata": {},
   "outputs": [
    {
     "data": {
      "text/plain": [
       "array([0.08396947, 0.09160305, 0.09160305, 0.1221374 , 0.1221374 ,\n",
       "       0.14503817, 0.14503817, 0.15267176, 0.15267176, 0.17557252,\n",
       "       0.17557252, 0.19847328, 0.19847328, 0.20610687, 0.20610687,\n",
       "       0.23664122, 0.23664122, 0.26717557, 0.26717557, 0.38931298,\n",
       "       0.38931298, 0.49618321, 0.49618321, 0.50381679, 0.50381679,\n",
       "       0.51908397, 0.51908397, 0.6259542 , 0.6259542 , 1.        ])"
      ]
     },
     "execution_count": 34,
     "metadata": {},
     "output_type": "execute_result"
    }
   ],
   "source": [
    "fpr[20:]\n",
    "# The FPR increases beyond index 12. Hence we will choose the corresponding threshold"
   ]
  },
  {
   "cell_type": "code",
   "execution_count": 35,
   "metadata": {},
   "outputs": [
    {
     "data": {
      "text/plain": [
       "0.541024069698533"
      ]
     },
     "execution_count": 35,
     "metadata": {},
     "output_type": "execute_result"
    }
   ],
   "source": [
    "thresholds[20]"
   ]
  },
  {
   "cell_type": "markdown",
   "metadata": {},
   "source": [
    "#### Thus at threshold 0.54, our Logistic Regression model will give a better result. We will update model results using this threshold and test the various metrics. "
   ]
  },
  {
   "cell_type": "code",
   "execution_count": 36,
   "metadata": {},
   "outputs": [
    {
     "name": "stdout",
     "output_type": "stream",
     "text": [
      "The model accuracy is  0.8636363636363636\n",
      "The model sensitivity is  0.8018018018018018\n",
      "The model specificity is  0.5741626794258373\n"
     ]
    }
   ],
   "source": [
    "model = LogisticRegression(max_iter = 1000)\n",
    "\n",
    "model.fit(X_train, y_train)\n",
    "\n",
    "new_threshold = thresholds[20]\n",
    "\n",
    "predicted_probabilities = model.predict_proba(X_train)[:, 1]\n",
    "predicted_classes = (predicted_probabilities > new_threshold).astype(int)\n",
    "\n",
    "actual_classes = y_train\n",
    "\n",
    "\n",
    "accuracy = model.score(X_train, y_train)\n",
    "\n",
    "tp = sum((predicted_classes == 1) & (actual_classes == 1))\n",
    "fn = sum((predicted_classes == 0) & (actual_classes == 1))\n",
    "\n",
    "tn = sum((predicted_classes == 0) & (actual_classes == 0))\n",
    "fp = sum((predicted_classes == 1) & (actual_classes == 1))\n",
    "\n",
    "sensitivity = tp / (tp + fn)\n",
    "specificity = tn / (tn + fp)\n",
    "\n",
    "print('The model accuracy is ', accuracy)\n",
    "print('The model sensitivity is ', sensitivity)\n",
    "print('The model specificity is ', specificity)"
   ]
  },
  {
   "cell_type": "code",
   "execution_count": 37,
   "metadata": {},
   "outputs": [
    {
     "data": {
      "image/png": "[encoded data removed]",
      "text/plain": [
       "<Figure size 648x360 with 1 Axes>"
      ]
     },
     "metadata": {
      "needs_background": "light"
     },
     "output_type": "display_data"
    }
   ],
   "source": [
    "fpr, tpr, thresholds = roc_curve(y_train, predicted_probabilities)\n",
    "\n",
    "plt.figure(figsize=(9,5))\n",
    "plt.plot([0,1], [0,1], 'k--', label = 'Random')\n",
    "plt.plot(fpr,tpr,color = 'skyblue', label = 'ROC')\n",
    "\n",
    "plt.xlabel('False Positive Rate')\n",
    "plt.ylabel('True Positive Rate')\n",
    "\n",
    "plt.legend(fontsize=10, loc='best')\n",
    "plt.show()"
   ]
  },
  {
   "cell_type": "markdown",
   "metadata": {},
   "source": [
    "#### Thus, the model's specificity goes up by 0.01 but sensitivity comes down by 0.01. The overall accuracy remains the same. The model's sensitivity is 0.801 which is still close to 0.8. Thus we have not lost a lot of sensitivity. Hence we would use the updated model with the threshold of 0.54. "
   ]
  },
  {
   "cell_type": "markdown",
   "metadata": {},
   "source": [
    "### Interpreting the Model Coefficients"
   ]
  },
  {
   "cell_type": "code",
   "execution_count": 38,
   "metadata": {},
   "outputs": [
    {
     "data": {
      "text/plain": [
       "array([[-0.00937168,  0.0041903 , -0.02612934,  0.46278086,  1.29669783,\n",
       "         0.54224299,  0.19402076,  0.61324289,  1.19140259,  0.44678808]])"
      ]
     },
     "execution_count": 38,
     "metadata": {},
     "output_type": "execute_result"
    }
   ],
   "source": [
    "model.coef_"
   ]
  },
  {
   "cell_type": "code",
   "execution_count": 39,
   "metadata": {},
   "outputs": [],
   "source": [
    "list_model_coef = [round(coef,4) for coef in model.coef_[0]]"
   ]
  },
  {
   "cell_type": "code",
   "execution_count": 40,
   "metadata": {},
   "outputs": [
    {
     "data": {
      "text/plain": [
       "[-0.0094,\n",
       " 0.0042,\n",
       " -0.0261,\n",
       " 0.4628,\n",
       " 1.2967,\n",
       " 0.5422,\n",
       " 0.194,\n",
       " 0.6132,\n",
       " 1.1914,\n",
       " 0.4468]"
      ]
     },
     "execution_count": 40,
     "metadata": {},
     "output_type": "execute_result"
    }
   ],
   "source": [
    "list_model_coef"
   ]
  },
  {
   "cell_type": "code",
   "execution_count": 41,
   "metadata": {},
   "outputs": [
    {
     "data": {
      "text/plain": [
       "['age',\n",
       " 'chol',\n",
       " 'thalach',\n",
       " 'oldpeak',\n",
       " 'sex',\n",
       " 'cp',\n",
       " 'restecg',\n",
       " 'exang',\n",
       " 'ca',\n",
       " 'thal']"
      ]
     },
     "execution_count": 41,
     "metadata": {},
     "output_type": "execute_result"
    }
   ],
   "source": [
    "cols_selected"
   ]
  },
  {
   "cell_type": "code",
   "execution_count": 42,
   "metadata": {},
   "outputs": [],
   "source": [
    "cols_coef_zipped = list(zip(cols_selected,list_model_coef))    "
   ]
  },
  {
   "cell_type": "code",
   "execution_count": 43,
   "metadata": {},
   "outputs": [
    {
     "name": "stdout",
     "output_type": "stream",
     "text": [
      "[('age', -0.0094), ('chol', 0.0042), ('thalach', -0.0261), ('oldpeak', 0.4628), ('sex', 1.2967), ('cp', 0.5422), ('restecg', 0.194), ('exang', 0.6132), ('ca', 1.1914), ('thal', 0.4468)]\n"
     ]
    }
   ],
   "source": [
    "print(cols_coef_zipped)"
   ]
  },
  {
   "cell_type": "code",
   "execution_count": 44,
   "metadata": {},
   "outputs": [
    {
     "name": "stdout",
     "output_type": "stream",
     "text": [
      "For a unit increase in age, the Log of Odds  decreases by -0.0094\n",
      "For a unit increase in chol, the Log of Odds  decreases by 0.0042\n",
      "For a unit increase in thalach, the Log of Odds  decreases by -0.0261\n",
      "For a unit increase in oldpeak, the Log of Odds  decreases by 0.4628\n",
      "For a unit change in the type of sex , the Log Odds of the patient having a heart diseasse increases by 1.2967\n",
      "For a unit change in the type of cp , the Log Odds of the patient having a heart diseasse decreases by 0.5422\n",
      "For a unit change in the type of restecg , the Log Odds of the patient having a heart diseasse decreases by 0.194\n",
      "For a unit change in the type of exang , the Log Odds of the patient having a heart diseasse decreases by 0.6132\n",
      "For a unit change in the type of ca , the Log Odds of the patient having a heart diseasse increases by 1.1914\n",
      "For a unit change in the type of thal , the Log Odds of the patient having a heart diseasse decreases by 0.4468\n"
     ]
    }
   ],
   "source": [
    "for i in cols_coef_zipped:\n",
    " \n",
    "    if i[1] >1 and i[0] in num_cols:\n",
    "        print('For a unit increase in {a}, the Log of Odds  increases by {b}'.format(a = i[0], b = i[1]))\n",
    "    elif i[1] <1 and i[0] in num_cols:\n",
    "        print('For a unit increase in {a}, the Log of Odds  decreases by {b}'.format(a = i[0], b = i[1]))\n",
    "\n",
    "    elif i[1] >1 and i[0] in cat_cols:\n",
    "        print('For a unit change in the type of {a} , the Log Odds of the patient having a heart diseasse increases by {b}'.format(a = i[0], b = i[1]))\n",
    "        #print('The catgories for cp are  1: typical angina  2: atypical angina , 3: non-anginal pain, 4: asymptomatic')\n",
    "    elif i[1] <1 and i[0] in cat_cols:\n",
    "        print('For a unit change in the type of {a} , the Log Odds of the patient having a heart diseasse decreases by {b}'.format(a = i[0], b = i[1]))   \n",
    "\n"
   ]
  },
  {
   "cell_type": "code",
   "execution_count": 45,
   "metadata": {},
   "outputs": [
    {
     "data": {
      "text/plain": [
       "[0.991, 1.004, 0.974, 1.589, 3.657, 1.72, 1.214, 1.846, 3.292, 1.563]"
      ]
     },
     "execution_count": 45,
     "metadata": {},
     "output_type": "execute_result"
    }
   ],
   "source": [
    "exp_list_model_coef = [round(np.exp(coef),3) for coef in list_model_coef]\n",
    "exp_list_model_coef"
   ]
  },
  {
   "cell_type": "code",
   "execution_count": 46,
   "metadata": {},
   "outputs": [
    {
     "data": {
      "text/plain": [
       "[('age', 0.991),\n",
       " ('chol', 1.004),\n",
       " ('thalach', 0.974),\n",
       " ('oldpeak', 1.589),\n",
       " ('sex', 3.657),\n",
       " ('cp', 1.72),\n",
       " ('restecg', 1.214),\n",
       " ('exang', 1.846),\n",
       " ('ca', 3.292),\n",
       " ('thal', 1.563)]"
      ]
     },
     "execution_count": 46,
     "metadata": {},
     "output_type": "execute_result"
    }
   ],
   "source": [
    "cols_exp_coef_zipped = list(zip(cols_selected, exp_list_model_coef))\n",
    "cols_exp_coef_zipped"
   ]
  },
  {
   "cell_type": "code",
   "execution_count": 47,
   "metadata": {},
   "outputs": [
    {
     "name": "stdout",
     "output_type": "stream",
     "text": [
      "For a unit increase in age, the Odds of the patient having a heart disease decreases by 0.90%\n",
      "For a unit increase in chol, the Odds of the patient having a heart disease increases by 1.004 times\n",
      "For a unit increase in thalach, the Odds of the patient having a heart disease decreases by 2.60%\n",
      "For a unit increase in oldpeak, the Odds of the patient having a heart disease increases by 1.589 times\n",
      "If the categorical variable sex changes by 1 unit(category), the Odds of the patient having a heart disease increases by 3.657 times\n",
      "If the categorical variable cp changes by 1 unit(category), the Odds of the patient having a heart disease increases by 1.72 times\n",
      "If the categorical variable restecg changes by 1 unit(category), the Odds of the patient having a heart disease increases by 1.214 times\n",
      "If the categorical variable exang changes by 1 unit(category), the Odds of the patient having a heart disease increases by 1.846 times\n",
      "If the categorical variable ca changes by 1 unit(category), the Odds of the patient having a heart disease increases by 3.292 times\n",
      "If the categorical variable thal changes by 1 unit(category), the Odds of the patient having a heart disease increases by 1.563 times\n"
     ]
    }
   ],
   "source": [
    "for i in cols_exp_coef_zipped:\n",
    "    if i[1] >1 and i[0] in num_cols:\n",
    "        print('For a unit increase in {a}, the Odds of the patient having a heart disease increases by {b} times'.format(a = i[0], b = i[1]))\n",
    "    elif i[1] <1 and i[0] in num_cols:\n",
    "        print('For a unit increase in {a}, the Odds of the patient having a heart disease decreases by {b:.2%}'.format(a = i[0], b = (round(1- i[1],3))))\n",
    "        \n",
    "    \n",
    "    \n",
    "    elif i[1] >1 and i[0] in cat_cols:\n",
    "        print('If the categorical variable {a} changes by 1 unit(category), the Odds of the patient having a heart disease increases by {b} times'.format(a = i[0], b = i[1]))\n",
    "    elif i[1] <1 and i[0] in cat_cols:\n",
    "        print('If the categorical variable {a} changes by 1 unit(category), the Odds of the patient having a heart disease decreases by {b:.2%}'.format(a = i[0], b = (round(1- i[1],3))))   \n",
    "        \n",
    "        \n",
    "        \n"
   ]
  },
  {
   "cell_type": "markdown",
   "metadata": {},
   "source": [
    "#### The impact of the features on the risk of heart disease is as follows (please assume that the other factors are kept constant when describing the impact of one feature) : \n",
    "\n",
    "1. For increase in age by 1 year, the the Odds of the patient having a heart disease decreases by 0.90%. This goes against common knowledge that older people are at a greater risk of heart disease. It could be due to other lifestyle factors corresponding to old age, rather than age alone. \n",
    "\n",
    "2. For an increase of 1 mg / dL in Cholestrol levels, the the Odds of the patient having a heart disease increases by a factor of 1.004 . \n",
    "\n",
    "3. For a unit increase in Maximum Heart Rate achieved, the Odds of the patient having a heart disease decreases by 2.60%. This can be understood as more active people have higher heart rates and thus are at a lower risk of heart disease. \n",
    "\n",
    "4. For a unit increase in ST Depression (a part of ECG reading), the Odds of the patient having a heart disease increases by a factor of 1.589 . Ref. on ST Depression https://en.wikipedia.org/wiki/ST_depression\n",
    "\n",
    "5. If the patient is male, the Odds of the patient having a heart disease increases by a factor of 3.657 . \n",
    "\n",
    "6. If the chest pain type increases by  1 level, the Odds of the patient having a heart disease increases by a factor of 1.72 .\n",
    "   The four levels of chest pain are mentioned below\n",
    "\n",
    "        -- Value 1: typical angina\n",
    "        -- Value 2: atypical angina\n",
    "        -- Value 3: non-anginal pain\n",
    "        -- Value 4: asymptomatic\n",
    "        \n",
    "7. If the rest ECG values increase by 1 level, the Odds of the patient having a heart disease increases by a factor of 1.214  or 21.4%\n",
    "   The three levels of rest ECG are mentioned below \n",
    "   \n",
    "        -- Value 0: normal\n",
    "        -- Value 1: having ST-T wave abnormality (T wave inversions and/or ST elevation or depression of > 0.05 mV)\n",
    "        -- Value 2: showing probable or definite left ventricular hypertrophy by Estes' criteria\n",
    "        \n",
    "8. If the patient has Exercise Induced Angina (chest pain), the Odds of the patient having a heart disease increases by a factor of 1.846 \n",
    "\n",
    "9. For increase of every 1 unit in the number of major vessels colored by flourosopy, the Odds of the patient having a heart disease increases by a factor of 3.292 . This factor ranges from 0-3.\n",
    "\n",
    "10. For increase of every one level of the Thalium stress test result (which indicates blood flow to the muscles),  the Odds of the patient having a heart disease increases by a factor of 1.563 . The three levels in the test are : \n",
    "         -- 3 = normal; \n",
    "         -- 6 = fixed defect; \n",
    "         -- 7 = reversable defect\n"
   ]
  },
  {
   "cell_type": "markdown",
   "metadata": {},
   "source": [
    "### Final Model Evaluation"
   ]
  },
  {
   "cell_type": "code",
   "execution_count": 48,
   "metadata": {},
   "outputs": [
    {
     "name": "stdout",
     "output_type": "stream",
     "text": [
      "The model accuracy is  0.8032786885245902\n",
      "The model sensitivity is  0.8214285714285714\n",
      "The model specificity is  0.54\n"
     ]
    }
   ],
   "source": [
    "### We will use the updated threshold of 0.54.\n",
    "\n",
    "predicted_probabilities = model.predict_proba(X_test)[:, 1]\n",
    "predicted_classes = (predicted_probabilities > new_threshold).astype(int)\n",
    "\n",
    "actual_classes = y_test\n",
    "\n",
    "\n",
    "accuracy = model.score(X_test, y_test)\n",
    "\n",
    "tp = sum((predicted_classes == 1) & (actual_classes == 1))\n",
    "fn = sum((predicted_classes == 0) & (actual_classes == 1))\n",
    "\n",
    "tn = sum((predicted_classes == 0) & (actual_classes == 0))\n",
    "fp = sum((predicted_classes == 1) & (actual_classes == 1))\n",
    "\n",
    "sensitivity = tp / (tp + fn)\n",
    "specificity = tn / (tn + fp)\n",
    "\n",
    "print('The model accuracy is ', accuracy)\n",
    "print('The model sensitivity is ', sensitivity)\n",
    "print('The model specificity is ', specificity)"
   ]
  },
  {
   "cell_type": "code",
   "execution_count": 49,
   "metadata": {},
   "outputs": [
    {
     "data": {
      "image/png": "[encoded data removed]",
      "text/plain": [
       "<Figure size 432x288 with 2 Axes>"
      ]
     },
     "metadata": {
      "needs_background": "light"
     },
     "output_type": "display_data"
    }
   ],
   "source": [
    "cm = confusion_matrix(y_test, predicted_classes)\n",
    "\n",
    "# Plot confusion matrix as heatmap\n",
    "sns.heatmap(cm, annot=True, cmap='Blues', fmt='g')\n",
    "plt.xlabel('Predicted values')\n",
    "plt.ylabel('Actual values')\n",
    "plt.show()\n"
   ]
  },
  {
   "cell_type": "code",
   "execution_count": 50,
   "metadata": {},
   "outputs": [
    {
     "data": {
      "image/png": "[encoded data removed]",
      "text/plain": [
       "<Figure size 648x360 with 1 Axes>"
      ]
     },
     "metadata": {
      "needs_background": "light"
     },
     "output_type": "display_data"
    }
   ],
   "source": [
    "predicted_probabilities = model.predict_proba(X_test)[:,1]\n",
    "\n",
    "fpr,tpr,thresholds = roc_curve(y_test, predicted_probabilities)\n",
    "\n",
    "plt.figure(figsize = (9,5))\n",
    "\n",
    "plt.plot([0,1], [0,1], 'k--', label = 'Chance')\n",
    "plt.plot(fpr, tpr, color = 'blue', label = 'ROC')\n",
    "\n",
    "plt.xlabel('False Positive Rate')\n",
    "plt.ylabel('True Positive Rate')\n",
    "\n",
    "plt.legend()\n",
    "\n",
    "plt.show()"
   ]
  },
  {
   "cell_type": "markdown",
   "metadata": {},
   "source": [
    "### Conclusions - \n",
    "\n",
    "1. Overall, the model makes sense based on our knowledge of the predictors. One factor, which seemed counterintuitive was 'Age' and we can conclude that 'Age' is a proxy for other lifestyle related factors.\n",
    "\n",
    "2. The model seems to predict cases (presence of heart disease) better than non-cases (0.82 vs 0.54). The overall accuracy is 80.3% which means that it predicts correctly about 80% of the time. \n",
    "\n",
    "3. While the accuracy is relatively high, this may not be suitable in Clinical settings where we cannnot have high false positive rates (close to 46%). Still we can use this model as a screening tool to segregate patients at a high risk of heart disease and may require further evaluation. "
   ]
  },
  {
   "cell_type": "code",
   "execution_count": null,
   "metadata": {},
   "outputs": [],
   "source": []
  }
 ],
 "metadata": {
  "hide_input": false,
  "kernelspec": {
   "display_name": "Python 3",
   "language": "python",
   "name": "python3"
  },
  "language_info": {
   "codemirror_mode": {
    "name": "ipython",
    "version": 3
   },
   "file_extension": ".py",
   "mimetype": "text/x-python",
   "name": "python",
   "nbconvert_exporter": "python",
   "pygments_lexer": "ipython3",
   "version": "3.8.8"
  }
 },
 "nbformat": 4,
 "nbformat_minor": 4
}
