{
 "cells": [
  {
   "cell_type": "markdown",
   "id": "332373ec",
   "metadata": {},
   "source": [
    "## Time Series Analysis and Forecasting\n",
    "### Assignment 03"
   ]
  },
  {
   "cell_type": "markdown",
   "id": "5cb7a4ae",
   "metadata": {},
   "source": [
    "Consider the Copper datasets in StatsModels.<br>\n",
    "Train an appropriate model to forecast the consumption based on price, income index and aluminium price(alternative to copper)"
   ]
  },
  {
   "cell_type": "code",
   "execution_count": 2,
   "id": "d6243d7f",
   "metadata": {},
   "outputs": [],
   "source": [
    "import numpy as np \n",
    "import pandas as pd\n",
    "\n",
    "import statsmodels.api as sm\n",
    "\n",
    "import warnings\n",
    "warnings.filterwarnings('ignore')\n",
    "\n",
    "import seaborn as sns\n",
    "import matplotlib.pyplot as plt\n",
    "%matplotlib inline\n",
    "sns.set_style(\"whitegrid\")\n",
    "\n",
    "# import chart_studio.plotly as py\n",
    "#import cufflinks as cf\n",
    "import plotly.express as px"
   ]
  },
  {
   "cell_type": "code",
   "execution_count": 11,
   "id": "7c7e8b1d",
   "metadata": {},
   "outputs": [],
   "source": [
    "copper_df = sm.datasets.copper.load_pandas().data"
   ]
  },
  {
   "cell_type": "code",
   "execution_count": 12,
   "id": "539938d2",
   "metadata": {},
   "outputs": [
    {
     "data": {
      "text/html": [
       "<div>\n",
       "<style scoped>\n",
       "    .dataframe tbody tr th:only-of-type {\n",
       "        vertical-align: middle;\n",
       "    }\n",
       "\n",
       "    .dataframe tbody tr th {\n",
       "        vertical-align: top;\n",
       "    }\n",
       "\n",
       "    .dataframe thead th {\n",
       "        text-align: right;\n",
       "    }\n",
       "</style>\n",
       "<table border=\"1\" class=\"dataframe\">\n",
       "  <thead>\n",
       "    <tr style=\"text-align: right;\">\n",
       "      <th></th>\n",
       "      <th>WORLDCONSUMPTION</th>\n",
       "      <th>COPPERPRICE</th>\n",
       "      <th>INCOMEINDEX</th>\n",
       "      <th>ALUMPRICE</th>\n",
       "      <th>INVENTORYINDEX</th>\n",
       "      <th>TIME</th>\n",
       "    </tr>\n",
       "  </thead>\n",
       "  <tbody>\n",
       "    <tr>\n",
       "      <th>0</th>\n",
       "      <td>3173.0</td>\n",
       "      <td>26.56</td>\n",
       "      <td>0.70</td>\n",
       "      <td>19.76</td>\n",
       "      <td>0.98</td>\n",
       "      <td>1.0</td>\n",
       "    </tr>\n",
       "    <tr>\n",
       "      <th>1</th>\n",
       "      <td>3281.1</td>\n",
       "      <td>27.31</td>\n",
       "      <td>0.71</td>\n",
       "      <td>20.78</td>\n",
       "      <td>1.04</td>\n",
       "      <td>2.0</td>\n",
       "    </tr>\n",
       "    <tr>\n",
       "      <th>2</th>\n",
       "      <td>3135.7</td>\n",
       "      <td>32.95</td>\n",
       "      <td>0.72</td>\n",
       "      <td>22.55</td>\n",
       "      <td>1.05</td>\n",
       "      <td>3.0</td>\n",
       "    </tr>\n",
       "    <tr>\n",
       "      <th>3</th>\n",
       "      <td>3359.1</td>\n",
       "      <td>33.90</td>\n",
       "      <td>0.70</td>\n",
       "      <td>23.06</td>\n",
       "      <td>0.97</td>\n",
       "      <td>4.0</td>\n",
       "    </tr>\n",
       "    <tr>\n",
       "      <th>4</th>\n",
       "      <td>3755.1</td>\n",
       "      <td>42.70</td>\n",
       "      <td>0.74</td>\n",
       "      <td>24.93</td>\n",
       "      <td>1.02</td>\n",
       "      <td>5.0</td>\n",
       "    </tr>\n",
       "  </tbody>\n",
       "</table>\n",
       "</div>"
      ],
      "text/plain": [
       "   WORLDCONSUMPTION  COPPERPRICE  INCOMEINDEX  ALUMPRICE  INVENTORYINDEX  TIME\n",
       "0            3173.0        26.56         0.70      19.76            0.98   1.0\n",
       "1            3281.1        27.31         0.71      20.78            1.04   2.0\n",
       "2            3135.7        32.95         0.72      22.55            1.05   3.0\n",
       "3            3359.1        33.90         0.70      23.06            0.97   4.0\n",
       "4            3755.1        42.70         0.74      24.93            1.02   5.0"
      ]
     },
     "execution_count": 12,
     "metadata": {},
     "output_type": "execute_result"
    }
   ],
   "source": [
    "copper_df.head(5)"
   ]
  },
  {
   "cell_type": "code",
   "execution_count": 13,
   "id": "7011cfd3",
   "metadata": {},
   "outputs": [
    {
     "data": {
      "text/plain": [
       "WORLDCONSUMPTION    0\n",
       "COPPERPRICE         0\n",
       "INCOMEINDEX         0\n",
       "ALUMPRICE           0\n",
       "INVENTORYINDEX      0\n",
       "TIME                0\n",
       "dtype: int64"
      ]
     },
     "execution_count": 13,
     "metadata": {},
     "output_type": "execute_result"
    }
   ],
   "source": [
    "copper_df.isnull().sum()"
   ]
  },
  {
   "cell_type": "code",
   "execution_count": 23,
   "id": "86ff6c17",
   "metadata": {},
   "outputs": [
    {
     "data": {
      "text/plain": [
       "<AxesSubplot:title={'center':'Aluminium Price'}>"
      ]
     },
     "execution_count": 23,
     "metadata": {},
     "output_type": "execute_result"
    },
    {
     "data": {
      "image/png": "[encoded data removed]",
      "text/plain": [
       "<Figure size 720x432 with 4 Axes>"
      ]
     },
     "metadata": {},
     "output_type": "display_data"
    }
   ],
   "source": [
    "fig, ax = plt.subplots(4,1, figsize = (10,6))\n",
    "\n",
    "copper_df.WORLDCONSUMPTION.plot(ax = ax[0], title = 'World Consumption')\n",
    "copper_df.INCOMEINDEX.plot(ax = ax[1], title = 'Income Index')\n",
    "copper_df.COPPERPRICE.plot(ax = ax[2],title = 'Copper Price' )\n",
    "\n",
    "copper_df.ALUMPRICE.plot(ax = ax[3], title = 'Aluminium Price')\n",
    "\n",
    "\n"
   ]
  },
  {
   "cell_type": "code",
   "execution_count": 36,
   "id": "10d20797",
   "metadata": {},
   "outputs": [],
   "source": [
    "from statsmodels.tsa.stattools import grangercausalitytests, adfuller\n",
    "\n"
   ]
  },
  {
   "cell_type": "code",
   "execution_count": 37,
   "id": "0372831d",
   "metadata": {},
   "outputs": [
    {
     "name": "stdout",
     "output_type": "stream",
     "text": [
      "Stationarity check WORLDCONSUMPTION\n",
      "ADF Statistic: -1.7272366672124813\n",
      "p-value: 0.4171367679344\n",
      "---------------------\n",
      "Stationarity check INCOMEINDEX\n",
      "ADF Statistic: -0.5895485006360016\n",
      "p-value: 0.8733261921087185\n",
      "---------------------\n",
      "Stationarity check COPPERPRICE\n",
      "ADF Statistic: -2.379918835458598\n",
      "p-value: 0.1474845632619904\n",
      "---------------------\n",
      "Stationarity check ALUMPRICE\n",
      "ADF Statistic: 0.19929226811340928\n",
      "p-value: 0.9722218714633613\n",
      "---------------------\n"
     ]
    }
   ],
   "source": [
    "selected_cols = ['WORLDCONSUMPTION','INCOMEINDEX', 'COPPERPRICE', 'ALUMPRICE']\n",
    "\n",
    "for i in selected_cols:\n",
    "    ad_fuller_result_1 = adfuller(copper_df[i])#.diff()[1:])\n",
    "    print('Stationarity check', i)\n",
    "    print(f'ADF Statistic: {ad_fuller_result_1[0]}')\n",
    "    print(f'p-value: {ad_fuller_result_1[1]}')\n",
    "    print('---------------------')\n"
   ]
  },
  {
   "cell_type": "code",
   "execution_count": 32,
   "id": "f42a8ca0",
   "metadata": {},
   "outputs": [
    {
     "name": "stdout",
     "output_type": "stream",
     "text": [
      "------------------\n",
      "INCOMEINDEX Granger Causes World Consumption of Copper\n",
      "\n",
      "Granger Causality\n",
      "number of lags (no zero) 1\n",
      "ssr based F test:         F=0.0021  , p=0.9643  , df_denom=21, df_num=1\n",
      "ssr based chi2 test:   chi2=0.0023  , p=0.9614  , df=1\n",
      "likelihood ratio test: chi2=0.0023  , p=0.9614  , df=1\n",
      "parameter F test:         F=0.0021  , p=0.9643  , df_denom=21, df_num=1\n",
      "\n",
      "Granger Causality\n",
      "number of lags (no zero) 2\n",
      "ssr based F test:         F=1.1655  , p=0.3342  , df_denom=18, df_num=2\n",
      "ssr based chi2 test:   chi2=2.9786  , p=0.2255  , df=2\n",
      "likelihood ratio test: chi2=2.8009  , p=0.2465  , df=2\n",
      "parameter F test:         F=1.1655  , p=0.3342  , df_denom=18, df_num=2\n",
      "\n",
      "Granger Causality\n",
      "number of lags (no zero) 3\n",
      "ssr based F test:         F=1.2781  , p=0.3178  , df_denom=15, df_num=3\n",
      "ssr based chi2 test:   chi2=5.6236  , p=0.1314  , df=3\n",
      "likelihood ratio test: chi2=5.0078  , p=0.1712  , df=3\n",
      "parameter F test:         F=1.2781  , p=0.3178  , df_denom=15, df_num=3\n",
      "\n",
      "Granger Causality\n",
      "number of lags (no zero) 4\n",
      "ssr based F test:         F=1.4667  , p=0.2726  , df_denom=12, df_num=4\n",
      "ssr based chi2 test:   chi2=10.2670 , p=0.0362  , df=4\n",
      "likelihood ratio test: chi2=8.3589  , p=0.0793  , df=4\n",
      "parameter F test:         F=1.4667  , p=0.2726  , df_denom=12, df_num=4\n",
      "------------------\n",
      "COPPERPRICE Granger Causes World Consumption of Copper\n",
      "\n",
      "Granger Causality\n",
      "number of lags (no zero) 1\n",
      "ssr based F test:         F=0.2942  , p=0.5932  , df_denom=21, df_num=1\n",
      "ssr based chi2 test:   chi2=0.3362  , p=0.5620  , df=1\n",
      "likelihood ratio test: chi2=0.3339  , p=0.5634  , df=1\n",
      "parameter F test:         F=0.2942  , p=0.5932  , df_denom=21, df_num=1\n",
      "\n",
      "Granger Causality\n",
      "number of lags (no zero) 2\n",
      "ssr based F test:         F=0.5357  , p=0.5943  , df_denom=18, df_num=2\n",
      "ssr based chi2 test:   chi2=1.3689  , p=0.5044  , df=2\n",
      "likelihood ratio test: chi2=1.3297  , p=0.5143  , df=2\n",
      "parameter F test:         F=0.5357  , p=0.5943  , df_denom=18, df_num=2\n",
      "\n",
      "Granger Causality\n",
      "number of lags (no zero) 3\n",
      "ssr based F test:         F=0.0246  , p=0.9945  , df_denom=15, df_num=3\n",
      "ssr based chi2 test:   chi2=0.1084  , p=0.9908  , df=3\n",
      "likelihood ratio test: chi2=0.1081  , p=0.9908  , df=3\n",
      "parameter F test:         F=0.0246  , p=0.9945  , df_denom=15, df_num=3\n",
      "\n",
      "Granger Causality\n",
      "number of lags (no zero) 4\n",
      "ssr based F test:         F=0.1034  , p=0.9792  , df_denom=12, df_num=4\n",
      "ssr based chi2 test:   chi2=0.7236  , p=0.9484  , df=4\n",
      "likelihood ratio test: chi2=0.7114  , p=0.9499  , df=4\n",
      "parameter F test:         F=0.1034  , p=0.9792  , df_denom=12, df_num=4\n",
      "------------------\n",
      "ALUMPRICE Granger Causes World Consumption of Copper\n",
      "\n",
      "Granger Causality\n",
      "number of lags (no zero) 1\n",
      "ssr based F test:         F=2.3641  , p=0.1391  , df_denom=21, df_num=1\n",
      "ssr based chi2 test:   chi2=2.7018  , p=0.1002  , df=1\n",
      "likelihood ratio test: chi2=2.5603  , p=0.1096  , df=1\n",
      "parameter F test:         F=2.3641  , p=0.1391  , df_denom=21, df_num=1\n",
      "\n",
      "Granger Causality\n",
      "number of lags (no zero) 2\n",
      "ssr based F test:         F=4.2196  , p=0.0314  , df_denom=18, df_num=2\n",
      "ssr based chi2 test:   chi2=10.7834 , p=0.0046  , df=2\n",
      "likelihood ratio test: chi2=8.8429  , p=0.0120  , df=2\n",
      "parameter F test:         F=4.2196  , p=0.0314  , df_denom=18, df_num=2\n",
      "\n",
      "Granger Causality\n",
      "number of lags (no zero) 3\n",
      "ssr based F test:         F=1.5131  , p=0.2518  , df_denom=15, df_num=3\n",
      "ssr based chi2 test:   chi2=6.6577  , p=0.0836  , df=3\n",
      "likelihood ratio test: chi2=5.8164  , p=0.1209  , df=3\n",
      "parameter F test:         F=1.5131  , p=0.2518  , df_denom=15, df_num=3\n",
      "\n",
      "Granger Causality\n",
      "number of lags (no zero) 4\n",
      "ssr based F test:         F=2.1384  , p=0.1385  , df_denom=12, df_num=4\n",
      "ssr based chi2 test:   chi2=14.9689 , p=0.0048  , df=4\n",
      "likelihood ratio test: chi2=11.3008 , p=0.0234  , df=4\n",
      "parameter F test:         F=2.1384  , p=0.1385  , df_denom=12, df_num=4\n"
     ]
    }
   ],
   "source": [
    "selected_cols = ['INCOMEINDEX', 'COPPERPRICE', 'ALUMPRICE']\n",
    "\n",
    "for i in selected_cols:\n",
    "    print('------------------')\n",
    "    list_combo = ['WORLDCONSUMPTION', i ]\n",
    "    print(i, 'Granger Causes World Consumption of Copper')\n",
    "    granger_1 = grangercausalitytests(copper_df[list_combo], 4)"
   ]
  },
  {
   "cell_type": "code",
   "execution_count": 39,
   "id": "75b80518",
   "metadata": {},
   "outputs": [
    {
     "name": "stdout",
     "output_type": "stream",
     "text": [
      "------------------\n",
      "World Consumption of Copper, Granger Causes ALUMPRICE\n",
      "\n",
      "Granger Causality\n",
      "number of lags (no zero) 1\n",
      "ssr based F test:         F=2.8491  , p=0.1062  , df_denom=21, df_num=1\n",
      "ssr based chi2 test:   chi2=3.2561  , p=0.0712  , df=1\n",
      "likelihood ratio test: chi2=3.0534  , p=0.0806  , df=1\n",
      "parameter F test:         F=2.8491  , p=0.1062  , df_denom=21, df_num=1\n",
      "\n",
      "Granger Causality\n",
      "number of lags (no zero) 2\n",
      "ssr based F test:         F=2.1443  , p=0.1461  , df_denom=18, df_num=2\n",
      "ssr based chi2 test:   chi2=5.4799  , p=0.0646  , df=2\n",
      "likelihood ratio test: chi2=4.9152  , p=0.0856  , df=2\n",
      "parameter F test:         F=2.1443  , p=0.1461  , df_denom=18, df_num=2\n",
      "\n",
      "Granger Causality\n",
      "number of lags (no zero) 3\n",
      "ssr based F test:         F=2.6873  , p=0.0838  , df_denom=15, df_num=3\n",
      "ssr based chi2 test:   chi2=11.8240 , p=0.0080  , df=3\n",
      "likelihood ratio test: chi2=9.4628  , p=0.0237  , df=3\n",
      "parameter F test:         F=2.6873  , p=0.0838  , df_denom=15, df_num=3\n",
      "\n",
      "Granger Causality\n",
      "number of lags (no zero) 4\n",
      "ssr based F test:         F=1.8218  , p=0.1895  , df_denom=12, df_num=4\n",
      "ssr based chi2 test:   chi2=12.7527 , p=0.0125  , df=4\n",
      "likelihood ratio test: chi2=9.9653  , p=0.0410  , df=4\n",
      "parameter F test:         F=1.8218  , p=0.1895  , df_denom=12, df_num=4\n"
     ]
    }
   ],
   "source": [
    "#Checking for Granger Causality of the World consumption on the Aluminium Price\n",
    "\n",
    "selected_cols = ['ALUMPRICE']\n",
    "\n",
    "for i in selected_cols:\n",
    "    print('------------------')\n",
    "    list_combo = [i , 'WORLDCONSUMPTION']\n",
    "    print('World Consumption of Copper, Granger Causes' , i)\n",
    "    granger_1 = grangercausalitytests(copper_df[list_combo], 4)"
   ]
  },
  {
   "cell_type": "markdown",
   "id": "47562565",
   "metadata": {},
   "source": [
    "#### Based on the Granger Causality Tests, we can establish a causal relationship between World Consumption of Copper and Aluminium Price. It should be noted that it appears odd that there is no Granger causality between Copper Consumption and Copper Price"
   ]
  },
  {
   "cell_type": "code",
   "execution_count": 41,
   "id": "32fdd4c5",
   "metadata": {},
   "outputs": [],
   "source": [
    "# Shortlist the columns for the VAR Modelling\n",
    "\n",
    "copper_df_var = copper_df[['WORLDCONSUMPTION', 'ALUMPRICE']]"
   ]
  },
  {
   "cell_type": "code",
   "execution_count": 42,
   "id": "cb446ae4",
   "metadata": {
    "scrolled": true
   },
   "outputs": [
    {
     "data": {
      "text/html": [
       "<div>\n",
       "<style scoped>\n",
       "    .dataframe tbody tr th:only-of-type {\n",
       "        vertical-align: middle;\n",
       "    }\n",
       "\n",
       "    .dataframe tbody tr th {\n",
       "        vertical-align: top;\n",
       "    }\n",
       "\n",
       "    .dataframe thead th {\n",
       "        text-align: right;\n",
       "    }\n",
       "</style>\n",
       "<table border=\"1\" class=\"dataframe\">\n",
       "  <thead>\n",
       "    <tr style=\"text-align: right;\">\n",
       "      <th></th>\n",
       "      <th>WORLDCONSUMPTION</th>\n",
       "      <th>ALUMPRICE</th>\n",
       "    </tr>\n",
       "  </thead>\n",
       "  <tbody>\n",
       "    <tr>\n",
       "      <th>0</th>\n",
       "      <td>3173.0</td>\n",
       "      <td>19.76</td>\n",
       "    </tr>\n",
       "    <tr>\n",
       "      <th>1</th>\n",
       "      <td>3281.1</td>\n",
       "      <td>20.78</td>\n",
       "    </tr>\n",
       "    <tr>\n",
       "      <th>2</th>\n",
       "      <td>3135.7</td>\n",
       "      <td>22.55</td>\n",
       "    </tr>\n",
       "    <tr>\n",
       "      <th>3</th>\n",
       "      <td>3359.1</td>\n",
       "      <td>23.06</td>\n",
       "    </tr>\n",
       "    <tr>\n",
       "      <th>4</th>\n",
       "      <td>3755.1</td>\n",
       "      <td>24.93</td>\n",
       "    </tr>\n",
       "  </tbody>\n",
       "</table>\n",
       "</div>"
      ],
      "text/plain": [
       "   WORLDCONSUMPTION  ALUMPRICE\n",
       "0            3173.0      19.76\n",
       "1            3281.1      20.78\n",
       "2            3135.7      22.55\n",
       "3            3359.1      23.06\n",
       "4            3755.1      24.93"
      ]
     },
     "execution_count": 42,
     "metadata": {},
     "output_type": "execute_result"
    }
   ],
   "source": [
    "copper_df_var.head()"
   ]
  },
  {
   "cell_type": "code",
   "execution_count": 43,
   "id": "764cc346",
   "metadata": {},
   "outputs": [
    {
     "data": {
      "text/plain": [
       "(25, 2)"
      ]
     },
     "execution_count": 43,
     "metadata": {},
     "output_type": "execute_result"
    }
   ],
   "source": [
    "copper_df_var.shape"
   ]
  },
  {
   "cell_type": "code",
   "execution_count": 44,
   "id": "6833b5d9",
   "metadata": {},
   "outputs": [],
   "source": [
    "train_df=copper_df_var[:19]\n",
    "test_df=copper_df_var[19:]"
   ]
  },
  {
   "cell_type": "code",
   "execution_count": 46,
   "id": "32915a8d",
   "metadata": {},
   "outputs": [
    {
     "data": {
      "text/plain": [
       "(19, 2)"
      ]
     },
     "execution_count": 46,
     "metadata": {},
     "output_type": "execute_result"
    }
   ],
   "source": [
    "train_df.shape"
   ]
  },
  {
   "cell_type": "code",
   "execution_count": 47,
   "id": "39e9ad8e",
   "metadata": {},
   "outputs": [
    {
     "data": {
      "text/plain": [
       "(6, 2)"
      ]
     },
     "execution_count": 47,
     "metadata": {},
     "output_type": "execute_result"
    }
   ],
   "source": [
    "test_df.shape"
   ]
  },
  {
   "cell_type": "code",
   "execution_count": 48,
   "id": "5311b17d",
   "metadata": {},
   "outputs": [],
   "source": [
    "from statsmodels.tsa.statespace.varmax import VARMAX\n",
    "from statsmodels.tsa.api import VAR"
   ]
  },
  {
   "cell_type": "code",
   "execution_count": 49,
   "id": "2dc79794",
   "metadata": {},
   "outputs": [],
   "source": [
    "var_model_copper = VAR(train_df[1:])"
   ]
  },
  {
   "cell_type": "code",
   "execution_count": 54,
   "id": "670b4ef4",
   "metadata": {},
   "outputs": [
    {
     "name": "stdout",
     "output_type": "stream",
     "text": [
      " VAR Order Selection (* highlights the minimums) \n",
      "=================================================\n",
      "      AIC         BIC         FPE         HQIC   \n",
      "-------------------------------------------------\n",
      "0       13.56       13.65   7.750e+05       13.54\n",
      "1       11.04       11.30   6.320e+04       10.98\n",
      "2       11.00       11.44   6.536e+04       10.91\n",
      "3       10.50       11.11   4.692e+04       10.38\n",
      "4       9.378       10.16   2.244e+04       9.218\n",
      "5      7.391*      8.347*      7916.*      7.195*\n",
      "-------------------------------------------------\n"
     ]
    }
   ],
   "source": [
    "# Identify model order \n",
    "sorted_order=var_model_copper.select_order(maxlags=5)\n",
    "print(sorted_order.summary())"
   ]
  },
  {
   "cell_type": "code",
   "execution_count": 57,
   "id": "bb5ee590",
   "metadata": {},
   "outputs": [
    {
     "name": "stdout",
     "output_type": "stream",
     "text": [
      "                                   Statespace Model Results                                  \n",
      "=============================================================================================\n",
      "Dep. Variable:     ['WORLDCONSUMPTION', 'ALUMPRICE']   No. Observations:                   18\n",
      "Model:                                        VAR(5)   Log Likelihood                -155.719\n",
      "                                         + intercept   AIC                            361.438\n",
      "Date:                               Sat, 03 Dec 2022   BIC                            383.697\n",
      "Time:                                       13:31:45   HQIC                           364.507\n",
      "Sample:                                            0                                         \n",
      "                                                - 18                                         \n",
      "Covariance Type:                                 opg                                         \n",
      "===================================================================================\n",
      "Ljung-Box (L1) (Q):             0.39, 0.28   Jarque-Bera (JB):          2.61, 10.50\n",
      "Prob(Q):                        0.53, 0.60   Prob(JB):                   0.27, 0.01\n",
      "Heteroskedasticity (H):         1.93, 0.10   Skew:                      0.82, -1.27\n",
      "Prob(H) (two-sided):            0.44, 0.01   Kurtosis:                   3.89, 5.75\n",
      "                         Results for equation WORLDCONSUMPTION                         \n",
      "=======================================================================================\n",
      "                          coef    std err          z      P>|z|      [0.025      0.975]\n",
      "---------------------------------------------------------------------------------------\n",
      "intercept            4833.1662      0.257   1.88e+04      0.000    4832.662    4833.670\n",
      "L1.WORLDCONSUMPTION     0.3629      1.287      0.282      0.778      -2.160       2.886\n",
      "L1.ALUMPRICE          -49.9626      7.405     -6.747      0.000     -64.476     -35.449\n",
      "L2.WORLDCONSUMPTION     0.5719      6.456      0.089      0.929     -12.081      13.225\n",
      "L2.ALUMPRICE         -105.6169      7.742    -13.642      0.000    -120.791     -90.443\n",
      "L3.WORLDCONSUMPTION     0.6688      4.336      0.154      0.877      -7.830       9.168\n",
      "L3.ALUMPRICE         -180.2255      7.668    -23.503      0.000    -195.255    -165.196\n",
      "L4.WORLDCONSUMPTION    -0.1333      4.114     -0.032      0.974      -8.196       7.930\n",
      "L4.ALUMPRICE          210.2940      7.553     27.841      0.000     195.490     225.098\n",
      "L5.WORLDCONSUMPTION    -0.8132      2.794     -0.291      0.771      -6.290       4.664\n",
      "L5.ALUMPRICE           -0.2581      5.829     -0.044      0.965     -11.683      11.167\n",
      "                             Results for equation ALUMPRICE                            \n",
      "=======================================================================================\n",
      "                          coef    std err          z      P>|z|      [0.025      0.975]\n",
      "---------------------------------------------------------------------------------------\n",
      "intercept              25.0812      2.528      9.921      0.000      20.126      30.036\n",
      "L1.WORLDCONSUMPTION     0.0010      0.031      0.032      0.974      -0.059       0.061\n",
      "L1.ALUMPRICE            0.2983      3.786      0.079      0.937      -7.123       7.720\n",
      "L2.WORLDCONSUMPTION    -0.0006      0.034     -0.018      0.986      -0.067       0.066\n",
      "L2.ALUMPRICE            0.0007      7.687   8.53e-05      1.000     -15.065      15.066\n",
      "L3.WORLDCONSUMPTION     0.0001      0.045      0.002      0.998      -0.087       0.087\n",
      "L3.ALUMPRICE           -0.1442     16.998     -0.008      0.993     -33.460      33.172\n",
      "L4.WORLDCONSUMPTION    -0.0003      0.066     -0.005      0.996      -0.130       0.129\n",
      "L4.ALUMPRICE            0.1469      1.606      0.091      0.927      -3.002       3.296\n",
      "L5.WORLDCONSUMPTION    -0.0003      0.043     -0.007      0.995      -0.084       0.084\n",
      "L5.ALUMPRICE           -0.2838      9.193     -0.031      0.975     -18.302      17.734\n",
      "                                        Error covariance matrix                                        \n",
      "=======================================================================================================\n",
      "                                          coef    std err          z      P>|z|      [0.025      0.975]\n",
      "-------------------------------------------------------------------------------------------------------\n",
      "sqrt.var.WORLDCONSUMPTION             266.8090      0.301    885.510      0.000     266.218     267.400\n",
      "sqrt.cov.WORLDCONSUMPTION.ALUMPRICE     0.3131     10.462      0.030      0.976     -20.192      20.818\n",
      "sqrt.var.ALUMPRICE                      1.2447      1.449      0.859      0.390      -1.596       4.086\n",
      "=======================================================================================================\n",
      "\n",
      "Warnings:\n",
      "[1] Covariance matrix calculated using the outer product of gradients (complex-step).\n",
      "[2] Covariance matrix is singular or near-singular, with condition number 8.34e+19. Standard errors may be unstable.\n"
     ]
    }
   ],
   "source": [
    "#after identifying the lags, we use the VARMAX \n",
    "\n",
    "var_model_copper_2 = VARMAX(train_df[1:], order = (5,0), enforce_stationarity = True).fit()\n",
    "\n",
    "print(var_model_copper_2.summary())"
   ]
  },
  {
   "cell_type": "markdown",
   "id": "2c7b9b9e",
   "metadata": {},
   "source": [
    "#### It appears that instead of a two way relationship, only a one way relationship should have been considered. (Aluminium Price causing World Consumption). Hence we would discard the VAR model and choose a unidirectional causal model (ARIMAX or SARIMAX)"
   ]
  },
  {
   "cell_type": "markdown",
   "id": "e38cc04c",
   "metadata": {},
   "source": [
    "#### Checking if the data has seasonality via the STL decomposition"
   ]
  },
  {
   "cell_type": "code",
   "execution_count": 58,
   "id": "032f8bd3",
   "metadata": {},
   "outputs": [],
   "source": [
    "from statsmodels.tsa.seasonal import seasonal_decompose, STL"
   ]
  },
  {
   "cell_type": "code",
   "execution_count": 64,
   "id": "022a28c8",
   "metadata": {},
   "outputs": [
    {
     "data": {
      "image/png": "[encoded data removed]",
      "text/plain": [
       "<Figure size 432x288 with 4 Axes>"
      ]
     },
     "metadata": {},
     "output_type": "display_data"
    }
   ],
   "source": [
    "stl = STL(copper_df_var.WORLDCONSUMPTION, period=5).fit()\n",
    "fig = stl.plot()"
   ]
  },
  {
   "cell_type": "markdown",
   "id": "b37b3f29",
   "metadata": {},
   "source": [
    "#### Due to changing seasonality, we would choose SARIMAX (Seasonal ARIMA + Exogenous variable)"
   ]
  },
  {
   "cell_type": "code",
   "execution_count": 65,
   "id": "576b60ce",
   "metadata": {},
   "outputs": [],
   "source": [
    "from statsmodels.tsa.statespace.sarimax import SARIMAX"
   ]
  },
  {
   "cell_type": "markdown",
   "id": "61e2bc07",
   "metadata": {},
   "source": [
    "##### The orders for the ARIMA component can be chosen from the results of the previous model (even though it has been discarded). But the orders of the S (seasonality) component can be determined by the ACF / PACF plots on the Seasonality determined from the STL decomposition\n",
    "\n",
    "https://machinelearningmastery.com/sarima-for-time-series-forecasting-in-python/"
   ]
  },
  {
   "cell_type": "code",
   "execution_count": 76,
   "id": "9d873414",
   "metadata": {
    "scrolled": true
   },
   "outputs": [
    {
     "data": {
      "text/plain": [
       "0    136.727603\n",
       "1     55.997920\n",
       "2   -231.313473\n",
       "3   -115.823691\n",
       "4    180.792279\n",
       "Name: season, dtype: float64"
      ]
     },
     "execution_count": 76,
     "metadata": {},
     "output_type": "execute_result"
    }
   ],
   "source": [
    "stl.seasonal.head()"
   ]
  },
  {
   "cell_type": "code",
   "execution_count": 78,
   "id": "7959dd5b",
   "metadata": {},
   "outputs": [],
   "source": [
    "from statsmodels.graphics.tsaplots import plot_acf, plot_pacf"
   ]
  },
  {
   "cell_type": "code",
   "execution_count": 83,
   "id": "2aff1953",
   "metadata": {
    "scrolled": true
   },
   "outputs": [
    {
     "data": {
      "image/png": "[encoded data removed]",
      "text/plain": [
       "<Figure size 432x288 with 1 Axes>"
      ]
     },
     "execution_count": 83,
     "metadata": {},
     "output_type": "execute_result"
    },
    {
     "data": {
      "image/png": "[encoded data removed]",
      "text/plain": [
       "<Figure size 432x288 with 1 Axes>"
      ]
     },
     "metadata": {},
     "output_type": "display_data"
    },
    {
     "data": {
      "image/png": "[encoded data removed]",
      "text/plain": [
       "<Figure size 432x288 with 1 Axes>"
      ]
     },
     "metadata": {},
     "output_type": "display_data"
    }
   ],
   "source": [
    "plot_acf(stl.seasonal, lags = 11)\n",
    "plot_pacf(stl.seasonal, lags = 11)"
   ]
  },
  {
   "cell_type": "markdown",
   "id": "c7148b14",
   "metadata": {},
   "source": [
    "#### For the Seasonal Component, choosing The AR term (P) as 6 and the MA term (Q) as 2."
   ]
  },
  {
   "cell_type": "code",
   "execution_count": 113,
   "id": "652213bb",
   "metadata": {},
   "outputs": [
    {
     "ename": "ValueError",
     "evalue": "The truth value of a Series is ambiguous. Use a.empty, a.bool(), a.item(), a.any() or a.all().",
     "output_type": "error",
     "traceback": [
      "\u001b[1;31m---------------------------------------------------------------------------\u001b[0m",
      "\u001b[1;31mValueError\u001b[0m                                Traceback (most recent call last)",
      "\u001b[1;32m<ipython-input-113-5f8e114eb034>\u001b[0m in \u001b[0;36m<module>\u001b[1;34m\u001b[0m\n\u001b[0;32m      8\u001b[0m \u001b[1;31m# Seasonal P,D,Q chosen based on the ACF / PACF plots of the seasonality\u001b[0m\u001b[1;33m\u001b[0m\u001b[1;33m\u001b[0m\u001b[1;33m\u001b[0m\u001b[0m\n\u001b[0;32m      9\u001b[0m \u001b[1;33m\u001b[0m\u001b[0m\n\u001b[1;32m---> 10\u001b[1;33m \u001b[0mmodel_sarimax_fitted\u001b[0m \u001b[1;33m=\u001b[0m \u001b[0mmodel_sarimax_unfitted\u001b[0m\u001b[1;33m.\u001b[0m\u001b[0mfit\u001b[0m\u001b[1;33m(\u001b[0m\u001b[0my\u001b[0m\u001b[1;33m,\u001b[0m \u001b[0mX\u001b[0m\u001b[1;33m)\u001b[0m\u001b[1;33m\u001b[0m\u001b[1;33m\u001b[0m\u001b[0m\n\u001b[0m",
      "\u001b[1;32m~\\anaconda3\\lib\\site-packages\\statsmodels\\tsa\\statespace\\mlemodel.py\u001b[0m in \u001b[0;36mfit\u001b[1;34m(self, start_params, transformed, includes_fixed, cov_type, cov_kwds, method, maxiter, full_output, disp, callback, return_params, optim_score, optim_complex_step, optim_hessian, flags, low_memory, **kwargs)\u001b[0m\n\u001b[0;32m    671\u001b[0m \u001b[1;33m\u001b[0m\u001b[0m\n\u001b[0;32m    672\u001b[0m         \u001b[1;31m# Unconstrain the starting parameters\u001b[0m\u001b[1;33m\u001b[0m\u001b[1;33m\u001b[0m\u001b[1;33m\u001b[0m\u001b[0m\n\u001b[1;32m--> 673\u001b[1;33m         \u001b[1;32mif\u001b[0m \u001b[0mtransformed\u001b[0m\u001b[1;33m:\u001b[0m\u001b[1;33m\u001b[0m\u001b[1;33m\u001b[0m\u001b[0m\n\u001b[0m\u001b[0;32m    674\u001b[0m             \u001b[0mstart_params\u001b[0m \u001b[1;33m=\u001b[0m \u001b[0mself\u001b[0m\u001b[1;33m.\u001b[0m\u001b[0muntransform_params\u001b[0m\u001b[1;33m(\u001b[0m\u001b[0mstart_params\u001b[0m\u001b[1;33m)\u001b[0m\u001b[1;33m\u001b[0m\u001b[1;33m\u001b[0m\u001b[0m\n\u001b[0;32m    675\u001b[0m \u001b[1;33m\u001b[0m\u001b[0m\n",
      "\u001b[1;32m~\\anaconda3\\lib\\site-packages\\pandas\\core\\generic.py\u001b[0m in \u001b[0;36m__nonzero__\u001b[1;34m(self)\u001b[0m\n\u001b[0;32m   1440\u001b[0m     \u001b[1;33m@\u001b[0m\u001b[0mfinal\u001b[0m\u001b[1;33m\u001b[0m\u001b[1;33m\u001b[0m\u001b[0m\n\u001b[0;32m   1441\u001b[0m     \u001b[1;32mdef\u001b[0m \u001b[0m__nonzero__\u001b[0m\u001b[1;33m(\u001b[0m\u001b[0mself\u001b[0m\u001b[1;33m)\u001b[0m\u001b[1;33m:\u001b[0m\u001b[1;33m\u001b[0m\u001b[1;33m\u001b[0m\u001b[0m\n\u001b[1;32m-> 1442\u001b[1;33m         raise ValueError(\n\u001b[0m\u001b[0;32m   1443\u001b[0m             \u001b[1;34mf\"The truth value of a {type(self).__name__} is ambiguous. \"\u001b[0m\u001b[1;33m\u001b[0m\u001b[1;33m\u001b[0m\u001b[0m\n\u001b[0;32m   1444\u001b[0m             \u001b[1;34m\"Use a.empty, a.bool(), a.item(), a.any() or a.all().\"\u001b[0m\u001b[1;33m\u001b[0m\u001b[1;33m\u001b[0m\u001b[0m\n",
      "\u001b[1;31mValueError\u001b[0m: The truth value of a Series is ambiguous. Use a.empty, a.bool(), a.item(), a.any() or a.all()."
     ]
    }
   ],
   "source": [
    "y = copper_df.WORLDCONSUMPTION\n",
    "X = copper_df.ALUMPRICE \n",
    "\n",
    "model_sarimax_unfitted = SARIMAX(y, order=(0, 0, 0), trend=\"t\", seasonal_order=(2, 0, 2, 2)) \n",
    "#Since 4 lags gave us significant results                                                                                          \n",
    "# No differencing as data already stationary\n",
    "# And it is linear trend\n",
    "# Seasonal P,D,Q chosen based on the ACF / PACF plots of the seasonality\n",
    "\n",
    "model_sarimax_fitted = model_sarimax_unfitted.fit(y, X)"
   ]
  },
  {
   "cell_type": "markdown",
   "id": "2eb55746",
   "metadata": {},
   "source": [
    "#### Due to the above error, making the P,D,Q of the seasonal component to zero"
   ]
  },
  {
   "cell_type": "code",
   "execution_count": 115,
   "id": "b6ea09c4",
   "metadata": {},
   "outputs": [
    {
     "data": {
      "text/html": [
       "<table class=\"simpletable\">\n",
       "<caption>SARIMAX Results</caption>\n",
       "<tr>\n",
       "  <th>Dep. Variable:</th>   <td>WORLDCONSUMPTION</td> <th>  No. Observations:  </th>    <td>25</td>   \n",
       "</tr>\n",
       "<tr>\n",
       "  <th>Model:</th>           <td>SARIMAX(2, 1, 0)</td> <th>  Log Likelihood     </th> <td>-169.685</td>\n",
       "</tr>\n",
       "<tr>\n",
       "  <th>Date:</th>            <td>Sat, 03 Dec 2022</td> <th>  AIC                </th>  <td>349.369</td>\n",
       "</tr>\n",
       "<tr>\n",
       "  <th>Time:</th>                <td>14:52:15</td>     <th>  BIC                </th>  <td>355.259</td>\n",
       "</tr>\n",
       "<tr>\n",
       "  <th>Sample:</th>                  <td>0</td>        <th>  HQIC               </th>  <td>350.932</td>\n",
       "</tr>\n",
       "<tr>\n",
       "  <th></th>                       <td> - 25</td>      <th>                     </th>     <td> </td>   \n",
       "</tr>\n",
       "<tr>\n",
       "  <th>Covariance Type:</th>        <td>opg</td>       <th>                     </th>     <td> </td>   \n",
       "</tr>\n",
       "</table>\n",
       "<table class=\"simpletable\">\n",
       "<tr>\n",
       "      <td></td>         <th>coef</th>     <th>std err</th>      <th>z</th>      <th>P>|z|</th>  <th>[0.025</th>    <th>0.975]</th>  \n",
       "</tr>\n",
       "<tr>\n",
       "  <th>drift</th>     <td>   13.1219</td> <td>    7.538</td> <td>    1.741</td> <td> 0.082</td> <td>   -1.653</td> <td>   27.897</td>\n",
       "</tr>\n",
       "<tr>\n",
       "  <th>ALUMPRICE</th> <td>  -36.8088</td> <td>   65.038</td> <td>   -0.566</td> <td> 0.571</td> <td> -164.282</td> <td>   90.664</td>\n",
       "</tr>\n",
       "<tr>\n",
       "  <th>ar.L1</th>     <td>    0.4340</td> <td>    0.353</td> <td>    1.228</td> <td> 0.219</td> <td>   -0.259</td> <td>    1.127</td>\n",
       "</tr>\n",
       "<tr>\n",
       "  <th>ar.L2</th>     <td>   -0.6483</td> <td>    0.303</td> <td>   -2.143</td> <td> 0.032</td> <td>   -1.241</td> <td>   -0.055</td>\n",
       "</tr>\n",
       "<tr>\n",
       "  <th>sigma2</th>    <td> 7.562e+04</td> <td> 3.04e+04</td> <td>    2.484</td> <td> 0.013</td> <td>  1.6e+04</td> <td> 1.35e+05</td>\n",
       "</tr>\n",
       "</table>\n",
       "<table class=\"simpletable\">\n",
       "<tr>\n",
       "  <th>Ljung-Box (L1) (Q):</th>     <td>0.42</td> <th>  Jarque-Bera (JB):  </th> <td>7.29</td> \n",
       "</tr>\n",
       "<tr>\n",
       "  <th>Prob(Q):</th>                <td>0.52</td> <th>  Prob(JB):          </th> <td>0.03</td> \n",
       "</tr>\n",
       "<tr>\n",
       "  <th>Heteroskedasticity (H):</th> <td>3.51</td> <th>  Skew:              </th> <td>-1.22</td>\n",
       "</tr>\n",
       "<tr>\n",
       "  <th>Prob(H) (two-sided):</th>    <td>0.09</td> <th>  Kurtosis:          </th> <td>4.17</td> \n",
       "</tr>\n",
       "</table><br/><br/>Warnings:<br/>[1] Covariance matrix calculated using the outer product of gradients (complex-step)."
      ],
      "text/plain": [
       "<class 'statsmodels.iolib.summary.Summary'>\n",
       "\"\"\"\n",
       "                               SARIMAX Results                                \n",
       "==============================================================================\n",
       "Dep. Variable:       WORLDCONSUMPTION   No. Observations:                   25\n",
       "Model:               SARIMAX(2, 1, 0)   Log Likelihood                -169.685\n",
       "Date:                Sat, 03 Dec 2022   AIC                            349.369\n",
       "Time:                        14:52:15   BIC                            355.259\n",
       "Sample:                             0   HQIC                           350.932\n",
       "                                 - 25                                         \n",
       "Covariance Type:                  opg                                         \n",
       "==============================================================================\n",
       "                 coef    std err          z      P>|z|      [0.025      0.975]\n",
       "------------------------------------------------------------------------------\n",
       "drift         13.1219      7.538      1.741      0.082      -1.653      27.897\n",
       "ALUMPRICE    -36.8088     65.038     -0.566      0.571    -164.282      90.664\n",
       "ar.L1          0.4340      0.353      1.228      0.219      -0.259       1.127\n",
       "ar.L2         -0.6483      0.303     -2.143      0.032      -1.241      -0.055\n",
       "sigma2      7.562e+04   3.04e+04      2.484      0.013     1.6e+04    1.35e+05\n",
       "===================================================================================\n",
       "Ljung-Box (L1) (Q):                   0.42   Jarque-Bera (JB):                 7.29\n",
       "Prob(Q):                              0.52   Prob(JB):                         0.03\n",
       "Heteroskedasticity (H):               3.51   Skew:                            -1.22\n",
       "Prob(H) (two-sided):                  0.09   Kurtosis:                         4.17\n",
       "===================================================================================\n",
       "\n",
       "Warnings:\n",
       "[1] Covariance matrix calculated using the outer product of gradients (complex-step).\n",
       "\"\"\""
      ]
     },
     "execution_count": 115,
     "metadata": {},
     "output_type": "execute_result"
    }
   ],
   "source": [
    "y = copper_df.WORLDCONSUMPTION\n",
    "x = copper_df.ALUMPRICE \n",
    "\n",
    "model_sarimax_unfitted = SARIMAX(y,x, order=(2, 1, 0), trend=\"t\", seasonal_order=(0, 0, 0, 0)) \n",
    "#Since 4 lags gave us significant results                                                                                          \n",
    "# 1 Difference order\n",
    "# And it is a linear trend\n",
    "\n",
    "model_sarimax_fitted = model_sarimax_unfitted.fit()\n",
    "\n",
    "model_sarimax_fitted.summary()"
   ]
  },
  {
   "cell_type": "code",
   "execution_count": 119,
   "id": "8c723f27",
   "metadata": {},
   "outputs": [
    {
     "data": {
      "text/html": [
       "<table class=\"simpletable\">\n",
       "<caption>SARIMAX Results</caption>\n",
       "<tr>\n",
       "  <th>Dep. Variable:</th>   <td>WORLDCONSUMPTION</td> <th>  No. Observations:  </th>    <td>25</td>   \n",
       "</tr>\n",
       "<tr>\n",
       "  <th>Model:</th>                <td>SARIMAX</td>     <th>  Log Likelihood     </th> <td>-190.014</td>\n",
       "</tr>\n",
       "<tr>\n",
       "  <th>Date:</th>            <td>Sat, 03 Dec 2022</td> <th>  AIC                </th>  <td>386.027</td>\n",
       "</tr>\n",
       "<tr>\n",
       "  <th>Time:</th>                <td>14:52:52</td>     <th>  BIC                </th>  <td>389.684</td>\n",
       "</tr>\n",
       "<tr>\n",
       "  <th>Sample:</th>                  <td>0</td>        <th>  HQIC               </th>  <td>387.041</td>\n",
       "</tr>\n",
       "<tr>\n",
       "  <th></th>                       <td> - 25</td>      <th>                     </th>     <td> </td>   \n",
       "</tr>\n",
       "<tr>\n",
       "  <th>Covariance Type:</th>        <td>opg</td>       <th>                     </th>     <td> </td>   \n",
       "</tr>\n",
       "</table>\n",
       "<table class=\"simpletable\">\n",
       "<tr>\n",
       "      <td></td>         <th>coef</th>     <th>std err</th>      <th>z</th>      <th>P>|z|</th>  <th>[0.025</th>    <th>0.975]</th>  \n",
       "</tr>\n",
       "<tr>\n",
       "  <th>drift</th>     <td>  236.4744</td> <td>    9.731</td> <td>   24.300</td> <td> 0.000</td> <td>  217.401</td> <td>  255.548</td>\n",
       "</tr>\n",
       "<tr>\n",
       "  <th>ALUMPRICE</th> <td>  104.9966</td> <td>    7.762</td> <td>   13.527</td> <td> 0.000</td> <td>   89.783</td> <td>  120.210</td>\n",
       "</tr>\n",
       "<tr>\n",
       "  <th>sigma2</th>    <td> 2.341e+05</td> <td> 6.42e+04</td> <td>    3.648</td> <td> 0.000</td> <td> 1.08e+05</td> <td>  3.6e+05</td>\n",
       "</tr>\n",
       "</table>\n",
       "<table class=\"simpletable\">\n",
       "<tr>\n",
       "  <th>Ljung-Box (L1) (Q):</th>     <td>5.13</td> <th>  Jarque-Bera (JB):  </th> <td>2.61</td>\n",
       "</tr>\n",
       "<tr>\n",
       "  <th>Prob(Q):</th>                <td>0.02</td> <th>  Prob(JB):          </th> <td>0.27</td>\n",
       "</tr>\n",
       "<tr>\n",
       "  <th>Heteroskedasticity (H):</th> <td>1.58</td> <th>  Skew:              </th> <td>0.74</td>\n",
       "</tr>\n",
       "<tr>\n",
       "  <th>Prob(H) (two-sided):</th>    <td>0.53</td> <th>  Kurtosis:          </th> <td>3.54</td>\n",
       "</tr>\n",
       "</table><br/><br/>Warnings:<br/>[1] Covariance matrix calculated using the outer product of gradients (complex-step)."
      ],
      "text/plain": [
       "<class 'statsmodels.iolib.summary.Summary'>\n",
       "\"\"\"\n",
       "                               SARIMAX Results                                \n",
       "==============================================================================\n",
       "Dep. Variable:       WORLDCONSUMPTION   No. Observations:                   25\n",
       "Model:                        SARIMAX   Log Likelihood                -190.014\n",
       "Date:                Sat, 03 Dec 2022   AIC                            386.027\n",
       "Time:                        14:52:52   BIC                            389.684\n",
       "Sample:                             0   HQIC                           387.041\n",
       "                                 - 25                                         \n",
       "Covariance Type:                  opg                                         \n",
       "==============================================================================\n",
       "                 coef    std err          z      P>|z|      [0.025      0.975]\n",
       "------------------------------------------------------------------------------\n",
       "drift        236.4744      9.731     24.300      0.000     217.401     255.548\n",
       "ALUMPRICE    104.9966      7.762     13.527      0.000      89.783     120.210\n",
       "sigma2      2.341e+05   6.42e+04      3.648      0.000    1.08e+05     3.6e+05\n",
       "===================================================================================\n",
       "Ljung-Box (L1) (Q):                   5.13   Jarque-Bera (JB):                 2.61\n",
       "Prob(Q):                              0.02   Prob(JB):                         0.27\n",
       "Heteroskedasticity (H):               1.58   Skew:                             0.74\n",
       "Prob(H) (two-sided):                  0.53   Kurtosis:                         3.54\n",
       "===================================================================================\n",
       "\n",
       "Warnings:\n",
       "[1] Covariance matrix calculated using the outer product of gradients (complex-step).\n",
       "\"\"\""
      ]
     },
     "execution_count": 119,
     "metadata": {},
     "output_type": "execute_result"
    }
   ],
   "source": [
    "#Testing by reducting the number of lags to 0\n",
    "y = copper_df.WORLDCONSUMPTION\n",
    "x = copper_df.ALUMPRICE \n",
    "\n",
    "model_sarimax_unfitted = SARIMAX(y,x, order=(0, 0, 0), trend=\"t\", seasonal_order=(0, 0, 0, 0)) \n",
    "#Since 4 lags gave us significant results                                                                                          \n",
    "# 1 Difference order\n",
    "# And it is a linear trend\n",
    "\n",
    "model_sarimax_fitted = model_sarimax_unfitted.fit()\n",
    "\n",
    "model_sarimax_fitted.summary()"
   ]
  },
  {
   "cell_type": "markdown",
   "id": "771e2632",
   "metadata": {},
   "source": [
    "#### Attempting the solution via ARIMAX as well"
   ]
  },
  {
   "cell_type": "code",
   "execution_count": 103,
   "id": "d66e577b",
   "metadata": {},
   "outputs": [],
   "source": [
    "from statsmodels.tsa.arima.model import ARIMA"
   ]
  },
  {
   "cell_type": "code",
   "execution_count": 107,
   "id": "19b0b797",
   "metadata": {},
   "outputs": [
    {
     "data": {
      "text/html": [
       "<table class=\"simpletable\">\n",
       "<caption>SARIMAX Results</caption>\n",
       "<tr>\n",
       "  <th>Dep. Variable:</th>   <td>WORLDCONSUMPTION</td> <th>  No. Observations:  </th>    <td>25</td>   \n",
       "</tr>\n",
       "<tr>\n",
       "  <th>Model:</th>            <td>ARIMA(4, 1, 0)</td>  <th>  Log Likelihood     </th> <td>-164.873</td>\n",
       "</tr>\n",
       "<tr>\n",
       "  <th>Date:</th>            <td>Sat, 03 Dec 2022</td> <th>  AIC                </th>  <td>343.747</td>\n",
       "</tr>\n",
       "<tr>\n",
       "  <th>Time:</th>                <td>14:40:27</td>     <th>  BIC                </th>  <td>351.993</td>\n",
       "</tr>\n",
       "<tr>\n",
       "  <th>Sample:</th>                  <td>0</td>        <th>  HQIC               </th>  <td>345.934</td>\n",
       "</tr>\n",
       "<tr>\n",
       "  <th></th>                       <td> - 25</td>      <th>                     </th>     <td> </td>   \n",
       "</tr>\n",
       "<tr>\n",
       "  <th>Covariance Type:</th>        <td>opg</td>       <th>                     </th>     <td> </td>   \n",
       "</tr>\n",
       "</table>\n",
       "<table class=\"simpletable\">\n",
       "<tr>\n",
       "      <td></td>         <th>coef</th>     <th>std err</th>      <th>z</th>      <th>P>|z|</th>  <th>[0.025</th>    <th>0.975]</th>  \n",
       "</tr>\n",
       "<tr>\n",
       "  <th>drift</th>     <td>  171.8922</td> <td>  116.185</td> <td>    1.479</td> <td> 0.139</td> <td>  -55.826</td> <td>  399.611</td>\n",
       "</tr>\n",
       "<tr>\n",
       "  <th>ALUMPRICE</th> <td>  -99.8967</td> <td>   51.088</td> <td>   -1.955</td> <td> 0.051</td> <td> -200.027</td> <td>    0.233</td>\n",
       "</tr>\n",
       "<tr>\n",
       "  <th>ar.L1</th>     <td>    0.3720</td> <td>    0.463</td> <td>    0.803</td> <td> 0.422</td> <td>   -0.536</td> <td>    1.280</td>\n",
       "</tr>\n",
       "<tr>\n",
       "  <th>ar.L2</th>     <td>   -0.4265</td> <td>    0.359</td> <td>   -1.188</td> <td> 0.235</td> <td>   -1.130</td> <td>    0.277</td>\n",
       "</tr>\n",
       "<tr>\n",
       "  <th>ar.L3</th>     <td>    0.0261</td> <td>    0.289</td> <td>    0.090</td> <td> 0.928</td> <td>   -0.540</td> <td>    0.592</td>\n",
       "</tr>\n",
       "<tr>\n",
       "  <th>ar.L4</th>     <td>    0.3611</td> <td>    0.410</td> <td>    0.881</td> <td> 0.378</td> <td>   -0.442</td> <td>    1.164</td>\n",
       "</tr>\n",
       "<tr>\n",
       "  <th>sigma2</th>    <td> 5.094e+04</td> <td> 2.42e+04</td> <td>    2.102</td> <td> 0.036</td> <td> 3451.224</td> <td> 9.84e+04</td>\n",
       "</tr>\n",
       "</table>\n",
       "<table class=\"simpletable\">\n",
       "<tr>\n",
       "  <th>Ljung-Box (L1) (Q):</th>     <td>0.00</td> <th>  Jarque-Bera (JB):  </th> <td>10.08</td>\n",
       "</tr>\n",
       "<tr>\n",
       "  <th>Prob(Q):</th>                <td>0.98</td> <th>  Prob(JB):          </th> <td>0.01</td> \n",
       "</tr>\n",
       "<tr>\n",
       "  <th>Heteroskedasticity (H):</th> <td>7.16</td> <th>  Skew:              </th> <td>-1.31</td>\n",
       "</tr>\n",
       "<tr>\n",
       "  <th>Prob(H) (two-sided):</th>    <td>0.01</td> <th>  Kurtosis:          </th> <td>4.78</td> \n",
       "</tr>\n",
       "</table><br/><br/>Warnings:<br/>[1] Covariance matrix calculated using the outer product of gradients (complex-step)."
      ],
      "text/plain": [
       "<class 'statsmodels.iolib.summary.Summary'>\n",
       "\"\"\"\n",
       "                               SARIMAX Results                                \n",
       "==============================================================================\n",
       "Dep. Variable:       WORLDCONSUMPTION   No. Observations:                   25\n",
       "Model:                 ARIMA(4, 1, 0)   Log Likelihood                -164.873\n",
       "Date:                Sat, 03 Dec 2022   AIC                            343.747\n",
       "Time:                        14:40:27   BIC                            351.993\n",
       "Sample:                             0   HQIC                           345.934\n",
       "                                 - 25                                         \n",
       "Covariance Type:                  opg                                         \n",
       "==============================================================================\n",
       "                 coef    std err          z      P>|z|      [0.025      0.975]\n",
       "------------------------------------------------------------------------------\n",
       "drift        171.8922    116.185      1.479      0.139     -55.826     399.611\n",
       "ALUMPRICE    -99.8967     51.088     -1.955      0.051    -200.027       0.233\n",
       "ar.L1          0.3720      0.463      0.803      0.422      -0.536       1.280\n",
       "ar.L2         -0.4265      0.359     -1.188      0.235      -1.130       0.277\n",
       "ar.L3          0.0261      0.289      0.090      0.928      -0.540       0.592\n",
       "ar.L4          0.3611      0.410      0.881      0.378      -0.442       1.164\n",
       "sigma2      5.094e+04   2.42e+04      2.102      0.036    3451.224    9.84e+04\n",
       "===================================================================================\n",
       "Ljung-Box (L1) (Q):                   0.00   Jarque-Bera (JB):                10.08\n",
       "Prob(Q):                              0.98   Prob(JB):                         0.01\n",
       "Heteroskedasticity (H):               7.16   Skew:                            -1.31\n",
       "Prob(H) (two-sided):                  0.01   Kurtosis:                         4.78\n",
       "===================================================================================\n",
       "\n",
       "Warnings:\n",
       "[1] Covariance matrix calculated using the outer product of gradients (complex-step).\n",
       "\"\"\""
      ]
     },
     "execution_count": 107,
     "metadata": {},
     "output_type": "execute_result"
    }
   ],
   "source": [
    "y = copper_df.WORLDCONSUMPTION\n",
    "x = copper_df.ALUMPRICE \n",
    "\n",
    "model_arimax_unfitted = ARIMA(y, exog=x, order=(4, 1, 0), trend=\"t\", seasonal_order=(0, 0, 0, 0)) \n",
    "#Since 4 lags gave us significant results                                                                                          \n",
    "# 1 Difference order\n",
    "# And it is a linear trend\n",
    "\n",
    "model_arimax_fitted = model_arimax_unfitted.fit()\n",
    "\n",
    "model_arimax_fitted.summary()"
   ]
  },
  {
   "cell_type": "markdown",
   "id": "ce55acc2",
   "metadata": {},
   "source": [
    "#### Since the autoregressive components are not significant, dropping them and retraining the model"
   ]
  },
  {
   "cell_type": "code",
   "execution_count": 121,
   "id": "b72d46cb",
   "metadata": {},
   "outputs": [
    {
     "data": {
      "text/html": [
       "<table class=\"simpletable\">\n",
       "<caption>SARIMAX Results</caption>\n",
       "<tr>\n",
       "  <th>Dep. Variable:</th>   <td>WORLDCONSUMPTION</td> <th>  No. Observations:  </th>    <td>25</td>   \n",
       "</tr>\n",
       "<tr>\n",
       "  <th>Model:</th>            <td>ARIMA(0, 1, 0)</td>  <th>  Log Likelihood     </th> <td>-171.794</td>\n",
       "</tr>\n",
       "<tr>\n",
       "  <th>Date:</th>            <td>Sat, 03 Dec 2022</td> <th>  AIC                </th>  <td>349.589</td>\n",
       "</tr>\n",
       "<tr>\n",
       "  <th>Time:</th>                <td>14:54:11</td>     <th>  BIC                </th>  <td>353.123</td>\n",
       "</tr>\n",
       "<tr>\n",
       "  <th>Sample:</th>                  <td>0</td>        <th>  HQIC               </th>  <td>350.526</td>\n",
       "</tr>\n",
       "<tr>\n",
       "  <th></th>                       <td> - 25</td>      <th>                     </th>     <td> </td>   \n",
       "</tr>\n",
       "<tr>\n",
       "  <th>Covariance Type:</th>        <td>opg</td>       <th>                     </th>     <td> </td>   \n",
       "</tr>\n",
       "</table>\n",
       "<table class=\"simpletable\">\n",
       "<tr>\n",
       "      <td></td>         <th>coef</th>     <th>std err</th>      <th>z</th>      <th>P>|z|</th>  <th>[0.025</th>    <th>0.975]</th>  \n",
       "</tr>\n",
       "<tr>\n",
       "  <th>drift</th>     <td>  180.4033</td> <td>   85.314</td> <td>    2.115</td> <td> 0.034</td> <td>   13.190</td> <td>  347.616</td>\n",
       "</tr>\n",
       "<tr>\n",
       "  <th>ALUMPRICE</th> <td> -115.5449</td> <td>   57.943</td> <td>   -1.994</td> <td> 0.046</td> <td> -229.110</td> <td>   -1.979</td>\n",
       "</tr>\n",
       "<tr>\n",
       "  <th>sigma2</th>    <td> 9.658e+04</td> <td> 2.35e+04</td> <td>    4.113</td> <td> 0.000</td> <td> 5.06e+04</td> <td> 1.43e+05</td>\n",
       "</tr>\n",
       "</table>\n",
       "<table class=\"simpletable\">\n",
       "<tr>\n",
       "  <th>Ljung-Box (L1) (Q):</th>     <td>0.57</td> <th>  Jarque-Bera (JB):  </th> <td>7.08</td> \n",
       "</tr>\n",
       "<tr>\n",
       "  <th>Prob(Q):</th>                <td>0.45</td> <th>  Prob(JB):          </th> <td>0.03</td> \n",
       "</tr>\n",
       "<tr>\n",
       "  <th>Heteroskedasticity (H):</th> <td>4.33</td> <th>  Skew:              </th> <td>-0.97</td>\n",
       "</tr>\n",
       "<tr>\n",
       "  <th>Prob(H) (two-sided):</th>    <td>0.05</td> <th>  Kurtosis:          </th> <td>4.83</td> \n",
       "</tr>\n",
       "</table><br/><br/>Warnings:<br/>[1] Covariance matrix calculated using the outer product of gradients (complex-step)."
      ],
      "text/plain": [
       "<class 'statsmodels.iolib.summary.Summary'>\n",
       "\"\"\"\n",
       "                               SARIMAX Results                                \n",
       "==============================================================================\n",
       "Dep. Variable:       WORLDCONSUMPTION   No. Observations:                   25\n",
       "Model:                 ARIMA(0, 1, 0)   Log Likelihood                -171.794\n",
       "Date:                Sat, 03 Dec 2022   AIC                            349.589\n",
       "Time:                        14:54:11   BIC                            353.123\n",
       "Sample:                             0   HQIC                           350.526\n",
       "                                 - 25                                         \n",
       "Covariance Type:                  opg                                         \n",
       "==============================================================================\n",
       "                 coef    std err          z      P>|z|      [0.025      0.975]\n",
       "------------------------------------------------------------------------------\n",
       "drift        180.4033     85.314      2.115      0.034      13.190     347.616\n",
       "ALUMPRICE   -115.5449     57.943     -1.994      0.046    -229.110      -1.979\n",
       "sigma2      9.658e+04   2.35e+04      4.113      0.000    5.06e+04    1.43e+05\n",
       "===================================================================================\n",
       "Ljung-Box (L1) (Q):                   0.57   Jarque-Bera (JB):                 7.08\n",
       "Prob(Q):                              0.45   Prob(JB):                         0.03\n",
       "Heteroskedasticity (H):               4.33   Skew:                            -0.97\n",
       "Prob(H) (two-sided):                  0.05   Kurtosis:                         4.83\n",
       "===================================================================================\n",
       "\n",
       "Warnings:\n",
       "[1] Covariance matrix calculated using the outer product of gradients (complex-step).\n",
       "\"\"\""
      ]
     },
     "execution_count": 121,
     "metadata": {},
     "output_type": "execute_result"
    }
   ],
   "source": [
    "y = copper_df.WORLDCONSUMPTION\n",
    "x = copper_df.ALUMPRICE \n",
    "\n",
    "model_arimax_unfitted_no_ar = ARIMA(y, exog=x, order=(0, 1, 0), trend=\"t\", seasonal_order=(0, 0, 0, 0)) \n",
    "#Since 4 lags gave us significant results                                                                                          \n",
    "# 1 Difference order\n",
    "# And it is a linear trend\n",
    "\n",
    "model_arimax_fitted_no_ar = model_arimax_unfitted_no_ar.fit()\n",
    "\n",
    "model_arimax_fitted_no_ar.summary()"
   ]
  },
  {
   "cell_type": "markdown",
   "id": "86b4d9df",
   "metadata": {},
   "source": [
    "#### Thus the below model satisfies the statistical tests. Thank you\n",
    "model_arimax_fitted_no_ar"
   ]
  },
  {
   "cell_type": "code",
   "execution_count": null,
   "id": "cb57ab7c",
   "metadata": {},
   "outputs": [],
   "source": []
  }
 ],
 "metadata": {
  "hide_input": false,
  "kernelspec": {
   "display_name": "Python 3",
   "language": "python",
   "name": "python3"
  },
  "language_info": {
   "codemirror_mode": {
    "name": "ipython",
    "version": 3
   },
   "file_extension": ".py",
   "mimetype": "text/x-python",
   "name": "python",
   "nbconvert_exporter": "python",
   "pygments_lexer": "ipython3",
   "version": "3.8.8"
  }
 },
 "nbformat": 4,
 "nbformat_minor": 5
}
