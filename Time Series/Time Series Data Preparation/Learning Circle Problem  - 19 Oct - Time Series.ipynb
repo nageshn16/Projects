{
 "cells": [
  {
   "cell_type": "code",
   "execution_count": 1,
   "id": "b4560e00",
   "metadata": {},
   "outputs": [
    {
     "data": {
      "text/html": [
       "<div>\n",
       "<style scoped>\n",
       "    .dataframe tbody tr th:only-of-type {\n",
       "        vertical-align: middle;\n",
       "    }\n",
       "\n",
       "    .dataframe tbody tr th {\n",
       "        vertical-align: top;\n",
       "    }\n",
       "\n",
       "    .dataframe thead th {\n",
       "        text-align: right;\n",
       "    }\n",
       "</style>\n",
       "<table border=\"1\" class=\"dataframe\">\n",
       "  <thead>\n",
       "    <tr style=\"text-align: right;\">\n",
       "      <th></th>\n",
       "      <th>High</th>\n",
       "      <th>Low</th>\n",
       "      <th>Open</th>\n",
       "      <th>Close</th>\n",
       "      <th>Volume</th>\n",
       "      <th>Adj Close</th>\n",
       "    </tr>\n",
       "    <tr>\n",
       "      <th>Date</th>\n",
       "      <th></th>\n",
       "      <th></th>\n",
       "      <th></th>\n",
       "      <th></th>\n",
       "      <th></th>\n",
       "      <th></th>\n",
       "    </tr>\n",
       "  </thead>\n",
       "  <tbody>\n",
       "    <tr>\n",
       "      <th>2022-01-03</th>\n",
       "      <td>16069.379883</td>\n",
       "      <td>15943.160156</td>\n",
       "      <td>15947.440430</td>\n",
       "      <td>16020.730469</td>\n",
       "      <td>56865800</td>\n",
       "      <td>16020.730469</td>\n",
       "    </tr>\n",
       "    <tr>\n",
       "      <th>2022-01-04</th>\n",
       "      <td>16202.580078</td>\n",
       "      <td>16036.519531</td>\n",
       "      <td>16069.799805</td>\n",
       "      <td>16152.610352</td>\n",
       "      <td>75187400</td>\n",
       "      <td>16152.610352</td>\n",
       "    </tr>\n",
       "    <tr>\n",
       "      <th>2022-01-05</th>\n",
       "      <td>16285.349609</td>\n",
       "      <td>16161.719727</td>\n",
       "      <td>16177.440430</td>\n",
       "      <td>16271.750000</td>\n",
       "      <td>68244500</td>\n",
       "      <td>16271.750000</td>\n",
       "    </tr>\n",
       "    <tr>\n",
       "      <th>2022-01-06</th>\n",
       "      <td>16156.559570</td>\n",
       "      <td>15988.629883</td>\n",
       "      <td>16076.160156</td>\n",
       "      <td>16052.030273</td>\n",
       "      <td>75756700</td>\n",
       "      <td>16052.030273</td>\n",
       "    </tr>\n",
       "    <tr>\n",
       "      <th>2022-01-07</th>\n",
       "      <td>16044.280273</td>\n",
       "      <td>15862.709961</td>\n",
       "      <td>15999.019531</td>\n",
       "      <td>15947.740234</td>\n",
       "      <td>74469300</td>\n",
       "      <td>15947.740234</td>\n",
       "    </tr>\n",
       "  </tbody>\n",
       "</table>\n",
       "</div>"
      ],
      "text/plain": [
       "                    High           Low          Open         Close    Volume  \\\n",
       "Date                                                                           \n",
       "2022-01-03  16069.379883  15943.160156  15947.440430  16020.730469  56865800   \n",
       "2022-01-04  16202.580078  16036.519531  16069.799805  16152.610352  75187400   \n",
       "2022-01-05  16285.349609  16161.719727  16177.440430  16271.750000  68244500   \n",
       "2022-01-06  16156.559570  15988.629883  16076.160156  16052.030273  75756700   \n",
       "2022-01-07  16044.280273  15862.709961  15999.019531  15947.740234  74469300   \n",
       "\n",
       "               Adj Close  \n",
       "Date                      \n",
       "2022-01-03  16020.730469  \n",
       "2022-01-04  16152.610352  \n",
       "2022-01-05  16271.750000  \n",
       "2022-01-06  16052.030273  \n",
       "2022-01-07  15947.740234  "
      ]
     },
     "execution_count": 1,
     "metadata": {},
     "output_type": "execute_result"
    }
   ],
   "source": [
    "'''===================================\n",
    "Time Series Analysis and Forecasting - Q01 - 19/Oct\n",
    "==================================='''\n",
    "# Required libraries\n",
    "import pandas as pd\n",
    "from pandas_datareader import data\n",
    "\n",
    "# Get the DAX index from Yahoo\n",
    "DAX = data.DataReader(name='^GDAXI', data_source='yahoo', start='2022-1-1')\n",
    "DAX.head()"
   ]
  },
  {
   "cell_type": "markdown",
   "id": "95d2029d",
   "metadata": {},
   "source": [
    "——\n",
    "Give the code above, resample the DAX data to get the following:\n",
    "- closing price for first business day of every month \n",
    "- closing price for first day of every month (assume previous day value if its a non-working day)"
   ]
  },
  {
   "cell_type": "code",
   "execution_count": 2,
   "id": "f5419a0d",
   "metadata": {},
   "outputs": [
    {
     "data": {
      "text/plain": [
       "DatetimeIndex(['2022-01-03', '2022-01-04', '2022-01-05', '2022-01-06',\n",
       "               '2022-01-07', '2022-01-10', '2022-01-11', '2022-01-12',\n",
       "               '2022-01-13', '2022-01-14',\n",
       "               ...\n",
       "               '2022-10-06', '2022-10-07', '2022-10-10', '2022-10-11',\n",
       "               '2022-10-12', '2022-10-13', '2022-10-14', '2022-10-17',\n",
       "               '2022-10-18', '2022-10-19'],\n",
       "              dtype='datetime64[ns]', name='Date', length=206, freq=None)"
      ]
     },
     "execution_count": 2,
     "metadata": {},
     "output_type": "execute_result"
    }
   ],
   "source": [
    "DAX.index"
   ]
  },
  {
   "cell_type": "code",
   "execution_count": 3,
   "id": "55434246",
   "metadata": {},
   "outputs": [
    {
     "data": {
      "text/html": [
       "<div>\n",
       "<style scoped>\n",
       "    .dataframe tbody tr th:only-of-type {\n",
       "        vertical-align: middle;\n",
       "    }\n",
       "\n",
       "    .dataframe tbody tr th {\n",
       "        vertical-align: top;\n",
       "    }\n",
       "\n",
       "    .dataframe thead th {\n",
       "        text-align: right;\n",
       "    }\n",
       "</style>\n",
       "<table border=\"1\" class=\"dataframe\">\n",
       "  <thead>\n",
       "    <tr style=\"text-align: right;\">\n",
       "      <th></th>\n",
       "      <th>High</th>\n",
       "      <th>Low</th>\n",
       "      <th>Open</th>\n",
       "      <th>Close</th>\n",
       "      <th>Volume</th>\n",
       "      <th>Adj Close</th>\n",
       "    </tr>\n",
       "    <tr>\n",
       "      <th>Date</th>\n",
       "      <th></th>\n",
       "      <th></th>\n",
       "      <th></th>\n",
       "      <th></th>\n",
       "      <th></th>\n",
       "      <th></th>\n",
       "    </tr>\n",
       "  </thead>\n",
       "  <tbody>\n",
       "    <tr>\n",
       "      <th>2022-01-03</th>\n",
       "      <td>16069.379883</td>\n",
       "      <td>15943.160156</td>\n",
       "      <td>15947.440430</td>\n",
       "      <td>16020.730469</td>\n",
       "      <td>56865800</td>\n",
       "      <td>16020.730469</td>\n",
       "    </tr>\n",
       "    <tr>\n",
       "      <th>2022-01-04</th>\n",
       "      <td>16202.580078</td>\n",
       "      <td>16036.519531</td>\n",
       "      <td>16069.799805</td>\n",
       "      <td>16152.610352</td>\n",
       "      <td>75187400</td>\n",
       "      <td>16152.610352</td>\n",
       "    </tr>\n",
       "    <tr>\n",
       "      <th>2022-01-05</th>\n",
       "      <td>16285.349609</td>\n",
       "      <td>16161.719727</td>\n",
       "      <td>16177.440430</td>\n",
       "      <td>16271.750000</td>\n",
       "      <td>68244500</td>\n",
       "      <td>16271.750000</td>\n",
       "    </tr>\n",
       "    <tr>\n",
       "      <th>2022-01-06</th>\n",
       "      <td>16156.559570</td>\n",
       "      <td>15988.629883</td>\n",
       "      <td>16076.160156</td>\n",
       "      <td>16052.030273</td>\n",
       "      <td>75756700</td>\n",
       "      <td>16052.030273</td>\n",
       "    </tr>\n",
       "    <tr>\n",
       "      <th>2022-01-07</th>\n",
       "      <td>16044.280273</td>\n",
       "      <td>15862.709961</td>\n",
       "      <td>15999.019531</td>\n",
       "      <td>15947.740234</td>\n",
       "      <td>74469300</td>\n",
       "      <td>15947.740234</td>\n",
       "    </tr>\n",
       "    <tr>\n",
       "      <th>...</th>\n",
       "      <td>...</td>\n",
       "      <td>...</td>\n",
       "      <td>...</td>\n",
       "      <td>...</td>\n",
       "      <td>...</td>\n",
       "      <td>...</td>\n",
       "    </tr>\n",
       "    <tr>\n",
       "      <th>2022-10-13</th>\n",
       "      <td>12379.240234</td>\n",
       "      <td>12000.429688</td>\n",
       "      <td>12114.230469</td>\n",
       "      <td>12355.580078</td>\n",
       "      <td>88446300</td>\n",
       "      <td>12355.580078</td>\n",
       "    </tr>\n",
       "    <tr>\n",
       "      <th>2022-10-14</th>\n",
       "      <td>12676.419922</td>\n",
       "      <td>12395.990234</td>\n",
       "      <td>12549.019531</td>\n",
       "      <td>12437.809570</td>\n",
       "      <td>82478300</td>\n",
       "      <td>12437.809570</td>\n",
       "    </tr>\n",
       "    <tr>\n",
       "      <th>2022-10-17</th>\n",
       "      <td>12716.809570</td>\n",
       "      <td>12398.049805</td>\n",
       "      <td>12467.540039</td>\n",
       "      <td>12649.030273</td>\n",
       "      <td>57195500</td>\n",
       "      <td>12649.030273</td>\n",
       "    </tr>\n",
       "    <tr>\n",
       "      <th>2022-10-18</th>\n",
       "      <td>12931.759766</td>\n",
       "      <td>12746.360352</td>\n",
       "      <td>12788.530273</td>\n",
       "      <td>12765.610352</td>\n",
       "      <td>65991900</td>\n",
       "      <td>12765.610352</td>\n",
       "    </tr>\n",
       "    <tr>\n",
       "      <th>2022-10-19</th>\n",
       "      <td>12819.110352</td>\n",
       "      <td>12708.129883</td>\n",
       "      <td>12817.629883</td>\n",
       "      <td>12751.089844</td>\n",
       "      <td>0</td>\n",
       "      <td>12751.089844</td>\n",
       "    </tr>\n",
       "  </tbody>\n",
       "</table>\n",
       "<p>206 rows × 6 columns</p>\n",
       "</div>"
      ],
      "text/plain": [
       "                    High           Low          Open         Close    Volume  \\\n",
       "Date                                                                           \n",
       "2022-01-03  16069.379883  15943.160156  15947.440430  16020.730469  56865800   \n",
       "2022-01-04  16202.580078  16036.519531  16069.799805  16152.610352  75187400   \n",
       "2022-01-05  16285.349609  16161.719727  16177.440430  16271.750000  68244500   \n",
       "2022-01-06  16156.559570  15988.629883  16076.160156  16052.030273  75756700   \n",
       "2022-01-07  16044.280273  15862.709961  15999.019531  15947.740234  74469300   \n",
       "...                  ...           ...           ...           ...       ...   \n",
       "2022-10-13  12379.240234  12000.429688  12114.230469  12355.580078  88446300   \n",
       "2022-10-14  12676.419922  12395.990234  12549.019531  12437.809570  82478300   \n",
       "2022-10-17  12716.809570  12398.049805  12467.540039  12649.030273  57195500   \n",
       "2022-10-18  12931.759766  12746.360352  12788.530273  12765.610352  65991900   \n",
       "2022-10-19  12819.110352  12708.129883  12817.629883  12751.089844         0   \n",
       "\n",
       "               Adj Close  \n",
       "Date                      \n",
       "2022-01-03  16020.730469  \n",
       "2022-01-04  16152.610352  \n",
       "2022-01-05  16271.750000  \n",
       "2022-01-06  16052.030273  \n",
       "2022-01-07  15947.740234  \n",
       "...                  ...  \n",
       "2022-10-13  12355.580078  \n",
       "2022-10-14  12437.809570  \n",
       "2022-10-17  12649.030273  \n",
       "2022-10-18  12765.610352  \n",
       "2022-10-19  12751.089844  \n",
       "\n",
       "[206 rows x 6 columns]"
      ]
     },
     "execution_count": 3,
     "metadata": {},
     "output_type": "execute_result"
    }
   ],
   "source": [
    "DAX"
   ]
  },
  {
   "cell_type": "code",
   "execution_count": 4,
   "id": "b3ee3bd5",
   "metadata": {},
   "outputs": [
    {
     "data": {
      "text/plain": [
       "Date\n",
       "2022-01-03    16020.730469\n",
       "2022-01-04    16152.610352\n",
       "2022-01-05    16271.750000\n",
       "2022-01-06    16052.030273\n",
       "2022-01-07    15947.740234\n",
       "Name: Close, dtype: float64"
      ]
     },
     "execution_count": 4,
     "metadata": {},
     "output_type": "execute_result"
    }
   ],
   "source": [
    "dax_close = DAX['Close']\n",
    "\n",
    "dax_close.head()"
   ]
  },
  {
   "cell_type": "code",
   "execution_count": 5,
   "id": "8ceb8ece",
   "metadata": {},
   "outputs": [],
   "source": [
    "%matplotlib inline\n",
    "import matplotlib.pyplot as plt\n",
    "import seaborn; seaborn.set()"
   ]
  },
  {
   "cell_type": "code",
   "execution_count": 6,
   "id": "6902ec5c",
   "metadata": {},
   "outputs": [
    {
     "data": {
      "text/plain": [
       "<AxesSubplot:xlabel='Date'>"
      ]
     },
     "execution_count": 6,
     "metadata": {},
     "output_type": "execute_result"
    },
    {
     "data": {
      "image/png": "[encoded data removed]",
      "text/plain": [
       "<Figure size 432x288 with 1 Axes>"
      ]
     },
     "metadata": {},
     "output_type": "display_data"
    }
   ],
   "source": [
    "dax_close.plot()"
   ]
  },
  {
   "cell_type": "code",
   "execution_count": 7,
   "id": "6ca09a87",
   "metadata": {},
   "outputs": [],
   "source": [
    "dax_close_bms = dax_close.asfreq('BMS')"
   ]
  },
  {
   "cell_type": "markdown",
   "id": "33c48ce0",
   "metadata": {},
   "source": [
    "#### Given below is the closing price on the first business day of the month."
   ]
  },
  {
   "cell_type": "code",
   "execution_count": 8,
   "id": "73d77cf3",
   "metadata": {},
   "outputs": [
    {
     "data": {
      "text/plain": [
       "Date\n",
       "2022-01-03    16020.730469\n",
       "2022-02-01    15619.389648\n",
       "2022-03-01    13904.849609\n",
       "2022-04-01    14446.480469\n",
       "2022-05-02    13939.070312\n",
       "2022-06-01    14340.469727\n",
       "2022-07-01    12813.030273\n",
       "2022-08-01    13479.629883\n",
       "2022-09-01    12630.230469\n",
       "2022-10-03    12209.480469\n",
       "Freq: BMS, Name: Close, dtype: float64"
      ]
     },
     "execution_count": 8,
     "metadata": {},
     "output_type": "execute_result"
    }
   ],
   "source": [
    "dax_close_bms"
   ]
  },
  {
   "cell_type": "code",
   "execution_count": 9,
   "id": "fa3b02d2",
   "metadata": {},
   "outputs": [],
   "source": [
    "dax_close_ms = dax_close.asfreq('MS')"
   ]
  },
  {
   "cell_type": "code",
   "execution_count": 10,
   "id": "3b0c9351",
   "metadata": {},
   "outputs": [
    {
     "data": {
      "text/plain": [
       "Date\n",
       "2022-02-01    15619.389648\n",
       "2022-03-01    13904.849609\n",
       "2022-04-01    14446.480469\n",
       "2022-05-01             NaN\n",
       "2022-06-01    14340.469727\n",
       "2022-07-01    12813.030273\n",
       "2022-08-01    13479.629883\n",
       "2022-09-01    12630.230469\n",
       "2022-10-01             NaN\n",
       "Freq: MS, Name: Close, dtype: float64"
      ]
     },
     "execution_count": 10,
     "metadata": {},
     "output_type": "execute_result"
    }
   ],
   "source": [
    "dax_close_ms"
   ]
  },
  {
   "cell_type": "code",
   "execution_count": 11,
   "id": "5ba952ca",
   "metadata": {},
   "outputs": [],
   "source": [
    "dax_close_ms_ffill = dax_close_ms.fillna(method=\"pad\")\n"
   ]
  },
  {
   "cell_type": "markdown",
   "id": "19c93c13",
   "metadata": {},
   "source": [
    "#### Given below is the closing price at the start of the month, along with filled from previous available values for non-working days"
   ]
  },
  {
   "cell_type": "code",
   "execution_count": 12,
   "id": "67ae7907",
   "metadata": {},
   "outputs": [
    {
     "data": {
      "text/plain": [
       "Date\n",
       "2022-02-01    15619.389648\n",
       "2022-03-01    13904.849609\n",
       "2022-04-01    14446.480469\n",
       "2022-05-01    14446.480469\n",
       "2022-06-01    14340.469727\n",
       "2022-07-01    12813.030273\n",
       "2022-08-01    13479.629883\n",
       "2022-09-01    12630.230469\n",
       "2022-10-01    12630.230469\n",
       "Freq: MS, Name: Close, dtype: float64"
      ]
     },
     "execution_count": 12,
     "metadata": {},
     "output_type": "execute_result"
    }
   ],
   "source": [
    "dax_close_ms_ffill"
   ]
  },
  {
   "cell_type": "markdown",
   "id": "9cfba88e",
   "metadata": {},
   "source": [
    "#### References - \n",
    "\n",
    "https://pandas.pydata.org/pandas-docs/stable/user_guide/timeseries.html\n",
    "\n",
    "https://jakevdp.github.io/PythonDataScienceHandbook/03.11-working-with-time-series.html"
   ]
  },
  {
   "cell_type": "markdown",
   "id": "490a7d71",
   "metadata": {},
   "source": [
    "#### Alternate method by Sir"
   ]
  },
  {
   "cell_type": "code",
   "execution_count": 14,
   "id": "1bf3a350",
   "metadata": {},
   "outputs": [
    {
     "data": {
      "text/plain": [
       "2022-01-01             NaN\n",
       "2022-02-01    15619.389648\n",
       "2022-03-01    13904.849609\n",
       "2022-04-01    14446.480469\n",
       "2022-05-01    14097.879883\n",
       "2022-06-01    14340.469727\n",
       "2022-07-01    12813.030273\n",
       "2022-08-01    13479.629883\n",
       "2022-09-01    12630.230469\n",
       "2022-10-01    12114.360352\n",
       "Freq: MS, Name: Close, dtype: float64"
      ]
     },
     "execution_count": 14,
     "metadata": {},
     "output_type": "execute_result"
    }
   ],
   "source": [
    "## Here we first need to get the data for all dates (re-index)\n",
    "timeindex = pd.date_range(\"2022-01-01\", \"2022-10-18\", freq=\"D\")\n",
    "s = DAX.reindex(timeindex)\n",
    "s.ffill(inplace=True)                      #forward fill \n",
    "s.resample(\"MS\").asfreq()['Close'] "
   ]
  },
  {
   "cell_type": "code",
   "execution_count": null,
   "id": "966bc627",
   "metadata": {},
   "outputs": [],
   "source": []
  }
 ],
 "metadata": {
  "hide_input": false,
  "kernelspec": {
   "display_name": "Python 3",
   "language": "python",
   "name": "python3"
  },
  "language_info": {
   "codemirror_mode": {
    "name": "ipython",
    "version": 3
   },
   "file_extension": ".py",
   "mimetype": "text/x-python",
   "name": "python",
   "nbconvert_exporter": "python",
   "pygments_lexer": "ipython3",
   "version": "3.8.8"
  }
 },
 "nbformat": 4,
 "nbformat_minor": 5
}
