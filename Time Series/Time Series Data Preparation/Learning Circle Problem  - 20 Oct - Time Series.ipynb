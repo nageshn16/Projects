{
 "cells": [
  {
   "cell_type": "code",
   "execution_count": 2,
   "id": "7afa5f40",
   "metadata": {},
   "outputs": [],
   "source": [
    "'''==================================\n",
    "Time Series Analysis and Forecasting - Q02 - 20/Oct\n",
    "=================================='''\n",
    "\n",
    "# Q2. Consider the Ford stock price data from Yahoo Finance.\n",
    "\n",
    "import pandas as pd\n",
    "\n",
    "from pandas_datareader import data\n",
    "start = pd.Timestamp('2017-1-1')\n",
    "end = pd.Timestamp('2021-12-31')\n",
    "f = data.DataReader(\"F\", 'yahoo', start, end)\n",
    "\n",
    "# 1. Is the variance of the trading volume relatively stable over time?\n",
    "# 2. On how many days did the stock close higher than it opened?"
   ]
  },
  {
   "cell_type": "code",
   "execution_count": 3,
   "id": "f5419a0d",
   "metadata": {},
   "outputs": [
    {
     "data": {
      "text/plain": [
       "DatetimeIndex(['2017-01-03', '2017-01-04', '2017-01-05', '2017-01-06',\n",
       "               '2017-01-09', '2017-01-10', '2017-01-11', '2017-01-12',\n",
       "               '2017-01-13', '2017-01-17',\n",
       "               ...\n",
       "               '2021-12-17', '2021-12-20', '2021-12-21', '2021-12-22',\n",
       "               '2021-12-23', '2021-12-27', '2021-12-28', '2021-12-29',\n",
       "               '2021-12-30', '2021-12-31'],\n",
       "              dtype='datetime64[ns]', name='Date', length=1259, freq=None)"
      ]
     },
     "execution_count": 3,
     "metadata": {},
     "output_type": "execute_result"
    }
   ],
   "source": [
    "f.index"
   ]
  },
  {
   "cell_type": "code",
   "execution_count": 4,
   "id": "55434246",
   "metadata": {},
   "outputs": [
    {
     "data": {
      "text/html": [
       "<div>\n",
       "<style scoped>\n",
       "    .dataframe tbody tr th:only-of-type {\n",
       "        vertical-align: middle;\n",
       "    }\n",
       "\n",
       "    .dataframe tbody tr th {\n",
       "        vertical-align: top;\n",
       "    }\n",
       "\n",
       "    .dataframe thead th {\n",
       "        text-align: right;\n",
       "    }\n",
       "</style>\n",
       "<table border=\"1\" class=\"dataframe\">\n",
       "  <thead>\n",
       "    <tr style=\"text-align: right;\">\n",
       "      <th></th>\n",
       "      <th>High</th>\n",
       "      <th>Low</th>\n",
       "      <th>Open</th>\n",
       "      <th>Close</th>\n",
       "      <th>Volume</th>\n",
       "      <th>Adj Close</th>\n",
       "    </tr>\n",
       "    <tr>\n",
       "      <th>Date</th>\n",
       "      <th></th>\n",
       "      <th></th>\n",
       "      <th></th>\n",
       "      <th></th>\n",
       "      <th></th>\n",
       "      <th></th>\n",
       "    </tr>\n",
       "  </thead>\n",
       "  <tbody>\n",
       "    <tr>\n",
       "      <th>2017-01-03</th>\n",
       "      <td>12.600000</td>\n",
       "      <td>12.130000</td>\n",
       "      <td>12.200000</td>\n",
       "      <td>12.590000</td>\n",
       "      <td>40510800.0</td>\n",
       "      <td>9.985723</td>\n",
       "    </tr>\n",
       "    <tr>\n",
       "      <th>2017-01-04</th>\n",
       "      <td>13.270000</td>\n",
       "      <td>12.740000</td>\n",
       "      <td>12.770000</td>\n",
       "      <td>13.170000</td>\n",
       "      <td>77638100.0</td>\n",
       "      <td>10.445745</td>\n",
       "    </tr>\n",
       "    <tr>\n",
       "      <th>2017-01-05</th>\n",
       "      <td>13.220000</td>\n",
       "      <td>12.630000</td>\n",
       "      <td>13.210000</td>\n",
       "      <td>12.770000</td>\n",
       "      <td>75628400.0</td>\n",
       "      <td>10.128489</td>\n",
       "    </tr>\n",
       "    <tr>\n",
       "      <th>2017-01-06</th>\n",
       "      <td>12.840000</td>\n",
       "      <td>12.640000</td>\n",
       "      <td>12.800000</td>\n",
       "      <td>12.760000</td>\n",
       "      <td>40315900.0</td>\n",
       "      <td>10.120557</td>\n",
       "    </tr>\n",
       "    <tr>\n",
       "      <th>2017-01-09</th>\n",
       "      <td>12.860000</td>\n",
       "      <td>12.630000</td>\n",
       "      <td>12.790000</td>\n",
       "      <td>12.630000</td>\n",
       "      <td>39438400.0</td>\n",
       "      <td>10.017447</td>\n",
       "    </tr>\n",
       "    <tr>\n",
       "      <th>...</th>\n",
       "      <td>...</td>\n",
       "      <td>...</td>\n",
       "      <td>...</td>\n",
       "      <td>...</td>\n",
       "      <td>...</td>\n",
       "      <td>...</td>\n",
       "    </tr>\n",
       "    <tr>\n",
       "      <th>2021-12-27</th>\n",
       "      <td>20.889999</td>\n",
       "      <td>20.100000</td>\n",
       "      <td>20.260000</td>\n",
       "      <td>20.799999</td>\n",
       "      <td>59651800.0</td>\n",
       "      <td>20.353836</td>\n",
       "    </tr>\n",
       "    <tr>\n",
       "      <th>2021-12-28</th>\n",
       "      <td>21.059999</td>\n",
       "      <td>20.590000</td>\n",
       "      <td>20.660000</td>\n",
       "      <td>20.760000</td>\n",
       "      <td>53020500.0</td>\n",
       "      <td>20.314695</td>\n",
       "    </tr>\n",
       "    <tr>\n",
       "      <th>2021-12-29</th>\n",
       "      <td>20.770000</td>\n",
       "      <td>20.450001</td>\n",
       "      <td>20.709999</td>\n",
       "      <td>20.559999</td>\n",
       "      <td>37883000.0</td>\n",
       "      <td>20.118986</td>\n",
       "    </tr>\n",
       "    <tr>\n",
       "      <th>2021-12-30</th>\n",
       "      <td>20.959999</td>\n",
       "      <td>20.469999</td>\n",
       "      <td>20.590000</td>\n",
       "      <td>20.469999</td>\n",
       "      <td>51470100.0</td>\n",
       "      <td>20.030914</td>\n",
       "    </tr>\n",
       "    <tr>\n",
       "      <th>2021-12-31</th>\n",
       "      <td>21.010000</td>\n",
       "      <td>20.459999</td>\n",
       "      <td>20.459999</td>\n",
       "      <td>20.770000</td>\n",
       "      <td>51899600.0</td>\n",
       "      <td>20.324480</td>\n",
       "    </tr>\n",
       "  </tbody>\n",
       "</table>\n",
       "<p>1259 rows × 6 columns</p>\n",
       "</div>"
      ],
      "text/plain": [
       "                 High        Low       Open      Close      Volume  Adj Close\n",
       "Date                                                                         \n",
       "2017-01-03  12.600000  12.130000  12.200000  12.590000  40510800.0   9.985723\n",
       "2017-01-04  13.270000  12.740000  12.770000  13.170000  77638100.0  10.445745\n",
       "2017-01-05  13.220000  12.630000  13.210000  12.770000  75628400.0  10.128489\n",
       "2017-01-06  12.840000  12.640000  12.800000  12.760000  40315900.0  10.120557\n",
       "2017-01-09  12.860000  12.630000  12.790000  12.630000  39438400.0  10.017447\n",
       "...               ...        ...        ...        ...         ...        ...\n",
       "2021-12-27  20.889999  20.100000  20.260000  20.799999  59651800.0  20.353836\n",
       "2021-12-28  21.059999  20.590000  20.660000  20.760000  53020500.0  20.314695\n",
       "2021-12-29  20.770000  20.450001  20.709999  20.559999  37883000.0  20.118986\n",
       "2021-12-30  20.959999  20.469999  20.590000  20.469999  51470100.0  20.030914\n",
       "2021-12-31  21.010000  20.459999  20.459999  20.770000  51899600.0  20.324480\n",
       "\n",
       "[1259 rows x 6 columns]"
      ]
     },
     "execution_count": 4,
     "metadata": {},
     "output_type": "execute_result"
    }
   ],
   "source": [
    "f"
   ]
  },
  {
   "cell_type": "code",
   "execution_count": 6,
   "id": "b3ee3bd5",
   "metadata": {},
   "outputs": [
    {
     "data": {
      "text/plain": [
       "Date\n",
       "2017-01-03    12.59\n",
       "2017-01-04    13.17\n",
       "2017-01-05    12.77\n",
       "2017-01-06    12.76\n",
       "2017-01-09    12.63\n",
       "Name: Close, dtype: float64"
      ]
     },
     "execution_count": 6,
     "metadata": {},
     "output_type": "execute_result"
    }
   ],
   "source": [
    "f_vol = f['Close']\n",
    "\n",
    "f_vol.head()"
   ]
  },
  {
   "cell_type": "code",
   "execution_count": 5,
   "id": "8ceb8ece",
   "metadata": {},
   "outputs": [],
   "source": [
    "%matplotlib inline\n",
    "import matplotlib.pyplot as plt\n",
    "import seaborn; seaborn.set()"
   ]
  },
  {
   "cell_type": "code",
   "execution_count": 7,
   "id": "6902ec5c",
   "metadata": {},
   "outputs": [
    {
     "data": {
      "text/plain": [
       "<AxesSubplot:xlabel='Date'>"
      ]
     },
     "execution_count": 7,
     "metadata": {},
     "output_type": "execute_result"
    },
    {
     "data": {
      "image/png": "[encoded data removed]",
      "text/plain": [
       "<Figure size 432x288 with 1 Axes>"
      ]
     },
     "metadata": {
      "needs_background": "light"
     },
     "output_type": "display_data"
    }
   ],
   "source": [
    "f_vol.plot()"
   ]
  },
  {
   "cell_type": "code",
   "execution_count": 7,
   "id": "6ca09a87",
   "metadata": {},
   "outputs": [],
   "source": [
    "dax_close_bms = dax_close.asfreq('BMS')"
   ]
  },
  {
   "cell_type": "markdown",
   "id": "33c48ce0",
   "metadata": {},
   "source": [
    "#### Given below is the closing price on the first business day of the month."
   ]
  },
  {
   "cell_type": "code",
   "execution_count": 8,
   "id": "73d77cf3",
   "metadata": {},
   "outputs": [
    {
     "data": {
      "text/plain": [
       "Date\n",
       "2022-01-03    16020.730469\n",
       "2022-02-01    15619.389648\n",
       "2022-03-01    13904.849609\n",
       "2022-04-01    14446.480469\n",
       "2022-05-02    13939.070312\n",
       "2022-06-01    14340.469727\n",
       "2022-07-01    12813.030273\n",
       "2022-08-01    13479.629883\n",
       "2022-09-01    12630.230469\n",
       "2022-10-03    12209.480469\n",
       "Freq: BMS, Name: Close, dtype: float64"
      ]
     },
     "execution_count": 8,
     "metadata": {},
     "output_type": "execute_result"
    }
   ],
   "source": [
    "dax_close_bms"
   ]
  },
  {
   "cell_type": "code",
   "execution_count": 9,
   "id": "fa3b02d2",
   "metadata": {},
   "outputs": [],
   "source": [
    "dax_close_ms = dax_close.asfreq('MS')"
   ]
  },
  {
   "cell_type": "code",
   "execution_count": 10,
   "id": "3b0c9351",
   "metadata": {},
   "outputs": [
    {
     "data": {
      "text/plain": [
       "Date\n",
       "2022-02-01    15619.389648\n",
       "2022-03-01    13904.849609\n",
       "2022-04-01    14446.480469\n",
       "2022-05-01             NaN\n",
       "2022-06-01    14340.469727\n",
       "2022-07-01    12813.030273\n",
       "2022-08-01    13479.629883\n",
       "2022-09-01    12630.230469\n",
       "2022-10-01             NaN\n",
       "Freq: MS, Name: Close, dtype: float64"
      ]
     },
     "execution_count": 10,
     "metadata": {},
     "output_type": "execute_result"
    }
   ],
   "source": [
    "dax_close_ms"
   ]
  },
  {
   "cell_type": "code",
   "execution_count": 11,
   "id": "5ba952ca",
   "metadata": {},
   "outputs": [],
   "source": [
    "dax_close_ms_ffill = dax_close_ms.fillna(method=\"pad\")\n"
   ]
  },
  {
   "cell_type": "markdown",
   "id": "19c93c13",
   "metadata": {},
   "source": [
    "#### Given below is the closing price at the start of the month, along with filled from previous available values for non-working days"
   ]
  },
  {
   "cell_type": "code",
   "execution_count": 12,
   "id": "67ae7907",
   "metadata": {},
   "outputs": [
    {
     "data": {
      "text/plain": [
       "Date\n",
       "2022-02-01    15619.389648\n",
       "2022-03-01    13904.849609\n",
       "2022-04-01    14446.480469\n",
       "2022-05-01    14446.480469\n",
       "2022-06-01    14340.469727\n",
       "2022-07-01    12813.030273\n",
       "2022-08-01    13479.629883\n",
       "2022-09-01    12630.230469\n",
       "2022-10-01    12630.230469\n",
       "Freq: MS, Name: Close, dtype: float64"
      ]
     },
     "execution_count": 12,
     "metadata": {},
     "output_type": "execute_result"
    }
   ],
   "source": [
    "dax_close_ms_ffill"
   ]
  },
  {
   "cell_type": "markdown",
   "id": "9cfba88e",
   "metadata": {},
   "source": [
    "#### References - \n",
    "\n",
    "https://pandas.pydata.org/pandas-docs/stable/user_guide/timeseries.html\n",
    "\n",
    "https://jakevdp.github.io/PythonDataScienceHandbook/03.11-working-with-time-series.html"
   ]
  },
  {
   "cell_type": "markdown",
   "id": "490a7d71",
   "metadata": {},
   "source": [
    "#### Alternate method by Sir"
   ]
  },
  {
   "cell_type": "code",
   "execution_count": 14,
   "id": "1bf3a350",
   "metadata": {},
   "outputs": [
    {
     "data": {
      "text/plain": [
       "2022-01-01             NaN\n",
       "2022-02-01    15619.389648\n",
       "2022-03-01    13904.849609\n",
       "2022-04-01    14446.480469\n",
       "2022-05-01    14097.879883\n",
       "2022-06-01    14340.469727\n",
       "2022-07-01    12813.030273\n",
       "2022-08-01    13479.629883\n",
       "2022-09-01    12630.230469\n",
       "2022-10-01    12114.360352\n",
       "Freq: MS, Name: Close, dtype: float64"
      ]
     },
     "execution_count": 14,
     "metadata": {},
     "output_type": "execute_result"
    }
   ],
   "source": [
    "## Here we first need to get the data for all dates (re-index)\n",
    "timeindex = pd.date_range(\"2022-01-01\", \"2022-10-18\", freq=\"D\")\n",
    "s = DAX.reindex(timeindex)\n",
    "s.ffill(inplace=True)                      #forward fill \n",
    "s.resample(\"MS\").asfreq()['Close'] "
   ]
  },
  {
   "cell_type": "code",
   "execution_count": null,
   "id": "966bc627",
   "metadata": {},
   "outputs": [],
   "source": []
  }
 ],
 "metadata": {
  "hide_input": false,
  "kernelspec": {
   "display_name": "Python 3",
   "language": "python",
   "name": "python3"
  },
  "language_info": {
   "codemirror_mode": {
    "name": "ipython",
    "version": 3
   },
   "file_extension": ".py",
   "mimetype": "text/x-python",
   "name": "python",
   "nbconvert_exporter": "python",
   "pygments_lexer": "ipython3",
   "version": "3.8.8"
  }
 },
 "nbformat": 4,
 "nbformat_minor": 5
}
