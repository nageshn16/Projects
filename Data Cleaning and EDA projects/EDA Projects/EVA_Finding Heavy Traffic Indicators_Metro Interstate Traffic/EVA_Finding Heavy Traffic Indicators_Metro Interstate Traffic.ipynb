{
 "cells": [
  {
   "cell_type": "markdown",
   "metadata": {},
   "source": [
    "### Finding Heavy Traffic Indicators  of Traffic Data (I-94 Interstate Highway) via Exploratory Data Visualization"
   ]
  },
  {
   "cell_type": "markdown",
   "metadata": {},
   "source": [
    "#### Project Introduction and Objective"
   ]
  },
  {
   "cell_type": "raw",
   "metadata": {},
   "source": [
    "The project is about Traffic Data on the Interstate State Highway I-94. The goal is to determine key indicators of heave traffic on the designated route. \n",
    "   Through Visualization, we will figure out the key features of the dataset and their relationships between each other as well as the traffic indicator"
   ]
  },
  {
   "cell_type": "code",
   "execution_count": 1,
   "metadata": {},
   "outputs": [],
   "source": [
    "# Importing the key libraries - Pandas, Matplotlib and Seaborn\n",
    "\n",
    "import pandas as pd\n",
    "import matplotlib.pyplot as plt\n",
    "import seaborn as sns"
   ]
  },
  {
   "cell_type": "code",
   "execution_count": 2,
   "metadata": {},
   "outputs": [],
   "source": [
    "df_traffic = pd.read_csv('Metro_Interstate_Traffic_Volume.csv')"
   ]
  },
  {
   "cell_type": "code",
   "execution_count": 3,
   "metadata": {},
   "outputs": [
    {
     "name": "stdout",
     "output_type": "stream",
     "text": [
      "E̲x̲p̲l̲o̲r̲i̲n̲g̲ ̲t̲h̲e̲ ̲F̲i̲r̲s̲t̲ ̲F̲i̲v̲e̲ ̲R̲o̲w̲s\n",
      "\n",
      "\n"
     ]
    },
    {
     "data": {
      "text/html": [
       "<div>\n",
       "<style scoped>\n",
       "    .dataframe tbody tr th:only-of-type {\n",
       "        vertical-align: middle;\n",
       "    }\n",
       "\n",
       "    .dataframe tbody tr th {\n",
       "        vertical-align: top;\n",
       "    }\n",
       "\n",
       "    .dataframe thead th {\n",
       "        text-align: right;\n",
       "    }\n",
       "</style>\n",
       "<table border=\"1\" class=\"dataframe\">\n",
       "  <thead>\n",
       "    <tr style=\"text-align: right;\">\n",
       "      <th></th>\n",
       "      <th>holiday</th>\n",
       "      <th>temp</th>\n",
       "      <th>rain_1h</th>\n",
       "      <th>snow_1h</th>\n",
       "      <th>clouds_all</th>\n",
       "      <th>weather_main</th>\n",
       "      <th>weather_description</th>\n",
       "      <th>date_time</th>\n",
       "      <th>traffic_volume</th>\n",
       "    </tr>\n",
       "  </thead>\n",
       "  <tbody>\n",
       "    <tr>\n",
       "      <th>0</th>\n",
       "      <td>None</td>\n",
       "      <td>288.28</td>\n",
       "      <td>0.0</td>\n",
       "      <td>0.0</td>\n",
       "      <td>40</td>\n",
       "      <td>Clouds</td>\n",
       "      <td>scattered clouds</td>\n",
       "      <td>2012-10-02 09:00:00</td>\n",
       "      <td>5545</td>\n",
       "    </tr>\n",
       "    <tr>\n",
       "      <th>1</th>\n",
       "      <td>None</td>\n",
       "      <td>289.36</td>\n",
       "      <td>0.0</td>\n",
       "      <td>0.0</td>\n",
       "      <td>75</td>\n",
       "      <td>Clouds</td>\n",
       "      <td>broken clouds</td>\n",
       "      <td>2012-10-02 10:00:00</td>\n",
       "      <td>4516</td>\n",
       "    </tr>\n",
       "    <tr>\n",
       "      <th>2</th>\n",
       "      <td>None</td>\n",
       "      <td>289.58</td>\n",
       "      <td>0.0</td>\n",
       "      <td>0.0</td>\n",
       "      <td>90</td>\n",
       "      <td>Clouds</td>\n",
       "      <td>overcast clouds</td>\n",
       "      <td>2012-10-02 11:00:00</td>\n",
       "      <td>4767</td>\n",
       "    </tr>\n",
       "    <tr>\n",
       "      <th>3</th>\n",
       "      <td>None</td>\n",
       "      <td>290.13</td>\n",
       "      <td>0.0</td>\n",
       "      <td>0.0</td>\n",
       "      <td>90</td>\n",
       "      <td>Clouds</td>\n",
       "      <td>overcast clouds</td>\n",
       "      <td>2012-10-02 12:00:00</td>\n",
       "      <td>5026</td>\n",
       "    </tr>\n",
       "    <tr>\n",
       "      <th>4</th>\n",
       "      <td>None</td>\n",
       "      <td>291.14</td>\n",
       "      <td>0.0</td>\n",
       "      <td>0.0</td>\n",
       "      <td>75</td>\n",
       "      <td>Clouds</td>\n",
       "      <td>broken clouds</td>\n",
       "      <td>2012-10-02 13:00:00</td>\n",
       "      <td>4918</td>\n",
       "    </tr>\n",
       "  </tbody>\n",
       "</table>\n",
       "</div>"
      ],
      "text/plain": [
       "  holiday    temp  rain_1h  snow_1h  clouds_all weather_main  \\\n",
       "0    None  288.28      0.0      0.0          40       Clouds   \n",
       "1    None  289.36      0.0      0.0          75       Clouds   \n",
       "2    None  289.58      0.0      0.0          90       Clouds   \n",
       "3    None  290.13      0.0      0.0          90       Clouds   \n",
       "4    None  291.14      0.0      0.0          75       Clouds   \n",
       "\n",
       "  weather_description            date_time  traffic_volume  \n",
       "0    scattered clouds  2012-10-02 09:00:00            5545  \n",
       "1       broken clouds  2012-10-02 10:00:00            4516  \n",
       "2     overcast clouds  2012-10-02 11:00:00            4767  \n",
       "3     overcast clouds  2012-10-02 12:00:00            5026  \n",
       "4       broken clouds  2012-10-02 13:00:00            4918  "
      ]
     },
     "execution_count": 3,
     "metadata": {},
     "output_type": "execute_result"
    }
   ],
   "source": [
    "print(\"\\u0332\".join('Exploring the First Five Rows'))\n",
    "print('\\n')\n",
    "df_traffic.head()\n",
    "\n"
   ]
  },
  {
   "cell_type": "code",
   "execution_count": 4,
   "metadata": {},
   "outputs": [
    {
     "name": "stdout",
     "output_type": "stream",
     "text": [
      "\n",
      "\n",
      "E̲x̲p̲l̲o̲r̲i̲n̲g̲ ̲t̲h̲e̲ ̲L̲a̲s̲t̲ ̲F̲i̲v̲e̲ ̲R̲o̲w̲s\n",
      "\n",
      "\n"
     ]
    },
    {
     "data": {
      "text/html": [
       "<div>\n",
       "<style scoped>\n",
       "    .dataframe tbody tr th:only-of-type {\n",
       "        vertical-align: middle;\n",
       "    }\n",
       "\n",
       "    .dataframe tbody tr th {\n",
       "        vertical-align: top;\n",
       "    }\n",
       "\n",
       "    .dataframe thead th {\n",
       "        text-align: right;\n",
       "    }\n",
       "</style>\n",
       "<table border=\"1\" class=\"dataframe\">\n",
       "  <thead>\n",
       "    <tr style=\"text-align: right;\">\n",
       "      <th></th>\n",
       "      <th>holiday</th>\n",
       "      <th>temp</th>\n",
       "      <th>rain_1h</th>\n",
       "      <th>snow_1h</th>\n",
       "      <th>clouds_all</th>\n",
       "      <th>weather_main</th>\n",
       "      <th>weather_description</th>\n",
       "      <th>date_time</th>\n",
       "      <th>traffic_volume</th>\n",
       "    </tr>\n",
       "  </thead>\n",
       "  <tbody>\n",
       "    <tr>\n",
       "      <th>48199</th>\n",
       "      <td>None</td>\n",
       "      <td>283.45</td>\n",
       "      <td>0.0</td>\n",
       "      <td>0.0</td>\n",
       "      <td>75</td>\n",
       "      <td>Clouds</td>\n",
       "      <td>broken clouds</td>\n",
       "      <td>2018-09-30 19:00:00</td>\n",
       "      <td>3543</td>\n",
       "    </tr>\n",
       "    <tr>\n",
       "      <th>48200</th>\n",
       "      <td>None</td>\n",
       "      <td>282.76</td>\n",
       "      <td>0.0</td>\n",
       "      <td>0.0</td>\n",
       "      <td>90</td>\n",
       "      <td>Clouds</td>\n",
       "      <td>overcast clouds</td>\n",
       "      <td>2018-09-30 20:00:00</td>\n",
       "      <td>2781</td>\n",
       "    </tr>\n",
       "    <tr>\n",
       "      <th>48201</th>\n",
       "      <td>None</td>\n",
       "      <td>282.73</td>\n",
       "      <td>0.0</td>\n",
       "      <td>0.0</td>\n",
       "      <td>90</td>\n",
       "      <td>Thunderstorm</td>\n",
       "      <td>proximity thunderstorm</td>\n",
       "      <td>2018-09-30 21:00:00</td>\n",
       "      <td>2159</td>\n",
       "    </tr>\n",
       "    <tr>\n",
       "      <th>48202</th>\n",
       "      <td>None</td>\n",
       "      <td>282.09</td>\n",
       "      <td>0.0</td>\n",
       "      <td>0.0</td>\n",
       "      <td>90</td>\n",
       "      <td>Clouds</td>\n",
       "      <td>overcast clouds</td>\n",
       "      <td>2018-09-30 22:00:00</td>\n",
       "      <td>1450</td>\n",
       "    </tr>\n",
       "    <tr>\n",
       "      <th>48203</th>\n",
       "      <td>None</td>\n",
       "      <td>282.12</td>\n",
       "      <td>0.0</td>\n",
       "      <td>0.0</td>\n",
       "      <td>90</td>\n",
       "      <td>Clouds</td>\n",
       "      <td>overcast clouds</td>\n",
       "      <td>2018-09-30 23:00:00</td>\n",
       "      <td>954</td>\n",
       "    </tr>\n",
       "  </tbody>\n",
       "</table>\n",
       "</div>"
      ],
      "text/plain": [
       "      holiday    temp  rain_1h  snow_1h  clouds_all  weather_main  \\\n",
       "48199    None  283.45      0.0      0.0          75        Clouds   \n",
       "48200    None  282.76      0.0      0.0          90        Clouds   \n",
       "48201    None  282.73      0.0      0.0          90  Thunderstorm   \n",
       "48202    None  282.09      0.0      0.0          90        Clouds   \n",
       "48203    None  282.12      0.0      0.0          90        Clouds   \n",
       "\n",
       "          weather_description            date_time  traffic_volume  \n",
       "48199           broken clouds  2018-09-30 19:00:00            3543  \n",
       "48200         overcast clouds  2018-09-30 20:00:00            2781  \n",
       "48201  proximity thunderstorm  2018-09-30 21:00:00            2159  \n",
       "48202         overcast clouds  2018-09-30 22:00:00            1450  \n",
       "48203         overcast clouds  2018-09-30 23:00:00             954  "
      ]
     },
     "execution_count": 4,
     "metadata": {},
     "output_type": "execute_result"
    }
   ],
   "source": [
    "print('\\n')\n",
    "print(\"\\u0332\".join('Exploring the Last Five Rows'))\n",
    "print('\\n')\n",
    "df_traffic.tail()"
   ]
  },
  {
   "cell_type": "markdown",
   "metadata": {},
   "source": [
    "#### Total data corresponds to 48202 hours and approx. 2000 plus days"
   ]
  },
  {
   "cell_type": "code",
   "execution_count": 5,
   "metadata": {},
   "outputs": [
    {
     "data": {
      "text/html": [
       "<div>\n",
       "<style scoped>\n",
       "    .dataframe tbody tr th:only-of-type {\n",
       "        vertical-align: middle;\n",
       "    }\n",
       "\n",
       "    .dataframe tbody tr th {\n",
       "        vertical-align: top;\n",
       "    }\n",
       "\n",
       "    .dataframe thead th {\n",
       "        text-align: right;\n",
       "    }\n",
       "</style>\n",
       "<table border=\"1\" class=\"dataframe\">\n",
       "  <thead>\n",
       "    <tr style=\"text-align: right;\">\n",
       "      <th></th>\n",
       "      <th>holiday</th>\n",
       "      <th>temp</th>\n",
       "      <th>rain_1h</th>\n",
       "      <th>snow_1h</th>\n",
       "      <th>clouds_all</th>\n",
       "      <th>weather_main</th>\n",
       "      <th>weather_description</th>\n",
       "      <th>date_time</th>\n",
       "      <th>traffic_volume</th>\n",
       "    </tr>\n",
       "  </thead>\n",
       "  <tbody>\n",
       "    <tr>\n",
       "      <th>0</th>\n",
       "      <td>None</td>\n",
       "      <td>288.28</td>\n",
       "      <td>0.0</td>\n",
       "      <td>0.0</td>\n",
       "      <td>40</td>\n",
       "      <td>Clouds</td>\n",
       "      <td>scattered clouds</td>\n",
       "      <td>2012-10-02 09:00:00</td>\n",
       "      <td>5545</td>\n",
       "    </tr>\n",
       "    <tr>\n",
       "      <th>1</th>\n",
       "      <td>None</td>\n",
       "      <td>289.36</td>\n",
       "      <td>0.0</td>\n",
       "      <td>0.0</td>\n",
       "      <td>75</td>\n",
       "      <td>Clouds</td>\n",
       "      <td>broken clouds</td>\n",
       "      <td>2012-10-02 10:00:00</td>\n",
       "      <td>4516</td>\n",
       "    </tr>\n",
       "    <tr>\n",
       "      <th>2</th>\n",
       "      <td>None</td>\n",
       "      <td>289.58</td>\n",
       "      <td>0.0</td>\n",
       "      <td>0.0</td>\n",
       "      <td>90</td>\n",
       "      <td>Clouds</td>\n",
       "      <td>overcast clouds</td>\n",
       "      <td>2012-10-02 11:00:00</td>\n",
       "      <td>4767</td>\n",
       "    </tr>\n",
       "    <tr>\n",
       "      <th>3</th>\n",
       "      <td>None</td>\n",
       "      <td>290.13</td>\n",
       "      <td>0.0</td>\n",
       "      <td>0.0</td>\n",
       "      <td>90</td>\n",
       "      <td>Clouds</td>\n",
       "      <td>overcast clouds</td>\n",
       "      <td>2012-10-02 12:00:00</td>\n",
       "      <td>5026</td>\n",
       "    </tr>\n",
       "    <tr>\n",
       "      <th>4</th>\n",
       "      <td>None</td>\n",
       "      <td>291.14</td>\n",
       "      <td>0.0</td>\n",
       "      <td>0.0</td>\n",
       "      <td>75</td>\n",
       "      <td>Clouds</td>\n",
       "      <td>broken clouds</td>\n",
       "      <td>2012-10-02 13:00:00</td>\n",
       "      <td>4918</td>\n",
       "    </tr>\n",
       "  </tbody>\n",
       "</table>\n",
       "</div>"
      ],
      "text/plain": [
       "  holiday    temp  rain_1h  snow_1h  clouds_all weather_main  \\\n",
       "0    None  288.28      0.0      0.0          40       Clouds   \n",
       "1    None  289.36      0.0      0.0          75       Clouds   \n",
       "2    None  289.58      0.0      0.0          90       Clouds   \n",
       "3    None  290.13      0.0      0.0          90       Clouds   \n",
       "4    None  291.14      0.0      0.0          75       Clouds   \n",
       "\n",
       "  weather_description            date_time  traffic_volume  \n",
       "0    scattered clouds  2012-10-02 09:00:00            5545  \n",
       "1       broken clouds  2012-10-02 10:00:00            4516  \n",
       "2     overcast clouds  2012-10-02 11:00:00            4767  \n",
       "3     overcast clouds  2012-10-02 12:00:00            5026  \n",
       "4       broken clouds  2012-10-02 13:00:00            4918  "
      ]
     },
     "execution_count": 5,
     "metadata": {},
     "output_type": "execute_result"
    }
   ],
   "source": [
    "df_traffic.head()"
   ]
  },
  {
   "cell_type": "code",
   "execution_count": 6,
   "metadata": {},
   "outputs": [
    {
     "data": {
      "text/plain": [
       "None                         48143\n",
       "Labor Day                        7\n",
       "Thanksgiving Day                 6\n",
       "New Years Day                    6\n",
       "Martin Luther King Jr Day        6\n",
       "Christmas Day                    6\n",
       "Columbus Day                     5\n",
       "State Fair                       5\n",
       "Independence Day                 5\n",
       "Veterans Day                     5\n",
       "Washingtons Birthday             5\n",
       "Memorial Day                     5\n",
       "Name: holiday, dtype: int64"
      ]
     },
     "execution_count": 6,
     "metadata": {},
     "output_type": "execute_result"
    }
   ],
   "source": [
    "df_traffic.holiday.value_counts()"
   ]
  },
  {
   "cell_type": "code",
   "execution_count": 7,
   "metadata": {
    "scrolled": true
   },
   "outputs": [
    {
     "data": {
      "text/plain": [
       "None                         48143\n",
       "Labor Day                        7\n",
       "Thanksgiving Day                 6\n",
       "New Years Day                    6\n",
       "Martin Luther King Jr Day        6\n",
       "Christmas Day                    6\n",
       "Columbus Day                     5\n",
       "State Fair                       5\n",
       "Independence Day                 5\n",
       "Veterans Day                     5\n",
       "Washingtons Birthday             5\n",
       "Memorial Day                     5\n",
       "Name: holiday, dtype: int64"
      ]
     },
     "execution_count": 7,
     "metadata": {},
     "output_type": "execute_result"
    }
   ],
   "source": [
    "df_traffic.holiday.value_counts()"
   ]
  },
  {
   "cell_type": "code",
   "execution_count": 8,
   "metadata": {},
   "outputs": [
    {
     "data": {
      "text/plain": [
       "sky is clear                           11665\n",
       "mist                                    5950\n",
       "overcast clouds                         5081\n",
       "broken clouds                           4666\n",
       "scattered clouds                        3461\n",
       "light rain                              3372\n",
       "few clouds                              1956\n",
       "light snow                              1946\n",
       "Sky is Clear                            1726\n",
       "moderate rain                           1664\n",
       "haze                                    1360\n",
       "light intensity drizzle                 1100\n",
       "fog                                      912\n",
       "proximity thunderstorm                   673\n",
       "drizzle                                  651\n",
       "heavy snow                               616\n",
       "heavy intensity rain                     467\n",
       "snow                                     293\n",
       "proximity shower rain                    136\n",
       "thunderstorm                             125\n",
       "heavy intensity drizzle                   64\n",
       "thunderstorm with heavy rain              63\n",
       "thunderstorm with light rain              54\n",
       "proximity thunderstorm with rain          52\n",
       "thunderstorm with rain                    37\n",
       "smoke                                     20\n",
       "very heavy rain                           18\n",
       "thunderstorm with light drizzle           15\n",
       "light intensity shower rain               13\n",
       "proximity thunderstorm with drizzle       13\n",
       "light shower snow                         11\n",
       "light rain and snow                        6\n",
       "shower drizzle                             6\n",
       "SQUALLS                                    4\n",
       "sleet                                      3\n",
       "thunderstorm with drizzle                  2\n",
       "freezing rain                              2\n",
       "shower snow                                1\n",
       "Name: weather_description, dtype: int64"
      ]
     },
     "execution_count": 8,
     "metadata": {},
     "output_type": "execute_result"
    }
   ],
   "source": [
    "df_traffic.weather_description.value_counts()"
   ]
  },
  {
   "cell_type": "code",
   "execution_count": 9,
   "metadata": {},
   "outputs": [
    {
     "data": {
      "text/plain": [
       "light rain                     3372\n",
       "moderate rain                  1664\n",
       "heavy intensity rain            467\n",
       "proximity shower rain           136\n",
       "very heavy rain                  18\n",
       "light intensity shower rain      13\n",
       "freezing rain                     2\n",
       "Name: weather_description, dtype: int64"
      ]
     },
     "execution_count": 9,
     "metadata": {},
     "output_type": "execute_result"
    }
   ],
   "source": [
    "df_traffic[df_traffic['weather_main'] == 'Rain']['weather_description'].value_counts() "
   ]
  },
  {
   "cell_type": "code",
   "execution_count": 10,
   "metadata": {},
   "outputs": [
    {
     "data": {
      "text/plain": [
       "['Clouds',\n",
       " 'Clear',\n",
       " 'Mist',\n",
       " 'Rain',\n",
       " 'Snow',\n",
       " 'Drizzle',\n",
       " 'Haze',\n",
       " 'Thunderstorm',\n",
       " 'Fog',\n",
       " 'Smoke',\n",
       " 'Squall']"
      ]
     },
     "execution_count": 10,
     "metadata": {},
     "output_type": "execute_result"
    }
   ],
   "source": [
    "df_traffic_main_indicators = df_traffic['weather_main'].value_counts().index\n",
    "df_traffic_main_indicators = list(df_traffic_main_indicators)\n",
    "df_traffic_main_indicators"
   ]
  },
  {
   "cell_type": "code",
   "execution_count": 11,
   "metadata": {},
   "outputs": [
    {
     "name": "stdout",
     "output_type": "stream",
     "text": [
      "Main Weather Indicator - Clouds\n",
      "Descriptions under the main Indicator\n",
      "\n",
      "\n",
      "['overcast clouds', 'broken clouds', 'scattered clouds', 'few clouds']\n",
      "\n",
      "\n",
      "\n",
      "\n",
      "Main Weather Indicator - Clear\n",
      "Descriptions under the main Indicator\n",
      "\n",
      "\n",
      "['sky is clear', 'Sky is Clear']\n",
      "\n",
      "\n",
      "\n",
      "\n",
      "Main Weather Indicator - Mist\n",
      "Descriptions under the main Indicator\n",
      "\n",
      "\n",
      "['mist']\n",
      "\n",
      "\n",
      "\n",
      "\n",
      "Main Weather Indicator - Rain\n",
      "Descriptions under the main Indicator\n",
      "\n",
      "\n",
      "['light rain', 'moderate rain', 'heavy intensity rain', 'proximity shower rain', 'very heavy rain', 'light intensity shower rain', 'freezing rain']\n",
      "\n",
      "\n",
      "\n",
      "\n",
      "Main Weather Indicator - Snow\n",
      "Descriptions under the main Indicator\n",
      "\n",
      "\n",
      "['light snow', 'heavy snow', 'snow', 'light shower snow', 'light rain and snow', 'sleet', 'shower snow']\n",
      "\n",
      "\n",
      "\n",
      "\n",
      "Main Weather Indicator - Drizzle\n",
      "Descriptions under the main Indicator\n",
      "\n",
      "\n",
      "['light intensity drizzle', 'drizzle', 'heavy intensity drizzle', 'shower drizzle']\n",
      "\n",
      "\n",
      "\n",
      "\n",
      "Main Weather Indicator - Haze\n",
      "Descriptions under the main Indicator\n",
      "\n",
      "\n",
      "['haze']\n",
      "\n",
      "\n",
      "\n",
      "\n",
      "Main Weather Indicator - Thunderstorm\n",
      "Descriptions under the main Indicator\n",
      "\n",
      "\n",
      "['proximity thunderstorm', 'thunderstorm', 'thunderstorm with heavy rain', 'thunderstorm with light rain', 'proximity thunderstorm with rain', 'thunderstorm with rain', 'thunderstorm with light drizzle', 'proximity thunderstorm with drizzle', 'thunderstorm with drizzle']\n",
      "\n",
      "\n",
      "\n",
      "\n",
      "Main Weather Indicator - Fog\n",
      "Descriptions under the main Indicator\n",
      "\n",
      "\n",
      "['fog']\n",
      "\n",
      "\n",
      "\n",
      "\n",
      "Main Weather Indicator - Smoke\n",
      "Descriptions under the main Indicator\n",
      "\n",
      "\n",
      "['smoke']\n",
      "\n",
      "\n",
      "\n",
      "\n",
      "Main Weather Indicator - Squall\n",
      "Descriptions under the main Indicator\n",
      "\n",
      "\n",
      "['SQUALLS']\n",
      "\n",
      "\n",
      "\n",
      "\n"
     ]
    }
   ],
   "source": [
    "## Printing sub-descriptions for each type of weather\n",
    "\n",
    "for i in df_traffic_main_indicators:\n",
    "    print('Main Weather Indicator -', i)\n",
    "    print('Descriptions under the main Indicator')\n",
    "    print('\\n')\n",
    "    sub_indicators = df_traffic[df_traffic['weather_main'] == i]['weather_description'].value_counts()\n",
    "    print(list(sub_indicators.index))\n",
    "    print('\\n')\n",
    "    print('\\n')"
   ]
  },
  {
   "cell_type": "code",
   "execution_count": 12,
   "metadata": {},
   "outputs": [
    {
     "data": {
      "text/html": [
       "<div>\n",
       "<style scoped>\n",
       "    .dataframe tbody tr th:only-of-type {\n",
       "        vertical-align: middle;\n",
       "    }\n",
       "\n",
       "    .dataframe tbody tr th {\n",
       "        vertical-align: top;\n",
       "    }\n",
       "\n",
       "    .dataframe thead th {\n",
       "        text-align: right;\n",
       "    }\n",
       "</style>\n",
       "<table border=\"1\" class=\"dataframe\">\n",
       "  <thead>\n",
       "    <tr style=\"text-align: right;\">\n",
       "      <th></th>\n",
       "      <th>holiday</th>\n",
       "      <th>temp</th>\n",
       "      <th>rain_1h</th>\n",
       "      <th>snow_1h</th>\n",
       "      <th>clouds_all</th>\n",
       "      <th>weather_main</th>\n",
       "      <th>weather_description</th>\n",
       "      <th>date_time</th>\n",
       "      <th>traffic_volume</th>\n",
       "    </tr>\n",
       "  </thead>\n",
       "  <tbody>\n",
       "    <tr>\n",
       "      <th>0</th>\n",
       "      <td>None</td>\n",
       "      <td>288.28</td>\n",
       "      <td>0.0</td>\n",
       "      <td>0.0</td>\n",
       "      <td>40</td>\n",
       "      <td>Clouds</td>\n",
       "      <td>scattered clouds</td>\n",
       "      <td>2012-10-02 09:00:00</td>\n",
       "      <td>5545</td>\n",
       "    </tr>\n",
       "    <tr>\n",
       "      <th>1</th>\n",
       "      <td>None</td>\n",
       "      <td>289.36</td>\n",
       "      <td>0.0</td>\n",
       "      <td>0.0</td>\n",
       "      <td>75</td>\n",
       "      <td>Clouds</td>\n",
       "      <td>broken clouds</td>\n",
       "      <td>2012-10-02 10:00:00</td>\n",
       "      <td>4516</td>\n",
       "    </tr>\n",
       "    <tr>\n",
       "      <th>2</th>\n",
       "      <td>None</td>\n",
       "      <td>289.58</td>\n",
       "      <td>0.0</td>\n",
       "      <td>0.0</td>\n",
       "      <td>90</td>\n",
       "      <td>Clouds</td>\n",
       "      <td>overcast clouds</td>\n",
       "      <td>2012-10-02 11:00:00</td>\n",
       "      <td>4767</td>\n",
       "    </tr>\n",
       "    <tr>\n",
       "      <th>3</th>\n",
       "      <td>None</td>\n",
       "      <td>290.13</td>\n",
       "      <td>0.0</td>\n",
       "      <td>0.0</td>\n",
       "      <td>90</td>\n",
       "      <td>Clouds</td>\n",
       "      <td>overcast clouds</td>\n",
       "      <td>2012-10-02 12:00:00</td>\n",
       "      <td>5026</td>\n",
       "    </tr>\n",
       "    <tr>\n",
       "      <th>4</th>\n",
       "      <td>None</td>\n",
       "      <td>291.14</td>\n",
       "      <td>0.0</td>\n",
       "      <td>0.0</td>\n",
       "      <td>75</td>\n",
       "      <td>Clouds</td>\n",
       "      <td>broken clouds</td>\n",
       "      <td>2012-10-02 13:00:00</td>\n",
       "      <td>4918</td>\n",
       "    </tr>\n",
       "  </tbody>\n",
       "</table>\n",
       "</div>"
      ],
      "text/plain": [
       "  holiday    temp  rain_1h  snow_1h  clouds_all weather_main  \\\n",
       "0    None  288.28      0.0      0.0          40       Clouds   \n",
       "1    None  289.36      0.0      0.0          75       Clouds   \n",
       "2    None  289.58      0.0      0.0          90       Clouds   \n",
       "3    None  290.13      0.0      0.0          90       Clouds   \n",
       "4    None  291.14      0.0      0.0          75       Clouds   \n",
       "\n",
       "  weather_description            date_time  traffic_volume  \n",
       "0    scattered clouds  2012-10-02 09:00:00            5545  \n",
       "1       broken clouds  2012-10-02 10:00:00            4516  \n",
       "2     overcast clouds  2012-10-02 11:00:00            4767  \n",
       "3     overcast clouds  2012-10-02 12:00:00            5026  \n",
       "4       broken clouds  2012-10-02 13:00:00            4918  "
      ]
     },
     "execution_count": 12,
     "metadata": {},
     "output_type": "execute_result"
    }
   ],
   "source": [
    "df_traffic.head()"
   ]
  },
  {
   "cell_type": "markdown",
   "metadata": {},
   "source": [
    "#### The key features are (along with the information they convey) :\n",
    "\n",
    "a) Categorical - \n",
    "\n",
    "    HolidayHoliday Indicator - <holiday>\n",
    "    Weather (Main) Indicator - <weather_main>\n",
    "    Weather Description Indicators - <weather_description>\n",
    "\n",
    "b) Numerical -\n",
    "\n",
    "    Temperature - <temp> \n",
    "    Rain Amount in 1 hour - <rain_1h>\n",
    "    Snow in 1 hour - <snow_1h>\n",
    "    Cloudiness - <clouds_all>\n",
    "    \n",
    "c) DateTime -\n",
    "\n",
    "    Hour and Date Entry for the data point - <date_time>\n",
    "\n",
    "d) Output Feature -\n",
    "\n",
    "    Traffic Volume <traffic_volume>"
   ]
  },
  {
   "cell_type": "code",
   "execution_count": 13,
   "metadata": {},
   "outputs": [
    {
     "data": {
      "image/png": "[encoded data removed]",
      "text/plain": [
       "<Figure size 432x288 with 1 Axes>"
      ]
     },
     "metadata": {
      "needs_background": "light"
     },
     "output_type": "display_data"
    }
   ],
   "source": [
    "## Running matplotlib inline\n",
    "\n",
    "%matplotlib inline\n",
    "\n",
    "plt.plot()\n",
    "plt.show()"
   ]
  },
  {
   "cell_type": "code",
   "execution_count": 15,
   "metadata": {},
   "outputs": [
    {
     "data": {
      "image/png": "[encoded data removed]",
      "text/plain": [
       "<Figure size 432x288 with 1 Axes>"
      ]
     },
     "metadata": {
      "needs_background": "light"
     },
     "output_type": "display_data"
    }
   ],
   "source": [
    "plt.hist(df_traffic['traffic_volume'])\n",
    "plt.show()"
   ]
  },
  {
   "cell_type": "code",
   "execution_count": 16,
   "metadata": {},
   "outputs": [
    {
     "data": {
      "text/plain": [
       "count    48204.000000\n",
       "mean      3259.818355\n",
       "std       1986.860670\n",
       "min          0.000000\n",
       "25%       1193.000000\n",
       "50%       3380.000000\n",
       "75%       4933.000000\n",
       "max       7280.000000\n",
       "Name: traffic_volume, dtype: float64"
      ]
     },
     "execution_count": 16,
     "metadata": {},
     "output_type": "execute_result"
    }
   ],
   "source": [
    "df_traffic['traffic_volume'].describe()"
   ]
  },
  {
   "cell_type": "markdown",
   "metadata": {},
   "source": [
    "Between 2012-10-02 09:00:00 and 2018-09-30 23:00:00, the hourly traffic volume varied from 0 to 7,280 cars, with an average of 3,260 cars.\n",
    "\n",
    "About 25% of the time, there were only 1,193 cars or fewer passing the station each hour — this probably occurs during the night, or when a road is under construction. However, about 25% of the time, the traffic volume was four times as much (4,933 cars or more).\n",
    "\n",
    "We can further observe by comparing daytime data with nighttime data."
   ]
  },
  {
   "cell_type": "markdown",
   "metadata": {},
   "source": [
    "#### Continuing by dividing the daytime and the nighttime data"
   ]
  },
  {
   "cell_type": "code",
   "execution_count": 18,
   "metadata": {},
   "outputs": [
    {
     "data": {
      "text/plain": [
       "holiday                 object\n",
       "temp                   float64\n",
       "rain_1h                float64\n",
       "snow_1h                float64\n",
       "clouds_all               int64\n",
       "weather_main            object\n",
       "weather_description     object\n",
       "date_time               object\n",
       "traffic_volume           int64\n",
       "dtype: object"
      ]
     },
     "execution_count": 18,
     "metadata": {},
     "output_type": "execute_result"
    }
   ],
   "source": [
    "df_traffic.dtypes"
   ]
  },
  {
   "cell_type": "code",
   "execution_count": 19,
   "metadata": {},
   "outputs": [
    {
     "data": {
      "text/plain": [
       "holiday                        object\n",
       "temp                          float64\n",
       "rain_1h                       float64\n",
       "snow_1h                       float64\n",
       "clouds_all                      int64\n",
       "weather_main                   object\n",
       "weather_description            object\n",
       "date_time              datetime64[ns]\n",
       "traffic_volume                  int64\n",
       "dtype: object"
      ]
     },
     "execution_count": 19,
     "metadata": {},
     "output_type": "execute_result"
    }
   ],
   "source": [
    "df_traffic['date_time'] = pd.to_datetime(df_traffic['date_time'])\n",
    "df_traffic.dtypes"
   ]
  },
  {
   "cell_type": "markdown",
   "metadata": {},
   "source": [
    "### Time Indicator 1 - Day vs Night"
   ]
  },
  {
   "cell_type": "code",
   "execution_count": 20,
   "metadata": {},
   "outputs": [],
   "source": [
    "df_traffic['hour'] = df_traffic['date_time'].dt.hour"
   ]
  },
  {
   "cell_type": "code",
   "execution_count": 21,
   "metadata": {},
   "outputs": [
    {
     "data": {
      "text/plain": [
       "4     2091\n",
       "6     2087\n",
       "8     2080\n",
       "7     2079\n",
       "10    2078\n",
       "5     2063\n",
       "1     2049\n",
       "23    2040\n",
       "0     2037\n",
       "3     2025\n",
       "2     2019\n",
       "9     2018\n",
       "22    1994\n",
       "16    1988\n",
       "18    1986\n",
       "21    1982\n",
       "20    1979\n",
       "14    1969\n",
       "19    1961\n",
       "12    1955\n",
       "11    1952\n",
       "15    1934\n",
       "17    1933\n",
       "13    1905\n",
       "Name: hour, dtype: int64"
      ]
     },
     "execution_count": 21,
     "metadata": {},
     "output_type": "execute_result"
    }
   ],
   "source": [
    "df_traffic['hour'].value_counts()"
   ]
  },
  {
   "cell_type": "markdown",
   "metadata": {},
   "source": [
    "#### We'll start by dividing the dataset into two parts:\n",
    "\n",
    "    Daytime data: hours from 7 a.m. to 7 p.m. (12 hours)\n",
    "    Nighttime data: hours from 7 p.m. to 7 a.m. (12 hours)\n"
   ]
  },
  {
   "cell_type": "code",
   "execution_count": 50,
   "metadata": {},
   "outputs": [],
   "source": [
    "bool_day = (df_traffic['hour'] >=7) & (df_traffic['hour'] <19)\n",
    "df_traffic_day = df_traffic[bool_day] "
   ]
  },
  {
   "cell_type": "code",
   "execution_count": 52,
   "metadata": {},
   "outputs": [
    {
     "data": {
      "image/png": "[encoded data removed]",
      "text/plain": [
       "<Figure size 432x288 with 1 Axes>"
      ]
     },
     "metadata": {
      "needs_background": "light"
     },
     "output_type": "display_data"
    }
   ],
   "source": [
    "df_traffic_day['hour'].value_counts().sort_index().plot.bar()\n",
    "plt.xticks(rotation = 30)\n",
    "plt.xlabel('Hours indicating 7 am to 7 pm')\n",
    "plt.ylabel('Count of entries')\n",
    "plt.title('A Relatively flat Bar Plot indicating even counts across hours')\n",
    "plt.show()"
   ]
  },
  {
   "cell_type": "code",
   "execution_count": 53,
   "metadata": {},
   "outputs": [],
   "source": [
    "bool_night = (df_traffic['hour'] >=19) | (df_traffic['hour'] <7)\n",
    "df_traffic_night = df_traffic[bool_night] "
   ]
  },
  {
   "cell_type": "code",
   "execution_count": 56,
   "metadata": {},
   "outputs": [
    {
     "data": {
      "image/png": "[encoded data removed]",
      "text/plain": [
       "<Figure size 432x288 with 1 Axes>"
      ]
     },
     "metadata": {
      "needs_background": "light"
     },
     "output_type": "display_data"
    }
   ],
   "source": [
    "df_traffic_night['hour'].value_counts().sort_index(ascending = False).plot.bar()\n",
    "plt.xticks(rotation = 30)\n",
    "plt.xlabel('Hours indicating 7 pm to 7 am')\n",
    "plt.ylabel('Count of entries')\n",
    "plt.title('A Relatively flat Bar Plot indicating even counts across hours')\n",
    "plt.show()"
   ]
  },
  {
   "cell_type": "code",
   "execution_count": 66,
   "metadata": {},
   "outputs": [
    {
     "data": {
      "image/png": "[encoded data removed]",
      "text/plain": [
       "<Figure size 1440x360 with 2 Axes>"
      ]
     },
     "metadata": {
      "needs_background": "light"
     },
     "output_type": "display_data"
    }
   ],
   "source": [
    "plt.figure(figsize = (20,5))\n",
    "plt.subplot(1,2,1)\n",
    "plt.hist(df_traffic_day['traffic_volume'])\n",
    "plt.xlabel('Traffic Volume Range')\n",
    "plt.ylabel('Number of hours')\n",
    "plt.title('Traffic Volume Distribution - Daytime')\n",
    "\n",
    "plt.subplot(1,2,2)\n",
    "plt.hist(df_traffic_night['traffic_volume'])\n",
    "plt.xlabel('Traffic Volume Range')\n",
    "plt.ylabel('Number of hours')\n",
    "plt.title('Traffic Volume Distribution - Nighttime')\n",
    "plt.ylim([0,8000])\n",
    "plt.show()"
   ]
  },
  {
   "cell_type": "markdown",
   "metadata": {},
   "source": [
    "#### Histogram Analyses for both Day and Night traffic volumes suggest the below :\n",
    "\n",
    "    a) Daytime Traffic is left skewed with peak traffic around 4500-5000 vehicles and majority of the traffic more than 4000 vehicles\n",
    "    b) Night Time Traffic is right skewed and has two peaks (0-600 vehicles) and (2800-3200) vehicles."
   ]
  },
  {
   "cell_type": "code",
   "execution_count": 67,
   "metadata": {},
   "outputs": [
    {
     "data": {
      "text/plain": [
       "count    23877.000000\n",
       "mean      4762.047452\n",
       "std       1174.546482\n",
       "min          0.000000\n",
       "25%       4252.000000\n",
       "50%       4820.000000\n",
       "75%       5559.000000\n",
       "max       7280.000000\n",
       "Name: traffic_volume, dtype: float64"
      ]
     },
     "execution_count": 67,
     "metadata": {},
     "output_type": "execute_result"
    }
   ],
   "source": [
    "df_traffic_day['traffic_volume'].describe()"
   ]
  },
  {
   "cell_type": "code",
   "execution_count": 68,
   "metadata": {},
   "outputs": [
    {
     "data": {
      "text/plain": [
       "count    24327.000000\n",
       "mean      1785.377441\n",
       "std       1441.951197\n",
       "min          0.000000\n",
       "25%        530.000000\n",
       "50%       1287.000000\n",
       "75%       2819.000000\n",
       "max       6386.000000\n",
       "Name: traffic_volume, dtype: float64"
      ]
     },
     "execution_count": 68,
     "metadata": {},
     "output_type": "execute_result"
    }
   ],
   "source": [
    "df_traffic_night['traffic_volume'].describe()"
   ]
  },
  {
   "cell_type": "markdown",
   "metadata": {},
   "source": [
    "#### Combining Histogram Analysis with Key statistics :\n",
    "    \n",
    "    a) 75% of the daytime traffic is more than 4252 vehicles per hour. \n",
    "    b) 75% of the nighttime traffic is less than 2819 vehicles per hour, though there are a few execeptions with 5000 plus  volume. \n",
    "    \n",
    "#### Since our objective is finding indicators of heavy traffic volume, we will focus on the daytime data only.  "
   ]
  },
  {
   "cell_type": "markdown",
   "metadata": {},
   "source": [
    "### Time Indicator 2 - Month"
   ]
  },
  {
   "cell_type": "code",
   "execution_count": 69,
   "metadata": {},
   "outputs": [
    {
     "name": "stderr",
     "output_type": "stream",
     "text": [
      "<ipython-input-69-6f2173352ec5>:1: SettingWithCopyWarning: \n",
      "A value is trying to be set on a copy of a slice from a DataFrame.\n",
      "Try using .loc[row_indexer,col_indexer] = value instead\n",
      "\n",
      "See the caveats in the documentation: https://pandas.pydata.org/pandas-docs/stable/user_guide/indexing.html#returning-a-view-versus-a-copy\n",
      "  df_traffic_day['month'] = df_traffic_day['date_time'].dt.month\n"
     ]
    },
    {
     "data": {
      "text/plain": [
       "month\n",
       "1     4495.613727\n",
       "2     4711.198394\n",
       "3     4889.409560\n",
       "4     4906.894305\n",
       "5     4911.121609\n",
       "6     4898.019566\n",
       "7     4595.035744\n",
       "8     4928.302035\n",
       "9     4870.783145\n",
       "10    4921.234922\n",
       "11    4704.094319\n",
       "12    4374.834566\n",
       "Name: traffic_volume, dtype: float64"
      ]
     },
     "execution_count": 69,
     "metadata": {},
     "output_type": "execute_result"
    }
   ],
   "source": [
    "df_traffic_day['month'] = df_traffic_day['date_time'].dt.month\n",
    "by_month = df_traffic_day.groupby('month').mean()\n",
    "by_month['traffic_volume']"
   ]
  },
  {
   "cell_type": "code",
   "execution_count": 71,
   "metadata": {},
   "outputs": [
    {
     "data": {
      "image/png": "[encoded data removed]",
      "text/plain": [
       "<Figure size 432x288 with 1 Axes>"
      ]
     },
     "metadata": {
      "needs_background": "light"
     },
     "output_type": "display_data"
    }
   ],
   "source": [
    "# Creating a line plot to compare month by month changes\n",
    "\n",
    "by_month['traffic_volume'].plot.line()\n",
    "plt.ylabel('Traffic volume - No. of vehicles')\n",
    "plt.show()"
   ]
  },
  {
   "cell_type": "markdown",
   "metadata": {},
   "source": [
    "#### Analysis of the above line plot suggests  low traffic for the months of Jan and July (about 4500-4600 vehicles) and very low for  December (3500 vehicles), suggesting a drop due to Winter. "
   ]
  },
  {
   "cell_type": "markdown",
   "metadata": {},
   "source": [
    "### Breakdown factor 3 - Day of week"
   ]
  },
  {
   "cell_type": "code",
   "execution_count": 72,
   "metadata": {},
   "outputs": [
    {
     "name": "stderr",
     "output_type": "stream",
     "text": [
      "<ipython-input-72-42b722210cc8>:1: SettingWithCopyWarning: \n",
      "A value is trying to be set on a copy of a slice from a DataFrame.\n",
      "Try using .loc[row_indexer,col_indexer] = value instead\n",
      "\n",
      "See the caveats in the documentation: https://pandas.pydata.org/pandas-docs/stable/user_guide/indexing.html#returning-a-view-versus-a-copy\n",
      "  df_traffic_day['dayofweek'] = df_traffic_day['date_time'].dt.dayofweek\n"
     ]
    },
    {
     "data": {
      "text/plain": [
       "dayofweek\n",
       "0    4893.551286\n",
       "1    5189.004782\n",
       "2    5284.454282\n",
       "3    5311.303730\n",
       "4    5291.600829\n",
       "5    3927.249558\n",
       "6    3436.541789\n",
       "Name: traffic_volume, dtype: float64"
      ]
     },
     "execution_count": 72,
     "metadata": {},
     "output_type": "execute_result"
    }
   ],
   "source": [
    "df_traffic_day['dayofweek'] = df_traffic_day['date_time'].dt.dayofweek\n",
    "by_dayofweek = df_traffic_day.groupby('dayofweek').mean()  # 0 is Monday, 6 is Sunday\n",
    "by_dayofweek['traffic_volume']"
   ]
  },
  {
   "cell_type": "code",
   "execution_count": 73,
   "metadata": {},
   "outputs": [
    {
     "data": {
      "image/png": "[encoded data removed]",
      "text/plain": [
       "<Figure size 432x288 with 1 Axes>"
      ]
     },
     "metadata": {
      "needs_background": "light"
     },
     "output_type": "display_data"
    }
   ],
   "source": [
    "by_dayofweek['traffic_volume'].plot.line()\n",
    "plt.ylabel('Traffic volume - No. of vehicles')\n",
    "plt.show()"
   ]
  },
  {
   "cell_type": "markdown",
   "metadata": {},
   "source": [
    "#### Analysis of the above plot suggests that traffic is heavier on weekdays (Mon-Fri) i.e. 5000 plus vehicles and lesser over the weekends i.e. less than 4000 vehicles per hour."
   ]
  },
  {
   "cell_type": "markdown",
   "metadata": {},
   "source": [
    "### Time Indicator 3- Time of the day"
   ]
  },
  {
   "cell_type": "code",
   "execution_count": 76,
   "metadata": {},
   "outputs": [
    {
     "name": "stdout",
     "output_type": "stream",
     "text": [
      "Traffic Volume by Hour - Business Days\n",
      "hour\n",
      "7     6030.413559\n",
      "8     5503.497970\n",
      "9     4895.269257\n",
      "10    4378.419118\n",
      "11    4633.419470\n",
      "12    4855.382143\n",
      "13    4859.180473\n",
      "14    5152.995778\n",
      "15    5592.897768\n",
      "16    6189.473647\n",
      "17    5784.827133\n",
      "18    4434.209431\n",
      "Name: traffic_volume, dtype: float64\n",
      "Traffic Volume by Hour - Weekends\n",
      "hour\n",
      "7     1589.365894\n",
      "8     2338.578073\n",
      "9     3111.623917\n",
      "10    3686.632302\n",
      "11    4044.154955\n",
      "12    4372.482883\n",
      "13    4362.296564\n",
      "14    4358.543796\n",
      "15    4342.456881\n",
      "16    4339.693805\n",
      "17    4151.919929\n",
      "18    3811.792279\n",
      "Name: traffic_volume, dtype: float64\n"
     ]
    },
    {
     "name": "stderr",
     "output_type": "stream",
     "text": [
      "<ipython-input-76-e6ce46cfee6c>:1: SettingWithCopyWarning: \n",
      "A value is trying to be set on a copy of a slice from a DataFrame.\n",
      "Try using .loc[row_indexer,col_indexer] = value instead\n",
      "\n",
      "See the caveats in the documentation: https://pandas.pydata.org/pandas-docs/stable/user_guide/indexing.html#returning-a-view-versus-a-copy\n",
      "  df_traffic_day['hour'] = df_traffic_day['date_time'].dt.hour\n"
     ]
    }
   ],
   "source": [
    "df_traffic_day['hour'] = df_traffic_day['date_time'].dt.hour\n",
    "business_days = df_traffic_day.copy()[df_traffic_day['dayofweek'] <=4]\n",
    "weekends = df_traffic_day.copy()[df_traffic_day['dayofweek'] >=5]\n",
    "\n",
    "by_hour_business = business_days.groupby('hour').mean()\n",
    "by_hour_weekends = weekends.groupby('hour').mean()\n",
    "\n",
    "print('Traffic Volume by Hour - Business Days')\n",
    "print(by_hour_business['traffic_volume'])\n",
    "\n",
    "print('Traffic Volume by Hour - Weekends')\n",
    "print(by_hour_weekends['traffic_volume'])\n",
    "\n"
   ]
  },
  {
   "cell_type": "code",
   "execution_count": 79,
   "metadata": {},
   "outputs": [
    {
     "data": {
      "image/png": "[encoded data removed]",
      "text/plain": [
       "<Figure size 1440x360 with 2 Axes>"
      ]
     },
     "metadata": {
      "needs_background": "light"
     },
     "output_type": "display_data"
    }
   ],
   "source": [
    "## Plotting the above as two Line Plots for comparision\n",
    "\n",
    "\n",
    "plt.figure(figsize = (20,5))\n",
    "plt.subplot(1,2,1)\n",
    "by_hour_business['traffic_volume'].plot.line()\n",
    "plt.title('Traffic Volume by Hour - Business Days')\n",
    "\n",
    "\n",
    "plt.subplot(1,2,2)\n",
    "by_hour_weekends['traffic_volume'].plot.line()\n",
    "plt.title('Traffic Volume by Hour - Weekends')\n",
    "\n",
    "plt.xlim([0,24])\n",
    "plt.ylim([0,6250])\n",
    "plt.show()"
   ]
  },
  {
   "cell_type": "markdown",
   "metadata": {},
   "source": [
    "#### Comparing the plots for Traffic Volume By hour, we can make the below observations:\n",
    "    \n",
    "    a) On Business Days, the minimum traffic is approx. 4200 vehicles which is close to the maximum on weekends. \n",
    "    b) On Business Days, the peak traffic is during rush hours (7am - 10 am) and (4 pm - 6 pm), most likely due to people going to work and coming back from work. \n",
    "    c) On weekends, the traffic starts at 7 am around 1500 vehicles and increases upto 4200 vehicles and remains nearly constant till 7 pm. Post 7 pm, there is no traffic. \n",
    "    \n",
    "#### Summarizing the findings on all three Time related indicators (Day/Night, Day of Week, Hour of day)\n",
    "\n",
    "    a) Daytime Traffic is higher (4500-5000 vehicles) in comparision to nighttime traffic. \n",
    "    b) Month - Traffic is high for the Warm months of March - June and August - October. (About 5000 vehicles) in comparision to the Cold months of December-Feb.  \n",
    "    c) The traffic is heavier on Business Days in comparision to weekends\n",
    "    d) On Business Days, the peak traffic is during rush hours (7am - 8 am) and (4 pm - 5 pm), most likely due to people going to work and coming back from work."
   ]
  },
  {
   "cell_type": "markdown",
   "metadata": {},
   "source": [
    "### Weather Indicators - Temperature, Rain etc."
   ]
  },
  {
   "cell_type": "code",
   "execution_count": 81,
   "metadata": {},
   "outputs": [
    {
     "data": {
      "text/plain": [
       "temp              0.128317\n",
       "rain_1h           0.003697\n",
       "snow_1h           0.001265\n",
       "clouds_all       -0.032932\n",
       "traffic_volume    1.000000\n",
       "hour              0.172704\n",
       "month            -0.022337\n",
       "dayofweek        -0.416453\n",
       "Name: traffic_volume, dtype: float64"
      ]
     },
     "execution_count": 81,
     "metadata": {},
     "output_type": "execute_result"
    }
   ],
   "source": [
    "df_traffic_day.corr()['traffic_volume']"
   ]
  },
  {
   "cell_type": "markdown",
   "metadata": {},
   "source": [
    "#### Among all the weather related indicators, temperature shows the strongest correlation(+0.13) while rain_1h, snow_1h and clouds_all show very little correlation(.001, .003)"
   ]
  },
  {
   "cell_type": "code",
   "execution_count": 85,
   "metadata": {},
   "outputs": [
    {
     "data": {
      "image/png": "[encoded data removed]",
      "text/plain": [
       "<Figure size 432x288 with 1 Axes>"
      ]
     },
     "metadata": {
      "needs_background": "light"
     },
     "output_type": "display_data"
    }
   ],
   "source": [
    "df_traffic_day.plot.scatter('temp','traffic_volume')\n",
    "plt.title('Correlation between Temperature and Traffic Volume')\n",
    "plt.xlim(230, 320) # Removing the outliers\n",
    "plt.show()"
   ]
  },
  {
   "cell_type": "markdown",
   "metadata": {},
   "source": [
    "#### We can conclude that Temperature is not a reliable indicator of the Traffic Volume. "
   ]
  },
  {
   "cell_type": "markdown",
   "metadata": {},
   "source": [
    "### Weather Indicators - Main and Description"
   ]
  },
  {
   "cell_type": "code",
   "execution_count": 89,
   "metadata": {},
   "outputs": [
    {
     "name": "stdout",
     "output_type": "stream",
     "text": [
      "Traffic Volume by Weather - Main Indicator\n",
      "weather_main\n",
      "Clear           4778.416260\n",
      "Clouds          4865.415996\n",
      "Drizzle         4837.212911\n",
      "Fog             4372.491713\n",
      "Haze            4609.893285\n",
      "Mist            4623.976475\n",
      "Rain            4815.568462\n",
      "Smoke           4564.583333\n",
      "Snow            4396.321183\n",
      "Squall          4211.000000\n",
      "Thunderstorm    4648.212860\n",
      "Name: traffic_volume, dtype: float64\n",
      "\n",
      "\n",
      "Traffic Volume by Weather - Description\n",
      "weather_description\n",
      "SQUALLS                                4211.000000\n",
      "Sky is Clear                           4919.009390\n",
      "broken clouds                          4824.130326\n",
      "drizzle                                4737.330935\n",
      "few clouds                             4839.818023\n",
      "fog                                    4372.491713\n",
      "freezing rain                          4314.000000\n",
      "haze                                   4609.893285\n",
      "heavy intensity drizzle                4738.586207\n",
      "heavy intensity rain                   4610.356164\n",
      "heavy snow                             4411.681250\n",
      "light intensity drizzle                4890.164049\n",
      "light intensity shower rain            4558.100000\n",
      "light rain                             4859.650849\n",
      "light rain and snow                    5579.750000\n",
      "light shower snow                      4618.636364\n",
      "light snow                             4430.858896\n",
      "mist                                   4623.976475\n",
      "moderate rain                          4769.643312\n",
      "overcast clouds                        4861.124952\n",
      "proximity shower rain                  4901.756757\n",
      "proximity thunderstorm                 4684.356436\n",
      "proximity thunderstorm with drizzle    5121.833333\n",
      "proximity thunderstorm with rain       4501.611111\n",
      "scattered clouds                       4936.787712\n",
      "shower drizzle                         4932.666667\n",
      "shower snow                            5664.000000\n",
      "sky is clear                           4753.930294\n",
      "sleet                                  4312.666667\n",
      "smoke                                  4564.583333\n",
      "snow                                   4054.065693\n",
      "thunderstorm                           4724.708333\n",
      "thunderstorm with drizzle              2297.000000\n",
      "thunderstorm with heavy rain           4555.760000\n",
      "thunderstorm with light drizzle        4960.000000\n",
      "thunderstorm with light rain           4336.130435\n",
      "thunderstorm with rain                 4522.950000\n",
      "very heavy rain                        4780.571429\n",
      "Name: traffic_volume, dtype: float64\n"
     ]
    }
   ],
   "source": [
    "by_weather_main = df_traffic_day.groupby('weather_main').mean()\n",
    "by_weather_description = df_traffic_day.groupby('weather_description').mean()\n",
    "\n",
    "print('Traffic Volume by Weather - Main Indicator')\n",
    "print(by_weather_main['traffic_volume'])\n",
    "print('\\n')\n",
    "print('Traffic Volume by Weather - Description')\n",
    "print(by_weather_description['traffic_volume'])"
   ]
  },
  {
   "cell_type": "code",
   "execution_count": 108,
   "metadata": {},
   "outputs": [
    {
     "data": {
      "image/png": "[encoded data removed]",
      "text/plain": [
       "<Figure size 1440x2160 with 2 Axes>"
      ]
     },
     "metadata": {
      "needs_background": "light"
     },
     "output_type": "display_data"
    }
   ],
   "source": [
    "plt.figure(figsize = (20,30))\n",
    "\n",
    "\n",
    "plt.subplot(2,1,1)\n",
    "by_weather_main['traffic_volume'].plot.barh()\n",
    "plt.title('Traffic Volume by Weather - Main')\n",
    "#plt.show()\n",
    "\n",
    "plt.subplot(2,1,2)\n",
    "plt.title('Traffic Volume by Weather - Description')\n",
    "by_weather_description['traffic_volume'].plot.barh()\n",
    "\n",
    "plt.xlim([0,5500])\n",
    "plt.show()"
   ]
  },
  {
   "cell_type": "markdown",
   "metadata": {},
   "source": [
    "#### Thus, we can observe that except for the below 3 indicators, the average traffic volume is above 5000 vehichles per hour. \n",
    "    a) Shower Snow\n",
    "    b) Proximity Thunderstorm with Drizzle\n",
    "    c) Light Rain and Snow\n",
    "    \n",
    "    These are bad weather indicators. Perhaps more people take their cars out of the garage when the weather is bad instead of riding a bike or walking."
   ]
  },
  {
   "cell_type": "markdown",
   "metadata": {},
   "source": [
    "### Project Summary & Conclusions:\n",
    "\n",
    "In this project, we tried to find heavy traffic indicators. We determined the below two types :\n",
    "\n",
    "\n",
    "    a) Time Indicators:\n",
    "        1. Daytime Traffic is higher (4500-5000 vehicles) in comparision to nighttime traffic. \n",
    "        2. Traffic is high for the Warm months of March - June and August - October. \n",
    "        3. The traffic is heavier on Business Days in comparision to weekends\n",
    "        4. On Business Days, the peak traffic is during rush hours (7am - 8 am) and (4 pm - 5 pm)\n",
    "        \n",
    "    b) Weather Indicators:\n",
    "        1. Shower Snow\n",
    "        2. Proximity Thunderstorm with Drizzle \n",
    "        3. Light Rain and Snow"
   ]
  },
  {
   "cell_type": "code",
   "execution_count": null,
   "metadata": {},
   "outputs": [],
   "source": []
  }
 ],
 "metadata": {
  "hide_input": false,
  "kernelspec": {
   "display_name": "Python 3",
   "language": "python",
   "name": "python3"
  },
  "language_info": {
   "codemirror_mode": {
    "name": "ipython",
    "version": 3
   },
   "file_extension": ".py",
   "mimetype": "text/x-python",
   "name": "python",
   "nbconvert_exporter": "python",
   "pygments_lexer": "ipython3",
   "version": "3.8.8"
  }
 },
 "nbformat": 4,
 "nbformat_minor": 4
}
