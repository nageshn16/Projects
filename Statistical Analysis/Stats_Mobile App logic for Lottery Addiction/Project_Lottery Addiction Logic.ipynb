{
 "cells": [
  {
   "cell_type": "markdown",
   "metadata": {},
   "source": [
    "### Project : Mobile App Logic for Lottery Addiction"
   ]
  },
  {
   "cell_type": "markdown",
   "metadata": {},
   "source": [
    "#### Objective - The goal is to build the logic for an anti-(lottery) addiction app. This app would allow users to estimate their chances of winning the lottery and thus discourage them. The app would have different scenarios and help users evaluate their chances in different situations. The examples include : \n",
    "\n",
    "1. What is the probability of winning the big prize with a single ticket?\n",
    "2. What is the probability of winning the big prize if we play 40 different tickets (or any other number)?\n",
    "3. What is the probability of having at least five (or four, or three, or two) winning numbers on a single ticket?"
   ]
  },
  {
   "cell_type": "markdown",
   "metadata": {},
   "source": [
    "### Core Functions\n",
    "\n",
    "#### Factorials and Combinations are widely used for calculating outcomes and hence we will develop functions for the same. "
   ]
  },
  {
   "cell_type": "code",
   "execution_count": 1,
   "metadata": {},
   "outputs": [],
   "source": [
    "def factorial(n):\n",
    "    product = 1\n",
    "    for i in range(n,0,-1):\n",
    "        product*= i\n",
    "    return product"
   ]
  },
  {
   "cell_type": "code",
   "execution_count": 2,
   "metadata": {},
   "outputs": [],
   "source": [
    "def combinations(n,k):\n",
    "    numerator = factorial(n)\n",
    "    denominator = factorial (n-k) * factorial (k)\n",
    "    \n",
    "    combination = numerator/denominator\n",
    "    return combination"
   ]
  },
  {
   "cell_type": "markdown",
   "metadata": {},
   "source": [
    "### One-ticket Probability"
   ]
  },
  {
   "cell_type": "markdown",
   "metadata": {},
   "source": [
    "In the 6/49 lottery, six numbers are drawn from a set of 49 numbers that range from 1 to 49. A player wins the big prize if the six numbers on their tickets match all the six numbers drawn. \n",
    "\n",
    "For the first version of the app, we want players to be able to calculate the probability of winning the big prize with the various numbers they play on a single ticket (for each ticket a player chooses six numbers out of 49). So, we'll start by building a function that calculates the probability of winning the big prize for any given ticket."
   ]
  },
  {
   "cell_type": "code",
   "execution_count": 3,
   "metadata": {},
   "outputs": [],
   "source": [
    "def one_ticket_probability(list_ticket_nos):\n",
    "    total_outcomes = combinations(49,6) #Using the Combinations function written above\n",
    "    n_successful_outcomes = 1 \n",
    "    \n",
    "    p_one_ticket = n_successful_outcomes / total_outcomes\n",
    "    \n",
    "    #p_one_ticket_pc = format((p_one_ticket * 100), '.3g')\n",
    "    \n",
    "    p_one_ticket_pc = p_one_ticket * 100\n",
    "    \n",
    "    #print(p_one_ticket_pc)\n",
    "    \n",
    "    print('The chances of your ticket {a} winning the lottery are {b:.7f} %'.format(a = list_ticket_nos, b = (p_one_ticket_pc)))\n",
    "    \n",
    "    return p_one_ticket"
   ]
  },
  {
   "cell_type": "code",
   "execution_count": 4,
   "metadata": {},
   "outputs": [
    {
     "data": {
      "text/plain": [
       "array([12, 18, 18, 38, 48, 45])"
      ]
     },
     "execution_count": 4,
     "metadata": {},
     "output_type": "execute_result"
    }
   ],
   "source": [
    "import numpy as np\n",
    "\n",
    "np.random.randint(1,49,6)"
   ]
  },
  {
   "cell_type": "markdown",
   "metadata": {},
   "source": [
    "#### Testing a few random lists containing numbers between 1 and 49"
   ]
  },
  {
   "cell_type": "code",
   "execution_count": 5,
   "metadata": {},
   "outputs": [
    {
     "name": "stdout",
     "output_type": "stream",
     "text": [
      "The chances of your ticket [34, 48, 44, 10, 35, 3] winning the lottery are 0.0000072 %\n"
     ]
    },
    {
     "data": {
      "text/plain": [
       "7.151123842018516e-08"
      ]
     },
     "execution_count": 5,
     "metadata": {},
     "output_type": "execute_result"
    }
   ],
   "source": [
    "one_ticket_probability ([34, 48, 44, 10, 35,  3])"
   ]
  },
  {
   "cell_type": "code",
   "execution_count": 6,
   "metadata": {},
   "outputs": [
    {
     "name": "stdout",
     "output_type": "stream",
     "text": [
      "The chances of your ticket [34, 48, 44, 10, 35, 3] winning the lottery are 0.0000072 %\n"
     ]
    },
    {
     "data": {
      "text/plain": [
       "7.151123842018516e-08"
      ]
     },
     "execution_count": 6,
     "metadata": {},
     "output_type": "execute_result"
    }
   ],
   "source": [
    "one_ticket_probability ([34, 48, 44, 10, 35,  3])"
   ]
  },
  {
   "cell_type": "markdown",
   "metadata": {},
   "source": [
    "#### The function has been created on the basis of the total number of outcomes for a combination of 6 numbers selected between 1 and 49. The sampling is done without replacement. "
   ]
  },
  {
   "cell_type": "code",
   "execution_count": 7,
   "metadata": {},
   "outputs": [
    {
     "data": {
      "text/plain": [
       "'4.31e-91'"
      ]
     },
     "execution_count": 7,
     "metadata": {},
     "output_type": "execute_result"
    }
   ],
   "source": [
    "format(4.311237638482733e-91, '.3g')"
   ]
  },
  {
   "cell_type": "markdown",
   "metadata": {},
   "source": [
    "### Historical Data Check for Canada Lottery"
   ]
  },
  {
   "cell_type": "markdown",
   "metadata": {},
   "source": [
    "#### We'll focus on exploring the historical data coming from the Canada 6/49 lottery. The data set can be downloaded from Kaggle (link below) :\n",
    "\n",
    "https://www.kaggle.com/datascienceai/lottery-dataset\n",
    "\n",
    "\n",
    "The data set contains historical data for 3,665 drawings (each row shows data for a single drawing), dating from 1982 to 2018. For each drawing, we can find the six numbers drawn in the following six columns:\n",
    "\n",
    "    NUMBER DRAWN 1\n",
    "    NUMBER DRAWN 2\n",
    "    NUMBER DRAWN 3\n",
    "    NUMBER DRAWN 4\n",
    "    NUMBER DRAWN 5\n",
    "    NUMBER DRAWN 6"
   ]
  },
  {
   "cell_type": "code",
   "execution_count": 8,
   "metadata": {},
   "outputs": [],
   "source": [
    "import pandas as pd\n",
    "df_649_canada = pd.read_csv('649.csv')"
   ]
  },
  {
   "cell_type": "code",
   "execution_count": 9,
   "metadata": {},
   "outputs": [
    {
     "data": {
      "text/plain": [
       "(3665, 11)"
      ]
     },
     "execution_count": 9,
     "metadata": {},
     "output_type": "execute_result"
    }
   ],
   "source": [
    "df_649_canada.shape"
   ]
  },
  {
   "cell_type": "markdown",
   "metadata": {},
   "source": [
    "#### Thus we can observe that the dataframe has 3665 rows and 11 columns. "
   ]
  },
  {
   "cell_type": "code",
   "execution_count": 10,
   "metadata": {},
   "outputs": [
    {
     "data": {
      "text/html": [
       "<div>\n",
       "<style scoped>\n",
       "    .dataframe tbody tr th:only-of-type {\n",
       "        vertical-align: middle;\n",
       "    }\n",
       "\n",
       "    .dataframe tbody tr th {\n",
       "        vertical-align: top;\n",
       "    }\n",
       "\n",
       "    .dataframe thead th {\n",
       "        text-align: right;\n",
       "    }\n",
       "</style>\n",
       "<table border=\"1\" class=\"dataframe\">\n",
       "  <thead>\n",
       "    <tr style=\"text-align: right;\">\n",
       "      <th></th>\n",
       "      <th>PRODUCT</th>\n",
       "      <th>DRAW NUMBER</th>\n",
       "      <th>SEQUENCE NUMBER</th>\n",
       "      <th>DRAW DATE</th>\n",
       "      <th>NUMBER DRAWN 1</th>\n",
       "      <th>NUMBER DRAWN 2</th>\n",
       "      <th>NUMBER DRAWN 3</th>\n",
       "      <th>NUMBER DRAWN 4</th>\n",
       "      <th>NUMBER DRAWN 5</th>\n",
       "      <th>NUMBER DRAWN 6</th>\n",
       "      <th>BONUS NUMBER</th>\n",
       "    </tr>\n",
       "  </thead>\n",
       "  <tbody>\n",
       "    <tr>\n",
       "      <th>0</th>\n",
       "      <td>649</td>\n",
       "      <td>1</td>\n",
       "      <td>0</td>\n",
       "      <td>6/12/1982</td>\n",
       "      <td>3</td>\n",
       "      <td>11</td>\n",
       "      <td>12</td>\n",
       "      <td>14</td>\n",
       "      <td>41</td>\n",
       "      <td>43</td>\n",
       "      <td>13</td>\n",
       "    </tr>\n",
       "    <tr>\n",
       "      <th>1</th>\n",
       "      <td>649</td>\n",
       "      <td>2</td>\n",
       "      <td>0</td>\n",
       "      <td>6/19/1982</td>\n",
       "      <td>8</td>\n",
       "      <td>33</td>\n",
       "      <td>36</td>\n",
       "      <td>37</td>\n",
       "      <td>39</td>\n",
       "      <td>41</td>\n",
       "      <td>9</td>\n",
       "    </tr>\n",
       "    <tr>\n",
       "      <th>2</th>\n",
       "      <td>649</td>\n",
       "      <td>3</td>\n",
       "      <td>0</td>\n",
       "      <td>6/26/1982</td>\n",
       "      <td>1</td>\n",
       "      <td>6</td>\n",
       "      <td>23</td>\n",
       "      <td>24</td>\n",
       "      <td>27</td>\n",
       "      <td>39</td>\n",
       "      <td>34</td>\n",
       "    </tr>\n",
       "  </tbody>\n",
       "</table>\n",
       "</div>"
      ],
      "text/plain": [
       "   PRODUCT  DRAW NUMBER  SEQUENCE NUMBER  DRAW DATE  NUMBER DRAWN 1  \\\n",
       "0      649            1                0  6/12/1982               3   \n",
       "1      649            2                0  6/19/1982               8   \n",
       "2      649            3                0  6/26/1982               1   \n",
       "\n",
       "   NUMBER DRAWN 2  NUMBER DRAWN 3  NUMBER DRAWN 4  NUMBER DRAWN 5  \\\n",
       "0              11              12              14              41   \n",
       "1              33              36              37              39   \n",
       "2               6              23              24              27   \n",
       "\n",
       "   NUMBER DRAWN 6  BONUS NUMBER  \n",
       "0              43            13  \n",
       "1              41             9  \n",
       "2              39            34  "
      ]
     },
     "execution_count": 10,
     "metadata": {},
     "output_type": "execute_result"
    }
   ],
   "source": [
    "df_649_canada.head(3)"
   ]
  },
  {
   "cell_type": "code",
   "execution_count": 11,
   "metadata": {},
   "outputs": [
    {
     "data": {
      "text/html": [
       "<div>\n",
       "<style scoped>\n",
       "    .dataframe tbody tr th:only-of-type {\n",
       "        vertical-align: middle;\n",
       "    }\n",
       "\n",
       "    .dataframe tbody tr th {\n",
       "        vertical-align: top;\n",
       "    }\n",
       "\n",
       "    .dataframe thead th {\n",
       "        text-align: right;\n",
       "    }\n",
       "</style>\n",
       "<table border=\"1\" class=\"dataframe\">\n",
       "  <thead>\n",
       "    <tr style=\"text-align: right;\">\n",
       "      <th></th>\n",
       "      <th>PRODUCT</th>\n",
       "      <th>DRAW NUMBER</th>\n",
       "      <th>SEQUENCE NUMBER</th>\n",
       "      <th>DRAW DATE</th>\n",
       "      <th>NUMBER DRAWN 1</th>\n",
       "      <th>NUMBER DRAWN 2</th>\n",
       "      <th>NUMBER DRAWN 3</th>\n",
       "      <th>NUMBER DRAWN 4</th>\n",
       "      <th>NUMBER DRAWN 5</th>\n",
       "      <th>NUMBER DRAWN 6</th>\n",
       "      <th>BONUS NUMBER</th>\n",
       "    </tr>\n",
       "  </thead>\n",
       "  <tbody>\n",
       "    <tr>\n",
       "      <th>3662</th>\n",
       "      <td>649</td>\n",
       "      <td>3589</td>\n",
       "      <td>0</td>\n",
       "      <td>6/13/2018</td>\n",
       "      <td>6</td>\n",
       "      <td>22</td>\n",
       "      <td>24</td>\n",
       "      <td>31</td>\n",
       "      <td>32</td>\n",
       "      <td>34</td>\n",
       "      <td>16</td>\n",
       "    </tr>\n",
       "    <tr>\n",
       "      <th>3663</th>\n",
       "      <td>649</td>\n",
       "      <td>3590</td>\n",
       "      <td>0</td>\n",
       "      <td>6/16/2018</td>\n",
       "      <td>2</td>\n",
       "      <td>15</td>\n",
       "      <td>21</td>\n",
       "      <td>31</td>\n",
       "      <td>38</td>\n",
       "      <td>49</td>\n",
       "      <td>8</td>\n",
       "    </tr>\n",
       "    <tr>\n",
       "      <th>3664</th>\n",
       "      <td>649</td>\n",
       "      <td>3591</td>\n",
       "      <td>0</td>\n",
       "      <td>6/20/2018</td>\n",
       "      <td>14</td>\n",
       "      <td>24</td>\n",
       "      <td>31</td>\n",
       "      <td>35</td>\n",
       "      <td>37</td>\n",
       "      <td>48</td>\n",
       "      <td>17</td>\n",
       "    </tr>\n",
       "  </tbody>\n",
       "</table>\n",
       "</div>"
      ],
      "text/plain": [
       "      PRODUCT  DRAW NUMBER  SEQUENCE NUMBER  DRAW DATE  NUMBER DRAWN 1  \\\n",
       "3662      649         3589                0  6/13/2018               6   \n",
       "3663      649         3590                0  6/16/2018               2   \n",
       "3664      649         3591                0  6/20/2018              14   \n",
       "\n",
       "      NUMBER DRAWN 2  NUMBER DRAWN 3  NUMBER DRAWN 4  NUMBER DRAWN 5  \\\n",
       "3662              22              24              31              32   \n",
       "3663              15              21              31              38   \n",
       "3664              24              31              35              37   \n",
       "\n",
       "      NUMBER DRAWN 6  BONUS NUMBER  \n",
       "3662              34            16  \n",
       "3663              49             8  \n",
       "3664              48            17  "
      ]
     },
     "execution_count": 11,
     "metadata": {},
     "output_type": "execute_result"
    }
   ],
   "source": [
    "df_649_canada.tail(3)"
   ]
  },
  {
   "cell_type": "markdown",
   "metadata": {},
   "source": [
    "### Function for Historical Data Check"
   ]
  },
  {
   "cell_type": "markdown",
   "metadata": {},
   "source": [
    "#### we're going to write a function that will enable users to compare their ticket against the historical lottery data in Canada and determine whether they would have ever won by now.\n",
    "\n",
    "We will write a function that prints:\n",
    "\n",
    "    a) The number of times the combination selected occurred in the Canada data set; and\n",
    "    b) The probability of winning the big prize in the next drawing with that combination."
   ]
  },
  {
   "cell_type": "code",
   "execution_count": 12,
   "metadata": {},
   "outputs": [],
   "source": [
    "a = set('abracadabra')"
   ]
  },
  {
   "cell_type": "code",
   "execution_count": 13,
   "metadata": {},
   "outputs": [
    {
     "data": {
      "text/plain": [
       "{'a', 'b', 'c', 'd', 'r'}"
      ]
     },
     "execution_count": 13,
     "metadata": {},
     "output_type": "execute_result"
    }
   ],
   "source": [
    "a"
   ]
  },
  {
   "cell_type": "code",
   "execution_count": 14,
   "metadata": {},
   "outputs": [],
   "source": [
    "b = set(df_649_canada.iloc[0][4:10])"
   ]
  },
  {
   "cell_type": "code",
   "execution_count": 15,
   "metadata": {},
   "outputs": [
    {
     "data": {
      "text/plain": [
       "{3, 11, 12, 14, 41, 43}"
      ]
     },
     "execution_count": 15,
     "metadata": {},
     "output_type": "execute_result"
    }
   ],
   "source": [
    "b"
   ]
  },
  {
   "cell_type": "code",
   "execution_count": 16,
   "metadata": {},
   "outputs": [],
   "source": [
    "def extract_numbers(row):\n",
    "    row = row[4:10]\n",
    "    row = set(row.values)\n",
    "    #print(row)\n",
    "    return row"
   ]
  },
  {
   "cell_type": "code",
   "execution_count": 17,
   "metadata": {},
   "outputs": [],
   "source": [
    "historical_lottery_numbers = df_649_canada.apply(extract_numbers,axis = 1)"
   ]
  },
  {
   "cell_type": "code",
   "execution_count": 18,
   "metadata": {
    "scrolled": false
   },
   "outputs": [
    {
     "name": "stdout",
     "output_type": "stream",
     "text": [
      "0    {3, 41, 11, 12, 43, 14}\n",
      "1    {33, 36, 37, 39, 8, 41}\n",
      "2     {1, 6, 39, 23, 24, 27}\n",
      "3     {3, 9, 10, 43, 13, 20}\n",
      "4    {34, 5, 14, 47, 21, 31}\n",
      "dtype: object\n"
     ]
    }
   ],
   "source": [
    "print(historical_lottery_numbers.head())"
   ]
  },
  {
   "cell_type": "markdown",
   "metadata": {},
   "source": [
    "#### We will also write a function to check for historical occurence"
   ]
  },
  {
   "cell_type": "code",
   "execution_count": 19,
   "metadata": {},
   "outputs": [],
   "source": [
    "def count_historical_occurence(user_input_list):\n",
    "    user_set = set(user_input_list)\n",
    "    \n",
    "    def user_input_check(row):\n",
    "        if set(user_input_list) == row:\n",
    "            return True\n",
    "        else:\n",
    "            return False\n",
    "    \n",
    "    user_input_matches = historical_lottery_numbers.apply(user_input_check)\n",
    "    \n",
    "    #user_input_matches = historical_lottery_numbers == user_set ## Another alternative. \n",
    "    \n",
    "    user_set_count = user_input_matches.sum()\n",
    "    return user_set_count"
   ]
  },
  {
   "cell_type": "code",
   "execution_count": 20,
   "metadata": {},
   "outputs": [],
   "source": [
    "def check_historical_occurence(user_input_list):\n",
    "    count_of_occurences = count_historical_occurence(user_input_list)\n",
    "    total_outcomes = combinations(49,6)\n",
    "    output_string = ''\n",
    "    if count_of_occurences == 0:        \n",
    "        output_string = 'Your ticket combination {a} has not occurred yet. But still there is a 0.0000072% or 1 in {b} chance of winning'.format(a = user_input_list, b = int(total_outcomes))\n",
    "    \n",
    "    else:\n",
    "        pc_outcomes = (count_of_occurences/total_outcomes)*100\n",
    "        output_string = 'Your ticket combination {a} has occurred {b} times. Hence you have a {c:.7f}% chance of winning'.format(a = user_input_list, b = int(count_of_occurences), c = pc_outcomes)\n",
    "    \n",
    "    return output_string\n",
    "    \n",
    "    "
   ]
  },
  {
   "cell_type": "markdown",
   "metadata": {},
   "source": [
    "#### Checking for test combinations"
   ]
  },
  {
   "cell_type": "code",
   "execution_count": 21,
   "metadata": {},
   "outputs": [
    {
     "data": {
      "text/plain": [
       "'Your ticket combination [1, 6, 39, 23, 24, 27] has occurred 1 times. Hence you have a 0.0000072% chance of winning'"
      ]
     },
     "execution_count": 21,
     "metadata": {},
     "output_type": "execute_result"
    }
   ],
   "source": [
    "check_historical_occurence([1, 6, 39, 23, 24, 27])"
   ]
  },
  {
   "cell_type": "code",
   "execution_count": 22,
   "metadata": {},
   "outputs": [
    {
     "data": {
      "text/plain": [
       "'Your ticket combination [3, 41, 11, 12, 43, 1] has not occurred yet. But still there is a 0.0000072% or 1 in 13983816 chance of winning'"
      ]
     },
     "execution_count": 22,
     "metadata": {},
     "output_type": "execute_result"
    }
   ],
   "source": [
    "check_historical_occurence([3, 41, 11, 12, 43, 1])"
   ]
  },
  {
   "cell_type": "markdown",
   "metadata": {},
   "source": [
    "#### Thus we created and tested a function for checking the probability of a combination winning the lottery. In cases where the combination had occurred before, we calculated the probability on the basis of historical results. In cases where it hadn't occurred before, we assumed an equal probability of all outcomes and assigned 0.0000072% as the probability. \n",
    "\n"
   ]
  },
  {
   "cell_type": "markdown",
   "metadata": {},
   "source": [
    "### Multi-ticket Probability"
   ]
  },
  {
   "cell_type": "markdown",
   "metadata": {},
   "source": [
    "#### We're going to write a function that will allow the users to calculate the chances of winning for any number of different tickets."
   ]
  },
  {
   "cell_type": "code",
   "execution_count": 23,
   "metadata": {},
   "outputs": [],
   "source": [
    "def multi_ticket_probability(n_tickets):\n",
    "    total_possible_outcomes = combinations(49, 6)\n",
    "    n_successful_outcomes = n_tickets\n",
    "    prob_multi_ticket = n_successful_outcomes/total_possible_outcomes\n",
    "    prob_multi_ticket_pc = prob_multi_ticket * 100\n",
    "    combinations_simplified = round(total_possible_outcomes / n_successful_outcomes)\n",
    "    op_string = 'Your chance of winning the lottery for {a} tickets is {b:.7f}%. In other words, you have a 1 in {c} chance of winning.'.format(a = n_successful_outcomes, b = prob_multi_ticket_pc,\n",
    "                                                                                                                                                    c = combinations_simplified )\n",
    "    print('-----------------------------')\n",
    "    print(op_string)\n",
    "    print('-----------------------------')\n",
    "    return prob_multi_ticket_pc"
   ]
  },
  {
   "cell_type": "code",
   "execution_count": 24,
   "metadata": {},
   "outputs": [],
   "source": [
    "test_ticket_count = [1, 10, 100, 10000, 1000000, 6991908, 13983816]"
   ]
  },
  {
   "cell_type": "code",
   "execution_count": 25,
   "metadata": {},
   "outputs": [
    {
     "name": "stdout",
     "output_type": "stream",
     "text": [
      "-----------------------------\n",
      "Your chance of winning the lottery for 1 tickets is 0.0000072%. In other words, you have a 1 in 13983816 chance of winning.\n",
      "-----------------------------\n",
      "-----------------------------\n",
      "Your chance of winning the lottery for 10 tickets is 0.0000715%. In other words, you have a 1 in 1398382 chance of winning.\n",
      "-----------------------------\n",
      "-----------------------------\n",
      "Your chance of winning the lottery for 100 tickets is 0.0007151%. In other words, you have a 1 in 139838 chance of winning.\n",
      "-----------------------------\n",
      "-----------------------------\n",
      "Your chance of winning the lottery for 10000 tickets is 0.0715112%. In other words, you have a 1 in 1398 chance of winning.\n",
      "-----------------------------\n",
      "-----------------------------\n",
      "Your chance of winning the lottery for 1000000 tickets is 7.1511238%. In other words, you have a 1 in 14 chance of winning.\n",
      "-----------------------------\n",
      "-----------------------------\n",
      "Your chance of winning the lottery for 6991908 tickets is 50.0000000%. In other words, you have a 1 in 2 chance of winning.\n",
      "-----------------------------\n",
      "-----------------------------\n",
      "Your chance of winning the lottery for 13983816 tickets is 100.0000000%. In other words, you have a 1 in 1 chance of winning.\n",
      "-----------------------------\n"
     ]
    }
   ],
   "source": [
    "for count in test_ticket_count:\n",
    "    multi_ticket_probability(count)"
   ]
  },
  {
   "cell_type": "markdown",
   "metadata": {},
   "source": [
    "#### Thus we created and tested a function for checking the probability of multiple tickets winning the lottery. We can observe that if a person purchases all the lottery tickets, then his chances of winning the lottery are 100%. "
   ]
  },
  {
   "cell_type": "markdown",
   "metadata": {},
   "source": [
    "### Less Winning Numbers — Function"
   ]
  },
  {
   "cell_type": "markdown",
   "metadata": {},
   "source": [
    "#### So far we have considered a binary scenario, either all numbers are winning numbers or the whole ticket is null and void even if one number is not there in the winning combination. We will code a function to consider less than 6 winning numbers. "
   ]
  },
  {
   "cell_type": "code",
   "execution_count": 26,
   "metadata": {},
   "outputs": [
    {
     "data": {
      "text/plain": [
       "\"\\n## Code discarded post testing, preserved for reference\\n\\ndef probability_less_6(count_winning_nos_exp):\\n    if count_winning_nos_exp in range(2,6):\\n        total_target_outcomes = 43 # Based on subtracting 1 correct outcome from 44 possibilities.\\n        for i in range(count_winning_nos_exp,5):\\n            total_target_outcomes*= (49-count_winning_nos_exp)\\n            print('Total target outcomes, post iteration', i, '= ', total_target_outcomes)\\n        #print(total_target_outcomes)\\n        total_target_outcomes*= combinations(6, count_winning_nos_exp)\\n        print('Total target outcomes, post final iteration = ', total_target_outcomes)\\n        prob_exact_outcomes = total_target_outcomes/combinations(49,6)\\n        prob_exact_outcomes_pc = prob_exact_outcomes*100\\n        denominator = round(combinations(49,6)/total_target_outcomes)\\n        print('Total target outcomes = ', total_target_outcomes )\\n        print('Total possible outcomes = ', combinations(49,6))\\n        op_string = 'The probability of your winning the lottery is {a:.6f} %. In other words you have a 1 in {b} chance of winning'.format(a = prob_exact_outcomes_pc, b = denominator )\\n        print(op_string)\\n        return prob_exact_outcomes\\n    else:\\n        print('Kindly input a count between 2 and 5')\\n        \\n\""
      ]
     },
     "execution_count": 26,
     "metadata": {},
     "output_type": "execute_result"
    }
   ],
   "source": [
    "'''\n",
    "## Code discarded post testing, preserved for reference\n",
    "\n",
    "def probability_less_6(count_winning_nos_exp):\n",
    "    if count_winning_nos_exp in range(2,6):\n",
    "        total_target_outcomes = 43 # Based on subtracting 1 correct outcome from 44 possibilities.\n",
    "        for i in range(count_winning_nos_exp,5):\n",
    "            total_target_outcomes*= (49-count_winning_nos_exp)\n",
    "            print('Total target outcomes, post iteration', i, '= ', total_target_outcomes)\n",
    "        #print(total_target_outcomes)\n",
    "        total_target_outcomes*= combinations(6, count_winning_nos_exp)\n",
    "        print('Total target outcomes, post final iteration = ', total_target_outcomes)\n",
    "        prob_exact_outcomes = total_target_outcomes/combinations(49,6)\n",
    "        prob_exact_outcomes_pc = prob_exact_outcomes*100\n",
    "        denominator = round(combinations(49,6)/total_target_outcomes)\n",
    "        print('Total target outcomes = ', total_target_outcomes )\n",
    "        print('Total possible outcomes = ', combinations(49,6))\n",
    "        op_string = 'The probability of your winning the lottery is {a:.6f} %. In other words you have a 1 in {b} chance of winning'.format(a = prob_exact_outcomes_pc, b = denominator )\n",
    "        print(op_string)\n",
    "        return prob_exact_outcomes\n",
    "    else:\n",
    "        print('Kindly input a count between 2 and 5')\n",
    "        \n",
    "'''\n",
    "    \n",
    "    \n",
    "    "
   ]
  },
  {
   "cell_type": "code",
   "execution_count": 27,
   "metadata": {},
   "outputs": [],
   "source": [
    "def probability_less_6(count_winning_nos_exp):\n",
    "    if count_winning_nos_exp in range(2,6):\n",
    "        total_outcomes_correct_nos = combinations(6, count_winning_nos_exp)\n",
    "        total_oucomes_incorrect_nos = combinations(43, (6 - count_winning_nos_exp))\n",
    "        \n",
    "        total_target_outcomes = total_outcomes_correct_nos * total_oucomes_incorrect_nos\n",
    "        \n",
    "        prob_exact_outcomes = total_target_outcomes/combinations(49,6)\n",
    "        prob_exact_outcomes_pc = prob_exact_outcomes*100\n",
    "        denominator = round(combinations(49,6)/total_target_outcomes)\n",
    "        \n",
    "        \n",
    "        \n",
    "        print('Total target outcomes = ', total_target_outcomes )\n",
    "        print('Total possible outcomes = ', combinations(49,6))\n",
    "        op_string = 'The probability of your winning the lottery is {a:.6f} %. In other words you have a 1 in {b} chance of winning'.format(a = prob_exact_outcomes_pc, b = denominator )\n",
    "        print(op_string)\n",
    "        return prob_exact_outcomes\n",
    "    else:\n",
    "        print('Kindly input a count between 2 and 5')"
   ]
  },
  {
   "cell_type": "code",
   "execution_count": 28,
   "metadata": {},
   "outputs": [
    {
     "name": "stdout",
     "output_type": "stream",
     "text": [
      "Total target outcomes =  13545.0\n",
      "Total possible outcomes =  13983816.0\n",
      "The probability of your winning the lottery is 0.096862 %. In other words you have a 1 in 1032 chance of winning\n"
     ]
    },
    {
     "data": {
      "text/plain": [
       "0.000968619724401408"
      ]
     },
     "execution_count": 28,
     "metadata": {},
     "output_type": "execute_result"
    }
   ],
   "source": [
    "probability_less_6(4)"
   ]
  },
  {
   "cell_type": "code",
   "execution_count": 29,
   "metadata": {},
   "outputs": [
    {
     "name": "stdout",
     "output_type": "stream",
     "text": [
      "------------------------------------\n",
      "Total target outcomes =  1851150.0\n",
      "Total possible outcomes =  13983816.0\n",
      "The probability of your winning the lottery is 13.237803 %. In other words you have a 1 in 8 chance of winning\n",
      "------------------------------------\n",
      "Total target outcomes =  246820.0\n",
      "Total possible outcomes =  13983816.0\n",
      "The probability of your winning the lottery is 1.765040 %. In other words you have a 1 in 57 chance of winning\n",
      "------------------------------------\n",
      "Total target outcomes =  13545.0\n",
      "Total possible outcomes =  13983816.0\n",
      "The probability of your winning the lottery is 0.096862 %. In other words you have a 1 in 1032 chance of winning\n",
      "------------------------------------\n",
      "Total target outcomes =  258.0\n",
      "Total possible outcomes =  13983816.0\n",
      "The probability of your winning the lottery is 0.001845 %. In other words you have a 1 in 54201 chance of winning\n"
     ]
    }
   ],
   "source": [
    "test_list = [2,3,4,5]\n",
    "for i in test_list:\n",
    "    print('------------------------------------')\n",
    "    probability_less_6(i)"
   ]
  },
  {
   "cell_type": "markdown",
   "metadata": {},
   "source": [
    "#### The above function will give the probability of 2-5 winning numbers in the ticket. We have considered two combinations, one of x numbers being correct out of 6, and the other of y numbers being selected out of (49-6) and multiplied them to get the total number of successful outcomes. The probability has been calculated by dividing this number with the total number of possible outcomes. "
   ]
  },
  {
   "cell_type": "markdown",
   "metadata": {},
   "source": [
    "### Conclusion\n",
    "\n",
    "We managed to write four main functions for our app:\n",
    "\n",
    "    one_ticket_probability() — calculates the probability of winning the big prize with a single ticket\n",
    "    check_historical_occurrence() — checks whether a certain combination has occurred in the Canada lottery data set\n",
    "    multi_ticket_probability() — calculates the probability for any number of of tickets between 1 and 13,983,816\n",
    "    probability_less_6() — calculates the probability of having two, three, four or five winning numbers"
   ]
  },
  {
   "cell_type": "code",
   "execution_count": null,
   "metadata": {},
   "outputs": [],
   "source": []
  },
  {
   "cell_type": "code",
   "execution_count": null,
   "metadata": {},
   "outputs": [],
   "source": []
  },
  {
   "cell_type": "code",
   "execution_count": null,
   "metadata": {},
   "outputs": [],
   "source": []
  },
  {
   "cell_type": "code",
   "execution_count": null,
   "metadata": {},
   "outputs": [],
   "source": []
  },
  {
   "cell_type": "code",
   "execution_count": null,
   "metadata": {},
   "outputs": [],
   "source": []
  }
 ],
 "metadata": {
  "hide_input": false,
  "kernelspec": {
   "display_name": "Python 3",
   "language": "python",
   "name": "python3"
  },
  "language_info": {
   "codemirror_mode": {
    "name": "ipython",
    "version": 3
   },
   "file_extension": ".py",
   "mimetype": "text/x-python",
   "name": "python",
   "nbconvert_exporter": "python",
   "pygments_lexer": "ipython3",
   "version": "3.8.8"
  }
 },
 "nbformat": 4,
 "nbformat_minor": 4
}
