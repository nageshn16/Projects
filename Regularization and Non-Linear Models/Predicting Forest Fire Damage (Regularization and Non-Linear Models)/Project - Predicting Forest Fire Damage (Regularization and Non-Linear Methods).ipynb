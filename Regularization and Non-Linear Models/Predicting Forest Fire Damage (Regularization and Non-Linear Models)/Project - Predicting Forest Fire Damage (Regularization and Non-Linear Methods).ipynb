{
 "cells": [
  {
   "cell_type": "markdown",
   "metadata": {},
   "source": [
    "## Project - Predicting Forest Fire Damage (Regularization and Non-Linear Methods) "
   ]
  },
  {
   "cell_type": "markdown",
   "metadata": {},
   "source": [
    "#### Our data comes from the Forest Fires dataset from the UCI Machine Learning Repository. This dataset contains information on fires, along with the resulting damage and associated meteorological data. We want to know how these characteristics might be useful in predicting future fire damage.\n",
    "\n",
    "Link to the dataset - \n",
    "https://archive.ics.uci.edu/dataset/162/forest+fires \n"
   ]
  },
  {
   "cell_type": "markdown",
   "metadata": {},
   "source": [
    "#### The columnn descriptions are given below \n",
    "\n",
    "\n",
    "   1. X - x-axis spatial coordinate within the Montesinho park map: 1 to 9\n",
    "   2. Y - y-axis spatial coordinate within the Montesinho park map: 2 to 9\n",
    "   3. month - month of the year: 'jan' to 'dec' \n",
    "   4. day - day of the week: 'mon' to 'sun'\n",
    "   5. FFMC - FFMC index from the FWI system: 18.7 to 96.20\n",
    "   6. DMC - DMC index from the FWI system: 1.1 to 291.3 \n",
    "   7. DC - DC index from the FWI system: 7.9 to 860.6 \n",
    "   8. ISI - ISI index from the FWI system: 0.0 to 56.10\n",
    "   9. temp - temperature in Celsius degrees: 2.2 to 33.30\n",
    "   10. RH - relative humidity in %: 15.0 to 100\n",
    "   11. wind - wind speed in km/h: 0.40 to 9.40 \n",
    "   12. rain - outside rain in mm/m2 : 0.0 to 6.4 \n",
    "   13. area - the burned area of the forest (in ha): 0.00 to 1090.84 \n",
    "   (this output variable is very skewed towards 0.0, thus it may make\n",
    "    sense to model with the logarithm transform)."
   ]
  },
  {
   "cell_type": "code",
   "execution_count": 1,
   "metadata": {},
   "outputs": [],
   "source": [
    "import pandas as pd\n",
    "import numpy as np\n",
    "import matplotlib.pyplot as plt\n",
    "import seaborn as sns\n",
    "\n",
    "from sklearn.linear_model import LinearRegression\n",
    "from sklearn.model_selection import train_test_split\n",
    "from sklearn.feature_selection import SequentialFeatureSelector\n",
    "from sklearn.metrics import mean_squared_error\n",
    "from sklearn.model_selection import cross_val_score\n",
    "\n"
   ]
  },
  {
   "cell_type": "code",
   "execution_count": 2,
   "metadata": {},
   "outputs": [
    {
     "name": "stdout",
     "output_type": "stream",
     "text": [
      "<class 'pandas.core.frame.DataFrame'>\n",
      "RangeIndex: 517 entries, 0 to 516\n",
      "Data columns (total 14 columns):\n",
      " #   Column      Non-Null Count  Dtype  \n",
      "---  ------      --------------  -----  \n",
      " 0   Unnamed: 0  517 non-null    int64  \n",
      " 1   X           517 non-null    int64  \n",
      " 2   Y           517 non-null    int64  \n",
      " 3   month       517 non-null    object \n",
      " 4   day         517 non-null    object \n",
      " 5   FFMC        469 non-null    float64\n",
      " 6   DMC         496 non-null    float64\n",
      " 7   DC          474 non-null    float64\n",
      " 8   ISI         515 non-null    float64\n",
      " 9   temp        496 non-null    float64\n",
      " 10  RH          487 non-null    float64\n",
      " 11  wind        482 non-null    float64\n",
      " 12  rain        485 non-null    float64\n",
      " 13  area        517 non-null    float64\n",
      "dtypes: float64(9), int64(3), object(2)\n",
      "memory usage: 56.7+ KB\n"
     ]
    }
   ],
   "source": [
    "fires = pd.read_csv('fires.csv')\n",
    "fires.info()"
   ]
  },
  {
   "cell_type": "code",
   "execution_count": 3,
   "metadata": {},
   "outputs": [],
   "source": [
    "fires_reference = fires[[\"wind\", \"temp\", \"area\"]].dropna()\n",
    "reference_X = fires_reference[[\"wind\", \"temp\"]]\n",
    "\n",
    "reference = LinearRegression()"
   ]
  },
  {
   "cell_type": "code",
   "execution_count": 4,
   "metadata": {},
   "outputs": [
    {
     "name": "stdout",
     "output_type": "stream",
     "text": [
      "The Unnamed: 0 column has 0 missing values.\n",
      "The X column has 0 missing values.\n",
      "The Y column has 0 missing values.\n",
      "The month column has 0 missing values.\n",
      "The day column has 0 missing values.\n",
      "The FFMC column has 48 missing values.\n",
      "The DMC column has 21 missing values.\n",
      "The DC column has 43 missing values.\n",
      "The ISI column has 2 missing values.\n",
      "The temp column has 21 missing values.\n",
      "The RH column has 30 missing values.\n",
      "The wind column has 35 missing values.\n",
      "The rain column has 32 missing values.\n",
      "The area column has 0 missing values.\n"
     ]
    }
   ],
   "source": [
    "missing_cols =[]\n",
    "\n",
    "for col in fires.columns:\n",
    "    num_na = sum(pd.isna(fires[col]))\n",
    "    if num_na >0:\n",
    "        missing_cols.append(col)\n",
    "    print(f\"The {col} column has {num_na} missing values.\")"
   ]
  },
  {
   "cell_type": "markdown",
   "metadata": {},
   "source": [
    "### Data Processing"
   ]
  },
  {
   "cell_type": "code",
   "execution_count": 5,
   "metadata": {},
   "outputs": [
    {
     "data": {
      "image/png": "[encoded data removed]",
      "text/plain": [
       "<Figure size 432x288 with 1 Axes>"
      ]
     },
     "metadata": {
      "needs_background": "light"
     },
     "output_type": "display_data"
    }
   ],
   "source": [
    "### Exploring the 'Area column'\n",
    "\n",
    "fires['area'].plot.hist()\n",
    "plt.show()\n"
   ]
  },
  {
   "cell_type": "code",
   "execution_count": 6,
   "metadata": {},
   "outputs": [
    {
     "data": {
      "image/png": "[encoded data removed]",
      "text/plain": [
       "<Figure size 432x288 with 1 Axes>"
      ]
     },
     "metadata": {
      "needs_background": "light"
     },
     "output_type": "display_data"
    }
   ],
   "source": [
    "### Applying BoxCox transformation \n",
    "\n",
    "from scipy import stats\n",
    "\n",
    "epsilon = 1e-6 ### Adding a small positive constant to handle zero values\n",
    "fires['area_positive'] = fires['area'] + epsilon\n",
    "fitted_data, fitted_lambda = stats.boxcox(fires['area_positive'])\n",
    "\n",
    "pd.Series(fitted_data).plot.hist(bins = 30)\n",
    "plt.show()"
   ]
  },
  {
   "cell_type": "code",
   "execution_count": 7,
   "metadata": {},
   "outputs": [
    {
     "data": {
      "text/plain": [
       "array([[<AxesSubplot:title={'center':'log_area'}>]], dtype=object)"
      ]
     },
     "execution_count": 7,
     "metadata": {},
     "output_type": "execute_result"
    },
    {
     "data": {
      "image/png": "[encoded data removed]",
      "text/plain": [
       "<Figure size 432x288 with 1 Axes>"
      ]
     },
     "metadata": {
      "needs_background": "light"
     },
     "output_type": "display_data"
    }
   ],
   "source": [
    "fires[\"log_area\"] = np.log(fires[\"area\"] + 1)\n",
    "\n",
    "fires.hist(\"log_area\", bins=30)"
   ]
  },
  {
   "cell_type": "markdown",
   "metadata": {},
   "source": [
    "#### Thus we can observe that a log-normal transformation makes the data slightly more normal than the original form. We will be utilizing the same as the outcome variable, for modeling. "
   ]
  },
  {
   "cell_type": "code",
   "execution_count": 8,
   "metadata": {},
   "outputs": [
    {
     "data": {
      "text/html": [
       "<div>\n",
       "<style scoped>\n",
       "    .dataframe tbody tr th:only-of-type {\n",
       "        vertical-align: middle;\n",
       "    }\n",
       "\n",
       "    .dataframe tbody tr th {\n",
       "        vertical-align: top;\n",
       "    }\n",
       "\n",
       "    .dataframe thead th {\n",
       "        text-align: right;\n",
       "    }\n",
       "</style>\n",
       "<table border=\"1\" class=\"dataframe\">\n",
       "  <thead>\n",
       "    <tr style=\"text-align: right;\">\n",
       "      <th></th>\n",
       "      <th>month</th>\n",
       "      <th>day</th>\n",
       "    </tr>\n",
       "  </thead>\n",
       "  <tbody>\n",
       "    <tr>\n",
       "      <th>0</th>\n",
       "      <td>mar</td>\n",
       "      <td>fri</td>\n",
       "    </tr>\n",
       "    <tr>\n",
       "      <th>1</th>\n",
       "      <td>oct</td>\n",
       "      <td>tue</td>\n",
       "    </tr>\n",
       "    <tr>\n",
       "      <th>2</th>\n",
       "      <td>oct</td>\n",
       "      <td>sat</td>\n",
       "    </tr>\n",
       "    <tr>\n",
       "      <th>3</th>\n",
       "      <td>mar</td>\n",
       "      <td>fri</td>\n",
       "    </tr>\n",
       "    <tr>\n",
       "      <th>4</th>\n",
       "      <td>mar</td>\n",
       "      <td>sun</td>\n",
       "    </tr>\n",
       "  </tbody>\n",
       "</table>\n",
       "</div>"
      ],
      "text/plain": [
       "  month  day\n",
       "0   mar  fri\n",
       "1   oct  tue\n",
       "2   oct  sat\n",
       "3   mar  fri\n",
       "4   mar  sun"
      ]
     },
     "execution_count": 8,
     "metadata": {},
     "output_type": "execute_result"
    }
   ],
   "source": [
    "fires[['month', 'day']].head()"
   ]
  },
  {
   "cell_type": "markdown",
   "metadata": {},
   "source": [
    "#### Instead of using month directly, we'll derive another feature called summer that takes a value of 1 when the fire occurred during the summer. The idea here is that summer months are typically hotter, so fires are more likely."
   ]
  },
  {
   "cell_type": "code",
   "execution_count": 9,
   "metadata": {},
   "outputs": [],
   "source": [
    "def is_summer_month(month):\n",
    "    if month in [\"jun\", \"jul\", \"aug\"]:\n",
    "        return 1\n",
    "    else:\n",
    "        return 0\n",
    "\n",
    "fires[\"summer\"] = fires[\"month\"].apply(is_summer_month)"
   ]
  },
  {
   "cell_type": "markdown",
   "metadata": {},
   "source": [
    "#### Imputing data from missing columns using KNN Imputer. "
   ]
  },
  {
   "cell_type": "code",
   "execution_count": 10,
   "metadata": {},
   "outputs": [
    {
     "data": {
      "text/html": [
       "<div>\n",
       "<style scoped>\n",
       "    .dataframe tbody tr th:only-of-type {\n",
       "        vertical-align: middle;\n",
       "    }\n",
       "\n",
       "    .dataframe tbody tr th {\n",
       "        vertical-align: top;\n",
       "    }\n",
       "\n",
       "    .dataframe thead th {\n",
       "        text-align: right;\n",
       "    }\n",
       "</style>\n",
       "<table border=\"1\" class=\"dataframe\">\n",
       "  <thead>\n",
       "    <tr style=\"text-align: right;\">\n",
       "      <th></th>\n",
       "      <th>FFMC</th>\n",
       "      <th>DMC</th>\n",
       "      <th>DC</th>\n",
       "      <th>ISI</th>\n",
       "      <th>temp</th>\n",
       "      <th>RH</th>\n",
       "      <th>wind</th>\n",
       "      <th>rain</th>\n",
       "    </tr>\n",
       "  </thead>\n",
       "  <tbody>\n",
       "    <tr>\n",
       "      <th>0</th>\n",
       "      <td>86.2</td>\n",
       "      <td>26.200000</td>\n",
       "      <td>94.300000</td>\n",
       "      <td>5.1</td>\n",
       "      <td>16.6</td>\n",
       "      <td>51.0</td>\n",
       "      <td>6.700000</td>\n",
       "      <td>0.0</td>\n",
       "    </tr>\n",
       "    <tr>\n",
       "      <th>1</th>\n",
       "      <td>90.6</td>\n",
       "      <td>56.433333</td>\n",
       "      <td>669.100000</td>\n",
       "      <td>6.7</td>\n",
       "      <td>18.0</td>\n",
       "      <td>33.0</td>\n",
       "      <td>0.900000</td>\n",
       "      <td>0.0</td>\n",
       "    </tr>\n",
       "    <tr>\n",
       "      <th>2</th>\n",
       "      <td>90.6</td>\n",
       "      <td>43.700000</td>\n",
       "      <td>470.833333</td>\n",
       "      <td>6.7</td>\n",
       "      <td>14.6</td>\n",
       "      <td>33.0</td>\n",
       "      <td>1.300000</td>\n",
       "      <td>0.0</td>\n",
       "    </tr>\n",
       "    <tr>\n",
       "      <th>3</th>\n",
       "      <td>91.7</td>\n",
       "      <td>33.300000</td>\n",
       "      <td>77.500000</td>\n",
       "      <td>9.0</td>\n",
       "      <td>8.3</td>\n",
       "      <td>97.0</td>\n",
       "      <td>4.000000</td>\n",
       "      <td>0.2</td>\n",
       "    </tr>\n",
       "    <tr>\n",
       "      <th>4</th>\n",
       "      <td>89.3</td>\n",
       "      <td>51.300000</td>\n",
       "      <td>102.200000</td>\n",
       "      <td>9.6</td>\n",
       "      <td>11.4</td>\n",
       "      <td>99.0</td>\n",
       "      <td>4.333333</td>\n",
       "      <td>0.0</td>\n",
       "    </tr>\n",
       "  </tbody>\n",
       "</table>\n",
       "</div>"
      ],
      "text/plain": [
       "   FFMC        DMC          DC  ISI  temp    RH      wind  rain\n",
       "0  86.2  26.200000   94.300000  5.1  16.6  51.0  6.700000   0.0\n",
       "1  90.6  56.433333  669.100000  6.7  18.0  33.0  0.900000   0.0\n",
       "2  90.6  43.700000  470.833333  6.7  14.6  33.0  1.300000   0.0\n",
       "3  91.7  33.300000   77.500000  9.0   8.3  97.0  4.000000   0.2\n",
       "4  89.3  51.300000  102.200000  9.6  11.4  99.0  4.333333   0.0"
      ]
     },
     "execution_count": 10,
     "metadata": {},
     "output_type": "execute_result"
    }
   ],
   "source": [
    "from sklearn.impute import KNNImputer\n",
    "\n",
    "imp_object = KNNImputer(missing_values = np.nan, n_neighbors = 3)\n",
    "\n",
    "fires_missing = fires[missing_cols]\n",
    "\n",
    "imputed_array = imp_object.fit_transform(fires_missing)\n",
    "imputed_dataframe = pd.DataFrame(data = imputed_array, columns = missing_cols)\n",
    "\n",
    "imputed_dataframe.head()"
   ]
  },
  {
   "cell_type": "markdown",
   "metadata": {},
   "source": [
    "#### We'll examine the data for outliers using boxplots. "
   ]
  },
  {
   "cell_type": "code",
   "execution_count": 11,
   "metadata": {},
   "outputs": [
    {
     "data": {
      "image/png": "[encoded data removed]",
      "text/plain": [
       "<Figure size 432x288 with 1 Axes>"
      ]
     },
     "metadata": {
      "needs_background": "light"
     },
     "output_type": "display_data"
    }
   ],
   "source": [
    "sns.boxplot(data = imputed_dataframe)\n",
    "plt.show()"
   ]
  },
  {
   "cell_type": "markdown",
   "metadata": {},
   "source": [
    "#### These dots indicate that there are outliers in the data. Let's examine the number of outliers in each of the columns. "
   ]
  },
  {
   "cell_type": "code",
   "execution_count": 12,
   "metadata": {},
   "outputs": [
    {
     "name": "stdout",
     "output_type": "stream",
     "text": [
      "The number of outlier values in the given features are\n",
      "FFMC 53\n",
      "DMC 22\n",
      "DC 25\n",
      "ISI 23\n",
      "temp 9\n",
      "RH 10\n",
      "wind 13\n",
      "rain 8\n"
     ]
    }
   ],
   "source": [
    "\n",
    "print('The number of outlier values in the given features are')\n",
    "for col in missing_cols:\n",
    "    \n",
    "    data = imputed_dataframe[col]\n",
    "    percentiles = [25,50,75]\n",
    "\n",
    "    data_quartiles = np.percentile(data, percentiles)\n",
    "    #print(data_quartiles)\n",
    "    q1 = data_quartiles[0]\n",
    "    q3 = data_quartiles[2] \n",
    "    iqr =q3 - q1\n",
    "    upper_bound = q3 + 1.5*iqr\n",
    "    lower_bound = q1 - 1.5*iqr\n",
    "\n",
    "    outliers = (data > upper_bound) | (data < lower_bound)\n",
    "    print(col, sum(outliers))\n"
   ]
  },
  {
   "cell_type": "markdown",
   "metadata": {},
   "source": [
    "#### We will drop the rows containing these outlier values."
   ]
  },
  {
   "cell_type": "code",
   "execution_count": 13,
   "metadata": {},
   "outputs": [],
   "source": [
    "def drop_outliers(df,col):\n",
    "    data = df[col]\n",
    "    percentiles = [25,50,75]\n",
    "\n",
    "    data_quartiles = np.percentile(data, percentiles)\n",
    "    #print(data_quartiles)\n",
    "    q1 = data_quartiles[0]\n",
    "    q3 = data_quartiles[2] \n",
    "    iqr =q3 - q1\n",
    "    upper_bound = q3 + 1.5*iqr\n",
    "    lower_bound = q1 - 1.5*iqr\n",
    "\n",
    "    outliers = (data > upper_bound) | (data < lower_bound)\n",
    "    print(col, sum(outliers))\n",
    "    print('Original Dataframe shape', df.shape)\n",
    "\n",
    "    outlier_indices = df[outliers].index\n",
    "    imputed_data_frame_dropped = df.drop(outlier_indices)\n",
    "    print('Shape of Outlier dropped dataframe', imputed_data_frame_dropped.shape)\n",
    "    return imputed_data_frame_dropped    "
   ]
  },
  {
   "cell_type": "code",
   "execution_count": 14,
   "metadata": {},
   "outputs": [
    {
     "data": {
      "text/plain": [
       "Index(['FFMC', 'DMC', 'DC', 'ISI', 'temp', 'RH', 'wind', 'rain'], dtype='object')"
      ]
     },
     "execution_count": 14,
     "metadata": {},
     "output_type": "execute_result"
    }
   ],
   "source": [
    "imputed_dataframe.columns"
   ]
  },
  {
   "cell_type": "code",
   "execution_count": 15,
   "metadata": {},
   "outputs": [
    {
     "name": "stdout",
     "output_type": "stream",
     "text": [
      "FFMC 53\n",
      "Original Dataframe shape (517, 8)\n",
      "Shape of Outlier dropped dataframe (464, 8)\n"
     ]
    }
   ],
   "source": [
    "imp_post_FFMC = drop_outliers(imputed_dataframe, 'FFMC')\n",
    "#print(imp_post_FFMC.shape)"
   ]
  },
  {
   "cell_type": "code",
   "execution_count": 16,
   "metadata": {},
   "outputs": [
    {
     "name": "stdout",
     "output_type": "stream",
     "text": [
      "DMC 25\n",
      "Original Dataframe shape (464, 8)\n",
      "Shape of Outlier dropped dataframe (439, 8)\n"
     ]
    }
   ],
   "source": [
    "imp_post_DMC = drop_outliers(imp_post_FFMC, 'DMC')"
   ]
  },
  {
   "cell_type": "code",
   "execution_count": 17,
   "metadata": {},
   "outputs": [
    {
     "name": "stdout",
     "output_type": "stream",
     "text": [
      "DC 57\n",
      "Original Dataframe shape (439, 8)\n",
      "Shape of Outlier dropped dataframe (382, 8)\n"
     ]
    }
   ],
   "source": [
    "imp_post_DC = drop_outliers(imp_post_DMC, 'DC')"
   ]
  },
  {
   "cell_type": "markdown",
   "metadata": {},
   "source": [
    "#### Removing the outliers is reducing the size of the dataset substantially, hence for now we will not drop them and continue working with the Imputed Dataset. "
   ]
  },
  {
   "cell_type": "markdown",
   "metadata": {},
   "source": [
    "##### Standardization of the Imputed Data Set"
   ]
  },
  {
   "cell_type": "code",
   "execution_count": 18,
   "metadata": {},
   "outputs": [],
   "source": [
    "from sklearn.preprocessing import StandardScaler\n",
    "scaler = StandardScaler()\n",
    "\n",
    "standardized_imp_df = scaler.fit_transform(imputed_dataframe)\n"
   ]
  },
  {
   "cell_type": "code",
   "execution_count": 19,
   "metadata": {},
   "outputs": [
    {
     "data": {
      "text/plain": [
       "array([1., 1., 1., 1., 1., 1., 1., 1.])"
      ]
     },
     "execution_count": 19,
     "metadata": {},
     "output_type": "execute_result"
    }
   ],
   "source": [
    "standardized_imp_df.std(axis = 0)"
   ]
  },
  {
   "cell_type": "code",
   "execution_count": 20,
   "metadata": {},
   "outputs": [
    {
     "data": {
      "text/html": [
       "<div>\n",
       "<style scoped>\n",
       "    .dataframe tbody tr th:only-of-type {\n",
       "        vertical-align: middle;\n",
       "    }\n",
       "\n",
       "    .dataframe tbody tr th {\n",
       "        vertical-align: top;\n",
       "    }\n",
       "\n",
       "    .dataframe thead th {\n",
       "        text-align: right;\n",
       "    }\n",
       "</style>\n",
       "<table border=\"1\" class=\"dataframe\">\n",
       "  <thead>\n",
       "    <tr style=\"text-align: right;\">\n",
       "      <th></th>\n",
       "      <th>FFMC</th>\n",
       "      <th>DMC</th>\n",
       "      <th>DC</th>\n",
       "      <th>ISI</th>\n",
       "      <th>temp</th>\n",
       "      <th>RH</th>\n",
       "      <th>wind</th>\n",
       "      <th>rain</th>\n",
       "    </tr>\n",
       "  </thead>\n",
       "  <tbody>\n",
       "    <tr>\n",
       "      <th>0</th>\n",
       "      <td>-0.812283</td>\n",
       "      <td>-1.335942</td>\n",
       "      <td>-1.846711</td>\n",
       "      <td>-0.860187</td>\n",
       "      <td>-0.398187</td>\n",
       "      <td>0.418726</td>\n",
       "      <td>1.514159</td>\n",
       "      <td>-0.073268</td>\n",
       "    </tr>\n",
       "    <tr>\n",
       "      <th>1</th>\n",
       "      <td>-0.010735</td>\n",
       "      <td>-0.859009</td>\n",
       "      <td>0.509582</td>\n",
       "      <td>-0.508736</td>\n",
       "      <td>-0.155493</td>\n",
       "      <td>-0.715565</td>\n",
       "      <td>-1.761003</td>\n",
       "      <td>-0.073268</td>\n",
       "    </tr>\n",
       "  </tbody>\n",
       "</table>\n",
       "</div>"
      ],
      "text/plain": [
       "       FFMC       DMC        DC       ISI      temp        RH      wind  \\\n",
       "0 -0.812283 -1.335942 -1.846711 -0.860187 -0.398187  0.418726  1.514159   \n",
       "1 -0.010735 -0.859009  0.509582 -0.508736 -0.155493 -0.715565 -1.761003   \n",
       "\n",
       "       rain  \n",
       "0 -0.073268  \n",
       "1 -0.073268  "
      ]
     },
     "execution_count": 20,
     "metadata": {},
     "output_type": "execute_result"
    }
   ],
   "source": [
    "standardized_imp_df = pd.DataFrame(data = standardized_imp_df, columns = imputed_dataframe.columns)\n",
    "standardized_imp_df.head(2)"
   ]
  },
  {
   "cell_type": "code",
   "execution_count": 21,
   "metadata": {},
   "outputs": [
    {
     "data": {
      "text/html": [
       "<div>\n",
       "<style scoped>\n",
       "    .dataframe tbody tr th:only-of-type {\n",
       "        vertical-align: middle;\n",
       "    }\n",
       "\n",
       "    .dataframe tbody tr th {\n",
       "        vertical-align: top;\n",
       "    }\n",
       "\n",
       "    .dataframe thead th {\n",
       "        text-align: right;\n",
       "    }\n",
       "</style>\n",
       "<table border=\"1\" class=\"dataframe\">\n",
       "  <thead>\n",
       "    <tr style=\"text-align: right;\">\n",
       "      <th></th>\n",
       "      <th>FFMC</th>\n",
       "      <th>DMC</th>\n",
       "      <th>DC</th>\n",
       "      <th>ISI</th>\n",
       "      <th>temp</th>\n",
       "      <th>RH</th>\n",
       "      <th>wind</th>\n",
       "      <th>rain</th>\n",
       "      <th>summer</th>\n",
       "    </tr>\n",
       "  </thead>\n",
       "  <tbody>\n",
       "    <tr>\n",
       "      <th>0</th>\n",
       "      <td>-0.812283</td>\n",
       "      <td>-1.335942</td>\n",
       "      <td>-1.846711</td>\n",
       "      <td>-0.860187</td>\n",
       "      <td>-0.398187</td>\n",
       "      <td>0.418726</td>\n",
       "      <td>1.514159</td>\n",
       "      <td>-0.073268</td>\n",
       "      <td>0</td>\n",
       "    </tr>\n",
       "    <tr>\n",
       "      <th>1</th>\n",
       "      <td>-0.010735</td>\n",
       "      <td>-0.859009</td>\n",
       "      <td>0.509582</td>\n",
       "      <td>-0.508736</td>\n",
       "      <td>-0.155493</td>\n",
       "      <td>-0.715565</td>\n",
       "      <td>-1.761003</td>\n",
       "      <td>-0.073268</td>\n",
       "      <td>0</td>\n",
       "    </tr>\n",
       "  </tbody>\n",
       "</table>\n",
       "</div>"
      ],
      "text/plain": [
       "       FFMC       DMC        DC       ISI      temp        RH      wind  \\\n",
       "0 -0.812283 -1.335942 -1.846711 -0.860187 -0.398187  0.418726  1.514159   \n",
       "1 -0.010735 -0.859009  0.509582 -0.508736 -0.155493 -0.715565 -1.761003   \n",
       "\n",
       "       rain  summer  \n",
       "0 -0.073268       0  \n",
       "1 -0.073268       0  "
      ]
     },
     "execution_count": 21,
     "metadata": {},
     "output_type": "execute_result"
    }
   ],
   "source": [
    "final = pd.concat([standardized_imp_df, fires['summer']], axis = 1)\n",
    "final.head(2)"
   ]
  },
  {
   "cell_type": "markdown",
   "metadata": {},
   "source": [
    "#### Data Pre-Processing || Outcome Summary\n",
    "\n",
    "#### We have carried out the below steps and it would help our ML model in the following ways : \n",
    "\n",
    "1. Missing Data removed via KNN imputation, which would help provide sufficient data for training the model\n",
    "2. Outliers examined via BoxPlots but retained due to the high impact on the sample size\n",
    "3. Standardization of the Imputed data set in order to reduce the impact of magnitude of some features.\n",
    "4. Created a new feature that indicates summer months, as a forest is more likely to catch fires during summer. "
   ]
  },
  {
   "cell_type": "code",
   "execution_count": 22,
   "metadata": {},
   "outputs": [
    {
     "data": {
      "text/html": [
       "<div>\n",
       "<style scoped>\n",
       "    .dataframe tbody tr th:only-of-type {\n",
       "        vertical-align: middle;\n",
       "    }\n",
       "\n",
       "    .dataframe tbody tr th {\n",
       "        vertical-align: top;\n",
       "    }\n",
       "\n",
       "    .dataframe thead th {\n",
       "        text-align: right;\n",
       "    }\n",
       "</style>\n",
       "<table border=\"1\" class=\"dataframe\">\n",
       "  <thead>\n",
       "    <tr style=\"text-align: right;\">\n",
       "      <th></th>\n",
       "      <th>FFMC</th>\n",
       "      <th>DMC</th>\n",
       "      <th>DC</th>\n",
       "      <th>ISI</th>\n",
       "      <th>temp</th>\n",
       "      <th>RH</th>\n",
       "      <th>wind</th>\n",
       "      <th>rain</th>\n",
       "      <th>summer</th>\n",
       "      <th>area</th>\n",
       "    </tr>\n",
       "  </thead>\n",
       "  <tbody>\n",
       "    <tr>\n",
       "      <th>0</th>\n",
       "      <td>-0.812283</td>\n",
       "      <td>-1.335942</td>\n",
       "      <td>-1.846711</td>\n",
       "      <td>-0.860187</td>\n",
       "      <td>-0.398187</td>\n",
       "      <td>0.418726</td>\n",
       "      <td>1.514159</td>\n",
       "      <td>-0.073268</td>\n",
       "      <td>0</td>\n",
       "      <td>0.0</td>\n",
       "    </tr>\n",
       "    <tr>\n",
       "      <th>1</th>\n",
       "      <td>-0.010735</td>\n",
       "      <td>-0.859009</td>\n",
       "      <td>0.509582</td>\n",
       "      <td>-0.508736</td>\n",
       "      <td>-0.155493</td>\n",
       "      <td>-0.715565</td>\n",
       "      <td>-1.761003</td>\n",
       "      <td>-0.073268</td>\n",
       "      <td>0</td>\n",
       "      <td>0.0</td>\n",
       "    </tr>\n",
       "  </tbody>\n",
       "</table>\n",
       "</div>"
      ],
      "text/plain": [
       "       FFMC       DMC        DC       ISI      temp        RH      wind  \\\n",
       "0 -0.812283 -1.335942 -1.846711 -0.860187 -0.398187  0.418726  1.514159   \n",
       "1 -0.010735 -0.859009  0.509582 -0.508736 -0.155493 -0.715565 -1.761003   \n",
       "\n",
       "       rain  summer  area  \n",
       "0 -0.073268       0   0.0  \n",
       "1 -0.073268       0   0.0  "
      ]
     },
     "execution_count": 22,
     "metadata": {},
     "output_type": "execute_result"
    }
   ],
   "source": [
    "final_area_df = pd.concat([final, fires['area']], axis = 1)\n",
    "final_area_df.head(2)"
   ]
  },
  {
   "cell_type": "markdown",
   "metadata": {},
   "source": [
    "### Subset selection"
   ]
  },
  {
   "cell_type": "markdown",
   "metadata": {},
   "source": [
    "#### At this stage, we will try to select best features for the model, using both Forward Selection and Backward Selection"
   ]
  },
  {
   "cell_type": "code",
   "execution_count": 23,
   "metadata": {},
   "outputs": [
    {
     "name": "stdout",
     "output_type": "stream",
     "text": [
      "The MSE with Fwd selection for n_features=  2 is 2.19138744513824\n",
      "The CV score for n_features = 2 is -2.1735431721198535\n",
      "The Features are ['FFMC' 'DC']\n",
      "The MSE with Fwd selection for n_features=  3 is 2.175564365986747\n",
      "The CV score for n_features = 3 is -2.173227096397195\n",
      "The Features are ['FFMC' 'DC' 'wind']\n",
      "The MSE with Fwd selection for n_features=  4 is 2.181261861787522\n",
      "The CV score for n_features = 4 is -2.193528106772711\n",
      "The Features are ['FFMC' 'DC' 'RH' 'wind']\n",
      "The MSE with Fwd selection for n_features=  5 is 2.2365464027569715\n",
      "The CV score for n_features = 5 is -2.199428658923486\n",
      "The Features are ['FFMC' 'DC' 'ISI' 'RH' 'wind']\n",
      "The MSE with Fwd selection for n_features=  6 is 2.2285035728461606\n",
      "The CV score for n_features = 6 is -2.239722553934875\n",
      "The Features are ['FFMC' 'DC' 'ISI' 'RH' 'wind' 'summer']\n",
      "The MSE with Fwd selection for n_features=  7 is 2.2712591722246063\n",
      "The CV score for n_features = 7 is -2.2783208387124594\n",
      "The Features are ['FFMC' 'DMC' 'DC' 'ISI' 'RH' 'wind' 'summer']\n",
      "The MSE with Fwd selection for n_features=  8 is 2.271116638679823\n",
      "The CV score for n_features = 8 is -2.3922197765738975\n",
      "The Features are ['FFMC' 'DMC' 'DC' 'ISI' 'temp' 'RH' 'wind' 'summer']\n"
     ]
    }
   ],
   "source": [
    "##Using forward selection\n",
    "\n",
    "model = LinearRegression()\n",
    "\n",
    "for i in list(range(2,9)):\n",
    "    X = final\n",
    "    y = fires['log_area']\n",
    "\n",
    "    sfs_fwd = SequentialFeatureSelector(estimator = model, \n",
    "                                   n_features_to_select = i,\n",
    "                                   direction = 'forward')\n",
    "    sfs_fwd.fit(X,y)\n",
    "    selected_features = sfs_fwd.get_feature_names_out()\n",
    "\n",
    "    lm = LinearRegression()\n",
    "    X = X[selected_features]\n",
    "    X_train, X_test, y_train, y_test = train_test_split(X,y, test_size = 0.2, random_state = 763)\n",
    "    lm.fit(X_train,y_train)\n",
    "    predictions = lm.predict(X_test)\n",
    "    mse = mean_squared_error(y_test, predictions)\n",
    "    \n",
    "    \n",
    "    lm = LinearRegression()\n",
    "    cv_score = cross_val_score(lm,X,y,cv = 5, scoring = 'neg_mean_squared_error')\n",
    "    print('The MSE with Fwd selection for n_features= ', i, 'is', mse)\n",
    "    print('The CV score for n_features =', i, 'is', np.mean(cv_score))\n",
    "    print('The Features are', selected_features)"
   ]
  },
  {
   "cell_type": "code",
   "execution_count": 24,
   "metadata": {},
   "outputs": [
    {
     "name": "stdout",
     "output_type": "stream",
     "text": [
      "The MSE with Bwd selection for n_features=  2 is 2.156001020453709\n",
      "The CV score for n_features = 2 is -2.173357302739327\n",
      "The Features are ['DC' 'wind']\n",
      "The MSE with Bwd selection for n_features=  3 is 2.175564365986747\n",
      "The CV score for n_features = 3 is -2.173227096397195\n",
      "The Features are ['FFMC' 'DC' 'wind']\n",
      "The MSE with Bwd selection for n_features=  4 is 2.181261861787522\n",
      "The CV score for n_features = 4 is -2.193528106772711\n",
      "The Features are ['FFMC' 'DC' 'RH' 'wind']\n",
      "The MSE with Bwd selection for n_features=  5 is 2.2365464027569715\n",
      "The CV score for n_features = 5 is -2.199428658923486\n",
      "The Features are ['FFMC' 'DC' 'ISI' 'RH' 'wind']\n",
      "The MSE with Bwd selection for n_features=  6 is 2.2285035728461606\n",
      "The CV score for n_features = 6 is -2.239722553934875\n",
      "The Features are ['FFMC' 'DC' 'ISI' 'RH' 'wind' 'summer']\n",
      "The MSE with Bwd selection for n_features=  7 is 2.2712591722246063\n",
      "The CV score for n_features = 7 is -2.2783208387124594\n",
      "The Features are ['FFMC' 'DMC' 'DC' 'ISI' 'RH' 'wind' 'summer']\n",
      "The MSE with Bwd selection for n_features=  8 is 2.271116638679823\n",
      "The CV score for n_features = 8 is -2.3922197765738975\n",
      "The Features are ['FFMC' 'DMC' 'DC' 'ISI' 'temp' 'RH' 'wind' 'summer']\n"
     ]
    }
   ],
   "source": [
    "##Using backward selection\n",
    "\n",
    "from sklearn.model_selection import cross_val_score\n",
    "\n",
    "for i in list(range(2,9)):\n",
    "    X = final\n",
    "    y = fires['log_area']\n",
    "\n",
    "    sfs_fwd = SequentialFeatureSelector(estimator = model, \n",
    "                                   n_features_to_select = i,\n",
    "                                   direction = 'backward')\n",
    "    sfs_fwd.fit(X,y)\n",
    "    selected_features = sfs_fwd.get_feature_names_out()\n",
    "\n",
    "    lm = LinearRegression()\n",
    "    X = X[selected_features]\n",
    "    X_train, X_test, y_train, y_test = train_test_split(X,y, test_size = 0.2, random_state = 763)\n",
    "    lm.fit(X_train,y_train)\n",
    "    predictions = lm.predict(X_test)\n",
    "    mse = mean_squared_error(y_test, predictions)\n",
    "    \n",
    "    lm = LinearRegression()\n",
    "    cv_score = cross_val_score(lm,X,y,cv = 5, scoring = 'neg_mean_squared_error')\n",
    "    print('The MSE with Bwd selection for n_features= ', i, 'is', mse)\n",
    "    print('The CV score for n_features =', i, 'is', np.mean(cv_score))\n",
    "    print('The Features are', selected_features)"
   ]
  },
  {
   "cell_type": "markdown",
   "metadata": {},
   "source": [
    "#### The MSE in minimum for 2 features in Backward Selection and for 3 features in Forward Selection. To be one the safe side, we will go with 3 features, as they are common in both Forward and Backward Selection.  The Features are ['FFMC' 'DC' 'wind']"
   ]
  },
  {
   "cell_type": "code",
   "execution_count": 25,
   "metadata": {},
   "outputs": [
    {
     "data": {
      "text/html": [
       "<style>#sk-container-id-1 {color: black;background-color: white;}#sk-container-id-1 pre{padding: 0;}#sk-container-id-1 div.sk-toggleable {background-color: white;}#sk-container-id-1 label.sk-toggleable__label {cursor: pointer;display: block;width: 100%;margin-bottom: 0;padding: 0.3em;box-sizing: border-box;text-align: center;}#sk-container-id-1 label.sk-toggleable__label-arrow:before {content: \"▸\";float: left;margin-right: 0.25em;color: #696969;}#sk-container-id-1 label.sk-toggleable__label-arrow:hover:before {color: black;}#sk-container-id-1 div.sk-estimator:hover label.sk-toggleable__label-arrow:before {color: black;}#sk-container-id-1 div.sk-toggleable__content {max-height: 0;max-width: 0;overflow: hidden;text-align: left;background-color: #f0f8ff;}#sk-container-id-1 div.sk-toggleable__content pre {margin: 0.2em;color: black;border-radius: 0.25em;background-color: #f0f8ff;}#sk-container-id-1 input.sk-toggleable__control:checked~div.sk-toggleable__content {max-height: 200px;max-width: 100%;overflow: auto;}#sk-container-id-1 input.sk-toggleable__control:checked~label.sk-toggleable__label-arrow:before {content: \"▾\";}#sk-container-id-1 div.sk-estimator input.sk-toggleable__control:checked~label.sk-toggleable__label {background-color: #d4ebff;}#sk-container-id-1 div.sk-label input.sk-toggleable__control:checked~label.sk-toggleable__label {background-color: #d4ebff;}#sk-container-id-1 input.sk-hidden--visually {border: 0;clip: rect(1px 1px 1px 1px);clip: rect(1px, 1px, 1px, 1px);height: 1px;margin: -1px;overflow: hidden;padding: 0;position: absolute;width: 1px;}#sk-container-id-1 div.sk-estimator {font-family: monospace;background-color: #f0f8ff;border: 1px dotted black;border-radius: 0.25em;box-sizing: border-box;margin-bottom: 0.5em;}#sk-container-id-1 div.sk-estimator:hover {background-color: #d4ebff;}#sk-container-id-1 div.sk-parallel-item::after {content: \"\";width: 100%;border-bottom: 1px solid gray;flex-grow: 1;}#sk-container-id-1 div.sk-label:hover label.sk-toggleable__label {background-color: #d4ebff;}#sk-container-id-1 div.sk-serial::before {content: \"\";position: absolute;border-left: 1px solid gray;box-sizing: border-box;top: 0;bottom: 0;left: 50%;z-index: 0;}#sk-container-id-1 div.sk-serial {display: flex;flex-direction: column;align-items: center;background-color: white;padding-right: 0.2em;padding-left: 0.2em;position: relative;}#sk-container-id-1 div.sk-item {position: relative;z-index: 1;}#sk-container-id-1 div.sk-parallel {display: flex;align-items: stretch;justify-content: center;background-color: white;position: relative;}#sk-container-id-1 div.sk-item::before, #sk-container-id-1 div.sk-parallel-item::before {content: \"\";position: absolute;border-left: 1px solid gray;box-sizing: border-box;top: 0;bottom: 0;left: 50%;z-index: -1;}#sk-container-id-1 div.sk-parallel-item {display: flex;flex-direction: column;z-index: 1;position: relative;background-color: white;}#sk-container-id-1 div.sk-parallel-item:first-child::after {align-self: flex-end;width: 50%;}#sk-container-id-1 div.sk-parallel-item:last-child::after {align-self: flex-start;width: 50%;}#sk-container-id-1 div.sk-parallel-item:only-child::after {width: 0;}#sk-container-id-1 div.sk-dashed-wrapped {border: 1px dashed gray;margin: 0 0.4em 0.5em 0.4em;box-sizing: border-box;padding-bottom: 0.4em;background-color: white;}#sk-container-id-1 div.sk-label label {font-family: monospace;font-weight: bold;display: inline-block;line-height: 1.2em;}#sk-container-id-1 div.sk-label-container {text-align: center;}#sk-container-id-1 div.sk-container {/* jupyter's `normalize.less` sets `[hidden] { display: none; }` but bootstrap.min.css set `[hidden] { display: none !important; }` so we also need the `!important` here to be able to override the default hidden behavior on the sphinx rendered scikit-learn.org. See: https://github.com/scikit-learn/scikit-learn/issues/21755 */display: inline-block !important;position: relative;}#sk-container-id-1 div.sk-text-repr-fallback {display: none;}</style><div id=\"sk-container-id-1\" class=\"sk-top-container\"><div class=\"sk-text-repr-fallback\"><pre>LinearRegression()</pre><b>In a Jupyter environment, please rerun this cell to show the HTML representation or trust the notebook. <br />On GitHub, the HTML representation is unable to render, please try loading this page with nbviewer.org.</b></div><div class=\"sk-container\" hidden><div class=\"sk-item\"><div class=\"sk-estimator sk-toggleable\"><input class=\"sk-toggleable__control sk-hidden--visually\" id=\"sk-estimator-id-1\" type=\"checkbox\" checked><label for=\"sk-estimator-id-1\" class=\"sk-toggleable__label sk-toggleable__label-arrow\">LinearRegression</label><div class=\"sk-toggleable__content\"><pre>LinearRegression()</pre></div></div></div></div></div>"
      ],
      "text/plain": [
       "LinearRegression()"
      ]
     },
     "execution_count": 25,
     "metadata": {},
     "output_type": "execute_result"
    }
   ],
   "source": [
    "fwd3_model = LinearRegression()\n",
    "\n",
    "X = final[['FFMC', 'DC', 'wind']]\n",
    "y = fires['log_area']\n",
    "\n",
    "fwd3_model.fit(X,y)"
   ]
  },
  {
   "cell_type": "markdown",
   "metadata": {},
   "source": [
    "### Developing Candidate Models - Lasso, Ridge and Splines"
   ]
  },
  {
   "cell_type": "code",
   "execution_count": 26,
   "metadata": {},
   "outputs": [
    {
     "name": "stdout",
     "output_type": "stream",
     "text": [
      "Lasso alpha 10000.0\n",
      "Lasso features [ 0.  0.  0. -0.  0. -0.  0.  0. -0.]\n"
     ]
    }
   ],
   "source": [
    "### Lasso\n",
    "\n",
    "X = final\n",
    "y = fires['log_area']\n",
    "\n",
    "from sklearn.linear_model import LassoCV\n",
    "\n",
    "lasso = LassoCV(alphas = np.linspace(1,10000,1000))\n",
    "lasso.fit(X,y)\n",
    "\n",
    "print('Lasso alpha', lasso.alpha_)\n",
    "print('Lasso features', lasso.coef_)"
   ]
  },
  {
   "cell_type": "code",
   "execution_count": 27,
   "metadata": {},
   "outputs": [
    {
     "name": "stdout",
     "output_type": "stream",
     "text": [
      "Ridge alpha 1372.2342342342342\n",
      "Ridge features [ 0.01311215  0.02006457  0.02004741 -0.01073465  0.01297049 -0.01489714\n",
      "  0.02670554  0.00816103 -0.01455017]\n"
     ]
    }
   ],
   "source": [
    "###Ridge\n",
    "from sklearn.linear_model import RidgeCV\n",
    "\n",
    "ridge = RidgeCV(alphas = np.linspace(1,10000,1000))\n",
    "ridge.fit(X,y)\n",
    "\n",
    "print('Ridge alpha', ridge.alpha_)\n",
    "print('Ridge features', ridge.coef_)"
   ]
  },
  {
   "cell_type": "markdown",
   "metadata": {},
   "source": [
    "#### Since the Lasso alpha parameter is on the extreme and also the Lasso outcome suggests not to have any features at all, we will continue working with the Ridge model and further tune the alpha. "
   ]
  },
  {
   "cell_type": "code",
   "execution_count": 28,
   "metadata": {},
   "outputs": [
    {
     "name": "stdout",
     "output_type": "stream",
     "text": [
      "Ridge alpha 1373.7373737373737\n",
      "Ridge features [ 0.01310398  0.02005012  0.02003371 -0.01072164  0.01296282 -0.01488602\n",
      "  0.02668217  0.00815492 -0.01453406]\n"
     ]
    }
   ],
   "source": [
    "ridge = RidgeCV(alphas = np.linspace(1000,1500,100))\n",
    "ridge.fit(X,y)\n",
    "\n",
    "print('Ridge alpha', ridge.alpha_)\n",
    "print('Ridge features', ridge.coef_)"
   ]
  },
  {
   "cell_type": "markdown",
   "metadata": {},
   "source": [
    "#### We will use this value of the Ridge tuning parameter in the k-fold cross validation. "
   ]
  },
  {
   "cell_type": "code",
   "execution_count": 29,
   "metadata": {},
   "outputs": [
    {
     "name": "stdout",
     "output_type": "stream",
     "text": [
      "The MSE with Spline for 2 knots is 2.210193141228603\n",
      "The MSE with Spline for 3 knots is 2.170665016271733\n",
      "The MSE with Spline for 4 knots is 2.268746538030937\n",
      "The MSE with Spline for 5 knots is 2.4012950035812413\n",
      "The MSE with Spline for 6 knots is 2.405202745072192\n",
      "The MSE with Spline for 7 knots is 2.5369081840862675\n",
      "The MSE with Spline for 8 knots is 2.6626518211542822\n",
      "The MSE with Spline for 9 knots is 2.615470069703814\n"
     ]
    }
   ],
   "source": [
    "### Splines\n",
    "\n",
    "from sklearn.preprocessing import SplineTransformer\n",
    "\n",
    "n_knots_range = list(range(2,10))\n",
    "\n",
    "for i in n_knots_range:\n",
    "    spline =  SplineTransformer(degree = 3, n_knots = i, knots = 'quantile')\n",
    "    spline_X = spline.fit_transform(X)\n",
    "\n",
    "    lm_spline = LinearRegression()\n",
    "\n",
    "    X_train, X_test, y_train, y_test = train_test_split(spline_X,y, test_size = 0.2, random_state = 763)\n",
    "    lm_spline.fit(X_train,y_train)\n",
    "\n",
    "    predictions = lm_spline.predict(X_test)\n",
    "    mse = mean_squared_error(y_test, predictions)\n",
    "    print('The MSE with Spline for', i, 'knots is', mse)"
   ]
  },
  {
   "cell_type": "markdown",
   "metadata": {},
   "source": [
    "#### Thus, we can see that we get the minimum MSE as 2.17 for a Cubic spline with 3 knots. This will be added to our Candidate Models list. "
   ]
  },
  {
   "cell_type": "code",
   "execution_count": 30,
   "metadata": {},
   "outputs": [
    {
     "name": "stdout",
     "output_type": "stream",
     "text": [
      "The MSE with Spline for 3 knots is 2.170665016271733\n"
     ]
    }
   ],
   "source": [
    "spline =  SplineTransformer(degree = 3, n_knots = 3, knots = 'quantile')\n",
    "spline_X = spline.fit_transform(X)\n",
    "\n",
    "lm_spline = LinearRegression()\n",
    "\n",
    "X_train, X_test, y_train, y_test = train_test_split(spline_X,y, test_size = 0.2, random_state = 763)\n",
    "lm_spline.fit(X_train,y_train)\n",
    "\n",
    "predictions = lm_spline.predict(X_test)\n",
    "mse = mean_squared_error(y_test, predictions)\n",
    "print('The MSE with Spline for 3 knots is', mse)"
   ]
  },
  {
   "cell_type": "markdown",
   "metadata": {},
   "source": [
    "### Comparing Candidate models using K-fold cross validation"
   ]
  },
  {
   "cell_type": "code",
   "execution_count": 31,
   "metadata": {},
   "outputs": [
    {
     "name": "stdout",
     "output_type": "stream",
     "text": [
      "The CV score for fwd3 model is -2.173227096397195\n"
     ]
    }
   ],
   "source": [
    "from sklearn.model_selection import cross_val_score\n",
    "\n",
    "fwd3_model = LinearRegression()\n",
    "\n",
    "X = final[['FFMC', 'DC', 'wind']]\n",
    "y = fires['log_area']\n",
    "\n",
    "fwd3_model_cv_score = cross_val_score(fwd3_model, X, y, cv = 5, scoring = 'neg_mean_squared_error')\n",
    "print('The CV score for fwd3 model is', np.mean(fwd3_model_cv_score))\n",
    "\n",
    "\n",
    "##\n"
   ]
  },
  {
   "cell_type": "code",
   "execution_count": 32,
   "metadata": {},
   "outputs": [
    {
     "name": "stdout",
     "output_type": "stream",
     "text": [
      "The CV score for the Ridge model is -2.196754531261845\n"
     ]
    }
   ],
   "source": [
    "X = final\n",
    "y = fires['log_area']\n",
    "\n",
    "ridge_model_cv_score = cross_val_score(ridge, X, y, cv = 5, scoring = 'neg_mean_squared_error')\n",
    "print('The CV score for the Ridge model is', np.mean(ridge_model_cv_score))"
   ]
  },
  {
   "cell_type": "code",
   "execution_count": 33,
   "metadata": {},
   "outputs": [
    {
     "name": "stdout",
     "output_type": "stream",
     "text": [
      "The CV score for the Spline based model is -15.883183408237993\n"
     ]
    }
   ],
   "source": [
    "spline =  SplineTransformer(degree = 3, n_knots = 3, knots = 'quantile')\n",
    "\n",
    "lm_spline = LinearRegression()\n",
    "spline_X = spline.fit_transform(X)\n",
    "\n",
    "lm_spline = LinearRegression()\n",
    "\n",
    "spline_model_cv_score = cross_val_score(lm_spline, spline_X, y, cv = 5, scoring = 'neg_mean_squared_error')\n",
    "print('The CV score for the Spline based model is', np.mean(spline_model_cv_score))\n"
   ]
  },
  {
   "cell_type": "code",
   "execution_count": 34,
   "metadata": {},
   "outputs": [
    {
     "name": "stdout",
     "output_type": "stream",
     "text": [
      "The CV score for the Reference model is -2.204650013004116\n"
     ]
    }
   ],
   "source": [
    "fires_reference = final[[\"wind\", \"temp\"]].dropna()\n",
    "reference_X = fires_reference[[\"wind\", \"temp\"]]\n",
    "reference_y = fires['log_area']\n",
    "\n",
    "reference_lm = LinearRegression()\n",
    "\n",
    "ref_model_cv_score = cross_val_score(reference_lm, reference_X, reference_y, cv = 5, scoring = 'neg_mean_squared_error')\n",
    "print('The CV score for the Reference model is', np.mean(ref_model_cv_score))"
   ]
  },
  {
   "cell_type": "code",
   "execution_count": 35,
   "metadata": {},
   "outputs": [
    {
     "name": "stderr",
     "output_type": "stream",
     "text": [
      "C:\\Users\\NageshN\\anaconda3\\lib\\site-packages\\sklearn\\base.py:450: UserWarning: X does not have valid feature names, but LinearRegression was fitted with feature names\n",
      "  warnings.warn(\n"
     ]
    },
    {
     "data": {
      "image/png": "[encoded data removed]",
      "text/plain": [
       "<Figure size 576x396 with 2 Axes>"
      ]
     },
     "metadata": {},
     "output_type": "display_data"
    },
    {
     "data": {
      "text/plain": [
       "<AxesSubplot:title={'center':'Residuals for LinearRegression Model'}, xlabel='Predicted Value', ylabel='Residuals'>"
      ]
     },
     "execution_count": 35,
     "metadata": {},
     "output_type": "execute_result"
    }
   ],
   "source": [
    "#### Plotting the Forward Selection model\n",
    "\n",
    "fwd3_model = LinearRegression()\n",
    "\n",
    "X = final[['FFMC', 'DC', 'wind']]\n",
    "y = fires['area']\n",
    "\n",
    "X_train, X_test, y_train, y_test = train_test_split(X,y, test_size = 0.2, random_state = 763)\n",
    "\n",
    "fwd3_model.fit(X_train,y_train)\n",
    "\n",
    "predictions =  fwd3_model.predict(X_test)\n",
    "residuals = y_test - predictions\n",
    "actuals = y_test\n",
    "\n",
    "from yellowbrick.regressor import ResidualsPlot\n",
    "\n",
    "visualizer = ResidualsPlot(fwd3_model)\n",
    "visualizer.fit(X_train, y_train)  \n",
    "visualizer.score(X_test, y_test) \n",
    "visualizer.show()  # Display the plot"
   ]
  },
  {
   "cell_type": "markdown",
   "metadata": {},
   "source": [
    "#### These Residual plot indicates that a non-linear model may have been a better fit, but we had rejected the Splines based model due to its low Cross validation score. "
   ]
  },
  {
   "cell_type": "code",
   "execution_count": 36,
   "metadata": {},
   "outputs": [
    {
     "data": {
      "image/png": "[encoded data removed]",
      "text/plain": [
       "<Figure size 576x432 with 1 Axes>"
      ]
     },
     "metadata": {},
     "output_type": "display_data"
    },
    {
     "data": {
      "image/png": "[encoded data removed]",
      "text/plain": [
       "<Figure size 576x432 with 1 Axes>"
      ]
     },
     "metadata": {},
     "output_type": "display_data"
    },
    {
     "data": {
      "image/png": "[encoded data removed]",
      "text/plain": [
       "<Figure size 576x432 with 1 Axes>"
      ]
     },
     "metadata": {},
     "output_type": "display_data"
    }
   ],
   "source": [
    "import matplotlib.pyplot as plt\n",
    "\n",
    "# Assuming you have fitted your linear regression model to 'lm'\n",
    "predictions = fwd3_model.predict(X_test)\n",
    "actuals = y_test\n",
    "\n",
    "for feature in X_test.columns:\n",
    "    plt.figure(figsize=(8, 6))\n",
    "    plt.scatter(X_test[feature], actuals, color='blue', label='Actual Values')\n",
    "    plt.scatter(X_test[feature], predictions, color='red', label='Predicted Values')\n",
    "    plt.xlabel(feature)\n",
    "    plt.ylabel('Target Variable')\n",
    "    plt.legend()\n",
    "    plt.show()\n"
   ]
  },
  {
   "cell_type": "markdown",
   "metadata": {},
   "source": [
    "#### These visualizations depict model performance. We can see that many of the predictions are close to the actual values, for different features. "
   ]
  },
  {
   "cell_type": "markdown",
   "metadata": {},
   "source": [
    "### Conclusion\n",
    "\n",
    "#### Out of the four models (including the reference model), the best performance is given by the Forward Selection with 3 features which are 'FFMC' , 'DC' and 'wind'. However, note that this is on the log-scale, so this suggests that the predictions are off by a magnitude of about 2. On the surface, this suggests that the models overall are not good predictors.\n",
    "\n",
    "#### However, this problem is known to be a difficult one. The extreme skew in the outcome hurts many of the assumptions needed by linear models. We hope that this showcases that machine learning is not a universal fix. Several problems have characteristics that make prediction difficult.\n",
    "\n",
    "\n",
    "### Thanks !"
   ]
  },
  {
   "cell_type": "code",
   "execution_count": null,
   "metadata": {},
   "outputs": [],
   "source": []
  }
 ],
 "metadata": {
  "hide_input": false,
  "kernelspec": {
   "display_name": "Python 3",
   "language": "python",
   "name": "python3"
  },
  "language_info": {
   "codemirror_mode": {
    "name": "ipython",
    "version": 3
   },
   "file_extension": ".py",
   "mimetype": "text/x-python",
   "name": "python",
   "nbconvert_exporter": "python",
   "pygments_lexer": "ipython3",
   "version": "3.8.8"
  }
 },
 "nbformat": 4,
 "nbformat_minor": 4
}
