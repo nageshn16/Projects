{
 "cells": [
  {
   "cell_type": "markdown",
   "id": "b8f4c79f",
   "metadata": {},
   "source": [
    "## Project - Predicting Employee Productivity (Classification) using Decision Trees and Random Forests"
   ]
  },
  {
   "cell_type": "markdown",
   "id": "674cc172",
   "metadata": {},
   "source": [
    "#### The garment industry is a highly labour-intensive industry with lots of manual processes. The capacity to meet consumer demands is mostly dependent on the production and delivery performance of the employees in the garment manufacturing companies.\n",
    "\n",
    "#### In this project, we will aim to predict if a team is Productive or not. The current dataset has two key variables - ' Targeted Productivity' and 'Actual Productivity', which have been used to label the observations, as 'Productive' or 'Not Productive', based on whether the Actual Productivity met/exceeded Targeted Productivity or not. This re-labelled dataset is then used to build the Classification Models using Decision Trees and Random Forests. \n",
    "\n",
    "##### The dataset can be found in the below link of UCI Machine Learning Repository : \n",
    "\n",
    "https://archive.ics.uci.edu/ml/datasets/Productivity+Prediction+of+Garment+Employees"
   ]
  },
  {
   "cell_type": "code",
   "execution_count": 1,
   "id": "a6848be7",
   "metadata": {},
   "outputs": [],
   "source": [
    "import pandas as pd\n",
    "import numpy as np\n",
    "import matplotlib.pyplot as plt\n",
    "import seaborn as sns\n",
    "\n",
    "from sklearn.tree import plot_tree\n",
    "from sklearn.model_selection import GridSearchCV\n",
    "\n",
    "\n",
    "from datetime import datetime as dt"
   ]
  },
  {
   "cell_type": "code",
   "execution_count": 2,
   "id": "6d453daf",
   "metadata": {},
   "outputs": [
    {
     "data": {
      "text/html": [
       "<div>\n",
       "<style scoped>\n",
       "    .dataframe tbody tr th:only-of-type {\n",
       "        vertical-align: middle;\n",
       "    }\n",
       "\n",
       "    .dataframe tbody tr th {\n",
       "        vertical-align: top;\n",
       "    }\n",
       "\n",
       "    .dataframe thead th {\n",
       "        text-align: right;\n",
       "    }\n",
       "</style>\n",
       "<table border=\"1\" class=\"dataframe\">\n",
       "  <thead>\n",
       "    <tr style=\"text-align: right;\">\n",
       "      <th></th>\n",
       "      <th>date</th>\n",
       "      <th>quarter</th>\n",
       "      <th>department</th>\n",
       "      <th>day</th>\n",
       "      <th>team</th>\n",
       "      <th>targeted_productivity</th>\n",
       "      <th>smv</th>\n",
       "      <th>wip</th>\n",
       "      <th>over_time</th>\n",
       "      <th>incentive</th>\n",
       "      <th>idle_time</th>\n",
       "      <th>idle_men</th>\n",
       "      <th>no_of_style_change</th>\n",
       "      <th>no_of_workers</th>\n",
       "      <th>actual_productivity</th>\n",
       "    </tr>\n",
       "  </thead>\n",
       "  <tbody>\n",
       "    <tr>\n",
       "      <th>0</th>\n",
       "      <td>1/1/2015</td>\n",
       "      <td>Quarter1</td>\n",
       "      <td>sweing</td>\n",
       "      <td>Thursday</td>\n",
       "      <td>8</td>\n",
       "      <td>0.80</td>\n",
       "      <td>26.16</td>\n",
       "      <td>1108.0</td>\n",
       "      <td>7080</td>\n",
       "      <td>98</td>\n",
       "      <td>0.0</td>\n",
       "      <td>0</td>\n",
       "      <td>0</td>\n",
       "      <td>59.0</td>\n",
       "      <td>0.940725</td>\n",
       "    </tr>\n",
       "    <tr>\n",
       "      <th>1</th>\n",
       "      <td>1/1/2015</td>\n",
       "      <td>Quarter1</td>\n",
       "      <td>finishing</td>\n",
       "      <td>Thursday</td>\n",
       "      <td>1</td>\n",
       "      <td>0.75</td>\n",
       "      <td>3.94</td>\n",
       "      <td>NaN</td>\n",
       "      <td>960</td>\n",
       "      <td>0</td>\n",
       "      <td>0.0</td>\n",
       "      <td>0</td>\n",
       "      <td>0</td>\n",
       "      <td>8.0</td>\n",
       "      <td>0.886500</td>\n",
       "    </tr>\n",
       "    <tr>\n",
       "      <th>2</th>\n",
       "      <td>1/1/2015</td>\n",
       "      <td>Quarter1</td>\n",
       "      <td>sweing</td>\n",
       "      <td>Thursday</td>\n",
       "      <td>11</td>\n",
       "      <td>0.80</td>\n",
       "      <td>11.41</td>\n",
       "      <td>968.0</td>\n",
       "      <td>3660</td>\n",
       "      <td>50</td>\n",
       "      <td>0.0</td>\n",
       "      <td>0</td>\n",
       "      <td>0</td>\n",
       "      <td>30.5</td>\n",
       "      <td>0.800570</td>\n",
       "    </tr>\n",
       "    <tr>\n",
       "      <th>3</th>\n",
       "      <td>1/1/2015</td>\n",
       "      <td>Quarter1</td>\n",
       "      <td>sweing</td>\n",
       "      <td>Thursday</td>\n",
       "      <td>12</td>\n",
       "      <td>0.80</td>\n",
       "      <td>11.41</td>\n",
       "      <td>968.0</td>\n",
       "      <td>3660</td>\n",
       "      <td>50</td>\n",
       "      <td>0.0</td>\n",
       "      <td>0</td>\n",
       "      <td>0</td>\n",
       "      <td>30.5</td>\n",
       "      <td>0.800570</td>\n",
       "    </tr>\n",
       "    <tr>\n",
       "      <th>4</th>\n",
       "      <td>1/1/2015</td>\n",
       "      <td>Quarter1</td>\n",
       "      <td>sweing</td>\n",
       "      <td>Thursday</td>\n",
       "      <td>6</td>\n",
       "      <td>0.80</td>\n",
       "      <td>25.90</td>\n",
       "      <td>1170.0</td>\n",
       "      <td>1920</td>\n",
       "      <td>50</td>\n",
       "      <td>0.0</td>\n",
       "      <td>0</td>\n",
       "      <td>0</td>\n",
       "      <td>56.0</td>\n",
       "      <td>0.800382</td>\n",
       "    </tr>\n",
       "  </tbody>\n",
       "</table>\n",
       "</div>"
      ],
      "text/plain": [
       "       date   quarter  department       day  team  targeted_productivity  \\\n",
       "0  1/1/2015  Quarter1      sweing  Thursday     8                   0.80   \n",
       "1  1/1/2015  Quarter1  finishing   Thursday     1                   0.75   \n",
       "2  1/1/2015  Quarter1      sweing  Thursday    11                   0.80   \n",
       "3  1/1/2015  Quarter1      sweing  Thursday    12                   0.80   \n",
       "4  1/1/2015  Quarter1      sweing  Thursday     6                   0.80   \n",
       "\n",
       "     smv     wip  over_time  incentive  idle_time  idle_men  \\\n",
       "0  26.16  1108.0       7080         98        0.0         0   \n",
       "1   3.94     NaN        960          0        0.0         0   \n",
       "2  11.41   968.0       3660         50        0.0         0   \n",
       "3  11.41   968.0       3660         50        0.0         0   \n",
       "4  25.90  1170.0       1920         50        0.0         0   \n",
       "\n",
       "   no_of_style_change  no_of_workers  actual_productivity  \n",
       "0                   0           59.0             0.940725  \n",
       "1                   0            8.0             0.886500  \n",
       "2                   0           30.5             0.800570  \n",
       "3                   0           30.5             0.800570  \n",
       "4                   0           56.0             0.800382  "
      ]
     },
     "execution_count": 2,
     "metadata": {},
     "output_type": "execute_result"
    }
   ],
   "source": [
    "df = pd.read_csv('garments_worker_productivity.csv')\n",
    "\n",
    "df.head()"
   ]
  },
  {
   "cell_type": "code",
   "execution_count": 3,
   "id": "cb330257",
   "metadata": {},
   "outputs": [
    {
     "data": {
      "text/plain": [
       "Index(['sweing', 'finishing ', 'finishing'], dtype='object')"
      ]
     },
     "execution_count": 3,
     "metadata": {},
     "output_type": "execute_result"
    }
   ],
   "source": [
    "df[\"department\"].value_counts().index\n",
    "\n",
    "# There are white spaces"
   ]
  },
  {
   "cell_type": "code",
   "execution_count": 4,
   "id": "efdfd310",
   "metadata": {},
   "outputs": [
    {
     "data": {
      "text/plain": [
       "1     105\n",
       "2     109\n",
       "3      95\n",
       "4     105\n",
       "5      93\n",
       "6      94\n",
       "7      96\n",
       "8     109\n",
       "9     104\n",
       "10    100\n",
       "11     88\n",
       "12     99\n",
       "Name: team, dtype: int64"
      ]
     },
     "execution_count": 4,
     "metadata": {},
     "output_type": "execute_result"
    }
   ],
   "source": [
    "df[\"team\"].value_counts().sort_index()"
   ]
  },
  {
   "cell_type": "code",
   "execution_count": 5,
   "id": "fd9bfc7e",
   "metadata": {},
   "outputs": [
    {
     "data": {
      "text/html": [
       "<div>\n",
       "<style scoped>\n",
       "    .dataframe tbody tr th:only-of-type {\n",
       "        vertical-align: middle;\n",
       "    }\n",
       "\n",
       "    .dataframe tbody tr th {\n",
       "        vertical-align: top;\n",
       "    }\n",
       "\n",
       "    .dataframe thead th {\n",
       "        text-align: right;\n",
       "    }\n",
       "</style>\n",
       "<table border=\"1\" class=\"dataframe\">\n",
       "  <thead>\n",
       "    <tr style=\"text-align: right;\">\n",
       "      <th></th>\n",
       "      <th>0</th>\n",
       "      <th>1</th>\n",
       "    </tr>\n",
       "  </thead>\n",
       "  <tbody>\n",
       "    <tr>\n",
       "      <th>date</th>\n",
       "      <td>1/1/2015</td>\n",
       "      <td>1/1/2015</td>\n",
       "    </tr>\n",
       "    <tr>\n",
       "      <th>quarter</th>\n",
       "      <td>Quarter1</td>\n",
       "      <td>Quarter1</td>\n",
       "    </tr>\n",
       "    <tr>\n",
       "      <th>department</th>\n",
       "      <td>sweing</td>\n",
       "      <td>finishing</td>\n",
       "    </tr>\n",
       "    <tr>\n",
       "      <th>day</th>\n",
       "      <td>Thursday</td>\n",
       "      <td>Thursday</td>\n",
       "    </tr>\n",
       "    <tr>\n",
       "      <th>team</th>\n",
       "      <td>8</td>\n",
       "      <td>1</td>\n",
       "    </tr>\n",
       "    <tr>\n",
       "      <th>targeted_productivity</th>\n",
       "      <td>0.8</td>\n",
       "      <td>0.75</td>\n",
       "    </tr>\n",
       "    <tr>\n",
       "      <th>smv</th>\n",
       "      <td>26.16</td>\n",
       "      <td>3.94</td>\n",
       "    </tr>\n",
       "    <tr>\n",
       "      <th>wip</th>\n",
       "      <td>1108.0</td>\n",
       "      <td>NaN</td>\n",
       "    </tr>\n",
       "    <tr>\n",
       "      <th>over_time</th>\n",
       "      <td>7080</td>\n",
       "      <td>960</td>\n",
       "    </tr>\n",
       "    <tr>\n",
       "      <th>incentive</th>\n",
       "      <td>98</td>\n",
       "      <td>0</td>\n",
       "    </tr>\n",
       "    <tr>\n",
       "      <th>idle_time</th>\n",
       "      <td>0.0</td>\n",
       "      <td>0.0</td>\n",
       "    </tr>\n",
       "    <tr>\n",
       "      <th>idle_men</th>\n",
       "      <td>0</td>\n",
       "      <td>0</td>\n",
       "    </tr>\n",
       "    <tr>\n",
       "      <th>no_of_style_change</th>\n",
       "      <td>0</td>\n",
       "      <td>0</td>\n",
       "    </tr>\n",
       "    <tr>\n",
       "      <th>no_of_workers</th>\n",
       "      <td>59.0</td>\n",
       "      <td>8.0</td>\n",
       "    </tr>\n",
       "    <tr>\n",
       "      <th>actual_productivity</th>\n",
       "      <td>0.940725</td>\n",
       "      <td>0.8865</td>\n",
       "    </tr>\n",
       "  </tbody>\n",
       "</table>\n",
       "</div>"
      ],
      "text/plain": [
       "                              0           1\n",
       "date                   1/1/2015    1/1/2015\n",
       "quarter                Quarter1    Quarter1\n",
       "department               sweing  finishing \n",
       "day                    Thursday    Thursday\n",
       "team                          8           1\n",
       "targeted_productivity       0.8        0.75\n",
       "smv                       26.16        3.94\n",
       "wip                      1108.0         NaN\n",
       "over_time                  7080         960\n",
       "incentive                    98           0\n",
       "idle_time                   0.0         0.0\n",
       "idle_men                      0           0\n",
       "no_of_style_change            0           0\n",
       "no_of_workers              59.0         8.0\n",
       "actual_productivity    0.940725      0.8865"
      ]
     },
     "execution_count": 5,
     "metadata": {},
     "output_type": "execute_result"
    }
   ],
   "source": [
    "df.head(2).transpose()"
   ]
  },
  {
   "cell_type": "code",
   "execution_count": 6,
   "id": "b773c266",
   "metadata": {},
   "outputs": [
    {
     "data": {
      "text/plain": [
       "(1197, 15)"
      ]
     },
     "execution_count": 6,
     "metadata": {},
     "output_type": "execute_result"
    }
   ],
   "source": [
    "df.shape"
   ]
  },
  {
   "cell_type": "code",
   "execution_count": 7,
   "id": "4b84edc2",
   "metadata": {
    "scrolled": true
   },
   "outputs": [
    {
     "name": "stdout",
     "output_type": "stream",
     "text": [
      "<class 'pandas.core.frame.DataFrame'>\n",
      "RangeIndex: 1197 entries, 0 to 1196\n",
      "Data columns (total 15 columns):\n",
      " #   Column                 Non-Null Count  Dtype  \n",
      "---  ------                 --------------  -----  \n",
      " 0   date                   1197 non-null   object \n",
      " 1   quarter                1197 non-null   object \n",
      " 2   department             1197 non-null   object \n",
      " 3   day                    1197 non-null   object \n",
      " 4   team                   1197 non-null   int64  \n",
      " 5   targeted_productivity  1197 non-null   float64\n",
      " 6   smv                    1197 non-null   float64\n",
      " 7   wip                    691 non-null    float64\n",
      " 8   over_time              1197 non-null   int64  \n",
      " 9   incentive              1197 non-null   int64  \n",
      " 10  idle_time              1197 non-null   float64\n",
      " 11  idle_men               1197 non-null   int64  \n",
      " 12  no_of_style_change     1197 non-null   int64  \n",
      " 13  no_of_workers          1197 non-null   float64\n",
      " 14  actual_productivity    1197 non-null   float64\n",
      "dtypes: float64(6), int64(5), object(4)\n",
      "memory usage: 140.4+ KB\n"
     ]
    }
   ],
   "source": [
    "df.info()"
   ]
  },
  {
   "cell_type": "code",
   "execution_count": 8,
   "id": "5a948e69",
   "metadata": {},
   "outputs": [
    {
     "data": {
      "text/html": [
       "<div>\n",
       "<style scoped>\n",
       "    .dataframe tbody tr th:only-of-type {\n",
       "        vertical-align: middle;\n",
       "    }\n",
       "\n",
       "    .dataframe tbody tr th {\n",
       "        vertical-align: top;\n",
       "    }\n",
       "\n",
       "    .dataframe thead th {\n",
       "        text-align: right;\n",
       "    }\n",
       "</style>\n",
       "<table border=\"1\" class=\"dataframe\">\n",
       "  <thead>\n",
       "    <tr style=\"text-align: right;\">\n",
       "      <th></th>\n",
       "      <th>team</th>\n",
       "      <th>targeted_productivity</th>\n",
       "      <th>smv</th>\n",
       "      <th>wip</th>\n",
       "      <th>over_time</th>\n",
       "      <th>incentive</th>\n",
       "      <th>idle_time</th>\n",
       "      <th>idle_men</th>\n",
       "      <th>no_of_style_change</th>\n",
       "      <th>no_of_workers</th>\n",
       "      <th>actual_productivity</th>\n",
       "    </tr>\n",
       "  </thead>\n",
       "  <tbody>\n",
       "    <tr>\n",
       "      <th>count</th>\n",
       "      <td>1197.000000</td>\n",
       "      <td>1197.000000</td>\n",
       "      <td>1197.000000</td>\n",
       "      <td>691.000000</td>\n",
       "      <td>1197.000000</td>\n",
       "      <td>1197.000000</td>\n",
       "      <td>1197.000000</td>\n",
       "      <td>1197.000000</td>\n",
       "      <td>1197.000000</td>\n",
       "      <td>1197.000000</td>\n",
       "      <td>1197.000000</td>\n",
       "    </tr>\n",
       "    <tr>\n",
       "      <th>mean</th>\n",
       "      <td>6.426901</td>\n",
       "      <td>0.729632</td>\n",
       "      <td>15.062172</td>\n",
       "      <td>1190.465991</td>\n",
       "      <td>4567.460317</td>\n",
       "      <td>38.210526</td>\n",
       "      <td>0.730159</td>\n",
       "      <td>0.369256</td>\n",
       "      <td>0.150376</td>\n",
       "      <td>34.609858</td>\n",
       "      <td>0.735091</td>\n",
       "    </tr>\n",
       "    <tr>\n",
       "      <th>std</th>\n",
       "      <td>3.463963</td>\n",
       "      <td>0.097891</td>\n",
       "      <td>10.943219</td>\n",
       "      <td>1837.455001</td>\n",
       "      <td>3348.823563</td>\n",
       "      <td>160.182643</td>\n",
       "      <td>12.709757</td>\n",
       "      <td>3.268987</td>\n",
       "      <td>0.427848</td>\n",
       "      <td>22.197687</td>\n",
       "      <td>0.174488</td>\n",
       "    </tr>\n",
       "    <tr>\n",
       "      <th>min</th>\n",
       "      <td>1.000000</td>\n",
       "      <td>0.070000</td>\n",
       "      <td>2.900000</td>\n",
       "      <td>7.000000</td>\n",
       "      <td>0.000000</td>\n",
       "      <td>0.000000</td>\n",
       "      <td>0.000000</td>\n",
       "      <td>0.000000</td>\n",
       "      <td>0.000000</td>\n",
       "      <td>2.000000</td>\n",
       "      <td>0.233705</td>\n",
       "    </tr>\n",
       "    <tr>\n",
       "      <th>25%</th>\n",
       "      <td>3.000000</td>\n",
       "      <td>0.700000</td>\n",
       "      <td>3.940000</td>\n",
       "      <td>774.500000</td>\n",
       "      <td>1440.000000</td>\n",
       "      <td>0.000000</td>\n",
       "      <td>0.000000</td>\n",
       "      <td>0.000000</td>\n",
       "      <td>0.000000</td>\n",
       "      <td>9.000000</td>\n",
       "      <td>0.650307</td>\n",
       "    </tr>\n",
       "    <tr>\n",
       "      <th>50%</th>\n",
       "      <td>6.000000</td>\n",
       "      <td>0.750000</td>\n",
       "      <td>15.260000</td>\n",
       "      <td>1039.000000</td>\n",
       "      <td>3960.000000</td>\n",
       "      <td>0.000000</td>\n",
       "      <td>0.000000</td>\n",
       "      <td>0.000000</td>\n",
       "      <td>0.000000</td>\n",
       "      <td>34.000000</td>\n",
       "      <td>0.773333</td>\n",
       "    </tr>\n",
       "    <tr>\n",
       "      <th>75%</th>\n",
       "      <td>9.000000</td>\n",
       "      <td>0.800000</td>\n",
       "      <td>24.260000</td>\n",
       "      <td>1252.500000</td>\n",
       "      <td>6960.000000</td>\n",
       "      <td>50.000000</td>\n",
       "      <td>0.000000</td>\n",
       "      <td>0.000000</td>\n",
       "      <td>0.000000</td>\n",
       "      <td>57.000000</td>\n",
       "      <td>0.850253</td>\n",
       "    </tr>\n",
       "    <tr>\n",
       "      <th>max</th>\n",
       "      <td>12.000000</td>\n",
       "      <td>0.800000</td>\n",
       "      <td>54.560000</td>\n",
       "      <td>23122.000000</td>\n",
       "      <td>25920.000000</td>\n",
       "      <td>3600.000000</td>\n",
       "      <td>300.000000</td>\n",
       "      <td>45.000000</td>\n",
       "      <td>2.000000</td>\n",
       "      <td>89.000000</td>\n",
       "      <td>1.120437</td>\n",
       "    </tr>\n",
       "  </tbody>\n",
       "</table>\n",
       "</div>"
      ],
      "text/plain": [
       "              team  targeted_productivity          smv           wip  \\\n",
       "count  1197.000000            1197.000000  1197.000000    691.000000   \n",
       "mean      6.426901               0.729632    15.062172   1190.465991   \n",
       "std       3.463963               0.097891    10.943219   1837.455001   \n",
       "min       1.000000               0.070000     2.900000      7.000000   \n",
       "25%       3.000000               0.700000     3.940000    774.500000   \n",
       "50%       6.000000               0.750000    15.260000   1039.000000   \n",
       "75%       9.000000               0.800000    24.260000   1252.500000   \n",
       "max      12.000000               0.800000    54.560000  23122.000000   \n",
       "\n",
       "          over_time    incentive    idle_time     idle_men  \\\n",
       "count   1197.000000  1197.000000  1197.000000  1197.000000   \n",
       "mean    4567.460317    38.210526     0.730159     0.369256   \n",
       "std     3348.823563   160.182643    12.709757     3.268987   \n",
       "min        0.000000     0.000000     0.000000     0.000000   \n",
       "25%     1440.000000     0.000000     0.000000     0.000000   \n",
       "50%     3960.000000     0.000000     0.000000     0.000000   \n",
       "75%     6960.000000    50.000000     0.000000     0.000000   \n",
       "max    25920.000000  3600.000000   300.000000    45.000000   \n",
       "\n",
       "       no_of_style_change  no_of_workers  actual_productivity  \n",
       "count         1197.000000    1197.000000          1197.000000  \n",
       "mean             0.150376      34.609858             0.735091  \n",
       "std              0.427848      22.197687             0.174488  \n",
       "min              0.000000       2.000000             0.233705  \n",
       "25%              0.000000       9.000000             0.650307  \n",
       "50%              0.000000      34.000000             0.773333  \n",
       "75%              0.000000      57.000000             0.850253  \n",
       "max              2.000000      89.000000             1.120437  "
      ]
     },
     "execution_count": 8,
     "metadata": {},
     "output_type": "execute_result"
    }
   ],
   "source": [
    "df.describe()"
   ]
  },
  {
   "cell_type": "code",
   "execution_count": 9,
   "id": "7839410d",
   "metadata": {},
   "outputs": [],
   "source": [
    "cols_num = list(df.describe().columns)"
   ]
  },
  {
   "cell_type": "code",
   "execution_count": 10,
   "id": "bae6471d",
   "metadata": {},
   "outputs": [
    {
     "name": "stdout",
     "output_type": "stream",
     "text": [
      "Column Name team\n",
      "1     105\n",
      "2     109\n",
      "3      95\n",
      "4     105\n",
      "5      93\n",
      "6      94\n",
      "7      96\n",
      "8     109\n",
      "9     104\n",
      "10    100\n",
      "11     88\n",
      "12     99\n",
      "Name: team, dtype: int64\n",
      "Column Name targeted_productivity\n",
      "0.07      1\n",
      "0.35     27\n",
      "0.40      2\n",
      "0.50     49\n",
      "0.60     57\n",
      "0.65     63\n",
      "0.70    242\n",
      "0.75    216\n",
      "0.80    540\n",
      "Name: targeted_productivity, dtype: int64\n",
      "Column Name smv\n",
      "2.90     108\n",
      "3.90      20\n",
      "3.94     192\n",
      "4.08      21\n",
      "4.15      76\n",
      "        ... \n",
      "49.10      1\n",
      "50.48      2\n",
      "50.89      1\n",
      "51.02      1\n",
      "54.56      1\n",
      "Name: smv, Length: 70, dtype: int64\n",
      "Column Name wip\n",
      "7.0        1\n",
      "10.0       1\n",
      "11.0       1\n",
      "12.0       1\n",
      "13.0       1\n",
      "          ..\n",
      "16882.0    1\n",
      "21266.0    1\n",
      "21385.0    1\n",
      "21540.0    1\n",
      "23122.0    1\n",
      "Name: wip, Length: 548, dtype: int64\n",
      "Column Name over_time\n",
      "0        31\n",
      "120       1\n",
      "240       6\n",
      "360       2\n",
      "480       1\n",
      "         ..\n",
      "13800     1\n",
      "14640     1\n",
      "15000     2\n",
      "15120     1\n",
      "25920     1\n",
      "Name: over_time, Length: 143, dtype: int64\n",
      "Column Name incentive\n",
      "0       604\n",
      "21        1\n",
      "23       38\n",
      "24        2\n",
      "25        1\n",
      "26        9\n",
      "27        2\n",
      "29        1\n",
      "30       52\n",
      "32        1\n",
      "33        1\n",
      "34       17\n",
      "35        5\n",
      "37        1\n",
      "38       29\n",
      "40       27\n",
      "44        4\n",
      "45       54\n",
      "46        2\n",
      "49        2\n",
      "50      113\n",
      "53        1\n",
      "54        1\n",
      "55        7\n",
      "56       14\n",
      "60       28\n",
      "62        1\n",
      "63       61\n",
      "65        6\n",
      "69        6\n",
      "70        6\n",
      "75       24\n",
      "81        7\n",
      "88       19\n",
      "90        3\n",
      "93        1\n",
      "94        4\n",
      "98        1\n",
      "100       7\n",
      "113      21\n",
      "119       2\n",
      "138       1\n",
      "960       5\n",
      "1080      1\n",
      "1200      1\n",
      "1440      1\n",
      "2880      1\n",
      "3600      1\n",
      "Name: incentive, dtype: int64\n",
      "Column Name idle_time\n",
      "0.0      1179\n",
      "2.0         2\n",
      "3.5         3\n",
      "4.0         2\n",
      "4.5         2\n",
      "5.0         2\n",
      "6.5         1\n",
      "8.0         2\n",
      "90.0        1\n",
      "150.0       1\n",
      "270.0       1\n",
      "300.0       1\n",
      "Name: idle_time, dtype: int64\n",
      "Column Name idle_men\n",
      "0     1179\n",
      "10       3\n",
      "15       3\n",
      "20       3\n",
      "25       1\n",
      "30       3\n",
      "35       2\n",
      "37       1\n",
      "40       1\n",
      "45       1\n",
      "Name: idle_men, dtype: int64\n",
      "Column Name no_of_style_change\n",
      "0    1050\n",
      "1     114\n",
      "2      33\n",
      "Name: no_of_style_change, dtype: int64\n",
      "Column Name no_of_workers\n",
      "2.0      6\n",
      "4.0      1\n",
      "5.0      3\n",
      "6.0      1\n",
      "7.0      3\n",
      "        ..\n",
      "58.5    21\n",
      "59.0    75\n",
      "59.5     5\n",
      "60.0     7\n",
      "89.0     1\n",
      "Name: no_of_workers, Length: 61, dtype: int64\n",
      "Column Name actual_productivity\n",
      "0.233705    1\n",
      "0.235795    1\n",
      "0.238042    1\n",
      "0.246250    1\n",
      "0.247316    1\n",
      "           ..\n",
      "1.059621    1\n",
      "1.096633    1\n",
      "1.100484    1\n",
      "1.108125    1\n",
      "1.120437    1\n",
      "Name: actual_productivity, Length: 879, dtype: int64\n"
     ]
    }
   ],
   "source": [
    "## Checking for data types of all numerical columns\n",
    "\n",
    "for col in cols_num:\n",
    "    print('Column Name' , col)\n",
    "    print(df[col].value_counts().sort_index())"
   ]
  },
  {
   "cell_type": "markdown",
   "id": "4a89c67e",
   "metadata": {},
   "source": [
    "#### Thus, the data types for numerical columns match with the expected data types(int and float). The only issues among numerical columns are that for 'wip', there are missing values and for actual_productivity, the max value is more than 1.  We will rectify the same. "
   ]
  },
  {
   "cell_type": "code",
   "execution_count": 11,
   "id": "7e094a69",
   "metadata": {},
   "outputs": [
    {
     "data": {
      "text/plain": [
       "NaN       506\n",
       "1039.0      5\n",
       "1282.0      4\n",
       "562.0       3\n",
       "1422.0      3\n",
       "         ... \n",
       "1118.0      1\n",
       "1044.0      1\n",
       "893.0       1\n",
       "1061.0      1\n",
       "1211.0      1\n",
       "Name: wip, Length: 549, dtype: int64"
      ]
     },
     "execution_count": 11,
     "metadata": {},
     "output_type": "execute_result"
    }
   ],
   "source": [
    "df[\"wip\"].value_counts(dropna = False)"
   ]
  },
  {
   "cell_type": "markdown",
   "id": "b1935116",
   "metadata": {},
   "source": [
    "#### We cannot be sure that the missing values are due to missing information or due to unfinished products. Due to this uncertainty, we should drop this column. During the data cleaning stage, we will do the same. "
   ]
  },
  {
   "cell_type": "code",
   "execution_count": 12,
   "id": "b4f2e4a9",
   "metadata": {},
   "outputs": [
    {
     "data": {
      "image/png": "[encoded data removed]",
      "text/plain": [
       "<Figure size 432x288 with 1 Axes>"
      ]
     },
     "metadata": {
      "needs_background": "light"
     },
     "output_type": "display_data"
    }
   ],
   "source": [
    "df['actual_productivity'].plot.hist()\n",
    "#plt.xticks([0,1])\n",
    "plt.show()"
   ]
  },
  {
   "cell_type": "code",
   "execution_count": 13,
   "id": "e7ba8c2b",
   "metadata": {},
   "outputs": [
    {
     "data": {
      "text/plain": [
       "0.233705    1\n",
       "0.235795    1\n",
       "0.238042    1\n",
       "0.246250    1\n",
       "0.247316    1\n",
       "           ..\n",
       "1.059621    1\n",
       "1.096633    1\n",
       "1.100484    1\n",
       "1.108125    1\n",
       "1.120437    1\n",
       "Name: actual_productivity, Length: 879, dtype: int64"
      ]
     },
     "execution_count": 13,
     "metadata": {},
     "output_type": "execute_result"
    }
   ],
   "source": [
    "df['actual_productivity'].value_counts().sort_index()"
   ]
  },
  {
   "cell_type": "code",
   "execution_count": 14,
   "id": "55ec5008",
   "metadata": {},
   "outputs": [
    {
     "data": {
      "image/png": "[encoded data removed]",
      "text/plain": [
       "<Figure size 432x288 with 1 Axes>"
      ]
     },
     "metadata": {
      "needs_background": "light"
     },
     "output_type": "display_data"
    }
   ],
   "source": [
    "actual_prod_less_than_1 = df['actual_productivity'][df['actual_productivity'] <=1]\n",
    "actual_prod_less_than_1.plot.hist()\n",
    "plt.show()"
   ]
  },
  {
   "cell_type": "code",
   "execution_count": 15,
   "id": "81f7c3d8",
   "metadata": {},
   "outputs": [
    {
     "data": {
      "image/png": "[encoded data removed]",
      "text/plain": [
       "<Figure size 432x288 with 1 Axes>"
      ]
     },
     "metadata": {
      "needs_background": "light"
     },
     "output_type": "display_data"
    }
   ],
   "source": [
    "actual_prod_more_than_1 = df['actual_productivity'][df['actual_productivity'] > 1]\n",
    "actual_prod_more_than_1.plot.hist()\n",
    "plt.show()"
   ]
  },
  {
   "cell_type": "markdown",
   "id": "cb161957",
   "metadata": {},
   "source": [
    "#### We will replace all those entries where productivity is greater than 1, with the mean of the entries where actual productivity is less than 1. "
   ]
  },
  {
   "cell_type": "code",
   "execution_count": 16,
   "id": "99498bd1",
   "metadata": {},
   "outputs": [
    {
     "data": {
      "image/png": "[encoded data removed]",
      "text/plain": [
       "<Figure size 432x288 with 1 Axes>"
      ]
     },
     "metadata": {
      "needs_background": "light"
     },
     "output_type": "display_data"
    }
   ],
   "source": [
    "df.loc[df['actual_productivity'] > 1, 'actual_productivity'] = actual_prod_less_than_1.mean()\n",
    "\n",
    "df['actual_productivity'].plot.hist()\n",
    "plt.show()"
   ]
  },
  {
   "cell_type": "markdown",
   "id": "b8912795",
   "metadata": {},
   "source": [
    "#### Now that the numerical columns have been cleaned, we can check the categorical columns. "
   ]
  },
  {
   "cell_type": "code",
   "execution_count": 17,
   "id": "48651869",
   "metadata": {},
   "outputs": [],
   "source": [
    "all_cols = list(df.columns)\n",
    "cols_cat = [x for x in all_cols if x not in cols_num]"
   ]
  },
  {
   "cell_type": "code",
   "execution_count": 18,
   "id": "9a9285e6",
   "metadata": {},
   "outputs": [
    {
     "name": "stdout",
     "output_type": "stream",
     "text": [
      "------------------\n",
      "Column Name = date\n",
      "3/11/2015    24\n",
      "1/31/2015    24\n",
      "1/24/2015    23\n",
      "1/11/2015    23\n",
      "1/12/2015    23\n",
      "3/10/2015    23\n",
      "1/7/2015     22\n",
      "1/22/2015    22\n",
      "1/5/2015     22\n",
      "1/13/2015    22\n",
      "3/9/2015     22\n",
      "3/8/2015     22\n",
      "3/3/2015     22\n",
      "1/8/2015     22\n",
      "1/10/2015    22\n",
      "2/28/2015    21\n",
      "1/27/2015    21\n",
      "1/6/2015     21\n",
      "1/3/2015     21\n",
      "2/25/2015    21\n",
      "1/28/2015    21\n",
      "1/17/2015    21\n",
      "2/18/2015    21\n",
      "3/4/2015     21\n",
      "1/4/2015     21\n",
      "2/26/2015    21\n",
      "1/14/2015    21\n",
      "1/25/2015    21\n",
      "2/19/2015    20\n",
      "1/29/2015    20\n",
      "2/17/2015    20\n",
      "3/2/2015     20\n",
      "3/1/2015     20\n",
      "2/22/2015    20\n",
      "2/15/2015    19\n",
      "2/8/2015     19\n",
      "2/10/2015    19\n",
      "2/24/2015    19\n",
      "2/2/2015     19\n",
      "3/7/2015     19\n",
      "3/5/2015     19\n",
      "1/26/2015    19\n",
      "1/18/2015    19\n",
      "2/7/2015     19\n",
      "2/12/2015    19\n",
      "2/3/2015     19\n",
      "1/19/2015    19\n",
      "2/23/2015    19\n",
      "2/11/2015    19\n",
      "1/1/2015     19\n",
      "2/4/2015     19\n",
      "2/1/2015     19\n",
      "1/21/2015    19\n",
      "1/15/2015    19\n",
      "2/9/2015     18\n",
      "2/5/2015     18\n",
      "2/16/2015    18\n",
      "2/14/2015    17\n",
      "1/20/2015    15\n",
      "Name: date, dtype: int64\n",
      "\n",
      "\n",
      "------------------\n",
      "Column Name = quarter\n",
      "Quarter1    360\n",
      "Quarter2    335\n",
      "Quarter4    248\n",
      "Quarter3    210\n",
      "Quarter5     44\n",
      "Name: quarter, dtype: int64\n",
      "\n",
      "\n",
      "------------------\n",
      "Column Name = department\n",
      "sweing        691\n",
      "finishing     257\n",
      "finishing     249\n",
      "Name: department, dtype: int64\n",
      "\n",
      "\n",
      "------------------\n",
      "Column Name = day\n",
      "Wednesday    208\n",
      "Sunday       203\n",
      "Tuesday      201\n",
      "Monday       199\n",
      "Thursday     199\n",
      "Saturday     187\n",
      "Name: day, dtype: int64\n",
      "\n",
      "\n"
     ]
    }
   ],
   "source": [
    "for col in cols_cat:\n",
    "    print('------------------')\n",
    "    print('Column Name =', col)\n",
    "    print(df[col].value_counts())\n",
    "    print('\\n')\n",
    "          "
   ]
  },
  {
   "cell_type": "code",
   "execution_count": 19,
   "id": "dcd9af9f",
   "metadata": {},
   "outputs": [
    {
     "data": {
      "text/plain": [
       "dtype('O')"
      ]
     },
     "execution_count": 19,
     "metadata": {},
     "output_type": "execute_result"
    }
   ],
   "source": [
    "df['date'].dtype"
   ]
  },
  {
   "cell_type": "markdown",
   "id": "b7e7c7c6",
   "metadata": {},
   "source": [
    "#### The observations, and potential rectifications of categorical columns' data is mentioned below : \n",
    "\n",
    "\n",
    "1. Date - The data type can be modified to make it datetime, so that relevant data can be extracted. \n",
    "2. Quarter - A year has 4 quarters. Quarter 5 could have some meaning. To be checked. \n",
    "3. Department - The 'Finishing' department has been mentioned twice, most likely due to whitespaces, which will be removed. \n",
    "4. day - 'Friday' is missing, most likely due to the factory remaining closed on Fridays. "
   ]
  },
  {
   "cell_type": "code",
   "execution_count": 20,
   "id": "fc83d405",
   "metadata": {},
   "outputs": [
    {
     "data": {
      "text/plain": [
       "0    1/1/2015\n",
       "1    1/1/2015\n",
       "Name: date, dtype: object"
      ]
     },
     "execution_count": 20,
     "metadata": {},
     "output_type": "execute_result"
    }
   ],
   "source": [
    "df['date'].head(2)"
   ]
  },
  {
   "cell_type": "code",
   "execution_count": 21,
   "id": "7209a6ed",
   "metadata": {},
   "outputs": [],
   "source": [
    "df['date'] = df['date'].apply(lambda x: dt.strptime(x,'%m/%d/%Y'))"
   ]
  },
  {
   "cell_type": "code",
   "execution_count": 22,
   "id": "cc4cefe1",
   "metadata": {},
   "outputs": [
    {
     "data": {
      "image/png": "[encoded data removed]",
      "text/plain": [
       "<Figure size 1440x720 with 1 Axes>"
      ]
     },
     "metadata": {
      "needs_background": "light"
     },
     "output_type": "display_data"
    }
   ],
   "source": [
    "plt.figure(figsize = ([20,10]))\n",
    "plt.plot(df['date'], df['actual_productivity'])\n",
    "plt.xticks(rotation = 30)\n",
    "plt.show()"
   ]
  },
  {
   "cell_type": "code",
   "execution_count": 23,
   "id": "f3cb9133",
   "metadata": {},
   "outputs": [],
   "source": [
    "df['year'] = df['date'].apply(lambda x : x.year)\n",
    "df['month'] = df['date'].apply(lambda x : x.month)\n",
    "df['date_dd'] = df['date'].apply(lambda x : x.day)"
   ]
  },
  {
   "cell_type": "code",
   "execution_count": 24,
   "id": "038e9a8e",
   "metadata": {},
   "outputs": [
    {
     "data": {
      "text/plain": [
       "2015    1197\n",
       "Name: year, dtype: int64"
      ]
     },
     "execution_count": 24,
     "metadata": {},
     "output_type": "execute_result"
    }
   ],
   "source": [
    "df['year'].value_counts()"
   ]
  },
  {
   "cell_type": "code",
   "execution_count": 25,
   "id": "e8cba02c",
   "metadata": {},
   "outputs": [
    {
     "data": {
      "text/plain": [
       "1    542\n",
       "2    443\n",
       "3    212\n",
       "Name: month, dtype: int64"
      ]
     },
     "execution_count": 25,
     "metadata": {},
     "output_type": "execute_result"
    }
   ],
   "source": [
    "df['month'].value_counts()"
   ]
  },
  {
   "cell_type": "code",
   "execution_count": 26,
   "id": "bc8fea99",
   "metadata": {},
   "outputs": [
    {
     "data": {
      "image/png": "[encoded data removed]",
      "text/plain": [
       "<Figure size 432x288 with 1 Axes>"
      ]
     },
     "metadata": {
      "needs_background": "light"
     },
     "output_type": "display_data"
    }
   ],
   "source": [
    "df['date_dd'].hist()\n",
    "plt.show()"
   ]
  },
  {
   "cell_type": "markdown",
   "id": "8458f22e",
   "metadata": {},
   "source": [
    "#### Thus, we can observe that the data is from Jan-March of 2015, effectively only a single quarter. We can check why the Quarter row has mentioned all Quarters from 1-5. It could be that it indicates the week of the month, rather than the Quarter of the year. "
   ]
  },
  {
   "cell_type": "code",
   "execution_count": 27,
   "id": "6d30ac95",
   "metadata": {},
   "outputs": [
    {
     "data": {
      "image/png": "[encoded data removed]",
      "text/plain": [
       "<Figure size 504x432 with 5 Axes>"
      ]
     },
     "metadata": {
      "needs_background": "light"
     },
     "output_type": "display_data"
    }
   ],
   "source": [
    "fig,(ax1,ax2,ax3,ax4,ax5) = plt.subplots(nrows = 5, ncols = 1, figsize = (7,6), constrained_layout=True)\n",
    "\n",
    "fig_axes_list = [fig,(ax1,ax2,ax3,ax4,ax5)]\n",
    "axes_tuple = fig_axes_list[1]\n",
    "quarter_list = list(df['quarter'].value_counts().sort_index().index)\n",
    "\n",
    "#quarter_list = quarter_list + 'Quarter6'\n",
    "\n",
    "#axes_list = ['ax1','ax2','ax3','ax4','ax5'] \n",
    "\n",
    "for ax in axes_tuple:\n",
    "    idx = axes_tuple.index(ax)\n",
    "    q_dates = df.loc[df['quarter'] == quarter_list[idx], 'date_dd']\n",
    "    ax.hist(q_dates)\n",
    "    ax.set_xlabel('{}'.format(quarter_list[idx]))\n",
    "    #print('\\n')\n",
    "    #ax.show()\n",
    "plt.show()    \n"
   ]
  },
  {
   "cell_type": "markdown",
   "id": "62a9eaf0",
   "metadata": {},
   "source": [
    "#### Thus, we can observe that 'Quarter' implies quarter of the month and not quarter of the year. This can be an interesting point of analysis, and will come in handy while selecting the variables. "
   ]
  },
  {
   "cell_type": "code",
   "execution_count": 28,
   "id": "97b049c2",
   "metadata": {},
   "outputs": [
    {
     "data": {
      "text/plain": [
       "sweing        691\n",
       "finishing     257\n",
       "finishing     249\n",
       "Name: department, dtype: int64"
      ]
     },
     "execution_count": 28,
     "metadata": {},
     "output_type": "execute_result"
    }
   ],
   "source": [
    "### Cleaning the department column\n",
    "\n",
    "df['department'].value_counts(dropna = False)"
   ]
  },
  {
   "cell_type": "code",
   "execution_count": 29,
   "id": "8e8eaeaf",
   "metadata": {},
   "outputs": [
    {
     "data": {
      "text/plain": [
       "sweing       691\n",
       "finishing    506\n",
       "Name: department, dtype: int64"
      ]
     },
     "execution_count": 29,
     "metadata": {},
     "output_type": "execute_result"
    }
   ],
   "source": [
    "df['department'] = df['department'].str.strip()\n",
    "df['department'].value_counts()"
   ]
  },
  {
   "cell_type": "code",
   "execution_count": 30,
   "id": "cba674d8",
   "metadata": {},
   "outputs": [
    {
     "data": {
      "image/png": "[encoded data removed]",
      "text/plain": [
       "<Figure size 432x288 with 1 Axes>"
      ]
     },
     "metadata": {
      "needs_background": "light"
     },
     "output_type": "display_data"
    }
   ],
   "source": [
    "cols_prod = ['targeted_productivity', 'actual_productivity']\n",
    "\n",
    "for col in cols_prod:\n",
    "    df[col].plot.hist(alpha = 0.5)\n",
    "    #plt.xlabel(col)\n",
    "\n",
    "plt.legend()\n",
    "plt.show()"
   ]
  },
  {
   "cell_type": "markdown",
   "id": "55565a72",
   "metadata": {},
   "source": [
    "#### On comparing the distributions between targeted and actual productivity, we can observe that targeted productivity is between 0.6 and 0.8 in most cases, but the actual productivity is more spread out. In some cases, it is less than 0.6 and in some cases, it is more than 0.8. \n",
    "\n",
    "#### A better way would be to plot the difference between target productivity and actual productivity. "
   ]
  },
  {
   "cell_type": "code",
   "execution_count": 31,
   "id": "925634f2",
   "metadata": {},
   "outputs": [
    {
     "data": {
      "image/png": "[encoded data removed]",
      "text/plain": [
       "<Figure size 432x288 with 1 Axes>"
      ]
     },
     "metadata": {
      "needs_background": "light"
     },
     "output_type": "display_data"
    }
   ],
   "source": [
    "df['productivity_diff'] = df['actual_productivity'] - df['targeted_productivity']\n",
    "\n",
    "plt.hist(df['productivity_diff'])\n",
    "plt.show()"
   ]
  },
  {
   "cell_type": "code",
   "execution_count": 32,
   "id": "2e372f14",
   "metadata": {},
   "outputs": [
    {
     "name": "stdout",
     "output_type": "stream",
     "text": [
      "Instances of target not met 29.66 %\n",
      "Instances of target met or exceeded 70.34 %\n"
     ]
    }
   ],
   "source": [
    "target_not_met = (df['productivity_diff'] < 0).sum()/len(df['productivity_diff'])*100\n",
    "target_met_or_exceeded = (df['productivity_diff'] >= 0).sum()/len(df['productivity_diff'])*100\n",
    "\n",
    "print('Instances of target not met', round(target_not_met,2), '%')\n",
    "print('Instances of target met or exceeded', round(target_met_or_exceeded,2), '%')"
   ]
  },
  {
   "cell_type": "code",
   "execution_count": 33,
   "id": "e4f942c3",
   "metadata": {},
   "outputs": [
    {
     "data": {
      "image/png": "[encoded data removed]",
      "text/plain": [
       "<Figure size 432x288 with 1 Axes>"
      ]
     },
     "metadata": {
      "needs_background": "light"
     },
     "output_type": "display_data"
    },
    {
     "data": {
      "image/png": "[encoded data removed]",
      "text/plain": [
       "<Figure size 432x288 with 1 Axes>"
      ]
     },
     "metadata": {
      "needs_background": "light"
     },
     "output_type": "display_data"
    },
    {
     "data": {
      "image/png": "[encoded data removed]",
      "text/plain": [
       "<Figure size 432x288 with 1 Axes>"
      ]
     },
     "metadata": {
      "needs_background": "light"
     },
     "output_type": "display_data"
    },
    {
     "data": {
      "image/png": "[encoded data removed]",
      "text/plain": [
       "<Figure size 432x288 with 1 Axes>"
      ]
     },
     "metadata": {
      "needs_background": "light"
     },
     "output_type": "display_data"
    }
   ],
   "source": [
    "cols_cat_updated = [\n",
    " 'quarter',\n",
    " 'department','team','day'\n",
    "]\n",
    "\n",
    "for col in cols_cat_updated:\n",
    "    sns.boxplot(data = df, x = col, y = 'actual_productivity')\n",
    "    plt.show()"
   ]
  },
  {
   "cell_type": "markdown",
   "id": "a993b665",
   "metadata": {},
   "source": [
    "#### We can observe that all the categorical variables, 'department' , 'quarter', 'team' and 'day' have some impact on the productivity. It is possible that due to the last week of the month, the workers may feel motivated and put in extra effort, thereby increaseing the productivity. "
   ]
  },
  {
   "cell_type": "code",
   "execution_count": 34,
   "id": "a3be7260",
   "metadata": {},
   "outputs": [],
   "source": [
    "cols_num_updated = [col for col in cols_num if col != 'team']"
   ]
  },
  {
   "cell_type": "markdown",
   "id": "e9d66b87",
   "metadata": {},
   "source": [
    "cols_num_updated"
   ]
  },
  {
   "cell_type": "code",
   "execution_count": 35,
   "id": "cade9944",
   "metadata": {},
   "outputs": [
    {
     "data": {
      "text/plain": [
       "targeted_productivity    0.411364\n",
       "smv                     -0.132148\n",
       "wip                      0.109836\n",
       "over_time               -0.049783\n",
       "incentive                0.068459\n",
       "idle_time               -0.081459\n",
       "idle_men                -0.183984\n",
       "no_of_style_change      -0.197776\n",
       "no_of_workers           -0.077352\n",
       "actual_productivity      1.000000\n",
       "Name: actual_productivity, dtype: float64"
      ]
     },
     "execution_count": 35,
     "metadata": {},
     "output_type": "execute_result"
    }
   ],
   "source": [
    "df[cols_num_updated].corr()['actual_productivity']"
   ]
  },
  {
   "cell_type": "markdown",
   "id": "65f17ed9",
   "metadata": {},
   "source": [
    "#### Correlation analysis is not giving a clear answer. For example 'over_time' could have had a high correlation with productivity but the correlation is only -.04. Hence we will conduct Data Cleaning and Feature selection in a more subjective way. "
   ]
  },
  {
   "cell_type": "code",
   "execution_count": 36,
   "id": "dde4d0c2",
   "metadata": {
    "scrolled": true
   },
   "outputs": [
    {
     "data": {
      "text/plain": [
       "Index(['date', 'quarter', 'department', 'day', 'team', 'targeted_productivity',\n",
       "       'smv', 'wip', 'over_time', 'incentive', 'idle_time', 'idle_men',\n",
       "       'no_of_style_change', 'no_of_workers', 'actual_productivity', 'year',\n",
       "       'month', 'date_dd', 'productivity_diff'],\n",
       "      dtype='object')"
      ]
     },
     "execution_count": 36,
     "metadata": {},
     "output_type": "execute_result"
    }
   ],
   "source": [
    "df.columns"
   ]
  },
  {
   "cell_type": "markdown",
   "id": "d2197909",
   "metadata": {},
   "source": [
    "### Dataset Cleaning -"
   ]
  },
  {
   "cell_type": "markdown",
   "id": "41679531",
   "metadata": {},
   "source": [
    "#### Column - 'date'\n",
    "\n",
    "#### This column has already been updated with the datetime values. The timeframe is very less, hence we will not conduct any time series analysis. This column can be dropped. "
   ]
  },
  {
   "cell_type": "code",
   "execution_count": 37,
   "id": "0e1e5990",
   "metadata": {},
   "outputs": [
    {
     "data": {
      "text/plain": [
       "Index(['quarter', 'department', 'day', 'team', 'targeted_productivity', 'smv',\n",
       "       'wip', 'over_time', 'incentive', 'idle_time', 'idle_men',\n",
       "       'no_of_style_change', 'no_of_workers', 'actual_productivity', 'year',\n",
       "       'month', 'date_dd', 'productivity_diff'],\n",
       "      dtype='object')"
      ]
     },
     "execution_count": 37,
     "metadata": {},
     "output_type": "execute_result"
    }
   ],
   "source": [
    "df = df.drop('date', axis = 1)\n",
    "df.columns"
   ]
  },
  {
   "cell_type": "markdown",
   "id": "6cb05443",
   "metadata": {},
   "source": [
    "### Columns - Month, year and date_dd\n",
    "\n",
    "#### Since we are not doing a time series analysis, we will drop these columns. "
   ]
  },
  {
   "cell_type": "code",
   "execution_count": 38,
   "id": "57a3a09b",
   "metadata": {},
   "outputs": [
    {
     "data": {
      "text/plain": [
       "Index(['quarter', 'department', 'day', 'team', 'targeted_productivity', 'smv',\n",
       "       'wip', 'over_time', 'incentive', 'idle_time', 'idle_men',\n",
       "       'no_of_style_change', 'no_of_workers', 'actual_productivity',\n",
       "       'productivity_diff'],\n",
       "      dtype='object')"
      ]
     },
     "execution_count": 38,
     "metadata": {},
     "output_type": "execute_result"
    }
   ],
   "source": [
    "df  = df.drop([ 'year',\n",
    "       'month', 'date_dd'], axis = 1)\n",
    "df.columns"
   ]
  },
  {
   "cell_type": "markdown",
   "id": "08ba9dc8",
   "metadata": {},
   "source": [
    "### Columns - Idle Time, Idle Men and wip. \n"
   ]
  },
  {
   "cell_type": "code",
   "execution_count": 39,
   "id": "a5fb08f6",
   "metadata": {},
   "outputs": [
    {
     "data": {
      "text/plain": [
       "0.0      98.496241\n",
       "3.5       0.250627\n",
       "4.5       0.167084\n",
       "8.0       0.167084\n",
       "2.0       0.167084\n",
       "5.0       0.167084\n",
       "4.0       0.167084\n",
       "150.0     0.083542\n",
       "270.0     0.083542\n",
       "90.0      0.083542\n",
       "6.5       0.083542\n",
       "300.0     0.083542\n",
       "Name: idle_time, dtype: float64"
      ]
     },
     "execution_count": 39,
     "metadata": {},
     "output_type": "execute_result"
    }
   ],
   "source": [
    "df['idle_time'].value_counts(normalize = True)*100"
   ]
  },
  {
   "cell_type": "code",
   "execution_count": 40,
   "id": "45f84fe6",
   "metadata": {},
   "outputs": [
    {
     "data": {
      "text/plain": [
       "0     98.496241\n",
       "10     0.250627\n",
       "15     0.250627\n",
       "20     0.250627\n",
       "30     0.250627\n",
       "35     0.167084\n",
       "25     0.083542\n",
       "37     0.083542\n",
       "40     0.083542\n",
       "45     0.083542\n",
       "Name: idle_men, dtype: float64"
      ]
     },
     "execution_count": 40,
     "metadata": {},
     "output_type": "execute_result"
    }
   ],
   "source": [
    "df['idle_men'].value_counts(normalize = True)*100"
   ]
  },
  {
   "cell_type": "markdown",
   "id": "db96d751",
   "metadata": {},
   "source": [
    "#### Since 98% of the values are zero in both these columns, we will drop them, along with the wip column due to the uncertainty of implications of the missing data. "
   ]
  },
  {
   "cell_type": "code",
   "execution_count": 41,
   "id": "b9174b25",
   "metadata": {},
   "outputs": [
    {
     "data": {
      "text/plain": [
       "Index(['quarter', 'department', 'day', 'team', 'targeted_productivity', 'smv',\n",
       "       'over_time', 'incentive', 'no_of_style_change', 'no_of_workers',\n",
       "       'actual_productivity', 'productivity_diff'],\n",
       "      dtype='object')"
      ]
     },
     "execution_count": 41,
     "metadata": {},
     "output_type": "execute_result"
    }
   ],
   "source": [
    "df  = df.drop([ 'idle_time', 'idle_men', 'wip'], axis = 1)\n",
    "df.columns"
   ]
  },
  {
   "cell_type": "markdown",
   "id": "f00487b6",
   "metadata": {},
   "source": [
    "### Column -  'no_of_style_change'"
   ]
  },
  {
   "cell_type": "code",
   "execution_count": 42,
   "id": "22474cc1",
   "metadata": {},
   "outputs": [
    {
     "name": "stdout",
     "output_type": "stream",
     "text": [
      "<class 'pandas.core.frame.DataFrame'>\n",
      "RangeIndex: 1197 entries, 0 to 1196\n",
      "Data columns (total 1 columns):\n",
      " #   Column              Non-Null Count  Dtype\n",
      "---  ------              --------------  -----\n",
      " 0   no_of_style_change  1197 non-null   int64\n",
      "dtypes: int64(1)\n",
      "memory usage: 9.5 KB\n"
     ]
    }
   ],
   "source": [
    "df[['no_of_style_change']].info()"
   ]
  },
  {
   "cell_type": "code",
   "execution_count": 43,
   "id": "962460a3",
   "metadata": {},
   "outputs": [
    {
     "data": {
      "text/html": [
       "<div>\n",
       "<style scoped>\n",
       "    .dataframe tbody tr th:only-of-type {\n",
       "        vertical-align: middle;\n",
       "    }\n",
       "\n",
       "    .dataframe tbody tr th {\n",
       "        vertical-align: top;\n",
       "    }\n",
       "\n",
       "    .dataframe thead th {\n",
       "        text-align: right;\n",
       "    }\n",
       "</style>\n",
       "<table border=\"1\" class=\"dataframe\">\n",
       "  <thead>\n",
       "    <tr style=\"text-align: right;\">\n",
       "      <th></th>\n",
       "      <th>no_of_style_change</th>\n",
       "    </tr>\n",
       "  </thead>\n",
       "  <tbody>\n",
       "    <tr>\n",
       "      <th>count</th>\n",
       "      <td>1197.000000</td>\n",
       "    </tr>\n",
       "    <tr>\n",
       "      <th>mean</th>\n",
       "      <td>0.150376</td>\n",
       "    </tr>\n",
       "    <tr>\n",
       "      <th>std</th>\n",
       "      <td>0.427848</td>\n",
       "    </tr>\n",
       "    <tr>\n",
       "      <th>min</th>\n",
       "      <td>0.000000</td>\n",
       "    </tr>\n",
       "    <tr>\n",
       "      <th>25%</th>\n",
       "      <td>0.000000</td>\n",
       "    </tr>\n",
       "    <tr>\n",
       "      <th>50%</th>\n",
       "      <td>0.000000</td>\n",
       "    </tr>\n",
       "    <tr>\n",
       "      <th>75%</th>\n",
       "      <td>0.000000</td>\n",
       "    </tr>\n",
       "    <tr>\n",
       "      <th>max</th>\n",
       "      <td>2.000000</td>\n",
       "    </tr>\n",
       "  </tbody>\n",
       "</table>\n",
       "</div>"
      ],
      "text/plain": [
       "       no_of_style_change\n",
       "count         1197.000000\n",
       "mean             0.150376\n",
       "std              0.427848\n",
       "min              0.000000\n",
       "25%              0.000000\n",
       "50%              0.000000\n",
       "75%              0.000000\n",
       "max              2.000000"
      ]
     },
     "execution_count": 43,
     "metadata": {},
     "output_type": "execute_result"
    }
   ],
   "source": [
    "df[['no_of_style_change']].describe()"
   ]
  },
  {
   "cell_type": "code",
   "execution_count": 44,
   "id": "e6f0695e",
   "metadata": {},
   "outputs": [
    {
     "data": {
      "text/plain": [
       "no_of_style_change\n",
       "0                     1050\n",
       "1                      114\n",
       "2                       33\n",
       "dtype: int64"
      ]
     },
     "execution_count": 44,
     "metadata": {},
     "output_type": "execute_result"
    }
   ],
   "source": [
    "df[['no_of_style_change']].value_counts()"
   ]
  },
  {
   "cell_type": "markdown",
   "id": "d4c1228d",
   "metadata": {},
   "source": [
    "#### We will remove this column as most observations are zero. "
   ]
  },
  {
   "cell_type": "code",
   "execution_count": 45,
   "id": "83edce16",
   "metadata": {},
   "outputs": [
    {
     "data": {
      "text/plain": [
       "Index(['quarter', 'department', 'day', 'team', 'targeted_productivity', 'smv',\n",
       "       'over_time', 'incentive', 'no_of_workers', 'actual_productivity',\n",
       "       'productivity_diff'],\n",
       "      dtype='object')"
      ]
     },
     "execution_count": 45,
     "metadata": {},
     "output_type": "execute_result"
    }
   ],
   "source": [
    "df = df.drop('no_of_style_change', axis = 1)\n",
    "\n",
    "df.columns"
   ]
  },
  {
   "cell_type": "code",
   "execution_count": 46,
   "id": "1d139224",
   "metadata": {},
   "outputs": [
    {
     "data": {
      "text/html": [
       "<div>\n",
       "<style scoped>\n",
       "    .dataframe tbody tr th:only-of-type {\n",
       "        vertical-align: middle;\n",
       "    }\n",
       "\n",
       "    .dataframe tbody tr th {\n",
       "        vertical-align: top;\n",
       "    }\n",
       "\n",
       "    .dataframe thead th {\n",
       "        text-align: right;\n",
       "    }\n",
       "</style>\n",
       "<table border=\"1\" class=\"dataframe\">\n",
       "  <thead>\n",
       "    <tr style=\"text-align: right;\">\n",
       "      <th></th>\n",
       "      <th>quarter</th>\n",
       "      <th>department</th>\n",
       "      <th>day</th>\n",
       "      <th>team</th>\n",
       "      <th>targeted_productivity</th>\n",
       "      <th>smv</th>\n",
       "      <th>over_time</th>\n",
       "      <th>incentive</th>\n",
       "      <th>no_of_workers</th>\n",
       "      <th>actual_productivity</th>\n",
       "      <th>productivity_diff</th>\n",
       "    </tr>\n",
       "  </thead>\n",
       "  <tbody>\n",
       "    <tr>\n",
       "      <th>0</th>\n",
       "      <td>Quarter1</td>\n",
       "      <td>sweing</td>\n",
       "      <td>Thursday</td>\n",
       "      <td>8</td>\n",
       "      <td>0.80</td>\n",
       "      <td>26.16</td>\n",
       "      <td>7080</td>\n",
       "      <td>98</td>\n",
       "      <td>59.0</td>\n",
       "      <td>0.940725</td>\n",
       "      <td>0.140725</td>\n",
       "    </tr>\n",
       "    <tr>\n",
       "      <th>1</th>\n",
       "      <td>Quarter1</td>\n",
       "      <td>finishing</td>\n",
       "      <td>Thursday</td>\n",
       "      <td>1</td>\n",
       "      <td>0.75</td>\n",
       "      <td>3.94</td>\n",
       "      <td>960</td>\n",
       "      <td>0</td>\n",
       "      <td>8.0</td>\n",
       "      <td>0.886500</td>\n",
       "      <td>0.136500</td>\n",
       "    </tr>\n",
       "  </tbody>\n",
       "</table>\n",
       "</div>"
      ],
      "text/plain": [
       "    quarter department       day  team  targeted_productivity    smv  \\\n",
       "0  Quarter1     sweing  Thursday     8                   0.80  26.16   \n",
       "1  Quarter1  finishing  Thursday     1                   0.75   3.94   \n",
       "\n",
       "   over_time  incentive  no_of_workers  actual_productivity  productivity_diff  \n",
       "0       7080         98           59.0             0.940725           0.140725  \n",
       "1        960          0            8.0             0.886500           0.136500  "
      ]
     },
     "execution_count": 46,
     "metadata": {},
     "output_type": "execute_result"
    }
   ],
   "source": [
    "df.head(2)"
   ]
  },
  {
   "cell_type": "markdown",
   "id": "cf42aa4d",
   "metadata": {},
   "source": [
    "### Column - 'actual_productivity'\n",
    "\n",
    "#### We can round it off to 2 decimal places, just like 'targeted_productivity'"
   ]
  },
  {
   "cell_type": "code",
   "execution_count": 47,
   "id": "79272e67",
   "metadata": {},
   "outputs": [
    {
     "data": {
      "text/html": [
       "<div>\n",
       "<style scoped>\n",
       "    .dataframe tbody tr th:only-of-type {\n",
       "        vertical-align: middle;\n",
       "    }\n",
       "\n",
       "    .dataframe tbody tr th {\n",
       "        vertical-align: top;\n",
       "    }\n",
       "\n",
       "    .dataframe thead th {\n",
       "        text-align: right;\n",
       "    }\n",
       "</style>\n",
       "<table border=\"1\" class=\"dataframe\">\n",
       "  <thead>\n",
       "    <tr style=\"text-align: right;\">\n",
       "      <th></th>\n",
       "      <th>quarter</th>\n",
       "      <th>department</th>\n",
       "      <th>day</th>\n",
       "      <th>team</th>\n",
       "      <th>targeted_productivity</th>\n",
       "      <th>smv</th>\n",
       "      <th>over_time</th>\n",
       "      <th>incentive</th>\n",
       "      <th>no_of_workers</th>\n",
       "      <th>actual_productivity</th>\n",
       "      <th>productivity_diff</th>\n",
       "    </tr>\n",
       "  </thead>\n",
       "  <tbody>\n",
       "    <tr>\n",
       "      <th>0</th>\n",
       "      <td>Quarter1</td>\n",
       "      <td>sweing</td>\n",
       "      <td>Thursday</td>\n",
       "      <td>8</td>\n",
       "      <td>0.80</td>\n",
       "      <td>26.16</td>\n",
       "      <td>7080</td>\n",
       "      <td>98</td>\n",
       "      <td>59.0</td>\n",
       "      <td>0.94</td>\n",
       "      <td>0.140725</td>\n",
       "    </tr>\n",
       "    <tr>\n",
       "      <th>1</th>\n",
       "      <td>Quarter1</td>\n",
       "      <td>finishing</td>\n",
       "      <td>Thursday</td>\n",
       "      <td>1</td>\n",
       "      <td>0.75</td>\n",
       "      <td>3.94</td>\n",
       "      <td>960</td>\n",
       "      <td>0</td>\n",
       "      <td>8.0</td>\n",
       "      <td>0.89</td>\n",
       "      <td>0.136500</td>\n",
       "    </tr>\n",
       "  </tbody>\n",
       "</table>\n",
       "</div>"
      ],
      "text/plain": [
       "    quarter department       day  team  targeted_productivity    smv  \\\n",
       "0  Quarter1     sweing  Thursday     8                   0.80  26.16   \n",
       "1  Quarter1  finishing  Thursday     1                   0.75   3.94   \n",
       "\n",
       "   over_time  incentive  no_of_workers  actual_productivity  productivity_diff  \n",
       "0       7080         98           59.0                 0.94           0.140725  \n",
       "1        960          0            8.0                 0.89           0.136500  "
      ]
     },
     "execution_count": 47,
     "metadata": {},
     "output_type": "execute_result"
    }
   ],
   "source": [
    "df['actual_productivity'] = df['actual_productivity'].round(2)\n",
    "\n",
    "df.head(2)"
   ]
  },
  {
   "cell_type": "markdown",
   "id": "a3d103f1",
   "metadata": {},
   "source": [
    "### Column - 'no_of_workers'"
   ]
  },
  {
   "cell_type": "code",
   "execution_count": 48,
   "id": "9ad44dc5",
   "metadata": {},
   "outputs": [
    {
     "data": {
      "text/plain": [
       "8.0     262\n",
       "58.0    114\n",
       "57.0    109\n",
       "59.0     75\n",
       "10.0     60\n",
       "       ... \n",
       "29.5      1\n",
       "51.5      1\n",
       "26.0      1\n",
       "47.0      1\n",
       "48.0      1\n",
       "Name: no_of_workers, Length: 61, dtype: int64"
      ]
     },
     "execution_count": 48,
     "metadata": {},
     "output_type": "execute_result"
    }
   ],
   "source": [
    "df['no_of_workers'].value_counts()"
   ]
  },
  {
   "cell_type": "markdown",
   "id": "51c5bbe2",
   "metadata": {},
   "source": [
    "#### Since the number of workers cannot be decimal values, we will update it to int data type. "
   ]
  },
  {
   "cell_type": "code",
   "execution_count": 49,
   "id": "24ee1610",
   "metadata": {},
   "outputs": [
    {
     "data": {
      "text/html": [
       "<div>\n",
       "<style scoped>\n",
       "    .dataframe tbody tr th:only-of-type {\n",
       "        vertical-align: middle;\n",
       "    }\n",
       "\n",
       "    .dataframe tbody tr th {\n",
       "        vertical-align: top;\n",
       "    }\n",
       "\n",
       "    .dataframe thead th {\n",
       "        text-align: right;\n",
       "    }\n",
       "</style>\n",
       "<table border=\"1\" class=\"dataframe\">\n",
       "  <thead>\n",
       "    <tr style=\"text-align: right;\">\n",
       "      <th></th>\n",
       "      <th>quarter</th>\n",
       "      <th>department</th>\n",
       "      <th>day</th>\n",
       "      <th>team</th>\n",
       "      <th>targeted_productivity</th>\n",
       "      <th>smv</th>\n",
       "      <th>over_time</th>\n",
       "      <th>incentive</th>\n",
       "      <th>no_of_workers</th>\n",
       "      <th>actual_productivity</th>\n",
       "      <th>productivity_diff</th>\n",
       "    </tr>\n",
       "  </thead>\n",
       "  <tbody>\n",
       "    <tr>\n",
       "      <th>0</th>\n",
       "      <td>Quarter1</td>\n",
       "      <td>sweing</td>\n",
       "      <td>Thursday</td>\n",
       "      <td>8</td>\n",
       "      <td>0.80</td>\n",
       "      <td>26.16</td>\n",
       "      <td>7080</td>\n",
       "      <td>98</td>\n",
       "      <td>59</td>\n",
       "      <td>0.94</td>\n",
       "      <td>0.140725</td>\n",
       "    </tr>\n",
       "    <tr>\n",
       "      <th>1</th>\n",
       "      <td>Quarter1</td>\n",
       "      <td>finishing</td>\n",
       "      <td>Thursday</td>\n",
       "      <td>1</td>\n",
       "      <td>0.75</td>\n",
       "      <td>3.94</td>\n",
       "      <td>960</td>\n",
       "      <td>0</td>\n",
       "      <td>8</td>\n",
       "      <td>0.89</td>\n",
       "      <td>0.136500</td>\n",
       "    </tr>\n",
       "    <tr>\n",
       "      <th>2</th>\n",
       "      <td>Quarter1</td>\n",
       "      <td>sweing</td>\n",
       "      <td>Thursday</td>\n",
       "      <td>11</td>\n",
       "      <td>0.80</td>\n",
       "      <td>11.41</td>\n",
       "      <td>3660</td>\n",
       "      <td>50</td>\n",
       "      <td>30</td>\n",
       "      <td>0.80</td>\n",
       "      <td>0.000570</td>\n",
       "    </tr>\n",
       "    <tr>\n",
       "      <th>3</th>\n",
       "      <td>Quarter1</td>\n",
       "      <td>sweing</td>\n",
       "      <td>Thursday</td>\n",
       "      <td>12</td>\n",
       "      <td>0.80</td>\n",
       "      <td>11.41</td>\n",
       "      <td>3660</td>\n",
       "      <td>50</td>\n",
       "      <td>30</td>\n",
       "      <td>0.80</td>\n",
       "      <td>0.000570</td>\n",
       "    </tr>\n",
       "    <tr>\n",
       "      <th>4</th>\n",
       "      <td>Quarter1</td>\n",
       "      <td>sweing</td>\n",
       "      <td>Thursday</td>\n",
       "      <td>6</td>\n",
       "      <td>0.80</td>\n",
       "      <td>25.90</td>\n",
       "      <td>1920</td>\n",
       "      <td>50</td>\n",
       "      <td>56</td>\n",
       "      <td>0.80</td>\n",
       "      <td>0.000382</td>\n",
       "    </tr>\n",
       "  </tbody>\n",
       "</table>\n",
       "</div>"
      ],
      "text/plain": [
       "    quarter department       day  team  targeted_productivity    smv  \\\n",
       "0  Quarter1     sweing  Thursday     8                   0.80  26.16   \n",
       "1  Quarter1  finishing  Thursday     1                   0.75   3.94   \n",
       "2  Quarter1     sweing  Thursday    11                   0.80  11.41   \n",
       "3  Quarter1     sweing  Thursday    12                   0.80  11.41   \n",
       "4  Quarter1     sweing  Thursday     6                   0.80  25.90   \n",
       "\n",
       "   over_time  incentive  no_of_workers  actual_productivity  productivity_diff  \n",
       "0       7080         98             59                 0.94           0.140725  \n",
       "1        960          0              8                 0.89           0.136500  \n",
       "2       3660         50             30                 0.80           0.000570  \n",
       "3       3660         50             30                 0.80           0.000570  \n",
       "4       1920         50             56                 0.80           0.000382  "
      ]
     },
     "execution_count": 49,
     "metadata": {},
     "output_type": "execute_result"
    }
   ],
   "source": [
    "df['no_of_workers'] = df['no_of_workers'].astype(int)\n",
    "df.head()"
   ]
  },
  {
   "cell_type": "markdown",
   "id": "8c71bf5f",
   "metadata": {},
   "source": [
    "### Column creation - 'productive'\n",
    "\n",
    "#### Since we are building a Classification Tree, we will create a binary column which will indicate if the team was productive or not on that given day. "
   ]
  },
  {
   "cell_type": "code",
   "execution_count": 50,
   "id": "5defd23e",
   "metadata": {},
   "outputs": [],
   "source": [
    "df['productive'] = df['productivity_diff'].apply(lambda x : True if x >=0 else False)"
   ]
  },
  {
   "cell_type": "code",
   "execution_count": 51,
   "id": "5e3638e2",
   "metadata": {},
   "outputs": [
    {
     "data": {
      "text/html": [
       "<div>\n",
       "<style scoped>\n",
       "    .dataframe tbody tr th:only-of-type {\n",
       "        vertical-align: middle;\n",
       "    }\n",
       "\n",
       "    .dataframe tbody tr th {\n",
       "        vertical-align: top;\n",
       "    }\n",
       "\n",
       "    .dataframe thead th {\n",
       "        text-align: right;\n",
       "    }\n",
       "</style>\n",
       "<table border=\"1\" class=\"dataframe\">\n",
       "  <thead>\n",
       "    <tr style=\"text-align: right;\">\n",
       "      <th></th>\n",
       "      <th>quarter</th>\n",
       "      <th>department</th>\n",
       "      <th>day</th>\n",
       "      <th>team</th>\n",
       "      <th>targeted_productivity</th>\n",
       "      <th>smv</th>\n",
       "      <th>over_time</th>\n",
       "      <th>incentive</th>\n",
       "      <th>no_of_workers</th>\n",
       "      <th>actual_productivity</th>\n",
       "      <th>productivity_diff</th>\n",
       "      <th>productive</th>\n",
       "    </tr>\n",
       "  </thead>\n",
       "  <tbody>\n",
       "    <tr>\n",
       "      <th>0</th>\n",
       "      <td>Quarter1</td>\n",
       "      <td>sweing</td>\n",
       "      <td>Thursday</td>\n",
       "      <td>8</td>\n",
       "      <td>0.80</td>\n",
       "      <td>26.16</td>\n",
       "      <td>7080</td>\n",
       "      <td>98</td>\n",
       "      <td>59</td>\n",
       "      <td>0.94</td>\n",
       "      <td>0.140725</td>\n",
       "      <td>True</td>\n",
       "    </tr>\n",
       "    <tr>\n",
       "      <th>1</th>\n",
       "      <td>Quarter1</td>\n",
       "      <td>finishing</td>\n",
       "      <td>Thursday</td>\n",
       "      <td>1</td>\n",
       "      <td>0.75</td>\n",
       "      <td>3.94</td>\n",
       "      <td>960</td>\n",
       "      <td>0</td>\n",
       "      <td>8</td>\n",
       "      <td>0.89</td>\n",
       "      <td>0.136500</td>\n",
       "      <td>True</td>\n",
       "    </tr>\n",
       "  </tbody>\n",
       "</table>\n",
       "</div>"
      ],
      "text/plain": [
       "    quarter department       day  team  targeted_productivity    smv  \\\n",
       "0  Quarter1     sweing  Thursday     8                   0.80  26.16   \n",
       "1  Quarter1  finishing  Thursday     1                   0.75   3.94   \n",
       "\n",
       "   over_time  incentive  no_of_workers  actual_productivity  \\\n",
       "0       7080         98             59                 0.94   \n",
       "1        960          0              8                 0.89   \n",
       "\n",
       "   productivity_diff  productive  \n",
       "0           0.140725        True  \n",
       "1           0.136500        True  "
      ]
     },
     "execution_count": 51,
     "metadata": {},
     "output_type": "execute_result"
    }
   ],
   "source": [
    "df.head(2)"
   ]
  },
  {
   "cell_type": "markdown",
   "id": "cb064ac9",
   "metadata": {},
   "source": [
    "#### We can also drop the column 'productivity_diff' as it is no longer required. "
   ]
  },
  {
   "cell_type": "code",
   "execution_count": 52,
   "id": "18c5b03e",
   "metadata": {},
   "outputs": [
    {
     "data": {
      "text/html": [
       "<div>\n",
       "<style scoped>\n",
       "    .dataframe tbody tr th:only-of-type {\n",
       "        vertical-align: middle;\n",
       "    }\n",
       "\n",
       "    .dataframe tbody tr th {\n",
       "        vertical-align: top;\n",
       "    }\n",
       "\n",
       "    .dataframe thead th {\n",
       "        text-align: right;\n",
       "    }\n",
       "</style>\n",
       "<table border=\"1\" class=\"dataframe\">\n",
       "  <thead>\n",
       "    <tr style=\"text-align: right;\">\n",
       "      <th></th>\n",
       "      <th>quarter</th>\n",
       "      <th>department</th>\n",
       "      <th>day</th>\n",
       "      <th>team</th>\n",
       "      <th>targeted_productivity</th>\n",
       "      <th>smv</th>\n",
       "      <th>over_time</th>\n",
       "      <th>incentive</th>\n",
       "      <th>no_of_workers</th>\n",
       "      <th>actual_productivity</th>\n",
       "      <th>productive</th>\n",
       "    </tr>\n",
       "  </thead>\n",
       "  <tbody>\n",
       "    <tr>\n",
       "      <th>0</th>\n",
       "      <td>Quarter1</td>\n",
       "      <td>sweing</td>\n",
       "      <td>Thursday</td>\n",
       "      <td>8</td>\n",
       "      <td>0.80</td>\n",
       "      <td>26.16</td>\n",
       "      <td>7080</td>\n",
       "      <td>98</td>\n",
       "      <td>59</td>\n",
       "      <td>0.94</td>\n",
       "      <td>True</td>\n",
       "    </tr>\n",
       "    <tr>\n",
       "      <th>1</th>\n",
       "      <td>Quarter1</td>\n",
       "      <td>finishing</td>\n",
       "      <td>Thursday</td>\n",
       "      <td>1</td>\n",
       "      <td>0.75</td>\n",
       "      <td>3.94</td>\n",
       "      <td>960</td>\n",
       "      <td>0</td>\n",
       "      <td>8</td>\n",
       "      <td>0.89</td>\n",
       "      <td>True</td>\n",
       "    </tr>\n",
       "  </tbody>\n",
       "</table>\n",
       "</div>"
      ],
      "text/plain": [
       "    quarter department       day  team  targeted_productivity    smv  \\\n",
       "0  Quarter1     sweing  Thursday     8                   0.80  26.16   \n",
       "1  Quarter1  finishing  Thursday     1                   0.75   3.94   \n",
       "\n",
       "   over_time  incentive  no_of_workers  actual_productivity  productive  \n",
       "0       7080         98             59                 0.94        True  \n",
       "1        960          0              8                 0.89        True  "
      ]
     },
     "execution_count": 52,
     "metadata": {},
     "output_type": "execute_result"
    }
   ],
   "source": [
    "df = df.drop('productivity_diff', axis = 1)\n",
    "\n",
    "df.head(2)"
   ]
  },
  {
   "cell_type": "markdown",
   "id": "3ba919ae",
   "metadata": {},
   "source": [
    "#### We can reorder the columns for an easier reading. "
   ]
  },
  {
   "cell_type": "code",
   "execution_count": 53,
   "id": "6ff545f4",
   "metadata": {},
   "outputs": [
    {
     "data": {
      "text/plain": [
       "Index(['quarter', 'department', 'day', 'team', 'targeted_productivity', 'smv',\n",
       "       'over_time', 'incentive', 'no_of_workers', 'actual_productivity',\n",
       "       'productive'],\n",
       "      dtype='object')"
      ]
     },
     "execution_count": 53,
     "metadata": {},
     "output_type": "execute_result"
    }
   ],
   "source": [
    "df.columns"
   ]
  },
  {
   "cell_type": "code",
   "execution_count": 54,
   "id": "f9d30fd1",
   "metadata": {},
   "outputs": [],
   "source": [
    "col_order = ['quarter', 'day', 'department','team', 'no_of_workers', 'smv', 'over_time', 'incentive', 'targeted_productivity', 'actual_productivity', 'productive']"
   ]
  },
  {
   "cell_type": "code",
   "execution_count": 55,
   "id": "f0b8add3",
   "metadata": {},
   "outputs": [
    {
     "data": {
      "text/html": [
       "<div>\n",
       "<style scoped>\n",
       "    .dataframe tbody tr th:only-of-type {\n",
       "        vertical-align: middle;\n",
       "    }\n",
       "\n",
       "    .dataframe tbody tr th {\n",
       "        vertical-align: top;\n",
       "    }\n",
       "\n",
       "    .dataframe thead th {\n",
       "        text-align: right;\n",
       "    }\n",
       "</style>\n",
       "<table border=\"1\" class=\"dataframe\">\n",
       "  <thead>\n",
       "    <tr style=\"text-align: right;\">\n",
       "      <th></th>\n",
       "      <th>quarter</th>\n",
       "      <th>day</th>\n",
       "      <th>department</th>\n",
       "      <th>team</th>\n",
       "      <th>no_of_workers</th>\n",
       "      <th>smv</th>\n",
       "      <th>over_time</th>\n",
       "      <th>incentive</th>\n",
       "      <th>targeted_productivity</th>\n",
       "      <th>actual_productivity</th>\n",
       "      <th>productive</th>\n",
       "    </tr>\n",
       "  </thead>\n",
       "  <tbody>\n",
       "    <tr>\n",
       "      <th>0</th>\n",
       "      <td>Quarter1</td>\n",
       "      <td>Thursday</td>\n",
       "      <td>sweing</td>\n",
       "      <td>8</td>\n",
       "      <td>59</td>\n",
       "      <td>26.16</td>\n",
       "      <td>7080</td>\n",
       "      <td>98</td>\n",
       "      <td>0.80</td>\n",
       "      <td>0.94</td>\n",
       "      <td>True</td>\n",
       "    </tr>\n",
       "    <tr>\n",
       "      <th>1</th>\n",
       "      <td>Quarter1</td>\n",
       "      <td>Thursday</td>\n",
       "      <td>finishing</td>\n",
       "      <td>1</td>\n",
       "      <td>8</td>\n",
       "      <td>3.94</td>\n",
       "      <td>960</td>\n",
       "      <td>0</td>\n",
       "      <td>0.75</td>\n",
       "      <td>0.89</td>\n",
       "      <td>True</td>\n",
       "    </tr>\n",
       "  </tbody>\n",
       "</table>\n",
       "</div>"
      ],
      "text/plain": [
       "    quarter       day department  team  no_of_workers    smv  over_time  \\\n",
       "0  Quarter1  Thursday     sweing     8             59  26.16       7080   \n",
       "1  Quarter1  Thursday  finishing     1              8   3.94        960   \n",
       "\n",
       "   incentive  targeted_productivity  actual_productivity  productive  \n",
       "0         98                   0.80                 0.94        True  \n",
       "1          0                   0.75                 0.89        True  "
      ]
     },
     "execution_count": 55,
     "metadata": {},
     "output_type": "execute_result"
    }
   ],
   "source": [
    "df = df[col_order]\n",
    "df.head(2)"
   ]
  },
  {
   "cell_type": "code",
   "execution_count": null,
   "id": "c4742754",
   "metadata": {},
   "outputs": [],
   "source": []
  },
  {
   "cell_type": "code",
   "execution_count": null,
   "id": "6339b715",
   "metadata": {},
   "outputs": [],
   "source": []
  },
  {
   "cell_type": "markdown",
   "id": "8d07a93a",
   "metadata": {},
   "source": [
    "### Columns - 'quarter', 'team', 'department' and 'day' - OneHotEncoding\n",
    "\n",
    "#### Since the column 'quarter' signifies quarter of the month, effectively the week of the month, we can convert it into dummy columns and add it to the dataframe.  Similarly we can convert 'team' and 'department' into dummy variables. We can also replace the terms with 1-5, to make them more precise. However we will treat them as categorical variables. "
   ]
  },
  {
   "cell_type": "code",
   "execution_count": 56,
   "id": "6c7db5bc",
   "metadata": {},
   "outputs": [
    {
     "data": {
      "text/plain": [
       "1    360\n",
       "2    335\n",
       "4    248\n",
       "3    210\n",
       "5     44\n",
       "Name: quarter, dtype: int64"
      ]
     },
     "execution_count": 56,
     "metadata": {},
     "output_type": "execute_result"
    }
   ],
   "source": [
    "\n",
    "replacement_dict = {'Quarter1' : '1', 'Quarter2' : '2', 'Quarter3' : '3',  'Quarter4' : '4', 'Quarter5' : '5', \n",
    "                   }\n",
    "\n",
    "df['quarter'] = df['quarter'].replace(replacement_dict)\n",
    "df['quarter'].value_counts()\n",
    "\n"
   ]
  },
  {
   "cell_type": "code",
   "execution_count": 57,
   "id": "1097c270",
   "metadata": {},
   "outputs": [
    {
     "data": {
      "text/plain": [
       "Index(['quarter_1', 'quarter_2', 'quarter_3', 'quarter_4', 'quarter_5',\n",
       "       'department_finishing', 'department_sweing', 'team_1', 'team_2',\n",
       "       'team_3', 'team_4', 'team_5', 'team_6', 'team_7', 'team_8', 'team_9',\n",
       "       'team_10', 'team_11', 'team_12', 'day_Monday', 'day_Saturday',\n",
       "       'day_Sunday', 'day_Thursday', 'day_Tuesday', 'day_Wednesday',\n",
       "       'no_of_workers', 'smv', 'over_time', 'incentive',\n",
       "       'targeted_productivity', 'actual_productivity', 'productive'],\n",
       "      dtype='object')"
      ]
     },
     "execution_count": 57,
     "metadata": {},
     "output_type": "execute_result"
    }
   ],
   "source": [
    "from sklearn.preprocessing import OneHotEncoder\n",
    "from sklearn.compose import make_column_transformer\n",
    "\n",
    "tuple_list = [(OneHotEncoder(),['quarter']),(OneHotEncoder(),['department']),(OneHotEncoder(),['team']),(OneHotEncoder(),['day']) ]\n",
    "\n",
    "col_trans = make_column_transformer(*tuple_list, remainder = 'passthrough', verbose_feature_names_out = False,)\n",
    "\n",
    "onehot_array = col_trans.fit_transform(df)\n",
    "column_names = col_trans.get_feature_names_out()\n",
    "\n",
    "onehot_df = pd.DataFrame(data = onehot_array, columns = column_names)\n",
    "\n",
    "onehot_df.columns"
   ]
  },
  {
   "cell_type": "markdown",
   "id": "4d659110",
   "metadata": {},
   "source": [
    "## Building the Decision Tree"
   ]
  },
  {
   "cell_type": "code",
   "execution_count": 58,
   "id": "beddfbeb",
   "metadata": {},
   "outputs": [],
   "source": [
    "from sklearn.tree import DecisionTreeClassifier\n",
    "from sklearn.model_selection import train_test_split\n",
    "\n",
    "X = onehot_df.drop(['actual_productivity', 'productive'], axis = 1)\n",
    "y = onehot_df['productive']\n",
    "\n",
    "##Found an error while using boolean values, converting them into string classes. \n",
    "y = y.apply(lambda x: 'Productive' if x == True else 'Not Productive')\n",
    "\n",
    "X_train, X_test, y_train, y_test = train_test_split(X,y, test_size = 0.2, random_state = 24 )\n",
    "\n",
    "### Checking the class balance in both training and test sets"
   ]
  },
  {
   "cell_type": "code",
   "execution_count": 59,
   "id": "939ba1ef",
   "metadata": {},
   "outputs": [
    {
     "data": {
      "text/plain": [
       "Productive        70.532915\n",
       "Not Productive    29.467085\n",
       "Name: productive, dtype: float64"
      ]
     },
     "execution_count": 59,
     "metadata": {},
     "output_type": "execute_result"
    }
   ],
   "source": [
    "y_train.value_counts(dropna =False, normalize = True)*100"
   ]
  },
  {
   "cell_type": "code",
   "execution_count": 60,
   "id": "552b3a68",
   "metadata": {},
   "outputs": [
    {
     "data": {
      "text/plain": [
       "Productive        69.583333\n",
       "Not Productive    30.416667\n",
       "Name: productive, dtype: float64"
      ]
     },
     "execution_count": 60,
     "metadata": {},
     "output_type": "execute_result"
    }
   ],
   "source": [
    "y_test.value_counts(dropna =False, normalize = True)*100"
   ]
  },
  {
   "cell_type": "code",
   "execution_count": 61,
   "id": "46eedc77",
   "metadata": {},
   "outputs": [],
   "source": [
    "tree = DecisionTreeClassifier(max_depth = 3, random_state = 24)\n",
    "\n",
    "tree.fit(X_train, y_train)\n",
    "\n",
    "y_pred = tree.predict(X_test)"
   ]
  },
  {
   "cell_type": "code",
   "execution_count": 62,
   "id": "0862be80",
   "metadata": {},
   "outputs": [
    {
     "name": "stdout",
     "output_type": "stream",
     "text": [
      "Accuracy 0.817\n",
      "\n",
      "\n",
      "---------------Classification Report------------\n",
      "                precision    recall  f1-score   support\n",
      "\n",
      "Not Productive       0.76      0.58      0.66        73\n",
      "    Productive       0.83      0.92      0.88       167\n",
      "\n",
      "      accuracy                           0.82       240\n",
      "     macro avg       0.80      0.75      0.77       240\n",
      "  weighted avg       0.81      0.82      0.81       240\n",
      "\n"
     ]
    }
   ],
   "source": [
    "from sklearn.metrics import accuracy_score, classification_report\n",
    "\n",
    "accuracy = accuracy_score(y_test,y_pred)\n",
    "class_report = classification_report(y_test, y_pred)\n",
    "\n",
    "print('Accuracy', round(accuracy,3))\n",
    "print('\\n')\n",
    "print('---------------Classification Report------------')\n",
    "print(class_report)"
   ]
  },
  {
   "cell_type": "markdown",
   "id": "9c40c189",
   "metadata": {},
   "source": [
    "#### Thus the accuracy is 81.7% and other metrics such as precision and recall are 84% and 82%. We can accept these results as satisfactory model performance. "
   ]
  },
  {
   "cell_type": "markdown",
   "id": "21cdd313",
   "metadata": {},
   "source": [
    "### Visualizing the Decision Tree"
   ]
  },
  {
   "cell_type": "code",
   "execution_count": 63,
   "id": "36eef9e4",
   "metadata": {},
   "outputs": [
    {
     "data": {
      "image/png": "[encoded data removed]",
      "text/plain": [
       "<Figure size 1440x576 with 1 Axes>"
      ]
     },
     "metadata": {
      "needs_background": "light"
     },
     "output_type": "display_data"
    }
   ],
   "source": [
    "plt.figure(figsize = [20,8])\n",
    "\n",
    "plot_tree(tree, \n",
    "          feature_names = X.columns,\n",
    "          filled = True,\n",
    "          proportion = True,\n",
    "          precision = 2,\n",
    "          fontsize = 11,\n",
    "          class_names = tree.classes_\n",
    ")\n",
    "\n",
    "plt.show()"
   ]
  },
  {
   "cell_type": "markdown",
   "id": "1a8aa942",
   "metadata": {},
   "source": [
    "### Presenting the Tree Model in Text format"
   ]
  },
  {
   "cell_type": "code",
   "execution_count": 64,
   "id": "0d279701",
   "metadata": {},
   "outputs": [
    {
     "name": "stdout",
     "output_type": "stream",
     "text": [
      "|--- incentive <= 22.00\n",
      "|   |--- smv <= 3.92\n",
      "|   |   |--- no_of_workers <= 8.50\n",
      "|   |   |   |--- class: Not Productive\n",
      "|   |   |--- no_of_workers >  8.50\n",
      "|   |   |   |--- class: Productive\n",
      "|   |--- smv >  3.92\n",
      "|   |   |--- smv <= 4.87\n",
      "|   |   |   |--- class: Productive\n",
      "|   |   |--- smv >  4.87\n",
      "|   |   |   |--- class: Not Productive\n",
      "|--- incentive >  22.00\n",
      "|   |--- incentive <= 106.50\n",
      "|   |   |--- smv <= 31.15\n",
      "|   |   |   |--- class: Productive\n",
      "|   |   |--- smv >  31.15\n",
      "|   |   |   |--- class: Not Productive\n",
      "|   |--- incentive >  106.50\n",
      "|   |   |--- no_of_workers <= 56.50\n",
      "|   |   |   |--- class: Productive\n",
      "|   |   |--- no_of_workers >  56.50\n",
      "|   |   |   |--- class: Not Productive\n",
      "\n"
     ]
    }
   ],
   "source": [
    "from sklearn.tree import export_text\n",
    "\n",
    "exported_text = export_text(tree, feature_names = list(X.columns))\n",
    "\n",
    "print(exported_text)"
   ]
  },
  {
   "cell_type": "markdown",
   "id": "e3aa0460",
   "metadata": {},
   "source": [
    "### Interpretation"
   ]
  },
  {
   "cell_type": "markdown",
   "id": "45a9b5de",
   "metadata": {},
   "source": [
    "#### The decision tree can be interpreted as a combination of input factor ranges, that help predict if the worker would be productive or not. For Example, if we start from the top and move towards the left, if incentive is less than 22, smv is less than 3.92, and no. of workers is less than 8.5, then the team will not be productive. Similarly we can start from the top and go down to the last cell in any direction and that would give the final prediction of Productivity.  \n",
    "\n",
    "#### This can be also considered like a flowchart for prediction, where each cell has a condition / threshold for any given input factor. These factors have been shortlisted as most relevant for predicting team productivity. "
   ]
  },
  {
   "cell_type": "markdown",
   "id": "fc20e0c8",
   "metadata": {},
   "source": [
    "## Random Forests Classifier (An Ensemble technique in Decision Trees)"
   ]
  },
  {
   "cell_type": "code",
   "execution_count": 65,
   "id": "7be68c6c",
   "metadata": {},
   "outputs": [
    {
     "name": "stdout",
     "output_type": "stream",
     "text": [
      "Random Forest Model Accuracy =  80.0 %\n",
      "Decision Tree Classifier Accuracy =  81.67 %\n"
     ]
    }
   ],
   "source": [
    "from sklearn.ensemble import RandomForestClassifier\n",
    "\n",
    "tree_rf = RandomForestClassifier()\n",
    "\n",
    "tree_rf.fit(X_train,y_train)\n",
    "\n",
    "y_pred_rf = tree_rf.predict(X_test)\n",
    "\n",
    "accuracy_rf = accuracy_score( y_test, y_pred_rf)\n",
    "\n",
    "print('Random Forest Model Accuracy = ', round(accuracy_rf*100,2), '%' )\n",
    "print('Decision Tree Classifier Accuracy = ', round(accuracy*100,2), '%')"
   ]
  },
  {
   "cell_type": "markdown",
   "id": "7290b1c1",
   "metadata": {},
   "source": [
    "#### The Classifier is giving higher accuracy in comparision to Random Forest. Now we will try to vary different parameters for both and check if both the models can be improved. "
   ]
  },
  {
   "cell_type": "code",
   "execution_count": 66,
   "id": "14189773",
   "metadata": {},
   "outputs": [
    {
     "name": "stdout",
     "output_type": "stream",
     "text": [
      "Random Forest Model Accuracy after Hyperparameter Tuning =  75.0 %\n",
      "Decision Tree Classifier Accuracy after Hyperparameter Tuning =  81.67 %\n"
     ]
    }
   ],
   "source": [
    "parameters_dt = {\"criterion\": [\"gini\", \"entropy\"],\n",
    "              \"class_weight\": [None, \"balanced\"],\n",
    "              \"min_samples_split\": [12, 30, 48],\n",
    "              \"max_depth\": list(range(3, 7)),\n",
    "              \"min_samples_leaf\": list(range(9, 19, 3))\n",
    "             }\n",
    "\n",
    "parameters_rf = {\"criterion\": [\"gini\", \"entropy\"],\n",
    "              \"class_weight\": [None, \"balanced\"],\n",
    "              \"min_samples_split\": [12, 30, 48],\n",
    "              \"max_depth\": list(range(3, 7)),\n",
    "              \"min_samples_leaf\": list(range(9, 19, 3)),\n",
    "                 \"n_estimators\" : [50,100,200]\n",
    "             }\n",
    "\n",
    "grid_object_dt = GridSearchCV(tree, param_grid = parameters_dt)\n",
    "grid_object_rf = GridSearchCV(tree_rf, param_grid = parameters_rf)\n",
    "\n",
    "grid_object_dt.fit(X_train,y_train)\n",
    "grid_object_rf.fit(X_train,y_train) \n",
    "\n",
    "accuracy_dt = accuracy_score(y_test, grid_object_dt.predict(X_test))\n",
    "accuracy_rf = accuracy_score(y_test, grid_object_rf.predict(X_test))\n",
    "\n",
    "print('Random Forest Model Accuracy after Hyperparameter Tuning = ', round(accuracy_rf*100,2), '%' )\n",
    "print('Decision Tree Classifier Accuracy after Hyperparameter Tuning = ', round(accuracy*100,2), '%')"
   ]
  },
  {
   "cell_type": "markdown",
   "id": "7e3e308d",
   "metadata": {},
   "source": [
    "#### Hyperparameter Tuning reduced the accuracy of the Random Forest Model. Now we will keep other parameters constant and vary only the n_estimators parameter. "
   ]
  },
  {
   "cell_type": "code",
   "execution_count": 67,
   "id": "d6494ece",
   "metadata": {},
   "outputs": [
    {
     "data": {
      "image/png": "[encoded data removed]",
      "text/plain": [
       "<Figure size 432x288 with 1 Axes>"
      ]
     },
     "metadata": {
      "needs_background": "light"
     },
     "output_type": "display_data"
    }
   ],
   "source": [
    "estimator_size_range = list(range(50,401,10))\n",
    "scores = []\n",
    "\n",
    "best_params_rf = grid_object_rf.best_params_\n",
    "\n",
    "for estimator_size in estimator_size_range:\n",
    "    best_params_minus_n_est = {key: value for key,value in best_params_rf.items() if key != 'n_estimators'}\n",
    "    random_for_clf = RandomForestClassifier(n_estimators = estimator_size, **best_params_minus_n_est )                                    \n",
    "    random_for_clf.fit(X_train, y_train)\n",
    "\n",
    "    random_classifier_score = random_for_clf.score(X_test,y_test)\n",
    "    scores.append(random_classifier_score)\n",
    "\n",
    "    #print('Random Forest Test Score for n_estimators = ',estimator_size, ' is ', random_regressor_score)\n",
    "\n",
    "plt.plot(estimator_size_range, scores)\n",
    "plt.xlabel('Number of Estimators')\n",
    "plt.ylabel('Prediction Score')\n",
    "plt.show()"
   ]
  },
  {
   "cell_type": "markdown",
   "id": "1bda41cb",
   "metadata": {},
   "source": [
    "#### It does't affect the accuracy much (from 75%, we are able to go up to 77%. in the second Random Forest Model (post hyperparameter tuning). Now we will the original Random Forest Classifier and vary only the n_estimators.  "
   ]
  },
  {
   "cell_type": "code",
   "execution_count": 68,
   "id": "fccd1d73",
   "metadata": {},
   "outputs": [
    {
     "data": {
      "image/png": "[encoded data removed]",
      "text/plain": [
       "<Figure size 432x288 with 1 Axes>"
      ]
     },
     "metadata": {
      "needs_background": "light"
     },
     "output_type": "display_data"
    }
   ],
   "source": [
    "estimator_size_range = list(range(50,401,10))\n",
    "scores = []\n",
    "\n",
    "best_params_rf = tree_rf.get_params()\n",
    "\n",
    "for estimator_size in estimator_size_range:\n",
    "    best_params_minus_n_est = {key: value for key,value in best_params_rf.items() if key != 'n_estimators'}\n",
    "    random_for_clf = RandomForestClassifier(n_estimators = estimator_size, **best_params_minus_n_est )                                    \n",
    "    random_for_clf.fit(X_train, y_train)\n",
    "\n",
    "    random_classifier_score = random_for_clf.score(X_test,y_test)\n",
    "    scores.append(random_classifier_score)\n",
    "\n",
    "    #print('Random Forest Test Score for n_estimators = ',estimator_size, ' is ', random_regressor_score)\n",
    "\n",
    "plt.plot(estimator_size_range, scores)\n",
    "plt.xlabel('Number of Estimators')\n",
    "plt.ylabel('Prediction Score')\n",
    "plt.show()"
   ]
  },
  {
   "cell_type": "markdown",
   "id": "6245b14b",
   "metadata": {},
   "source": [
    "#### Thus, after varying the number of estimators parameter, we are able to get a max accuracy of about 83.4% on the Original Random Forest Model. Hence we would prefer the original Random Forest Classifier. "
   ]
  },
  {
   "cell_type": "code",
   "execution_count": 69,
   "id": "28c1053a",
   "metadata": {},
   "outputs": [
    {
     "name": "stdout",
     "output_type": "stream",
     "text": [
      "(130, 0.8333333333333334)\n"
     ]
    }
   ],
   "source": [
    "zipped = list(zip(estimator_size_range, scores))\n",
    "\n",
    "max_score_estimator = max(zipped, key = lambda x: x[1])\n",
    "print(max_score_estimator)"
   ]
  },
  {
   "cell_type": "code",
   "execution_count": 70,
   "id": "e12a93ee",
   "metadata": {},
   "outputs": [
    {
     "name": "stdout",
     "output_type": "stream",
     "text": [
      "[(60, 0.825), (80, 0.821), (130, 0.833), (230, 0.821), (250, 0.821), (260, 0.825), (290, 0.821), (310, 0.829), (320, 0.825), (330, 0.821), (400, 0.829)]\n"
     ]
    }
   ],
   "source": [
    "updated_scores = []\n",
    "\n",
    "for score in zipped:\n",
    "    est_score = round(score[1],3)\n",
    "    if est_score >0.82:\n",
    "        updated_scores.append((score[0], est_score ))\n",
    "\n",
    "print(updated_scores)"
   ]
  },
  {
   "cell_type": "markdown",
   "id": "50dab233",
   "metadata": {},
   "source": [
    "#### We would prefer the n_estimators at 130. "
   ]
  },
  {
   "cell_type": "code",
   "execution_count": 72,
   "id": "8934624b",
   "metadata": {},
   "outputs": [
    {
     "name": "stdout",
     "output_type": "stream",
     "text": [
      "{'bootstrap': True, 'ccp_alpha': 0.0, 'class_weight': None, 'criterion': 'gini', 'max_depth': None, 'max_features': 'sqrt', 'max_leaf_nodes': None, 'max_samples': None, 'min_impurity_decrease': 0.0, 'min_samples_leaf': 1, 'min_samples_split': 2, 'min_weight_fraction_leaf': 0.0, 'n_estimators': 130, 'n_jobs': None, 'oob_score': False, 'random_state': None, 'verbose': 0, 'warm_start': False}\n"
     ]
    }
   ],
   "source": [
    "best_params_rf_updated = best_params_rf\n",
    "best_params_rf_updated['n_estimators'] = 130\n",
    "\n",
    "print(best_params_rf_updated)\n"
   ]
  },
  {
   "cell_type": "markdown",
   "id": "8e803e69",
   "metadata": {},
   "source": [
    "#### Thus the final model is a RandomForestsClassifier instance with the above parameters, which gives an accuracy of 83.3 % on the test data. "
   ]
  },
  {
   "cell_type": "markdown",
   "id": "14caef31",
   "metadata": {},
   "source": [
    "### Conclusions"
   ]
  },
  {
   "cell_type": "markdown",
   "id": "7572fb9c",
   "metadata": {},
   "source": [
    "#### Thus, we can see that the Random Forest Classifier was more accurate than Decision Tree Classifier (after both went through Hyper parameter tuning). The key learnings from this project were:\n",
    "\n",
    "1. The subjective approach to Data Cleaning: The conventional approach would have been to check for the correlations between input and target variables and drop the ones with low correlations. However, a different approach was chosen, where we went on a  factor by factor basis and dropped or modified multiple variables based on different subjective criteria such as high number of missing values, or high proportion of observations having same values etc. \n",
    "\n",
    "\n",
    "2. The second learning was that a tuned Random Forests Classifier could give more accurate results over a tuned Decision Tree Classifier , though the difference was marginal (83.3 % vs 81.67%)\n",
    "\n",
    "\n",
    "3. The Random Forests Classifier's accuracy originally was only 75% which was less than the base Decision Tree Classifier. The score showed a high improvement to 83.3% when only one parameter 'n_estimators' was varied and we chose its final value as 130. One can deduce that for RandomForests, it is better only to vary n_estimators instead of other parameters. However, this would require further knowlege and experience to conclude. \n",
    "\n",
    "\n",
    "4. Even though in the final evaluation the difference is marginal, we would still choose Random Forests over the Decision Tree Classifier as Random Forests are considered to be more robust. "
   ]
  },
  {
   "cell_type": "code",
   "execution_count": null,
   "id": "2d3f6f74",
   "metadata": {},
   "outputs": [],
   "source": []
  }
 ],
 "metadata": {
  "hide_input": false,
  "kernelspec": {
   "display_name": "Python 3",
   "language": "python",
   "name": "python3"
  },
  "language_info": {
   "codemirror_mode": {
    "name": "ipython",
    "version": 3
   },
   "file_extension": ".py",
   "mimetype": "text/x-python",
   "name": "python",
   "nbconvert_exporter": "python",
   "pygments_lexer": "ipython3",
   "version": "3.8.8"
  }
 },
 "nbformat": 4,
 "nbformat_minor": 5
}
