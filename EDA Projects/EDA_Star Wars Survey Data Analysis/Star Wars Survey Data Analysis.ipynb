{
 "cells": [
  {
   "cell_type": "markdown",
   "id": "704ab99a",
   "metadata": {},
   "source": [
    "### Exploring the Star Wars survey to analyze the popularity of various Star Wars movies"
   ]
  },
  {
   "cell_type": "markdown",
   "id": "ff15db23",
   "metadata": {},
   "source": [
    "#### Objective - A survey was conducted across 1185 correspondents to understand their views on different movies of the Star Wars franchise. We will aim to figure out what makes certain Star Wars movies more popular than others, based on the Survey results. "
   ]
  },
  {
   "cell_type": "code",
   "execution_count": 1,
   "id": "35a5e913",
   "metadata": {},
   "outputs": [],
   "source": [
    "import pandas as pd"
   ]
  },
  {
   "cell_type": "code",
   "execution_count": 2,
   "id": "6e9f7301",
   "metadata": {},
   "outputs": [],
   "source": [
    "star_wars = pd.read_csv('star_wars.csv', encoding = 'ISO-8859-1')"
   ]
  },
  {
   "cell_type": "code",
   "execution_count": 3,
   "id": "3cb123ef",
   "metadata": {},
   "outputs": [
    {
     "name": "stdout",
     "output_type": "stream",
     "text": [
      "   RespondentID Have you seen any of the 6 films in the Star Wars franchise?  \\\n",
      "0    3292879998                                                Yes             \n",
      "1    3292879538                                                 No             \n",
      "2    3292765271                                                Yes             \n",
      "3    3292763116                                                Yes             \n",
      "4    3292731220                                                Yes             \n",
      "5    3292719380                                                Yes             \n",
      "6    3292684787                                                Yes             \n",
      "7    3292663732                                                Yes             \n",
      "8    3292654043                                                Yes             \n",
      "9    3292640424                                                Yes             \n",
      "\n",
      "  Do you consider yourself to be a fan of the Star Wars film franchise?  \\\n",
      "0                                                Yes                      \n",
      "1                                                NaN                      \n",
      "2                                                 No                      \n",
      "3                                                Yes                      \n",
      "4                                                Yes                      \n",
      "5                                                Yes                      \n",
      "6                                                Yes                      \n",
      "7                                                Yes                      \n",
      "8                                                Yes                      \n",
      "9                                                 No                      \n",
      "\n",
      "  Which of the following Star Wars films have you seen? Please select all that apply.  \\\n",
      "0           Star Wars: Episode I  The Phantom Menace                                    \n",
      "1                                                NaN                                    \n",
      "2           Star Wars: Episode I  The Phantom Menace                                    \n",
      "3           Star Wars: Episode I  The Phantom Menace                                    \n",
      "4           Star Wars: Episode I  The Phantom Menace                                    \n",
      "5           Star Wars: Episode I  The Phantom Menace                                    \n",
      "6           Star Wars: Episode I  The Phantom Menace                                    \n",
      "7           Star Wars: Episode I  The Phantom Menace                                    \n",
      "8           Star Wars: Episode I  The Phantom Menace                                    \n",
      "9                                                NaN                                    \n",
      "\n",
      "                                    Unnamed: 4  \\\n",
      "0  Star Wars: Episode II  Attack of the Clones   \n",
      "1                                          NaN   \n",
      "2  Star Wars: Episode II  Attack of the Clones   \n",
      "3  Star Wars: Episode II  Attack of the Clones   \n",
      "4  Star Wars: Episode II  Attack of the Clones   \n",
      "5  Star Wars: Episode II  Attack of the Clones   \n",
      "6  Star Wars: Episode II  Attack of the Clones   \n",
      "7  Star Wars: Episode II  Attack of the Clones   \n",
      "8  Star Wars: Episode II  Attack of the Clones   \n",
      "9  Star Wars: Episode II  Attack of the Clones   \n",
      "\n",
      "                                    Unnamed: 5  \\\n",
      "0  Star Wars: Episode III  Revenge of the Sith   \n",
      "1                                          NaN   \n",
      "2  Star Wars: Episode III  Revenge of the Sith   \n",
      "3  Star Wars: Episode III  Revenge of the Sith   \n",
      "4  Star Wars: Episode III  Revenge of the Sith   \n",
      "5  Star Wars: Episode III  Revenge of the Sith   \n",
      "6  Star Wars: Episode III  Revenge of the Sith   \n",
      "7  Star Wars: Episode III  Revenge of the Sith   \n",
      "8  Star Wars: Episode III  Revenge of the Sith   \n",
      "9                                          NaN   \n",
      "\n",
      "                          Unnamed: 6  \\\n",
      "0  Star Wars: Episode IV  A New Hope   \n",
      "1                                NaN   \n",
      "2                                NaN   \n",
      "3  Star Wars: Episode IV  A New Hope   \n",
      "4  Star Wars: Episode IV  A New Hope   \n",
      "5  Star Wars: Episode IV  A New Hope   \n",
      "6  Star Wars: Episode IV  A New Hope   \n",
      "7  Star Wars: Episode IV  A New Hope   \n",
      "8  Star Wars: Episode IV  A New Hope   \n",
      "9                                NaN   \n",
      "\n",
      "                                     Unnamed: 7  \\\n",
      "0  Star Wars: Episode V The Empire Strikes Back   \n",
      "1                                           NaN   \n",
      "2                                           NaN   \n",
      "3  Star Wars: Episode V The Empire Strikes Back   \n",
      "4  Star Wars: Episode V The Empire Strikes Back   \n",
      "5  Star Wars: Episode V The Empire Strikes Back   \n",
      "6  Star Wars: Episode V The Empire Strikes Back   \n",
      "7  Star Wars: Episode V The Empire Strikes Back   \n",
      "8  Star Wars: Episode V The Empire Strikes Back   \n",
      "9                                           NaN   \n",
      "\n",
      "                                 Unnamed: 8  \\\n",
      "0  Star Wars: Episode VI Return of the Jedi   \n",
      "1                                       NaN   \n",
      "2                                       NaN   \n",
      "3  Star Wars: Episode VI Return of the Jedi   \n",
      "4  Star Wars: Episode VI Return of the Jedi   \n",
      "5  Star Wars: Episode VI Return of the Jedi   \n",
      "6  Star Wars: Episode VI Return of the Jedi   \n",
      "7  Star Wars: Episode VI Return of the Jedi   \n",
      "8  Star Wars: Episode VI Return of the Jedi   \n",
      "9                                       NaN   \n",
      "\n",
      "   Please rank the Star Wars films in order of preference with 1 being your favorite film in the franchise and 6 being your least favorite film.  \\\n",
      "0                                                3.0                                                                                               \n",
      "1                                                NaN                                                                                               \n",
      "2                                                1.0                                                                                               \n",
      "3                                                5.0                                                                                               \n",
      "4                                                5.0                                                                                               \n",
      "5                                                1.0                                                                                               \n",
      "6                                                6.0                                                                                               \n",
      "7                                                4.0                                                                                               \n",
      "8                                                5.0                                                                                               \n",
      "9                                                1.0                                                                                               \n",
      "\n",
      "   ...         Unnamed: 28       Which character shot first?  \\\n",
      "0  ...      Very favorably  I don't understand this question   \n",
      "1  ...                 NaN                               NaN   \n",
      "2  ...    Unfamiliar (N/A)  I don't understand this question   \n",
      "3  ...      Very favorably  I don't understand this question   \n",
      "4  ...  Somewhat favorably                            Greedo   \n",
      "5  ...      Very favorably                               Han   \n",
      "6  ...      Very favorably                               Han   \n",
      "7  ...      Very favorably                               Han   \n",
      "8  ...  Somewhat favorably                               Han   \n",
      "9  ...      Very favorably  I don't understand this question   \n",
      "\n",
      "   Are you familiar with the Expanded Universe?  \\\n",
      "0                                           Yes   \n",
      "1                                           NaN   \n",
      "2                                            No   \n",
      "3                                            No   \n",
      "4                                           Yes   \n",
      "5                                           Yes   \n",
      "6                                           Yes   \n",
      "7                                            No   \n",
      "8                                            No   \n",
      "9                                            No   \n",
      "\n",
      "   Do you consider yourself to be a fan of the Expanded Universe?  \\\n",
      "0                                                 No                \n",
      "1                                                NaN                \n",
      "2                                                NaN                \n",
      "3                                                NaN                \n",
      "4                                                 No                \n",
      "5                                                 No                \n",
      "6                                                 No                \n",
      "7                                                NaN                \n",
      "8                                                NaN                \n",
      "9                                                NaN                \n",
      "\n",
      "   Do you consider yourself to be a fan of the Star Trek franchise? Gender  \\\n",
      "0                                                 No                  Male   \n",
      "1                                                Yes                  Male   \n",
      "2                                                 No                  Male   \n",
      "3                                                Yes                  Male   \n",
      "4                                                 No                  Male   \n",
      "5                                                Yes                  Male   \n",
      "6                                                 No                  Male   \n",
      "7                                                Yes                  Male   \n",
      "8                                                 No                  Male   \n",
      "9                                                 No                  Male   \n",
      "\n",
      "     Age     Household Income                         Education  \\\n",
      "0  18-29                  NaN                High school degree   \n",
      "1  18-29         $0 - $24,999                   Bachelor degree   \n",
      "2  18-29         $0 - $24,999                High school degree   \n",
      "3  18-29  $100,000 - $149,999  Some college or Associate degree   \n",
      "4  18-29  $100,000 - $149,999  Some college or Associate degree   \n",
      "5  18-29    $25,000 - $49,999                   Bachelor degree   \n",
      "6  18-29                  NaN                High school degree   \n",
      "7  18-29                  NaN                High school degree   \n",
      "8  18-29         $0 - $24,999  Some college or Associate degree   \n",
      "9  18-29    $25,000 - $49,999  Some college or Associate degree   \n",
      "\n",
      "  Location (Census Region)  \n",
      "0           South Atlantic  \n",
      "1       West South Central  \n",
      "2       West North Central  \n",
      "3       West North Central  \n",
      "4       West North Central  \n",
      "5          Middle Atlantic  \n",
      "6       East North Central  \n",
      "7           South Atlantic  \n",
      "8           South Atlantic  \n",
      "9                  Pacific  \n",
      "\n",
      "[10 rows x 38 columns]\n"
     ]
    }
   ],
   "source": [
    "print(star_wars.head(10))"
   ]
  },
  {
   "cell_type": "code",
   "execution_count": 4,
   "id": "dd66b66a",
   "metadata": {},
   "outputs": [
    {
     "data": {
      "text/plain": [
       "Index(['RespondentID',\n",
       "       'Have you seen any of the 6 films in the Star Wars franchise?',\n",
       "       'Do you consider yourself to be a fan of the Star Wars film franchise?',\n",
       "       'Which of the following Star Wars films have you seen? Please select all that apply.',\n",
       "       'Unnamed: 4', 'Unnamed: 5', 'Unnamed: 6', 'Unnamed: 7', 'Unnamed: 8',\n",
       "       'Please rank the Star Wars films in order of preference with 1 being your favorite film in the franchise and 6 being your least favorite film.',\n",
       "       'Unnamed: 10', 'Unnamed: 11', 'Unnamed: 12', 'Unnamed: 13',\n",
       "       'Unnamed: 14',\n",
       "       'Please state whether you view the following characters favorably, unfavorably, or are unfamiliar with him/her.',\n",
       "       'Unnamed: 16', 'Unnamed: 17', 'Unnamed: 18', 'Unnamed: 19',\n",
       "       'Unnamed: 20', 'Unnamed: 21', 'Unnamed: 22', 'Unnamed: 23',\n",
       "       'Unnamed: 24', 'Unnamed: 25', 'Unnamed: 26', 'Unnamed: 27',\n",
       "       'Unnamed: 28', 'Which character shot first?',\n",
       "       'Are you familiar with the Expanded Universe?',\n",
       "       'Do you consider yourself to be a fan of the Expanded Universe?',\n",
       "       'Do you consider yourself to be a fan of the Star Trek franchise?',\n",
       "       'Gender', 'Age', 'Household Income', 'Education',\n",
       "       'Location (Census Region)'],\n",
       "      dtype='object')"
      ]
     },
     "execution_count": 4,
     "metadata": {},
     "output_type": "execute_result"
    }
   ],
   "source": [
    "star_wars.columns"
   ]
  },
  {
   "cell_type": "code",
   "execution_count": 5,
   "id": "99f2594a",
   "metadata": {},
   "outputs": [],
   "source": [
    "import re"
   ]
  },
  {
   "cell_type": "code",
   "execution_count": 6,
   "id": "adf8f958",
   "metadata": {},
   "outputs": [],
   "source": [
    "#Filtering all the columns which have 'Unnamed' in them\n",
    "cols_unnamed = [col for col in star_wars.columns if re.search('Unnamed', col) ]"
   ]
  },
  {
   "cell_type": "code",
   "execution_count": 7,
   "id": "b4342af4",
   "metadata": {},
   "outputs": [
    {
     "data": {
      "text/html": [
       "<div>\n",
       "<style scoped>\n",
       "    .dataframe tbody tr th:only-of-type {\n",
       "        vertical-align: middle;\n",
       "    }\n",
       "\n",
       "    .dataframe tbody tr th {\n",
       "        vertical-align: top;\n",
       "    }\n",
       "\n",
       "    .dataframe thead th {\n",
       "        text-align: right;\n",
       "    }\n",
       "</style>\n",
       "<table border=\"1\" class=\"dataframe\">\n",
       "  <thead>\n",
       "    <tr style=\"text-align: right;\">\n",
       "      <th></th>\n",
       "      <th>Unnamed: 4</th>\n",
       "      <th>Unnamed: 5</th>\n",
       "      <th>Unnamed: 6</th>\n",
       "      <th>Unnamed: 7</th>\n",
       "      <th>Unnamed: 8</th>\n",
       "      <th>Unnamed: 10</th>\n",
       "      <th>Unnamed: 11</th>\n",
       "      <th>Unnamed: 12</th>\n",
       "      <th>Unnamed: 13</th>\n",
       "      <th>Unnamed: 14</th>\n",
       "      <th>...</th>\n",
       "      <th>Unnamed: 19</th>\n",
       "      <th>Unnamed: 20</th>\n",
       "      <th>Unnamed: 21</th>\n",
       "      <th>Unnamed: 22</th>\n",
       "      <th>Unnamed: 23</th>\n",
       "      <th>Unnamed: 24</th>\n",
       "      <th>Unnamed: 25</th>\n",
       "      <th>Unnamed: 26</th>\n",
       "      <th>Unnamed: 27</th>\n",
       "      <th>Unnamed: 28</th>\n",
       "    </tr>\n",
       "  </thead>\n",
       "  <tbody>\n",
       "    <tr>\n",
       "      <th>0</th>\n",
       "      <td>Star Wars: Episode II  Attack of the Clones</td>\n",
       "      <td>Star Wars: Episode III  Revenge of the Sith</td>\n",
       "      <td>Star Wars: Episode IV  A New Hope</td>\n",
       "      <td>Star Wars: Episode V The Empire Strikes Back</td>\n",
       "      <td>Star Wars: Episode VI Return of the Jedi</td>\n",
       "      <td>2.0</td>\n",
       "      <td>1.0</td>\n",
       "      <td>4.0</td>\n",
       "      <td>5.0</td>\n",
       "      <td>6.0</td>\n",
       "      <td>...</td>\n",
       "      <td>Very favorably</td>\n",
       "      <td>Very favorably</td>\n",
       "      <td>Very favorably</td>\n",
       "      <td>Unfamiliar (N/A)</td>\n",
       "      <td>Unfamiliar (N/A)</td>\n",
       "      <td>Very favorably</td>\n",
       "      <td>Very favorably</td>\n",
       "      <td>Very favorably</td>\n",
       "      <td>Very favorably</td>\n",
       "      <td>Very favorably</td>\n",
       "    </tr>\n",
       "    <tr>\n",
       "      <th>1</th>\n",
       "      <td>NaN</td>\n",
       "      <td>NaN</td>\n",
       "      <td>NaN</td>\n",
       "      <td>NaN</td>\n",
       "      <td>NaN</td>\n",
       "      <td>NaN</td>\n",
       "      <td>NaN</td>\n",
       "      <td>NaN</td>\n",
       "      <td>NaN</td>\n",
       "      <td>NaN</td>\n",
       "      <td>...</td>\n",
       "      <td>NaN</td>\n",
       "      <td>NaN</td>\n",
       "      <td>NaN</td>\n",
       "      <td>NaN</td>\n",
       "      <td>NaN</td>\n",
       "      <td>NaN</td>\n",
       "      <td>NaN</td>\n",
       "      <td>NaN</td>\n",
       "      <td>NaN</td>\n",
       "      <td>NaN</td>\n",
       "    </tr>\n",
       "    <tr>\n",
       "      <th>2</th>\n",
       "      <td>Star Wars: Episode II  Attack of the Clones</td>\n",
       "      <td>Star Wars: Episode III  Revenge of the Sith</td>\n",
       "      <td>NaN</td>\n",
       "      <td>NaN</td>\n",
       "      <td>NaN</td>\n",
       "      <td>2.0</td>\n",
       "      <td>3.0</td>\n",
       "      <td>4.0</td>\n",
       "      <td>5.0</td>\n",
       "      <td>6.0</td>\n",
       "      <td>...</td>\n",
       "      <td>Somewhat favorably</td>\n",
       "      <td>Unfamiliar (N/A)</td>\n",
       "      <td>Unfamiliar (N/A)</td>\n",
       "      <td>Unfamiliar (N/A)</td>\n",
       "      <td>Unfamiliar (N/A)</td>\n",
       "      <td>Unfamiliar (N/A)</td>\n",
       "      <td>Unfamiliar (N/A)</td>\n",
       "      <td>Unfamiliar (N/A)</td>\n",
       "      <td>Unfamiliar (N/A)</td>\n",
       "      <td>Unfamiliar (N/A)</td>\n",
       "    </tr>\n",
       "    <tr>\n",
       "      <th>3</th>\n",
       "      <td>Star Wars: Episode II  Attack of the Clones</td>\n",
       "      <td>Star Wars: Episode III  Revenge of the Sith</td>\n",
       "      <td>Star Wars: Episode IV  A New Hope</td>\n",
       "      <td>Star Wars: Episode V The Empire Strikes Back</td>\n",
       "      <td>Star Wars: Episode VI Return of the Jedi</td>\n",
       "      <td>6.0</td>\n",
       "      <td>1.0</td>\n",
       "      <td>2.0</td>\n",
       "      <td>4.0</td>\n",
       "      <td>3.0</td>\n",
       "      <td>...</td>\n",
       "      <td>Very favorably</td>\n",
       "      <td>Somewhat favorably</td>\n",
       "      <td>Very favorably</td>\n",
       "      <td>Somewhat favorably</td>\n",
       "      <td>Somewhat unfavorably</td>\n",
       "      <td>Very favorably</td>\n",
       "      <td>Very favorably</td>\n",
       "      <td>Very favorably</td>\n",
       "      <td>Very favorably</td>\n",
       "      <td>Very favorably</td>\n",
       "    </tr>\n",
       "    <tr>\n",
       "      <th>4</th>\n",
       "      <td>Star Wars: Episode II  Attack of the Clones</td>\n",
       "      <td>Star Wars: Episode III  Revenge of the Sith</td>\n",
       "      <td>Star Wars: Episode IV  A New Hope</td>\n",
       "      <td>Star Wars: Episode V The Empire Strikes Back</td>\n",
       "      <td>Star Wars: Episode VI Return of the Jedi</td>\n",
       "      <td>4.0</td>\n",
       "      <td>6.0</td>\n",
       "      <td>2.0</td>\n",
       "      <td>1.0</td>\n",
       "      <td>3.0</td>\n",
       "      <td>...</td>\n",
       "      <td>Very favorably</td>\n",
       "      <td>Very unfavorably</td>\n",
       "      <td>Somewhat favorably</td>\n",
       "      <td>Neither favorably nor unfavorably (neutral)</td>\n",
       "      <td>Very favorably</td>\n",
       "      <td>Somewhat favorably</td>\n",
       "      <td>Somewhat favorably</td>\n",
       "      <td>Very unfavorably</td>\n",
       "      <td>Somewhat favorably</td>\n",
       "      <td>Somewhat favorably</td>\n",
       "    </tr>\n",
       "  </tbody>\n",
       "</table>\n",
       "<p>5 rows × 23 columns</p>\n",
       "</div>"
      ],
      "text/plain": [
       "                                    Unnamed: 4  \\\n",
       "0  Star Wars: Episode II  Attack of the Clones   \n",
       "1                                          NaN   \n",
       "2  Star Wars: Episode II  Attack of the Clones   \n",
       "3  Star Wars: Episode II  Attack of the Clones   \n",
       "4  Star Wars: Episode II  Attack of the Clones   \n",
       "\n",
       "                                    Unnamed: 5  \\\n",
       "0  Star Wars: Episode III  Revenge of the Sith   \n",
       "1                                          NaN   \n",
       "2  Star Wars: Episode III  Revenge of the Sith   \n",
       "3  Star Wars: Episode III  Revenge of the Sith   \n",
       "4  Star Wars: Episode III  Revenge of the Sith   \n",
       "\n",
       "                          Unnamed: 6  \\\n",
       "0  Star Wars: Episode IV  A New Hope   \n",
       "1                                NaN   \n",
       "2                                NaN   \n",
       "3  Star Wars: Episode IV  A New Hope   \n",
       "4  Star Wars: Episode IV  A New Hope   \n",
       "\n",
       "                                     Unnamed: 7  \\\n",
       "0  Star Wars: Episode V The Empire Strikes Back   \n",
       "1                                           NaN   \n",
       "2                                           NaN   \n",
       "3  Star Wars: Episode V The Empire Strikes Back   \n",
       "4  Star Wars: Episode V The Empire Strikes Back   \n",
       "\n",
       "                                 Unnamed: 8  Unnamed: 10  Unnamed: 11  \\\n",
       "0  Star Wars: Episode VI Return of the Jedi          2.0          1.0   \n",
       "1                                       NaN          NaN          NaN   \n",
       "2                                       NaN          2.0          3.0   \n",
       "3  Star Wars: Episode VI Return of the Jedi          6.0          1.0   \n",
       "4  Star Wars: Episode VI Return of the Jedi          4.0          6.0   \n",
       "\n",
       "   Unnamed: 12  Unnamed: 13  Unnamed: 14  ...         Unnamed: 19  \\\n",
       "0          4.0          5.0          6.0  ...      Very favorably   \n",
       "1          NaN          NaN          NaN  ...                 NaN   \n",
       "2          4.0          5.0          6.0  ...  Somewhat favorably   \n",
       "3          2.0          4.0          3.0  ...      Very favorably   \n",
       "4          2.0          1.0          3.0  ...      Very favorably   \n",
       "\n",
       "          Unnamed: 20         Unnamed: 21  \\\n",
       "0      Very favorably      Very favorably   \n",
       "1                 NaN                 NaN   \n",
       "2    Unfamiliar (N/A)    Unfamiliar (N/A)   \n",
       "3  Somewhat favorably      Very favorably   \n",
       "4    Very unfavorably  Somewhat favorably   \n",
       "\n",
       "                                   Unnamed: 22           Unnamed: 23  \\\n",
       "0                             Unfamiliar (N/A)      Unfamiliar (N/A)   \n",
       "1                                          NaN                   NaN   \n",
       "2                             Unfamiliar (N/A)      Unfamiliar (N/A)   \n",
       "3                           Somewhat favorably  Somewhat unfavorably   \n",
       "4  Neither favorably nor unfavorably (neutral)        Very favorably   \n",
       "\n",
       "          Unnamed: 24         Unnamed: 25       Unnamed: 26  \\\n",
       "0      Very favorably      Very favorably    Very favorably   \n",
       "1                 NaN                 NaN               NaN   \n",
       "2    Unfamiliar (N/A)    Unfamiliar (N/A)  Unfamiliar (N/A)   \n",
       "3      Very favorably      Very favorably    Very favorably   \n",
       "4  Somewhat favorably  Somewhat favorably  Very unfavorably   \n",
       "\n",
       "          Unnamed: 27         Unnamed: 28  \n",
       "0      Very favorably      Very favorably  \n",
       "1                 NaN                 NaN  \n",
       "2    Unfamiliar (N/A)    Unfamiliar (N/A)  \n",
       "3      Very favorably      Very favorably  \n",
       "4  Somewhat favorably  Somewhat favorably  \n",
       "\n",
       "[5 rows x 23 columns]"
      ]
     },
     "execution_count": 7,
     "metadata": {},
     "output_type": "execute_result"
    }
   ],
   "source": [
    "star_wars[cols_unnamed].head()"
   ]
  },
  {
   "cell_type": "markdown",
   "id": "d8ffb28c",
   "metadata": {},
   "source": [
    "#### It appears like these columns were responses to certain questions, where more than one responses were allowed."
   ]
  },
  {
   "cell_type": "code",
   "execution_count": 8,
   "id": "c6181340",
   "metadata": {},
   "outputs": [
    {
     "name": "stdout",
     "output_type": "stream",
     "text": [
      "The value counts for the column ' Unnamed: 4 'are\n",
      "\n",
      "\n",
      "NaN                                            615\n",
      "Star Wars: Episode II  Attack of the Clones    571\n",
      "Name: Unnamed: 4, dtype: int64\n",
      "\n",
      "\n",
      "The value counts for the column ' Unnamed: 5 'are\n",
      "\n",
      "\n",
      "NaN                                            636\n",
      "Star Wars: Episode III  Revenge of the Sith    550\n",
      "Name: Unnamed: 5, dtype: int64\n",
      "\n",
      "\n",
      "The value counts for the column ' Unnamed: 6 'are\n",
      "\n",
      "\n",
      "Star Wars: Episode IV  A New Hope    607\n",
      "NaN                                  579\n",
      "Name: Unnamed: 6, dtype: int64\n",
      "\n",
      "\n",
      "The value counts for the column ' Unnamed: 7 'are\n",
      "\n",
      "\n",
      "Star Wars: Episode V The Empire Strikes Back    758\n",
      "NaN                                             428\n",
      "Name: Unnamed: 7, dtype: int64\n",
      "\n",
      "\n",
      "The value counts for the column ' Unnamed: 8 'are\n",
      "\n",
      "\n",
      "Star Wars: Episode VI Return of the Jedi    738\n",
      "NaN                                         448\n",
      "Name: Unnamed: 8, dtype: int64\n",
      "\n",
      "\n",
      "The value counts for the column ' Unnamed: 10 'are\n",
      "\n",
      "\n",
      "NaN    350\n",
      "5.0    300\n",
      "4.0    183\n",
      "2.0    116\n",
      "3.0    103\n",
      "6.0    102\n",
      "1.0     32\n",
      "Name: Unnamed: 10, dtype: int64\n",
      "\n",
      "\n",
      "The value counts for the column ' Unnamed: 11 'are\n",
      "\n",
      "\n",
      "NaN    351\n",
      "6.0    217\n",
      "5.0    203\n",
      "4.0    182\n",
      "3.0    150\n",
      "2.0     47\n",
      "1.0     36\n",
      "Name: Unnamed: 11, dtype: int64\n",
      "\n",
      "\n",
      "The value counts for the column ' Unnamed: 12 'are\n",
      "\n",
      "\n",
      "NaN    350\n",
      "1.0    204\n",
      "6.0    161\n",
      "2.0    135\n",
      "4.0    130\n",
      "3.0    127\n",
      "5.0     79\n",
      "Name: Unnamed: 12, dtype: int64\n",
      "\n",
      "\n",
      "The value counts for the column ' Unnamed: 13 'are\n",
      "\n",
      "\n",
      "NaN    350\n",
      "1.0    289\n",
      "2.0    235\n",
      "5.0    118\n",
      "3.0    106\n",
      "4.0     47\n",
      "6.0     41\n",
      "Name: Unnamed: 13, dtype: int64\n",
      "\n",
      "\n",
      "The value counts for the column ' Unnamed: 14 'are\n",
      "\n",
      "\n",
      "NaN    350\n",
      "2.0    232\n",
      "3.0    220\n",
      "1.0    146\n",
      "6.0    145\n",
      "4.0     57\n",
      "5.0     36\n",
      "Name: Unnamed: 14, dtype: int64\n",
      "\n",
      "\n",
      "The value counts for the column ' Unnamed: 16 'are\n",
      "\n",
      "\n",
      "Very favorably                                 552\n",
      "NaN                                            355\n",
      "Somewhat favorably                             219\n",
      "Neither favorably nor unfavorably (neutral)     38\n",
      "Somewhat unfavorably                            13\n",
      "Unfamiliar (N/A)                                 6\n",
      "Very unfavorably                                 3\n",
      "Name: Unnamed: 16, dtype: int64\n",
      "\n",
      "\n",
      "The value counts for the column ' Unnamed: 17 'are\n",
      "\n",
      "\n",
      "Very favorably                                 547\n",
      "NaN                                            355\n",
      "Somewhat favorably                             210\n",
      "Neither favorably nor unfavorably (neutral)     48\n",
      "Somewhat unfavorably                            12\n",
      "Unfamiliar (N/A)                                 8\n",
      "Very unfavorably                                 6\n",
      "Name: Unnamed: 17, dtype: int64\n",
      "\n",
      "\n",
      "The value counts for the column ' Unnamed: 18 'are\n",
      "\n",
      "\n",
      "NaN                                            363\n",
      "Somewhat favorably                             269\n",
      "Very favorably                                 245\n",
      "Neither favorably nor unfavorably (neutral)    135\n",
      "Somewhat unfavorably                            83\n",
      "Unfamiliar (N/A)                                52\n",
      "Very unfavorably                                39\n",
      "Name: Unnamed: 18, dtype: int64\n",
      "\n",
      "\n",
      "The value counts for the column ' Unnamed: 19 'are\n",
      "\n",
      "\n",
      "Very favorably                                 591\n",
      "NaN                                            361\n",
      "Somewhat favorably                             159\n",
      "Neither favorably nor unfavorably (neutral)     43\n",
      "Unfamiliar (N/A)                                17\n",
      "Somewhat unfavorably                             8\n",
      "Very unfavorably                                 7\n",
      "Name: Unnamed: 19, dtype: int64\n",
      "\n",
      "\n",
      "The value counts for the column ' Unnamed: 20 'are\n",
      "\n",
      "\n",
      "NaN                                            372\n",
      "Neither favorably nor unfavorably (neutral)    213\n",
      "Unfamiliar (N/A)                               156\n",
      "Somewhat favorably                             143\n",
      "Very unfavorably                               124\n",
      "Very favorably                                 110\n",
      "Somewhat unfavorably                            68\n",
      "Name: Unnamed: 20, dtype: int64\n",
      "\n",
      "\n",
      "The value counts for the column ' Unnamed: 21 'are\n",
      "\n",
      "\n",
      "NaN                                            360\n",
      "Very favorably                                 310\n",
      "Somewhat favorably                             171\n",
      "Very unfavorably                               149\n",
      "Somewhat unfavorably                           102\n",
      "Neither favorably nor unfavorably (neutral)     84\n",
      "Unfamiliar (N/A)                                10\n",
      "Name: Unnamed: 21, dtype: int64\n",
      "\n",
      "\n",
      "The value counts for the column ' Unnamed: 22 'are\n",
      "\n",
      "\n",
      "NaN                                            366\n",
      "Neither favorably nor unfavorably (neutral)    236\n",
      "Somewhat favorably                             223\n",
      "Unfamiliar (N/A)                               148\n",
      "Very favorably                                 142\n",
      "Somewhat unfavorably                            63\n",
      "Very unfavorably                                 8\n",
      "Name: Unnamed: 22, dtype: int64\n",
      "\n",
      "\n",
      "The value counts for the column ' Unnamed: 23 'are\n",
      "\n",
      "\n",
      "NaN                                            374\n",
      "Neither favorably nor unfavorably (neutral)    248\n",
      "Somewhat favorably                             153\n",
      "Very favorably                                 138\n",
      "Unfamiliar (N/A)                               132\n",
      "Somewhat unfavorably                            96\n",
      "Very unfavorably                                45\n",
      "Name: Unnamed: 23, dtype: int64\n",
      "\n",
      "\n",
      "The value counts for the column ' Unnamed: 24 'are\n",
      "\n",
      "\n",
      "Very favorably                                 474\n",
      "NaN                                            359\n",
      "Somewhat favorably                             229\n",
      "Neither favorably nor unfavorably (neutral)     79\n",
      "Somewhat unfavorably                            23\n",
      "Unfamiliar (N/A)                                15\n",
      "Very unfavorably                                 7\n",
      "Name: Unnamed: 24, dtype: int64\n",
      "\n",
      "\n",
      "The value counts for the column ' Unnamed: 25 'are\n",
      "\n",
      "\n",
      "Very favorably                                 562\n",
      "NaN                                            356\n",
      "Somewhat favorably                             185\n",
      "Neither favorably nor unfavorably (neutral)     57\n",
      "Somewhat unfavorably                            10\n",
      "Unfamiliar (N/A)                                10\n",
      "Very unfavorably                                 6\n",
      "Name: Unnamed: 25, dtype: int64\n",
      "\n",
      "\n",
      "The value counts for the column ' Unnamed: 26 'are\n",
      "\n",
      "\n",
      "NaN                                            365\n",
      "Very unfavorably                               204\n",
      "Neither favorably nor unfavorably (neutral)    164\n",
      "Somewhat favorably                             130\n",
      "Very favorably                                 112\n",
      "Unfamiliar (N/A)                               109\n",
      "Somewhat unfavorably                           102\n",
      "Name: Unnamed: 26, dtype: int64\n",
      "\n",
      "\n",
      "The value counts for the column ' Unnamed: 27 'are\n",
      "\n",
      "\n",
      "NaN                                            372\n",
      "Neither favorably nor unfavorably (neutral)    207\n",
      "Somewhat favorably                             183\n",
      "Very favorably                                 168\n",
      "Unfamiliar (N/A)                               164\n",
      "Somewhat unfavorably                            58\n",
      "Very unfavorably                                34\n",
      "Name: Unnamed: 27, dtype: int64\n",
      "\n",
      "\n",
      "The value counts for the column ' Unnamed: 28 'are\n",
      "\n",
      "\n",
      "Very favorably                                 605\n",
      "NaN                                            360\n",
      "Somewhat favorably                             144\n",
      "Neither favorably nor unfavorably (neutral)     51\n",
      "Unfamiliar (N/A)                                10\n",
      "Somewhat unfavorably                             8\n",
      "Very unfavorably                                 8\n",
      "Name: Unnamed: 28, dtype: int64\n",
      "\n",
      "\n"
     ]
    }
   ],
   "source": [
    "for col in cols_unnamed:\n",
    "    value_counts = star_wars[col].value_counts(dropna = False)\n",
    "    print('The value counts for the column \\'', col,'\\'are')\n",
    "    print('\\n')\n",
    "    print(value_counts)\n",
    "    print('\\n')"
   ]
  },
  {
   "cell_type": "code",
   "execution_count": 9,
   "id": "9119d8a7",
   "metadata": {},
   "outputs": [],
   "source": [
    "cols_not_unnamed = [col for col in star_wars.columns if col not in cols_unnamed]"
   ]
  },
  {
   "cell_type": "code",
   "execution_count": 10,
   "id": "29a1c0e9",
   "metadata": {},
   "outputs": [
    {
     "name": "stdout",
     "output_type": "stream",
     "text": [
      "The value counts for the column ' RespondentID 'are\n",
      "\n",
      "\n",
      "3289878528    1\n",
      "3291141478    1\n",
      "3288559700    1\n",
      "3290047842    1\n",
      "3291430239    1\n",
      "             ..\n",
      "3291476650    1\n",
      "3290561192    1\n",
      "3289553574    1\n",
      "3289725605    1\n",
      "3289370623    1\n",
      "Name: RespondentID, Length: 1186, dtype: int64\n",
      "\n",
      "\n",
      "The value counts for the column ' Have you seen any of the 6 films in the Star Wars franchise? 'are\n",
      "\n",
      "\n",
      "Yes    936\n",
      "No     250\n",
      "Name: Have you seen any of the 6 films in the Star Wars franchise?, dtype: int64\n",
      "\n",
      "\n",
      "The value counts for the column ' Do you consider yourself to be a fan of the Star Wars film franchise? 'are\n",
      "\n",
      "\n",
      "Yes    552\n",
      "NaN    350\n",
      "No     284\n",
      "Name: Do you consider yourself to be a fan of the Star Wars film franchise?, dtype: int64\n",
      "\n",
      "\n",
      "The value counts for the column ' Which of the following Star Wars films have you seen? Please select all that apply. 'are\n",
      "\n",
      "\n",
      "Star Wars: Episode I  The Phantom Menace    673\n",
      "NaN                                         513\n",
      "Name: Which of the following Star Wars films have you seen? Please select all that apply., dtype: int64\n",
      "\n",
      "\n",
      "The value counts for the column ' Please rank the Star Wars films in order of preference with 1 being your favorite film in the franchise and 6 being your least favorite film. 'are\n",
      "\n",
      "\n",
      "NaN    351\n",
      "4.0    237\n",
      "6.0    168\n",
      "3.0    130\n",
      "1.0    129\n",
      "5.0    100\n",
      "2.0     71\n",
      "Name: Please rank the Star Wars films in order of preference with 1 being your favorite film in the franchise and 6 being your least favorite film., dtype: int64\n",
      "\n",
      "\n",
      "The value counts for the column ' Please state whether you view the following characters favorably, unfavorably, or are unfamiliar with him/her. 'are\n",
      "\n",
      "\n",
      "Very favorably                                 610\n",
      "NaN                                            357\n",
      "Somewhat favorably                             151\n",
      "Neither favorably nor unfavorably (neutral)     44\n",
      "Unfamiliar (N/A)                                15\n",
      "Somewhat unfavorably                             8\n",
      "Very unfavorably                                 1\n",
      "Name: Please state whether you view the following characters favorably, unfavorably, or are unfamiliar with him/her., dtype: int64\n",
      "\n",
      "\n",
      "The value counts for the column ' Which character shot first? 'are\n",
      "\n",
      "\n",
      "NaN                                 358\n",
      "Han                                 325\n",
      "I don't understand this question    306\n",
      "Greedo                              197\n",
      "Name: Which character shot first?, dtype: int64\n",
      "\n",
      "\n",
      "The value counts for the column ' Are you familiar with the Expanded Universe? 'are\n",
      "\n",
      "\n",
      "No     615\n",
      "NaN    358\n",
      "Yes    213\n",
      "Name: Are you familiar with the Expanded Universe?, dtype: int64\n",
      "\n",
      "\n",
      "The value counts for the column ' Do you consider yourself to be a fan of the Expanded Universe? 'are\n",
      "\n",
      "\n",
      "NaN    973\n",
      "No     114\n",
      "Yes     99\n",
      "Name: Do you consider yourself to be a fan of the Expanded Universe?, dtype: int64\n",
      "\n",
      "\n",
      "The value counts for the column ' Do you consider yourself to be a fan of the Star Trek franchise? 'are\n",
      "\n",
      "\n",
      "No     641\n",
      "Yes    427\n",
      "NaN    118\n",
      "Name: Do you consider yourself to be a fan of the Star Trek franchise?, dtype: int64\n",
      "\n",
      "\n",
      "The value counts for the column ' Gender 'are\n",
      "\n",
      "\n",
      "Female    549\n",
      "Male      497\n",
      "NaN       140\n",
      "Name: Gender, dtype: int64\n",
      "\n",
      "\n",
      "The value counts for the column ' Age 'are\n",
      "\n",
      "\n",
      "45-60    291\n",
      "> 60     269\n",
      "30-44    268\n",
      "18-29    218\n",
      "NaN      140\n",
      "Name: Age, dtype: int64\n",
      "\n",
      "\n",
      "The value counts for the column ' Household Income 'are\n",
      "\n",
      "\n",
      "NaN                    328\n",
      "$50,000 - $99,999      298\n",
      "$25,000 - $49,999      186\n",
      "$100,000 - $149,999    141\n",
      "$0 - $24,999           138\n",
      "$150,000+               95\n",
      "Name: Household Income, dtype: int64\n",
      "\n",
      "\n",
      "The value counts for the column ' Education 'are\n",
      "\n",
      "\n",
      "Some college or Associate degree    328\n",
      "Bachelor degree                     321\n",
      "Graduate degree                     275\n",
      "NaN                                 150\n",
      "High school degree                  105\n",
      "Less than high school degree          7\n",
      "Name: Education, dtype: int64\n",
      "\n",
      "\n",
      "The value counts for the column ' Location (Census Region) 'are\n",
      "\n",
      "\n",
      "East North Central    181\n",
      "Pacific               175\n",
      "South Atlantic        170\n",
      "NaN                   143\n",
      "Middle Atlantic       122\n",
      "West South Central    110\n",
      "West North Central     93\n",
      "Mountain               79\n",
      "New England            75\n",
      "East South Central     38\n",
      "Name: Location (Census Region), dtype: int64\n",
      "\n",
      "\n"
     ]
    }
   ],
   "source": [
    "for col in cols_not_unnamed:\n",
    "    value_counts = star_wars[col].value_counts(dropna = False)\n",
    "    print('The value counts for the column \\'', col,'\\'are')\n",
    "    print('\\n')\n",
    "    print(value_counts)\n",
    "    print('\\n')"
   ]
  },
  {
   "cell_type": "markdown",
   "id": "37e146e7",
   "metadata": {},
   "source": [
    "#### We will analyze and clean the below columns containing Yes / No answers:\n",
    "\n",
    "- Have you seen any of the 6 films in the Star Wars franchise?\n",
    "- Do you consider yourself to be a fan of the Star Wars film franchise?"
   ]
  },
  {
   "cell_type": "code",
   "execution_count": 11,
   "id": "3d324943",
   "metadata": {},
   "outputs": [
    {
     "data": {
      "text/plain": [
       "Yes    936\n",
       "No     250\n",
       "Name: Have you seen any of the 6 films in the Star Wars franchise?, dtype: int64"
      ]
     },
     "execution_count": 11,
     "metadata": {},
     "output_type": "execute_result"
    }
   ],
   "source": [
    "star_wars['Have you seen any of the 6 films in the Star Wars franchise?'].value_counts(dropna = False)"
   ]
  },
  {
   "cell_type": "code",
   "execution_count": 12,
   "id": "99742325",
   "metadata": {},
   "outputs": [
    {
     "data": {
      "text/plain": [
       "dtype('O')"
      ]
     },
     "execution_count": 12,
     "metadata": {},
     "output_type": "execute_result"
    }
   ],
   "source": [
    "star_wars['Have you seen any of the 6 films in the Star Wars franchise?'].dtype"
   ]
  },
  {
   "cell_type": "code",
   "execution_count": 13,
   "id": "40c073ba",
   "metadata": {},
   "outputs": [
    {
     "data": {
      "text/plain": [
       "Yes    552\n",
       "NaN    350\n",
       "No     284\n",
       "Name: Do you consider yourself to be a fan of the Star Wars film franchise?, dtype: int64"
      ]
     },
     "execution_count": 13,
     "metadata": {},
     "output_type": "execute_result"
    }
   ],
   "source": [
    "star_wars['Do you consider yourself to be a fan of the Star Wars film franchise?'].value_counts(dropna = False)"
   ]
  },
  {
   "cell_type": "code",
   "execution_count": 14,
   "id": "00e9a03f",
   "metadata": {},
   "outputs": [
    {
     "data": {
      "text/plain": [
       "dtype('O')"
      ]
     },
     "execution_count": 14,
     "metadata": {},
     "output_type": "execute_result"
    }
   ],
   "source": [
    "star_wars['Do you consider yourself to be a fan of the Star Wars film franchise?'].dtype"
   ]
  },
  {
   "cell_type": "markdown",
   "id": "389a51a0",
   "metadata": {},
   "source": [
    "#### We can transform the data in these columns to make them of 'Boolean' data type. 'Yes' can become 'True and 'No' can become 'False'. Conversion to Boolean Data for these values will allow for faster analysis. "
   ]
  },
  {
   "cell_type": "code",
   "execution_count": 15,
   "id": "1be15411",
   "metadata": {},
   "outputs": [
    {
     "name": "stdout",
     "output_type": "stream",
     "text": [
      "True     552\n",
      "NaN      350\n",
      "False    284\n",
      "Name: Do you consider yourself to be a fan of the Star Wars film franchise?, dtype: int64\n"
     ]
    }
   ],
   "source": [
    "### Creating a mapping dictionary to transform the data\n",
    "\n",
    "dict_map_yes_no = {'Yes' : True, 'No': False}\n",
    "\n",
    "star_wars['Do you consider yourself to be a fan of the Star Wars film franchise?'] = star_wars['Do you consider yourself to be a fan of the Star Wars film franchise?'].map(dict_map_yes_no)\n",
    "print(star_wars['Do you consider yourself to be a fan of the Star Wars film franchise?'].value_counts(dropna = False))"
   ]
  },
  {
   "cell_type": "code",
   "execution_count": 16,
   "id": "beffe1bc",
   "metadata": {},
   "outputs": [
    {
     "name": "stdout",
     "output_type": "stream",
     "text": [
      "True     936\n",
      "False    250\n",
      "Name: Have you seen any of the 6 films in the Star Wars franchise?, dtype: int64\n"
     ]
    }
   ],
   "source": [
    "star_wars['Have you seen any of the 6 films in the Star Wars franchise?'] = star_wars['Have you seen any of the 6 films in the Star Wars franchise?'].map(dict_map_yes_no)\n",
    "print(star_wars['Have you seen any of the 6 films in the Star Wars franchise?'].value_counts(dropna = False))"
   ]
  },
  {
   "cell_type": "code",
   "execution_count": 17,
   "id": "753850ff",
   "metadata": {},
   "outputs": [
    {
     "data": {
      "text/plain": [
       "dtype('bool')"
      ]
     },
     "execution_count": 17,
     "metadata": {},
     "output_type": "execute_result"
    }
   ],
   "source": [
    "star_wars['Have you seen any of the 6 films in the Star Wars franchise?'].dtype"
   ]
  },
  {
   "cell_type": "code",
   "execution_count": 18,
   "id": "541b2b3e",
   "metadata": {},
   "outputs": [
    {
     "data": {
      "text/plain": [
       "dtype('bool')"
      ]
     },
     "execution_count": 18,
     "metadata": {},
     "output_type": "execute_result"
    }
   ],
   "source": [
    "star_wars['Have you seen any of the 6 films in the Star Wars franchise?'].dtype"
   ]
  },
  {
   "cell_type": "markdown",
   "id": "7f7061af",
   "metadata": {},
   "source": [
    "#### Thus we have transformed the data in the Yes/No columns into 'Boolean' data type. Now we proceed towards cleaning other columns"
   ]
  },
  {
   "cell_type": "code",
   "execution_count": 19,
   "id": "745b1b1e",
   "metadata": {},
   "outputs": [
    {
     "name": "stdout",
     "output_type": "stream",
     "text": [
      "Which of the following Star Wars films have you seen? Please select all that apply.\n",
      "Star Wars: Episode I  The Phantom Menace    673\n",
      "NaN                                         513\n",
      "Name: Which of the following Star Wars films have you seen? Please select all that apply., dtype: int64\n",
      "\n",
      "\n",
      "Unnamed: 4\n",
      "NaN                                            615\n",
      "Star Wars: Episode II  Attack of the Clones    571\n",
      "Name: Unnamed: 4, dtype: int64\n",
      "\n",
      "\n",
      "Unnamed: 5\n",
      "NaN                                            636\n",
      "Star Wars: Episode III  Revenge of the Sith    550\n",
      "Name: Unnamed: 5, dtype: int64\n",
      "\n",
      "\n",
      "Unnamed: 6\n",
      "Star Wars: Episode IV  A New Hope    607\n",
      "NaN                                  579\n",
      "Name: Unnamed: 6, dtype: int64\n",
      "\n",
      "\n",
      "Unnamed: 7\n",
      "Star Wars: Episode V The Empire Strikes Back    758\n",
      "NaN                                             428\n",
      "Name: Unnamed: 7, dtype: int64\n",
      "\n",
      "\n",
      "Unnamed: 8\n",
      "Star Wars: Episode VI Return of the Jedi    738\n",
      "NaN                                         448\n",
      "Name: Unnamed: 8, dtype: int64\n",
      "\n",
      "\n"
     ]
    }
   ],
   "source": [
    "for col in star_wars.columns[3:9]:\n",
    "    print(col)\n",
    "    print(star_wars[col].value_counts(dropna = False))\n",
    "    print('\\n')"
   ]
  },
  {
   "cell_type": "code",
   "execution_count": 20,
   "id": "cbedb4b5",
   "metadata": {
    "scrolled": true
   },
   "outputs": [
    {
     "name": "stdout",
     "output_type": "stream",
     "text": [
      "Which of the following Star Wars films have you seen? Please select all that apply.\n",
      "\n",
      "\n",
      "True     673\n",
      "False    513\n",
      "Name: Which of the following Star Wars films have you seen? Please select all that apply., dtype: int64\n",
      "Checking if the values have been converted into True/False values or not\n",
      "True     673\n",
      "False    513\n",
      "Name: Which of the following Star Wars films have you seen? Please select all that apply., dtype: int64\n",
      "Unnamed: 4\n",
      "\n",
      "\n",
      "False    615\n",
      "True     571\n",
      "Name: Unnamed: 4, dtype: int64\n",
      "Checking if the values have been converted into True/False values or not\n",
      "False    615\n",
      "True     571\n",
      "Name: Unnamed: 4, dtype: int64\n",
      "Unnamed: 5\n",
      "\n",
      "\n",
      "False    636\n",
      "True     550\n",
      "Name: Unnamed: 5, dtype: int64\n",
      "Checking if the values have been converted into True/False values or not\n",
      "False    636\n",
      "True     550\n",
      "Name: Unnamed: 5, dtype: int64\n",
      "Unnamed: 6\n",
      "\n",
      "\n",
      "True     607\n",
      "False    579\n",
      "Name: Unnamed: 6, dtype: int64\n",
      "Checking if the values have been converted into True/False values or not\n",
      "True     607\n",
      "False    579\n",
      "Name: Unnamed: 6, dtype: int64\n",
      "Unnamed: 7\n",
      "\n",
      "\n",
      "True     758\n",
      "False    428\n",
      "Name: Unnamed: 7, dtype: int64\n",
      "Checking if the values have been converted into True/False values or not\n",
      "True     758\n",
      "False    428\n",
      "Name: Unnamed: 7, dtype: int64\n",
      "Unnamed: 8\n",
      "\n",
      "\n",
      "True     738\n",
      "False    448\n",
      "Name: Unnamed: 8, dtype: int64\n",
      "Checking if the values have been converted into True/False values or not\n",
      "True     738\n",
      "False    448\n",
      "Name: Unnamed: 8, dtype: int64\n"
     ]
    }
   ],
   "source": [
    "import numpy as np\n",
    "\n",
    "for col in star_wars.columns[3:9]:\n",
    "    print(col)\n",
    "    value_counts_series = star_wars[col].value_counts(dropna = False)\n",
    "    series_index = list(value_counts_series.index)\n",
    "    mapping_dict = {}\n",
    "    for item in series_index:\n",
    "        if str(item) == 'nan':\n",
    "            mapping_dict[item] = False\n",
    "        else:\n",
    "            mapping_dict[item] = True\n",
    "    star_wars[col] = star_wars[col].map(mapping_dict)\n",
    "    print('\\n')\n",
    "    print(star_wars[col].value_counts(dropna = False))\n",
    "    print('Checking if the values have been converted into True/False values or not')\n",
    "    print(star_wars[col].value_counts())\n",
    "\n",
    "    \n",
    "    "
   ]
  },
  {
   "cell_type": "markdown",
   "id": "f0ce8f6d",
   "metadata": {},
   "source": [
    "#### Now that all the values in these columns have been converted into Boolean types, we will rename the columns so that the names become more intuitive. The columns will be named based on the Star Wars sequel. Eg - the column referring to Episode 1 will be renamed to seen_1 and so on and so forth. "
   ]
  },
  {
   "cell_type": "code",
   "execution_count": 21,
   "id": "41607c51",
   "metadata": {},
   "outputs": [],
   "source": [
    "movie_seen = [col for col in star_wars.columns[3:9]]"
   ]
  },
  {
   "cell_type": "code",
   "execution_count": 22,
   "id": "7ced8f90",
   "metadata": {},
   "outputs": [
    {
     "data": {
      "text/plain": [
       "['Which of the following Star Wars films have you seen? Please select all that apply.',\n",
       " 'Unnamed: 4',\n",
       " 'Unnamed: 5',\n",
       " 'Unnamed: 6',\n",
       " 'Unnamed: 7',\n",
       " 'Unnamed: 8']"
      ]
     },
     "execution_count": 22,
     "metadata": {},
     "output_type": "execute_result"
    }
   ],
   "source": [
    "movie_seen"
   ]
  },
  {
   "cell_type": "code",
   "execution_count": 23,
   "id": "951a53af",
   "metadata": {},
   "outputs": [],
   "source": [
    "movie_seen_replace = ['seen_{}'.format(i) for i in range(1,7)]"
   ]
  },
  {
   "cell_type": "code",
   "execution_count": 24,
   "id": "c17fda64",
   "metadata": {},
   "outputs": [
    {
     "data": {
      "text/plain": [
       "['seen_1', 'seen_2', 'seen_3', 'seen_4', 'seen_5', 'seen_6']"
      ]
     },
     "execution_count": 24,
     "metadata": {},
     "output_type": "execute_result"
    }
   ],
   "source": [
    "movie_seen_replace"
   ]
  },
  {
   "cell_type": "code",
   "execution_count": 25,
   "id": "b75624c0",
   "metadata": {},
   "outputs": [],
   "source": [
    "dict_col_rename = dict(zip(movie_seen, movie_seen_replace))"
   ]
  },
  {
   "cell_type": "code",
   "execution_count": 26,
   "id": "1ac0da95",
   "metadata": {},
   "outputs": [
    {
     "data": {
      "text/plain": [
       "{'Which of the following Star Wars films have you seen? Please select all that apply.': 'seen_1',\n",
       " 'Unnamed: 4': 'seen_2',\n",
       " 'Unnamed: 5': 'seen_3',\n",
       " 'Unnamed: 6': 'seen_4',\n",
       " 'Unnamed: 7': 'seen_5',\n",
       " 'Unnamed: 8': 'seen_6'}"
      ]
     },
     "execution_count": 26,
     "metadata": {},
     "output_type": "execute_result"
    }
   ],
   "source": [
    "dict_col_rename"
   ]
  },
  {
   "cell_type": "code",
   "execution_count": 27,
   "id": "c91da267",
   "metadata": {},
   "outputs": [],
   "source": [
    "star_wars = star_wars.rename(columns = dict_col_rename)"
   ]
  },
  {
   "cell_type": "code",
   "execution_count": 28,
   "id": "c4b17135",
   "metadata": {},
   "outputs": [
    {
     "name": "stdout",
     "output_type": "stream",
     "text": [
      "seen_1\n",
      "seen_2\n",
      "seen_3\n",
      "seen_4\n",
      "seen_5\n",
      "seen_6\n"
     ]
    }
   ],
   "source": [
    "for col in star_wars.columns[3:9]:\n",
    "    print(col)"
   ]
  },
  {
   "cell_type": "markdown",
   "id": "7e8a5eed",
   "metadata": {},
   "source": [
    "#### Thus the checkbox columns have also been renamed and converted to boolean data type to enable faster analysis. Checking the next set of columns for cleaning. "
   ]
  },
  {
   "cell_type": "code",
   "execution_count": 29,
   "id": "edd8290c",
   "metadata": {},
   "outputs": [
    {
     "data": {
      "text/plain": [
       "Index(['RespondentID',\n",
       "       'Have you seen any of the 6 films in the Star Wars franchise?',\n",
       "       'Do you consider yourself to be a fan of the Star Wars film franchise?',\n",
       "       'seen_1', 'seen_2', 'seen_3', 'seen_4', 'seen_5', 'seen_6',\n",
       "       'Please rank the Star Wars films in order of preference with 1 being your favorite film in the franchise and 6 being your least favorite film.',\n",
       "       'Unnamed: 10', 'Unnamed: 11', 'Unnamed: 12', 'Unnamed: 13',\n",
       "       'Unnamed: 14',\n",
       "       'Please state whether you view the following characters favorably, unfavorably, or are unfamiliar with him/her.',\n",
       "       'Unnamed: 16', 'Unnamed: 17', 'Unnamed: 18', 'Unnamed: 19',\n",
       "       'Unnamed: 20', 'Unnamed: 21', 'Unnamed: 22', 'Unnamed: 23',\n",
       "       'Unnamed: 24', 'Unnamed: 25', 'Unnamed: 26', 'Unnamed: 27',\n",
       "       'Unnamed: 28', 'Which character shot first?',\n",
       "       'Are you familiar with the Expanded Universe?',\n",
       "       'Do you consider yourself to be a fan of the Expanded Universe?',\n",
       "       'Do you consider yourself to be a fan of the Star Trek franchise?',\n",
       "       'Gender', 'Age', 'Household Income', 'Education',\n",
       "       'Location (Census Region)'],\n",
       "      dtype='object')"
      ]
     },
     "execution_count": 29,
     "metadata": {},
     "output_type": "execute_result"
    }
   ],
   "source": [
    "star_wars.columns"
   ]
  },
  {
   "cell_type": "markdown",
   "id": "cd50450c",
   "metadata": {},
   "source": [
    "#### Thus we can observe that the next few columns are about ranking of the star wars movies based on the respondent's personal preference. We will analyze the columns' data and decide on appropriate cleaning strategies. "
   ]
  },
  {
   "cell_type": "code",
   "execution_count": 30,
   "id": "f6fdf50b",
   "metadata": {},
   "outputs": [
    {
     "name": "stdout",
     "output_type": "stream",
     "text": [
      "Please rank the Star Wars films in order of preference with 1 being your favorite film in the franchise and 6 being your least favorite film.\n",
      "NaN    351\n",
      "4.0    237\n",
      "6.0    168\n",
      "3.0    130\n",
      "1.0    129\n",
      "5.0    100\n",
      "2.0     71\n",
      "Name: Please rank the Star Wars films in order of preference with 1 being your favorite film in the franchise and 6 being your least favorite film., dtype: int64\n",
      "351\n",
      "\n",
      "\n",
      "Unnamed: 10\n",
      "NaN    350\n",
      "5.0    300\n",
      "4.0    183\n",
      "2.0    116\n",
      "3.0    103\n",
      "6.0    102\n",
      "1.0     32\n",
      "Name: Unnamed: 10, dtype: int64\n",
      "350\n",
      "\n",
      "\n",
      "Unnamed: 11\n",
      "NaN    351\n",
      "6.0    217\n",
      "5.0    203\n",
      "4.0    182\n",
      "3.0    150\n",
      "2.0     47\n",
      "1.0     36\n",
      "Name: Unnamed: 11, dtype: int64\n",
      "351\n",
      "\n",
      "\n",
      "Unnamed: 12\n",
      "NaN    350\n",
      "1.0    204\n",
      "6.0    161\n",
      "2.0    135\n",
      "4.0    130\n",
      "3.0    127\n",
      "5.0     79\n",
      "Name: Unnamed: 12, dtype: int64\n",
      "350\n",
      "\n",
      "\n",
      "Unnamed: 13\n",
      "NaN    350\n",
      "1.0    289\n",
      "2.0    235\n",
      "5.0    118\n",
      "3.0    106\n",
      "4.0     47\n",
      "6.0     41\n",
      "Name: Unnamed: 13, dtype: int64\n",
      "350\n",
      "\n",
      "\n",
      "Unnamed: 14\n",
      "NaN    350\n",
      "2.0    232\n",
      "3.0    220\n",
      "1.0    146\n",
      "6.0    145\n",
      "4.0     57\n",
      "5.0     36\n",
      "Name: Unnamed: 14, dtype: int64\n",
      "350\n",
      "\n",
      "\n"
     ]
    }
   ],
   "source": [
    "for col in star_wars.columns[9:15]:\n",
    "    #print('COLUMN NAME')\n",
    "    print(col)\n",
    "    #print('COLUMN VALUE COUNTS')\n",
    "    print(star_wars[col].value_counts(dropna = False))\n",
    "    print(star_wars[col].isnull().sum())\n",
    "    print('\\n')"
   ]
  },
  {
   "cell_type": "markdown",
   "id": "daec1cb0",
   "metadata": {},
   "source": [
    "#### Observation of the data in the ranking columns suggests that they don't require much cleaning. We will only convert the data type to float and rename the columns to something like ranking_1, ranking_2 etc. (As they indicate the user rankings for each sequel)"
   ]
  },
  {
   "cell_type": "code",
   "execution_count": 31,
   "id": "35bff470",
   "metadata": {},
   "outputs": [],
   "source": [
    "star_wars[star_wars.columns[9:15]] = star_wars[star_wars.columns[9:15]].astype(float)  \n"
   ]
  },
  {
   "cell_type": "code",
   "execution_count": 32,
   "id": "3dd84dae",
   "metadata": {},
   "outputs": [
    {
     "name": "stdout",
     "output_type": "stream",
     "text": [
      "Please rank the Star Wars films in order of preference with 1 being your favorite film in the franchise and 6 being your least favorite film.\n",
      "float64\n",
      "Unnamed: 10\n",
      "float64\n",
      "Unnamed: 11\n",
      "float64\n",
      "Unnamed: 12\n",
      "float64\n",
      "Unnamed: 13\n",
      "float64\n",
      "Unnamed: 14\n",
      "float64\n"
     ]
    }
   ],
   "source": [
    "#Checking if the data types have been converted\n",
    "for col in star_wars.columns[9:15]:\n",
    "    #print('COLUMN NAME')\n",
    "    print(col)\n",
    "    print(star_wars[col].dtype)"
   ]
  },
  {
   "cell_type": "code",
   "execution_count": 33,
   "id": "e59a4a7f",
   "metadata": {},
   "outputs": [],
   "source": [
    "ranking_list = ['ranking_{}'.format(i) for i in range(1,7)]"
   ]
  },
  {
   "cell_type": "code",
   "execution_count": 34,
   "id": "f6c6ae49",
   "metadata": {},
   "outputs": [],
   "source": [
    "ranking_columns_list = [col for col in star_wars.columns[9:15]]"
   ]
  },
  {
   "cell_type": "code",
   "execution_count": 35,
   "id": "273410e6",
   "metadata": {},
   "outputs": [
    {
     "data": {
      "text/plain": [
       "['Please rank the Star Wars films in order of preference with 1 being your favorite film in the franchise and 6 being your least favorite film.',\n",
       " 'Unnamed: 10',\n",
       " 'Unnamed: 11',\n",
       " 'Unnamed: 12',\n",
       " 'Unnamed: 13',\n",
       " 'Unnamed: 14']"
      ]
     },
     "execution_count": 35,
     "metadata": {},
     "output_type": "execute_result"
    }
   ],
   "source": [
    "ranking_columns_list"
   ]
  },
  {
   "cell_type": "code",
   "execution_count": 36,
   "id": "340ba944",
   "metadata": {},
   "outputs": [],
   "source": [
    "ranking_map_dict = dict(zip(ranking_columns_list, ranking_list))"
   ]
  },
  {
   "cell_type": "code",
   "execution_count": 37,
   "id": "3cc88ea2",
   "metadata": {},
   "outputs": [],
   "source": [
    "star_wars = star_wars.rename(columns = ranking_map_dict )"
   ]
  },
  {
   "cell_type": "code",
   "execution_count": 38,
   "id": "faa12bd4",
   "metadata": {},
   "outputs": [
    {
     "name": "stdout",
     "output_type": "stream",
     "text": [
      "ranking_1\n",
      "float64\n",
      "ranking_2\n",
      "float64\n",
      "ranking_3\n",
      "float64\n",
      "ranking_4\n",
      "float64\n",
      "ranking_5\n",
      "float64\n",
      "ranking_6\n",
      "float64\n"
     ]
    }
   ],
   "source": [
    "#Checking if the column names and data types have been changed\n",
    "for col in star_wars.columns[9:15]:\n",
    "    #print('COLUMN NAME')\n",
    "    print(col)\n",
    "    print(star_wars[col].dtype)"
   ]
  },
  {
   "cell_type": "markdown",
   "id": "4e4f5ed5",
   "metadata": {},
   "source": [
    "#### Thus we have cleaned the columns indicating the rankings of the Star Wars movies. Analyzing the next set of columns. "
   ]
  },
  {
   "cell_type": "code",
   "execution_count": 39,
   "id": "7b227fcb",
   "metadata": {},
   "outputs": [
    {
     "data": {
      "text/plain": [
       "Index(['RespondentID',\n",
       "       'Have you seen any of the 6 films in the Star Wars franchise?',\n",
       "       'Do you consider yourself to be a fan of the Star Wars film franchise?',\n",
       "       'seen_1', 'seen_2', 'seen_3', 'seen_4', 'seen_5', 'seen_6', 'ranking_1',\n",
       "       'ranking_2', 'ranking_3', 'ranking_4', 'ranking_5', 'ranking_6',\n",
       "       'Please state whether you view the following characters favorably, unfavorably, or are unfamiliar with him/her.',\n",
       "       'Unnamed: 16', 'Unnamed: 17', 'Unnamed: 18', 'Unnamed: 19',\n",
       "       'Unnamed: 20', 'Unnamed: 21', 'Unnamed: 22', 'Unnamed: 23',\n",
       "       'Unnamed: 24', 'Unnamed: 25', 'Unnamed: 26', 'Unnamed: 27',\n",
       "       'Unnamed: 28', 'Which character shot first?',\n",
       "       'Are you familiar with the Expanded Universe?',\n",
       "       'Do you consider yourself to be a fan of the Expanded Universe?',\n",
       "       'Do you consider yourself to be a fan of the Star Trek franchise?',\n",
       "       'Gender', 'Age', 'Household Income', 'Education',\n",
       "       'Location (Census Region)'],\n",
       "      dtype='object')"
      ]
     },
     "execution_count": 39,
     "metadata": {},
     "output_type": "execute_result"
    }
   ],
   "source": [
    "star_wars.columns"
   ]
  },
  {
   "cell_type": "code",
   "execution_count": 40,
   "id": "442c4edc",
   "metadata": {},
   "outputs": [
    {
     "data": {
      "text/html": [
       "<div>\n",
       "<style scoped>\n",
       "    .dataframe tbody tr th:only-of-type {\n",
       "        vertical-align: middle;\n",
       "    }\n",
       "\n",
       "    .dataframe tbody tr th {\n",
       "        vertical-align: top;\n",
       "    }\n",
       "\n",
       "    .dataframe thead th {\n",
       "        text-align: right;\n",
       "    }\n",
       "</style>\n",
       "<table border=\"1\" class=\"dataframe\">\n",
       "  <thead>\n",
       "    <tr style=\"text-align: right;\">\n",
       "      <th></th>\n",
       "      <th>Please state whether you view the following characters favorably, unfavorably, or are unfamiliar with him/her.</th>\n",
       "      <th>Unnamed: 16</th>\n",
       "      <th>Unnamed: 17</th>\n",
       "      <th>Unnamed: 18</th>\n",
       "      <th>Unnamed: 19</th>\n",
       "      <th>Unnamed: 20</th>\n",
       "      <th>Unnamed: 21</th>\n",
       "      <th>Unnamed: 22</th>\n",
       "      <th>Unnamed: 23</th>\n",
       "      <th>Unnamed: 24</th>\n",
       "      <th>Unnamed: 25</th>\n",
       "      <th>Unnamed: 26</th>\n",
       "      <th>Unnamed: 27</th>\n",
       "      <th>Unnamed: 28</th>\n",
       "    </tr>\n",
       "  </thead>\n",
       "  <tbody>\n",
       "    <tr>\n",
       "      <th>0</th>\n",
       "      <td>Very favorably</td>\n",
       "      <td>Very favorably</td>\n",
       "      <td>Very favorably</td>\n",
       "      <td>Very favorably</td>\n",
       "      <td>Very favorably</td>\n",
       "      <td>Very favorably</td>\n",
       "      <td>Very favorably</td>\n",
       "      <td>Unfamiliar (N/A)</td>\n",
       "      <td>Unfamiliar (N/A)</td>\n",
       "      <td>Very favorably</td>\n",
       "      <td>Very favorably</td>\n",
       "      <td>Very favorably</td>\n",
       "      <td>Very favorably</td>\n",
       "      <td>Very favorably</td>\n",
       "    </tr>\n",
       "    <tr>\n",
       "      <th>1</th>\n",
       "      <td>NaN</td>\n",
       "      <td>NaN</td>\n",
       "      <td>NaN</td>\n",
       "      <td>NaN</td>\n",
       "      <td>NaN</td>\n",
       "      <td>NaN</td>\n",
       "      <td>NaN</td>\n",
       "      <td>NaN</td>\n",
       "      <td>NaN</td>\n",
       "      <td>NaN</td>\n",
       "      <td>NaN</td>\n",
       "      <td>NaN</td>\n",
       "      <td>NaN</td>\n",
       "      <td>NaN</td>\n",
       "    </tr>\n",
       "    <tr>\n",
       "      <th>2</th>\n",
       "      <td>Somewhat favorably</td>\n",
       "      <td>Somewhat favorably</td>\n",
       "      <td>Somewhat favorably</td>\n",
       "      <td>Somewhat favorably</td>\n",
       "      <td>Somewhat favorably</td>\n",
       "      <td>Unfamiliar (N/A)</td>\n",
       "      <td>Unfamiliar (N/A)</td>\n",
       "      <td>Unfamiliar (N/A)</td>\n",
       "      <td>Unfamiliar (N/A)</td>\n",
       "      <td>Unfamiliar (N/A)</td>\n",
       "      <td>Unfamiliar (N/A)</td>\n",
       "      <td>Unfamiliar (N/A)</td>\n",
       "      <td>Unfamiliar (N/A)</td>\n",
       "      <td>Unfamiliar (N/A)</td>\n",
       "    </tr>\n",
       "    <tr>\n",
       "      <th>3</th>\n",
       "      <td>Very favorably</td>\n",
       "      <td>Very favorably</td>\n",
       "      <td>Very favorably</td>\n",
       "      <td>Very favorably</td>\n",
       "      <td>Very favorably</td>\n",
       "      <td>Somewhat favorably</td>\n",
       "      <td>Very favorably</td>\n",
       "      <td>Somewhat favorably</td>\n",
       "      <td>Somewhat unfavorably</td>\n",
       "      <td>Very favorably</td>\n",
       "      <td>Very favorably</td>\n",
       "      <td>Very favorably</td>\n",
       "      <td>Very favorably</td>\n",
       "      <td>Very favorably</td>\n",
       "    </tr>\n",
       "    <tr>\n",
       "      <th>4</th>\n",
       "      <td>Very favorably</td>\n",
       "      <td>Somewhat favorably</td>\n",
       "      <td>Somewhat favorably</td>\n",
       "      <td>Somewhat unfavorably</td>\n",
       "      <td>Very favorably</td>\n",
       "      <td>Very unfavorably</td>\n",
       "      <td>Somewhat favorably</td>\n",
       "      <td>Neither favorably nor unfavorably (neutral)</td>\n",
       "      <td>Very favorably</td>\n",
       "      <td>Somewhat favorably</td>\n",
       "      <td>Somewhat favorably</td>\n",
       "      <td>Very unfavorably</td>\n",
       "      <td>Somewhat favorably</td>\n",
       "      <td>Somewhat favorably</td>\n",
       "    </tr>\n",
       "  </tbody>\n",
       "</table>\n",
       "</div>"
      ],
      "text/plain": [
       "  Please state whether you view the following characters favorably, unfavorably, or are unfamiliar with him/her.  \\\n",
       "0                                     Very favorably                                                               \n",
       "1                                                NaN                                                               \n",
       "2                                 Somewhat favorably                                                               \n",
       "3                                     Very favorably                                                               \n",
       "4                                     Very favorably                                                               \n",
       "\n",
       "          Unnamed: 16         Unnamed: 17           Unnamed: 18  \\\n",
       "0      Very favorably      Very favorably        Very favorably   \n",
       "1                 NaN                 NaN                   NaN   \n",
       "2  Somewhat favorably  Somewhat favorably    Somewhat favorably   \n",
       "3      Very favorably      Very favorably        Very favorably   \n",
       "4  Somewhat favorably  Somewhat favorably  Somewhat unfavorably   \n",
       "\n",
       "          Unnamed: 19         Unnamed: 20         Unnamed: 21  \\\n",
       "0      Very favorably      Very favorably      Very favorably   \n",
       "1                 NaN                 NaN                 NaN   \n",
       "2  Somewhat favorably    Unfamiliar (N/A)    Unfamiliar (N/A)   \n",
       "3      Very favorably  Somewhat favorably      Very favorably   \n",
       "4      Very favorably    Very unfavorably  Somewhat favorably   \n",
       "\n",
       "                                   Unnamed: 22           Unnamed: 23  \\\n",
       "0                             Unfamiliar (N/A)      Unfamiliar (N/A)   \n",
       "1                                          NaN                   NaN   \n",
       "2                             Unfamiliar (N/A)      Unfamiliar (N/A)   \n",
       "3                           Somewhat favorably  Somewhat unfavorably   \n",
       "4  Neither favorably nor unfavorably (neutral)        Very favorably   \n",
       "\n",
       "          Unnamed: 24         Unnamed: 25       Unnamed: 26  \\\n",
       "0      Very favorably      Very favorably    Very favorably   \n",
       "1                 NaN                 NaN               NaN   \n",
       "2    Unfamiliar (N/A)    Unfamiliar (N/A)  Unfamiliar (N/A)   \n",
       "3      Very favorably      Very favorably    Very favorably   \n",
       "4  Somewhat favorably  Somewhat favorably  Very unfavorably   \n",
       "\n",
       "          Unnamed: 27         Unnamed: 28  \n",
       "0      Very favorably      Very favorably  \n",
       "1                 NaN                 NaN  \n",
       "2    Unfamiliar (N/A)    Unfamiliar (N/A)  \n",
       "3      Very favorably      Very favorably  \n",
       "4  Somewhat favorably  Somewhat favorably  "
      ]
     },
     "execution_count": 40,
     "metadata": {},
     "output_type": "execute_result"
    }
   ],
   "source": [
    "star_wars[star_wars.columns[15:29]].head()"
   ]
  },
  {
   "cell_type": "code",
   "execution_count": 41,
   "id": "533fa575",
   "metadata": {},
   "outputs": [
    {
     "name": "stdout",
     "output_type": "stream",
     "text": [
      "Please state whether you view the following characters favorably, unfavorably, or are unfamiliar with him/her.\n",
      "Very favorably                                 610\n",
      "NaN                                            357\n",
      "Somewhat favorably                             151\n",
      "Neither favorably nor unfavorably (neutral)     44\n",
      "Unfamiliar (N/A)                                15\n",
      "Somewhat unfavorably                             8\n",
      "Very unfavorably                                 1\n",
      "Name: Please state whether you view the following characters favorably, unfavorably, or are unfamiliar with him/her., dtype: int64\n",
      "357\n",
      "\n",
      "\n",
      "Unnamed: 16\n",
      "Very favorably                                 552\n",
      "NaN                                            355\n",
      "Somewhat favorably                             219\n",
      "Neither favorably nor unfavorably (neutral)     38\n",
      "Somewhat unfavorably                            13\n",
      "Unfamiliar (N/A)                                 6\n",
      "Very unfavorably                                 3\n",
      "Name: Unnamed: 16, dtype: int64\n",
      "355\n",
      "\n",
      "\n",
      "Unnamed: 17\n",
      "Very favorably                                 547\n",
      "NaN                                            355\n",
      "Somewhat favorably                             210\n",
      "Neither favorably nor unfavorably (neutral)     48\n",
      "Somewhat unfavorably                            12\n",
      "Unfamiliar (N/A)                                 8\n",
      "Very unfavorably                                 6\n",
      "Name: Unnamed: 17, dtype: int64\n",
      "355\n",
      "\n",
      "\n",
      "Unnamed: 18\n",
      "NaN                                            363\n",
      "Somewhat favorably                             269\n",
      "Very favorably                                 245\n",
      "Neither favorably nor unfavorably (neutral)    135\n",
      "Somewhat unfavorably                            83\n",
      "Unfamiliar (N/A)                                52\n",
      "Very unfavorably                                39\n",
      "Name: Unnamed: 18, dtype: int64\n",
      "363\n",
      "\n",
      "\n",
      "Unnamed: 19\n",
      "Very favorably                                 591\n",
      "NaN                                            361\n",
      "Somewhat favorably                             159\n",
      "Neither favorably nor unfavorably (neutral)     43\n",
      "Unfamiliar (N/A)                                17\n",
      "Somewhat unfavorably                             8\n",
      "Very unfavorably                                 7\n",
      "Name: Unnamed: 19, dtype: int64\n",
      "361\n",
      "\n",
      "\n",
      "Unnamed: 20\n",
      "NaN                                            372\n",
      "Neither favorably nor unfavorably (neutral)    213\n",
      "Unfamiliar (N/A)                               156\n",
      "Somewhat favorably                             143\n",
      "Very unfavorably                               124\n",
      "Very favorably                                 110\n",
      "Somewhat unfavorably                            68\n",
      "Name: Unnamed: 20, dtype: int64\n",
      "372\n",
      "\n",
      "\n",
      "Unnamed: 21\n",
      "NaN                                            360\n",
      "Very favorably                                 310\n",
      "Somewhat favorably                             171\n",
      "Very unfavorably                               149\n",
      "Somewhat unfavorably                           102\n",
      "Neither favorably nor unfavorably (neutral)     84\n",
      "Unfamiliar (N/A)                                10\n",
      "Name: Unnamed: 21, dtype: int64\n",
      "360\n",
      "\n",
      "\n",
      "Unnamed: 22\n",
      "NaN                                            366\n",
      "Neither favorably nor unfavorably (neutral)    236\n",
      "Somewhat favorably                             223\n",
      "Unfamiliar (N/A)                               148\n",
      "Very favorably                                 142\n",
      "Somewhat unfavorably                            63\n",
      "Very unfavorably                                 8\n",
      "Name: Unnamed: 22, dtype: int64\n",
      "366\n",
      "\n",
      "\n",
      "Unnamed: 23\n",
      "NaN                                            374\n",
      "Neither favorably nor unfavorably (neutral)    248\n",
      "Somewhat favorably                             153\n",
      "Very favorably                                 138\n",
      "Unfamiliar (N/A)                               132\n",
      "Somewhat unfavorably                            96\n",
      "Very unfavorably                                45\n",
      "Name: Unnamed: 23, dtype: int64\n",
      "374\n",
      "\n",
      "\n",
      "Unnamed: 24\n",
      "Very favorably                                 474\n",
      "NaN                                            359\n",
      "Somewhat favorably                             229\n",
      "Neither favorably nor unfavorably (neutral)     79\n",
      "Somewhat unfavorably                            23\n",
      "Unfamiliar (N/A)                                15\n",
      "Very unfavorably                                 7\n",
      "Name: Unnamed: 24, dtype: int64\n",
      "359\n",
      "\n",
      "\n",
      "Unnamed: 25\n",
      "Very favorably                                 562\n",
      "NaN                                            356\n",
      "Somewhat favorably                             185\n",
      "Neither favorably nor unfavorably (neutral)     57\n",
      "Somewhat unfavorably                            10\n",
      "Unfamiliar (N/A)                                10\n",
      "Very unfavorably                                 6\n",
      "Name: Unnamed: 25, dtype: int64\n",
      "356\n",
      "\n",
      "\n",
      "Unnamed: 26\n",
      "NaN                                            365\n",
      "Very unfavorably                               204\n",
      "Neither favorably nor unfavorably (neutral)    164\n",
      "Somewhat favorably                             130\n",
      "Very favorably                                 112\n",
      "Unfamiliar (N/A)                               109\n",
      "Somewhat unfavorably                           102\n",
      "Name: Unnamed: 26, dtype: int64\n",
      "365\n",
      "\n",
      "\n",
      "Unnamed: 27\n",
      "NaN                                            372\n",
      "Neither favorably nor unfavorably (neutral)    207\n",
      "Somewhat favorably                             183\n",
      "Very favorably                                 168\n",
      "Unfamiliar (N/A)                               164\n",
      "Somewhat unfavorably                            58\n",
      "Very unfavorably                                34\n",
      "Name: Unnamed: 27, dtype: int64\n",
      "372\n",
      "\n",
      "\n",
      "Unnamed: 28\n",
      "Very favorably                                 605\n",
      "NaN                                            360\n",
      "Somewhat favorably                             144\n",
      "Neither favorably nor unfavorably (neutral)     51\n",
      "Unfamiliar (N/A)                                10\n",
      "Somewhat unfavorably                             8\n",
      "Very unfavorably                                 8\n",
      "Name: Unnamed: 28, dtype: int64\n",
      "360\n",
      "\n",
      "\n"
     ]
    }
   ],
   "source": [
    "for col in star_wars.columns[15:29]:\n",
    "    #print('COLUMN NAME')\n",
    "    print(col)\n",
    "    #print('COLUMN VALUE COUNTS')\n",
    "    print(star_wars[col].value_counts(dropna = False))\n",
    "    print(star_wars[col].isnull().sum())\n",
    "    print('\\n')"
   ]
  },
  {
   "cell_type": "markdown",
   "id": "f8e3b0b5",
   "metadata": {},
   "source": [
    "#### Most likely these columns describe the user preferences for certain Star Wars characters. Since the character names are not known, we will not consider these columns. We will instead look for insights from the already cleaned columns. "
   ]
  },
  {
   "cell_type": "markdown",
   "id": "7b7d786e",
   "metadata": {},
   "source": [
    "### Finding the highest ranked Star Wars sequel"
   ]
  },
  {
   "cell_type": "code",
   "execution_count": 51,
   "id": "8d271c28",
   "metadata": {},
   "outputs": [],
   "source": [
    "mean_rankings = star_wars[star_wars.columns[9:15]].mean()"
   ]
  },
  {
   "cell_type": "code",
   "execution_count": 43,
   "id": "c2514ce3",
   "metadata": {},
   "outputs": [
    {
     "name": "stdout",
     "output_type": "stream",
     "text": [
      "ranking_5    2.513158\n",
      "ranking_6    3.047847\n",
      "ranking_4    3.272727\n",
      "ranking_1    3.732934\n",
      "ranking_2    4.087321\n",
      "ranking_3    4.341317\n",
      "dtype: float64\n"
     ]
    }
   ],
   "source": [
    "print(mean_rankings.sort_values())"
   ]
  },
  {
   "cell_type": "code",
   "execution_count": 44,
   "id": "90203a7c",
   "metadata": {},
   "outputs": [
    {
     "data": {
      "image/png": "[encoded data removed]",
      "text/plain": [
       "<Figure size 432x288 with 1 Axes>"
      ]
     },
     "metadata": {
      "needs_background": "light"
     },
     "output_type": "display_data"
    }
   ],
   "source": [
    "import matplotlib.pyplot as plt\n",
    "%matplotlib inline\n",
    "mean_rankings.sort_values().plot.bar()\n",
    "plt.xticks(rotation = 30)\n",
    "plt.title('Average ranking of Star Wars sequels(lower is better)')\n",
    "plt.show()"
   ]
  },
  {
   "cell_type": "markdown",
   "id": "60e4b2a1",
   "metadata": {},
   "source": [
    "#### Thus we can observe that Episode 5 is the highest ranked while Episode 3 is the lowest ranked. This could also be due to a general perception among Star Wars fans that Episodes 4-6 were better in comparision to Episodes 1-3. "
   ]
  },
  {
   "cell_type": "markdown",
   "id": "3bf3afad",
   "metadata": {},
   "source": [
    "### Finding the most viewed sequel"
   ]
  },
  {
   "cell_type": "code",
   "execution_count": 45,
   "id": "080d8c30",
   "metadata": {},
   "outputs": [],
   "source": [
    "total_views = star_wars[star_wars.columns[3:9]].sum()"
   ]
  },
  {
   "cell_type": "code",
   "execution_count": 46,
   "id": "12621c52",
   "metadata": {},
   "outputs": [
    {
     "name": "stdout",
     "output_type": "stream",
     "text": [
      "seen_5    758\n",
      "seen_6    738\n",
      "seen_1    673\n",
      "seen_4    607\n",
      "seen_2    571\n",
      "seen_3    550\n",
      "dtype: int64\n"
     ]
    }
   ],
   "source": [
    "print(total_views.sort_values(ascending = False))"
   ]
  },
  {
   "cell_type": "code",
   "execution_count": 47,
   "id": "b0c9eaf2",
   "metadata": {},
   "outputs": [
    {
     "data": {
      "image/png": "[encoded data removed]",
      "text/plain": [
       "<Figure size 432x288 with 1 Axes>"
      ]
     },
     "metadata": {
      "needs_background": "light"
     },
     "output_type": "display_data"
    }
   ],
   "source": [
    "%matplotlib inline\n",
    "total_views.sort_values(ascending = False).plot.bar()\n",
    "plt.xticks(rotation = 30)\n",
    "plt.title('Total Views of Star Wars sequels(higher is better)')\n",
    "plt.show()"
   ]
  },
  {
   "cell_type": "markdown",
   "id": "fad53720",
   "metadata": {},
   "source": [
    "#### Thus we can observe that Episode 5 and Episode 6 have the highest views. Episode 1 may have had very high views due to the hype as it was the first Star Wars sequel in close to two decades. Then as the viewers (most likely) didn't like it, the views for Episodes 2 and 3 went down further. This reinforces the view that Episodes 4-6 were considered better than Episodes 1-3, based on the rankings analysis."
   ]
  },
  {
   "cell_type": "markdown",
   "id": "11b46ad0",
   "metadata": {},
   "source": [
    "### Exploring the Data by a Binary Segment - Gender"
   ]
  },
  {
   "cell_type": "markdown",
   "id": "70ac4850",
   "metadata": {},
   "source": [
    "#### We will split the entire dataset into two groups one for male respondents and another for female respondents, and analyze the movie rankings and views for each group separately"
   ]
  },
  {
   "cell_type": "code",
   "execution_count": 49,
   "id": "7265ee34",
   "metadata": {},
   "outputs": [
    {
     "data": {
      "text/plain": [
       "Female    549\n",
       "Male      497\n",
       "Name: Gender, dtype: int64"
      ]
     },
     "execution_count": 49,
     "metadata": {},
     "output_type": "execute_result"
    }
   ],
   "source": [
    "star_wars['Gender'].value_counts()"
   ]
  },
  {
   "cell_type": "code",
   "execution_count": 50,
   "id": "e9edeaae",
   "metadata": {},
   "outputs": [],
   "source": [
    "males = star_wars[star_wars['Gender'] == 'Male']\n",
    "females = star_wars[star_wars['Gender'] == 'Female']"
   ]
  },
  {
   "cell_type": "markdown",
   "id": "6f23b345",
   "metadata": {},
   "source": [
    "### Finding the highest ranked Star Wars sequel among the male audiences"
   ]
  },
  {
   "cell_type": "code",
   "execution_count": 52,
   "id": "d6e3159c",
   "metadata": {},
   "outputs": [],
   "source": [
    "mean_rankings_males = males[males.columns[9:15]].mean()"
   ]
  },
  {
   "cell_type": "code",
   "execution_count": 53,
   "id": "f95af5c2",
   "metadata": {},
   "outputs": [
    {
     "name": "stdout",
     "output_type": "stream",
     "text": [
      "ranking_5    2.458629\n",
      "ranking_4    2.997636\n",
      "ranking_6    3.002364\n",
      "ranking_1    4.037825\n",
      "ranking_2    4.224586\n",
      "ranking_3    4.274882\n",
      "dtype: float64\n"
     ]
    }
   ],
   "source": [
    "print(mean_rankings_males.sort_values())"
   ]
  },
  {
   "cell_type": "code",
   "execution_count": 56,
   "id": "e9e599c9",
   "metadata": {},
   "outputs": [],
   "source": [
    "mean_rankings_females = females[females.columns[9:15]].mean()"
   ]
  },
  {
   "cell_type": "code",
   "execution_count": 57,
   "id": "9cefc4af",
   "metadata": {},
   "outputs": [
    {
     "name": "stdout",
     "output_type": "stream",
     "text": [
      "ranking_5    2.569270\n",
      "ranking_6    3.078086\n",
      "ranking_1    3.429293\n",
      "ranking_4    3.544081\n",
      "ranking_2    3.954660\n",
      "ranking_3    4.418136\n",
      "dtype: float64\n"
     ]
    }
   ],
   "source": [
    "print(mean_rankings_females.sort_values())"
   ]
  },
  {
   "cell_type": "code",
   "execution_count": 66,
   "id": "c68801b1",
   "metadata": {},
   "outputs": [
    {
     "data": {
      "image/png": "[encoded data removed]",
      "text/plain": [
       "<Figure size 1080x432 with 2 Axes>"
      ]
     },
     "metadata": {
      "needs_background": "light"
     },
     "output_type": "display_data"
    }
   ],
   "source": [
    "import matplotlib.pyplot as plt\n",
    "%matplotlib inline\n",
    "\n",
    "plt.figure(figsize = (15,6))\n",
    "plt.subplot(1,2,1)\n",
    "mean_rankings_males.sort_values().plot.bar()\n",
    "plt.xticks(rotation = 30)\n",
    "plt.title('Average ranking of Star Wars sequels for the \\'Male\\' segment ')\n",
    "plt.ylim([0,5])\n",
    "#plt.show()\n",
    "\n",
    "plt.subplot(1,2,2)\n",
    "mean_rankings_females.sort_values().plot.bar()\n",
    "plt.xticks(rotation = 30)\n",
    "plt.title('Average ranking of Star Wars sequels for the \\'Female\\' segment')\n",
    "plt.ylim([0,5])\n",
    "plt.show()\n"
   ]
  },
  {
   "cell_type": "markdown",
   "id": "022202ba",
   "metadata": {},
   "source": [
    "#### Thus we can observe that Episode 5 is the highest ranked for both the gender segments. For Female audiences, while the ranking for episode 4 is lower than the ranking for Episode 1, the difference is marginal. Thus we can consider even for Female audiences, the Original Star Wars movies are perceived to be better. There could be a bias due to the novelty of Episode 1. "
   ]
  },
  {
   "cell_type": "markdown",
   "id": "842c323a",
   "metadata": {},
   "source": [
    "### Finding the most viewed sequel among both the gender segments"
   ]
  },
  {
   "cell_type": "code",
   "execution_count": 67,
   "id": "6d6c16e8",
   "metadata": {},
   "outputs": [],
   "source": [
    "total_views_male = males[males.columns[3:9]].sum()"
   ]
  },
  {
   "cell_type": "code",
   "execution_count": 68,
   "id": "559312b0",
   "metadata": {},
   "outputs": [
    {
     "name": "stdout",
     "output_type": "stream",
     "text": [
      "seen_5    392\n",
      "seen_6    387\n",
      "seen_1    361\n",
      "seen_4    342\n",
      "seen_2    323\n",
      "seen_3    317\n",
      "dtype: int64\n"
     ]
    }
   ],
   "source": [
    "print(total_views_male.sort_values(ascending = False))"
   ]
  },
  {
   "cell_type": "code",
   "execution_count": 69,
   "id": "e686c0e7",
   "metadata": {},
   "outputs": [],
   "source": [
    "total_views_female = females[females.columns[3:9]].sum()"
   ]
  },
  {
   "cell_type": "code",
   "execution_count": 70,
   "id": "493dd3ca",
   "metadata": {},
   "outputs": [
    {
     "name": "stdout",
     "output_type": "stream",
     "text": [
      "seen_5    353\n",
      "seen_6    338\n",
      "seen_1    298\n",
      "seen_4    255\n",
      "seen_2    237\n",
      "seen_3    222\n",
      "dtype: int64\n"
     ]
    }
   ],
   "source": [
    "print(total_views_female.sort_values(ascending = False))"
   ]
  },
  {
   "cell_type": "code",
   "execution_count": 72,
   "id": "cc8789ca",
   "metadata": {},
   "outputs": [
    {
     "data": {
      "image/png": "[encoded data removed]",
      "text/plain": [
       "<Figure size 1080x432 with 2 Axes>"
      ]
     },
     "metadata": {
      "needs_background": "light"
     },
     "output_type": "display_data"
    }
   ],
   "source": [
    "%matplotlib inline\n",
    "\n",
    "plt.figure(figsize = (15,6))\n",
    "plt.subplot(1,2,1)\n",
    "total_views_male.sort_values(ascending = False).plot.bar()\n",
    "plt.xticks(rotation = 30)\n",
    "plt.title('Total Views of Star Wars sequels for the \\'Male\\' segment ')\n",
    "#plt.ylim([0,5])\n",
    "#plt.show()\n",
    "\n",
    "plt.subplot(1,2,2)\n",
    "total_views_female.sort_values(ascending = False).plot.bar()\n",
    "plt.xticks(rotation = 30)\n",
    "plt.title('Total Views of Star Wars sequels for the \\'Female\\' segment ')\n",
    "#plt.ylim([0,5])\n",
    "plt.show()"
   ]
  },
  {
   "cell_type": "markdown",
   "id": "3c980500",
   "metadata": {},
   "source": [
    "#### Thus we can observe that the total number of views are ranked in the same order. It is because most likely people would have watched these movies in mixed gender groups rather than alone. Since the movies are action / sci-fi oriented, the primary audience would have been male and they may have brought their female friends along. "
   ]
  },
  {
   "cell_type": "markdown",
   "id": "a7267e21",
   "metadata": {},
   "source": [
    "## Thank You !"
   ]
  },
  {
   "cell_type": "code",
   "execution_count": null,
   "id": "a2e353fa",
   "metadata": {},
   "outputs": [],
   "source": []
  }
 ],
 "metadata": {
  "hide_input": false,
  "kernelspec": {
   "display_name": "Python 3",
   "language": "python",
   "name": "python3"
  },
  "language_info": {
   "codemirror_mode": {
    "name": "ipython",
    "version": 3
   },
   "file_extension": ".py",
   "mimetype": "text/x-python",
   "name": "python",
   "nbconvert_exporter": "python",
   "pygments_lexer": "ipython3",
   "version": "3.8.8"
  }
 },
 "nbformat": 4,
 "nbformat_minor": 5
}
