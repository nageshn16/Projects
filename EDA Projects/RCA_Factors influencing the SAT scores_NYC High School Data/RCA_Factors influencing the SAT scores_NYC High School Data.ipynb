{
 "cells": [
  {
   "cell_type": "markdown",
   "metadata": {},
   "source": [
    "## Project : Finding the factors influencing the SAT scores_NYC High School Data"
   ]
  },
  {
   "cell_type": "markdown",
   "metadata": {},
   "source": [
    "### Read in the data"
   ]
  },
  {
   "cell_type": "code",
   "execution_count": 1,
   "metadata": {},
   "outputs": [],
   "source": [
    "import pandas as pd\n",
    "import numpy\n",
    "import re\n",
    "\n",
    "data_files = [\n",
    "    \"ap_2010.csv\",\n",
    "    \"class_size.csv\",\n",
    "    \"demographics.csv\",\n",
    "    \"graduation.csv\",\n",
    "    \"hs_directory.csv\",\n",
    "    \"sat_results.csv\"\n",
    "]\n",
    "\n",
    "data = {}\n",
    "\n",
    "for f in data_files:\n",
    "    d = pd.read_csv(\"{0}\".format(f))\n",
    "    data[f.replace(\".csv\", \"\")] = d"
   ]
  },
  {
   "cell_type": "markdown",
   "metadata": {},
   "source": [
    "### Read in the surveys"
   ]
  },
  {
   "cell_type": "code",
   "execution_count": 2,
   "metadata": {},
   "outputs": [],
   "source": [
    "all_survey = pd.read_csv(\"survey_all.txt\", delimiter=\"\\t\", encoding='windows-1252')\n",
    "d75_survey = pd.read_csv(\"survey_d75.txt\", delimiter=\"\\t\", encoding='windows-1252')\n",
    "survey = pd.concat([all_survey, d75_survey], axis=0)\n",
    "\n",
    "survey[\"DBN\"] = survey[\"dbn\"]\n",
    "\n",
    "survey_fields = [\n",
    "    \"DBN\", \n",
    "    \"rr_s\", \n",
    "    \"rr_t\", \n",
    "    \"rr_p\", \n",
    "    \"N_s\", \n",
    "    \"N_t\", \n",
    "    \"N_p\", \n",
    "    \"saf_p_11\", \n",
    "    \"com_p_11\", \n",
    "    \"eng_p_11\", \n",
    "    \"aca_p_11\", \n",
    "    \"saf_t_11\", \n",
    "    \"com_t_11\", \n",
    "    \"eng_t_11\", \n",
    "    \"aca_t_11\", \n",
    "    \"saf_s_11\", \n",
    "    \"com_s_11\", \n",
    "    \"eng_s_11\", \n",
    "    \"aca_s_11\", \n",
    "    \"saf_tot_11\", \n",
    "    \"com_tot_11\", \n",
    "    \"eng_tot_11\", \n",
    "    \"aca_tot_11\",\n",
    "]\n",
    "survey = survey.loc[:,survey_fields]\n",
    "data[\"survey\"] = survey"
   ]
  },
  {
   "cell_type": "markdown",
   "metadata": {},
   "source": [
    "### Add DBN columns"
   ]
  },
  {
   "cell_type": "code",
   "execution_count": 3,
   "metadata": {},
   "outputs": [],
   "source": [
    "data[\"hs_directory\"][\"DBN\"] = data[\"hs_directory\"][\"dbn\"]\n",
    "\n",
    "def pad_csd(num):\n",
    "    string_representation = str(num)\n",
    "    if len(string_representation) > 1:\n",
    "        return string_representation\n",
    "    else:\n",
    "        return \"0\" + string_representation\n",
    "    \n",
    "data[\"class_size\"][\"padded_csd\"] = data[\"class_size\"][\"CSD\"].apply(pad_csd)\n",
    "data[\"class_size\"][\"DBN\"] = data[\"class_size\"][\"padded_csd\"] + data[\"class_size\"][\"SCHOOL CODE\"]"
   ]
  },
  {
   "cell_type": "markdown",
   "metadata": {},
   "source": [
    "### Convert columns to numeric"
   ]
  },
  {
   "cell_type": "code",
   "execution_count": 4,
   "metadata": {},
   "outputs": [],
   "source": [
    "cols = ['SAT Math Avg. Score', 'SAT Critical Reading Avg. Score', 'SAT Writing Avg. Score']\n",
    "for c in cols:\n",
    "    data[\"sat_results\"][c] = pd.to_numeric(data[\"sat_results\"][c], errors=\"coerce\")\n",
    "\n",
    "data['sat_results']['sat_score'] = data['sat_results'][cols[0]] + data['sat_results'][cols[1]] + data['sat_results'][cols[2]]\n",
    "\n",
    "def find_lat(loc):\n",
    "    coords = re.findall(\"\\(.+, .+\\)\", loc)\n",
    "    lat = coords[0].split(\",\")[0].replace(\"(\", \"\")\n",
    "    return lat\n",
    "\n",
    "def find_lon(loc):\n",
    "    coords = re.findall(\"\\(.+, .+\\)\", loc)\n",
    "    lon = coords[0].split(\",\")[1].replace(\")\", \"\").strip()\n",
    "    return lon\n",
    "\n",
    "data[\"hs_directory\"][\"lat\"] = data[\"hs_directory\"][\"Location 1\"].apply(find_lat)\n",
    "data[\"hs_directory\"][\"lon\"] = data[\"hs_directory\"][\"Location 1\"].apply(find_lon)\n",
    "\n",
    "data[\"hs_directory\"][\"lat\"] = pd.to_numeric(data[\"hs_directory\"][\"lat\"], errors=\"coerce\")\n",
    "data[\"hs_directory\"][\"lon\"] = pd.to_numeric(data[\"hs_directory\"][\"lon\"], errors=\"coerce\")"
   ]
  },
  {
   "cell_type": "markdown",
   "metadata": {},
   "source": [
    "### Condense datasets"
   ]
  },
  {
   "cell_type": "code",
   "execution_count": 5,
   "metadata": {},
   "outputs": [],
   "source": [
    "class_size = data[\"class_size\"]\n",
    "class_size = class_size[class_size[\"GRADE \"] == \"09-12\"]\n",
    "class_size = class_size[class_size[\"PROGRAM TYPE\"] == \"GEN ED\"]\n",
    "\n",
    "class_size = class_size.groupby(\"DBN\").agg(numpy.mean)\n",
    "class_size.reset_index(inplace=True)\n",
    "data[\"class_size\"] = class_size\n",
    "\n",
    "data[\"demographics\"] = data[\"demographics\"][data[\"demographics\"][\"schoolyear\"] == 20112012]\n",
    "\n",
    "data[\"graduation\"] = data[\"graduation\"][data[\"graduation\"][\"Cohort\"] == \"2006\"]\n",
    "data[\"graduation\"] = data[\"graduation\"][data[\"graduation\"][\"Demographic\"] == \"Total Cohort\"]"
   ]
  },
  {
   "cell_type": "markdown",
   "metadata": {},
   "source": [
    "### Convert AP scores to numeric"
   ]
  },
  {
   "cell_type": "code",
   "execution_count": 6,
   "metadata": {},
   "outputs": [],
   "source": [
    "cols = ['AP Test Takers ', 'Total Exams Taken', 'Number of Exams with scores 3 4 or 5']\n",
    "\n",
    "for col in cols:\n",
    "    data[\"ap_2010\"][col] = pd.to_numeric(data[\"ap_2010\"][col], errors=\"coerce\")"
   ]
  },
  {
   "cell_type": "markdown",
   "metadata": {},
   "source": [
    "### Combine the datasets"
   ]
  },
  {
   "cell_type": "code",
   "execution_count": 7,
   "metadata": {},
   "outputs": [],
   "source": [
    "combined = data[\"sat_results\"]\n",
    "\n",
    "combined = combined.merge(data[\"ap_2010\"], on=\"DBN\", how=\"left\")\n",
    "combined = combined.merge(data[\"graduation\"], on=\"DBN\", how=\"left\")\n",
    "\n",
    "to_merge = [\"class_size\", \"demographics\", \"survey\", \"hs_directory\"]\n",
    "\n",
    "for m in to_merge:\n",
    "    combined = combined.merge(data[m], on=\"DBN\", how=\"inner\")\n",
    "\n",
    "combined = combined.fillna(combined.mean())\n",
    "combined = combined.fillna(0)"
   ]
  },
  {
   "cell_type": "markdown",
   "metadata": {},
   "source": [
    "### Add a school district column for mapping"
   ]
  },
  {
   "cell_type": "code",
   "execution_count": 8,
   "metadata": {},
   "outputs": [],
   "source": [
    "def get_first_two_chars(dbn):\n",
    "    return dbn[0:2]\n",
    "\n",
    "combined[\"school_dist\"] = combined[\"DBN\"].apply(get_first_two_chars)"
   ]
  },
  {
   "cell_type": "markdown",
   "metadata": {},
   "source": [
    "### Find correlations"
   ]
  },
  {
   "cell_type": "code",
   "execution_count": 9,
   "metadata": {},
   "outputs": [
    {
     "name": "stdout",
     "output_type": "stream",
     "text": [
      "SAT Critical Reading Avg. Score    0.986820\n",
      "SAT Math Avg. Score                0.972643\n",
      "SAT Writing Avg. Score             0.987771\n",
      "sat_score                          1.000000\n",
      "AP Test Takers                     0.523140\n",
      "                                     ...   \n",
      "priority08                              NaN\n",
      "priority09                              NaN\n",
      "priority10                              NaN\n",
      "lat                               -0.121029\n",
      "lon                               -0.132222\n",
      "Name: sat_score, Length: 67, dtype: float64\n"
     ]
    }
   ],
   "source": [
    "correlations = combined.corr()\n",
    "correlations = correlations[\"sat_score\"]\n",
    "print(correlations)"
   ]
  },
  {
   "cell_type": "markdown",
   "metadata": {},
   "source": [
    "### Plotting survey correlations"
   ]
  },
  {
   "cell_type": "code",
   "execution_count": 10,
   "metadata": {},
   "outputs": [],
   "source": [
    "# Remove DBN since it's a unique identifier, not a useful numerical value for correlation.\n",
    "survey_fields.remove(\"DBN\")"
   ]
  },
  {
   "cell_type": "code",
   "execution_count": 11,
   "metadata": {},
   "outputs": [
    {
     "name": "stdout",
     "output_type": "stream",
     "text": [
      "['rr_s', 'rr_t', 'rr_p', 'N_s', 'N_t', 'N_p', 'saf_p_11', 'com_p_11', 'eng_p_11', 'aca_p_11', 'saf_t_11', 'com_t_11', 'eng_t_11', 'aca_t_11', 'saf_s_11', 'com_s_11', 'eng_s_11', 'aca_s_11', 'saf_tot_11', 'com_tot_11', 'eng_tot_11', 'aca_tot_11']\n"
     ]
    }
   ],
   "source": [
    "print(survey_fields)"
   ]
  },
  {
   "cell_type": "code",
   "execution_count": 12,
   "metadata": {},
   "outputs": [
    {
     "name": "stdout",
     "output_type": "stream",
     "text": [
      "<class 'pandas.core.series.Series'>\n"
     ]
    }
   ],
   "source": [
    "print(type(correlations))"
   ]
  },
  {
   "cell_type": "code",
   "execution_count": 13,
   "metadata": {},
   "outputs": [
    {
     "name": "stdout",
     "output_type": "stream",
     "text": [
      "rr_s          0.232199\n",
      "rr_t         -0.023386\n",
      "rr_p          0.047925\n",
      "N_s           0.423463\n",
      "N_t           0.291463\n",
      "N_p           0.421530\n",
      "saf_p_11      0.122913\n",
      "com_p_11     -0.115073\n",
      "eng_p_11      0.020254\n",
      "aca_p_11      0.035155\n",
      "saf_t_11      0.313810\n",
      "com_t_11      0.082419\n",
      "eng_t_11      0.036906\n",
      "aca_t_11      0.132348\n",
      "saf_s_11      0.337639\n",
      "com_s_11      0.187370\n",
      "eng_s_11      0.213822\n",
      "aca_s_11      0.339435\n",
      "saf_tot_11    0.318753\n",
      "com_tot_11    0.077310\n",
      "eng_tot_11    0.100102\n",
      "aca_tot_11    0.190966\n",
      "Name: sat_score, dtype: float64\n"
     ]
    }
   ],
   "source": [
    "corr_survey = correlations.loc[survey_fields]\n",
    "\n",
    "print(corr_survey)"
   ]
  },
  {
   "cell_type": "code",
   "execution_count": 14,
   "metadata": {},
   "outputs": [],
   "source": [
    "import matplotlib.pyplot as plt"
   ]
  },
  {
   "cell_type": "code",
   "execution_count": 15,
   "metadata": {},
   "outputs": [
    {
     "data": {
      "image/png": "[encoded data removed]",
      "text/plain": [
       "<Figure size 720x576 with 1 Axes>"
      ]
     },
     "metadata": {
      "needs_background": "light"
     },
     "output_type": "display_data"
    }
   ],
   "source": [
    "plt.figure(figsize = (10,8))\n",
    "\n",
    "plt.subplot(1,1,1)\n",
    "\n",
    "corr_survey.plot.bar()\n",
    "plt.xticks(rotation = 30)\n",
    "plt.show()"
   ]
  },
  {
   "cell_type": "markdown",
   "metadata": {},
   "source": [
    "#### Findings of the Correlation Analysis\n",
    "\n",
    "The correlation is high (close to or more than .3) in the following cases\n",
    "1. N_s, N_p, which indicates the total number of responses\n",
    "2. Safety Score indicators by teachers and students\n",
    "3. High Engagment indicator\n",
    "4. High Academic inclination\n",
    "\n",
    "In this case, the surprising finding is that schools that are considered safer are highly correlated with SAT scores. "
   ]
  },
  {
   "cell_type": "markdown",
   "metadata": {},
   "source": [
    "#### We will further explore the safety indicator variables saf_p_11 and saf_t_11 via scatterplots"
   ]
  },
  {
   "cell_type": "code",
   "execution_count": 16,
   "metadata": {},
   "outputs": [
    {
     "data": {
      "image/png": "[encoded data removed]",
      "text/plain": [
       "<Figure size 432x288 with 1 Axes>"
      ]
     },
     "metadata": {
      "needs_background": "light"
     },
     "output_type": "display_data"
    }
   ],
   "source": [
    "combined.plot.scatter('saf_p_11', 'sat_score')\n",
    "plt.show()\n"
   ]
  },
  {
   "cell_type": "code",
   "execution_count": 17,
   "metadata": {},
   "outputs": [
    {
     "data": {
      "image/png": "[encoded data removed]",
      "text/plain": [
       "<Figure size 432x288 with 1 Axes>"
      ]
     },
     "metadata": {
      "needs_background": "light"
     },
     "output_type": "display_data"
    }
   ],
   "source": [
    "combined.plot.scatter('saf_t_11', 'sat_score')\n",
    "plt.show()"
   ]
  },
  {
   "cell_type": "markdown",
   "metadata": {},
   "source": [
    "#### The scatter plots indicate a high correlation between safety scores and SAT scores"
   ]
  },
  {
   "cell_type": "markdown",
   "metadata": {},
   "source": [
    "#### Next we will aggregate the safety scores by borough / neighborhood, and analyze if schools in safer neighborhoods have higher SAT Scores"
   ]
  },
  {
   "cell_type": "code",
   "execution_count": 18,
   "metadata": {},
   "outputs": [
    {
     "name": "stdout",
     "output_type": "stream",
     "text": [
      "Index(['DBN', 'SCHOOL NAME', 'Num of SAT Test Takers',\n",
      "       'SAT Critical Reading Avg. Score', 'SAT Math Avg. Score',\n",
      "       'SAT Writing Avg. Score', 'sat_score', 'SchoolName', 'AP Test Takers ',\n",
      "       'Total Exams Taken',\n",
      "       ...\n",
      "       'priority05', 'priority06', 'priority07', 'priority08', 'priority09',\n",
      "       'priority10', 'Location 1', 'lat', 'lon', 'school_dist'],\n",
      "      dtype='object', length=160)\n"
     ]
    }
   ],
   "source": [
    "print(combined.columns)"
   ]
  },
  {
   "cell_type": "code",
   "execution_count": 19,
   "metadata": {},
   "outputs": [
    {
     "name": "stdout",
     "output_type": "stream",
     "text": [
      "AP Test Takers \n",
      "AVERAGE CLASS SIZE\n",
      "Advanced Regents - % of cohort\n",
      "Advanced Regents - % of grads\n",
      "Advanced Regents - n\n",
      "CSD\n",
      "Cohort\n",
      "DBN\n",
      "Demographic\n",
      "Dropped Out - % of cohort\n",
      "Dropped Out - n\n",
      "Local - % of cohort\n",
      "Local - % of grads\n",
      "Local - n\n",
      "Location 1\n",
      "NUMBER OF SECTIONS\n",
      "NUMBER OF STUDENTS / SEATS FILLED\n",
      "N_p\n",
      "N_s\n",
      "N_t\n",
      "Name\n",
      "Num of SAT Test Takers\n",
      "Number of Exams with scores 3 4 or 5\n",
      "Regents w/o Advanced - % of cohort\n",
      "Regents w/o Advanced - % of grads\n",
      "Regents w/o Advanced - n\n",
      "SAT Critical Reading Avg. Score\n",
      "SAT Math Avg. Score\n",
      "SAT Writing Avg. Score\n",
      "SCHOOL NAME\n",
      "SCHOOLWIDE PUPIL-TEACHER RATIO\n",
      "SIZE OF LARGEST CLASS\n",
      "SIZE OF SMALLEST CLASS\n",
      "School Name\n",
      "SchoolName\n",
      "Still Enrolled - % of cohort\n",
      "Still Enrolled - n\n",
      "Total Cohort\n",
      "Total Exams Taken\n",
      "Total Grads - % of cohort\n",
      "Total Grads - n\n",
      "Total Regents - % of cohort\n",
      "Total Regents - % of grads\n",
      "Total Regents - n\n",
      "aca_p_11\n",
      "aca_s_11\n",
      "aca_t_11\n",
      "aca_tot_11\n",
      "addtl_info1\n",
      "addtl_info2\n",
      "advancedplacement_courses\n",
      "asian_num\n",
      "asian_per\n",
      "black_num\n",
      "black_per\n",
      "boro\n",
      "building_code\n",
      "bus\n",
      "campus_name\n",
      "city\n",
      "com_p_11\n",
      "com_s_11\n",
      "com_t_11\n",
      "com_tot_11\n",
      "ctt_num\n",
      "dbn\n",
      "ell_num\n",
      "ell_percent\n",
      "ell_programs\n",
      "end_time\n",
      "eng_p_11\n",
      "eng_s_11\n",
      "eng_t_11\n",
      "eng_tot_11\n",
      "expgrade_span_max\n",
      "expgrade_span_min\n",
      "extracurricular_activities\n",
      "fax_number\n",
      "female_num\n",
      "female_per\n",
      "fl_percent\n",
      "frl_percent\n",
      "grade1\n",
      "grade10\n",
      "grade11\n",
      "grade12\n",
      "grade2\n",
      "grade3\n",
      "grade4\n",
      "grade5\n",
      "grade6\n",
      "grade7\n",
      "grade8\n",
      "grade9\n",
      "grade_span_max\n",
      "grade_span_min\n",
      "hispanic_num\n",
      "hispanic_per\n",
      "k\n",
      "language_classes\n",
      "lat\n",
      "lon\n",
      "male_num\n",
      "male_per\n",
      "number_programs\n",
      "online_ap_courses\n",
      "online_language_courses\n",
      "overview_paragraph\n",
      "partner_cbo\n",
      "partner_corporate\n",
      "partner_cultural\n",
      "partner_financial\n",
      "partner_highered\n",
      "partner_hospital\n",
      "partner_nonprofit\n",
      "partner_other\n",
      "phone_number\n",
      "prek\n",
      "primary_address_line_1\n",
      "priority01\n",
      "priority02\n",
      "priority03\n",
      "priority04\n",
      "priority05\n",
      "priority06\n",
      "priority07\n",
      "priority08\n",
      "priority09\n",
      "priority10\n",
      "program_highlights\n",
      "psal_sports_boys\n",
      "psal_sports_coed\n",
      "psal_sports_girls\n",
      "rr_p\n",
      "rr_s\n",
      "rr_t\n",
      "saf_p_11\n",
      "saf_s_11\n",
      "saf_t_11\n",
      "saf_tot_11\n",
      "sat_score\n",
      "school_accessibility_description\n",
      "school_dist\n",
      "school_name\n",
      "school_sports\n",
      "school_type\n",
      "schoolyear\n",
      "se_services\n",
      "selfcontained_num\n",
      "sped_num\n",
      "sped_percent\n",
      "start_time\n",
      "state_code\n",
      "subway\n",
      "total_enrollment\n",
      "total_students\n",
      "website\n",
      "white_num\n",
      "white_per\n",
      "zip\n"
     ]
    }
   ],
   "source": [
    "for col in sorted(combined.columns):\n",
    "    #if 'bor' in col:\n",
    "    print(col)\n",
    "    "
   ]
  },
  {
   "cell_type": "code",
   "execution_count": 20,
   "metadata": {},
   "outputs": [
    {
     "name": "stdout",
     "output_type": "stream",
     "text": [
      "            boro    sat_score  saf_t_11  saf_p_11\n",
      "0          Bronx  1157.598203  7.026882  8.346237\n",
      "1       Brooklyn  1181.364461  6.985849  8.036792\n",
      "2      Manhattan  1278.331410  7.287778  8.288889\n",
      "3         Queens  1286.753032  7.365625  8.098437\n",
      "4  Staten Island  1382.500000  7.210000  7.800000\n"
     ]
    }
   ],
   "source": [
    "boro_scores = combined.groupby('boro').agg(numpy.mean)[['sat_score','saf_t_11', 'saf_p_11']]\n",
    "boro_scores = boro_scores.reset_index()\n",
    "print(boro_scores.head())"
   ]
  },
  {
   "cell_type": "code",
   "execution_count": 21,
   "metadata": {},
   "outputs": [
    {
     "name": "stdout",
     "output_type": "stream",
     "text": [
      "(5, 4)\n"
     ]
    }
   ],
   "source": [
    "print(boro_scores.shape)"
   ]
  },
  {
   "cell_type": "code",
   "execution_count": 22,
   "metadata": {},
   "outputs": [
    {
     "data": {
      "image/png": "[encoded data removed]",
      "text/plain": [
       "<Figure size 1440x360 with 3 Axes>"
      ]
     },
     "metadata": {
      "needs_background": "light"
     },
     "output_type": "display_data"
    }
   ],
   "source": [
    "fig,(ax1,ax2,ax3) = plt.subplots(1,3, figsize = (20,5))\n",
    "\n",
    "ax1.bar(combined['boro'], combined['sat_score'])\n",
    "#ax1.legend().set_visible(False)\n",
    "ax1.set_xlabel('sat_score')\n",
    "\n",
    "ax2.bar(combined['boro'], combined['saf_t_11'])\n",
    "#ax2.legend().set_visible(False)\n",
    "ax2.set_xlabel('saf_t_11')\n",
    "\n",
    "ax3.bar(combined['boro'], combined['saf_p_11'])\n",
    "#ax3.legend().set_visible(False)\n",
    "ax3.set_xlabel('saf_p_11')\n",
    "\n",
    "\n",
    "plt.show()"
   ]
  },
  {
   "cell_type": "markdown",
   "metadata": {},
   "source": [
    "#### It looks like Manhattan and Queens tend to have lower safety scores, whereas Brooklyn has higher safety scores. It is interesting to note that the average SAT score for Brooklyn is lower than low safety areas. We cannot however conclude SAT score comparision between Boros based on safety scores. Hence we will focus on other factors\n",
    "\n"
   ]
  },
  {
   "cell_type": "markdown",
   "metadata": {},
   "source": [
    "### Exploring the relationship between race and SAT scores"
   ]
  },
  {
   "cell_type": "code",
   "execution_count": 23,
   "metadata": {},
   "outputs": [
    {
     "name": "stdout",
     "output_type": "stream",
     "text": [
      "white_per       0.620718\n",
      "asian_per       0.570730\n",
      "black_per      -0.284139\n",
      "hispanic_per   -0.396985\n",
      "Name: sat_score, dtype: float64\n"
     ]
    }
   ],
   "source": [
    "# The columns containing race proportions are mentioned below\n",
    "\n",
    "race_cols = ['white_per' , 'asian_per' , 'black_per' , 'hispanic_per']\n",
    "\n",
    "correlations_race = correlations.loc[race_cols]\n",
    "\n",
    "print(correlations_race)"
   ]
  },
  {
   "cell_type": "code",
   "execution_count": 24,
   "metadata": {},
   "outputs": [
    {
     "data": {
      "image/png": "[encoded data removed]",
      "text/plain": [
       "<Figure size 432x288 with 1 Axes>"
      ]
     },
     "metadata": {
      "needs_background": "light"
     },
     "output_type": "display_data"
    }
   ],
   "source": [
    "correlations_race.plot.bar()\n",
    "plt.xticks(rotation = 30)\n",
    "plt.show()"
   ]
  },
  {
   "cell_type": "markdown",
   "metadata": {},
   "source": [
    "#### We can observe that there is a positive correlation w.r.t. the White and Asian percentages while there is a negative correlation w.r.t. Black and Hispanic percentages. We will explore the high negative correlation with Hispanice percentage"
   ]
  },
  {
   "cell_type": "code",
   "execution_count": 25,
   "metadata": {},
   "outputs": [
    {
     "data": {
      "image/png": "[encoded data removed]",
      "text/plain": [
       "<Figure size 432x288 with 1 Axes>"
      ]
     },
     "metadata": {
      "needs_background": "light"
     },
     "output_type": "display_data"
    }
   ],
   "source": [
    "combined.plot.scatter('hispanic_per', 'sat_score')\n",
    "plt.show()"
   ]
  },
  {
   "cell_type": "markdown",
   "metadata": {},
   "source": [
    "#### We can observe that schools with a low hispanic proportion(less than 20%) have very high SAT scores relative to scores with high hispanic proportion. Also, most of the scores are between 1000 and 1400. Scools with near 100% hispanic proportions have scores less than 1100."
   ]
  },
  {
   "cell_type": "code",
   "execution_count": 26,
   "metadata": {},
   "outputs": [],
   "source": [
    "def extract_combined_hisp(per, direction):\n",
    "    combined_hisp_greater = combined[combined['hispanic_per'] > per]\n",
    "    combined_hisp_lesser = combined[combined['hispanic_per'] < per]\n",
    "    if direction == 'greater_than':\n",
    "        return combined_hisp_greater\n",
    "    else:\n",
    "        return combined_hisp_lesser    "
   ]
  },
  {
   "cell_type": "code",
   "execution_count": 27,
   "metadata": {},
   "outputs": [],
   "source": [
    "hisp_greater_95 = extract_combined_hisp(95,'greater_than')"
   ]
  },
  {
   "cell_type": "code",
   "execution_count": 28,
   "metadata": {},
   "outputs": [
    {
     "name": "stdout",
     "output_type": "stream",
     "text": [
      "(8, 160)\n"
     ]
    }
   ],
   "source": [
    "print(hisp_greater_95.shape)"
   ]
  },
  {
   "cell_type": "code",
   "execution_count": 29,
   "metadata": {},
   "outputs": [
    {
     "name": "stdout",
     "output_type": "stream",
     "text": [
      "44                         MANHATTAN BRIDGES HIGH SCHOOL\n",
      "82      WASHINGTON HEIGHTS EXPEDITIONARY LEARNING SCHOOL\n",
      "89     GREGORIO LUPERON HIGH SCHOOL FOR SCIENCE AND M...\n",
      "125                  ACADEMY FOR LANGUAGE AND TECHNOLOGY\n",
      "141                INTERNATIONAL SCHOOL FOR LIBERAL ARTS\n",
      "176     PAN AMERICAN INTERNATIONAL HIGH SCHOOL AT MONROE\n",
      "253                            MULTICULTURAL HIGH SCHOOL\n",
      "286               PAN AMERICAN INTERNATIONAL HIGH SCHOOL\n",
      "Name: SCHOOL NAME, dtype: object\n"
     ]
    }
   ],
   "source": [
    "print(hisp_greater_95['SCHOOL NAME'])"
   ]
  },
  {
   "cell_type": "markdown",
   "metadata": {},
   "source": [
    "#### The schools listed above appear to primarily serve recent immigrants to the U.S. These schools have many students who are learning English, which would explain the lower SAT scores.\n",
    "\n"
   ]
  },
  {
   "cell_type": "code",
   "execution_count": 30,
   "metadata": {},
   "outputs": [],
   "source": [
    "hisp_less_than_10 = extract_combined_hisp(10,'less_than')"
   ]
  },
  {
   "cell_type": "code",
   "execution_count": 31,
   "metadata": {},
   "outputs": [
    {
     "data": {
      "text/plain": [
       "(30, 160)"
      ]
     },
     "execution_count": 31,
     "metadata": {},
     "output_type": "execute_result"
    }
   ],
   "source": [
    "hisp_less_than_10.shape"
   ]
  },
  {
   "cell_type": "code",
   "execution_count": 32,
   "metadata": {},
   "outputs": [],
   "source": [
    "hisp_less_than_10_and_sat_1800 = hisp_less_than_10[hisp_less_than_10['sat_score'] > 1800]"
   ]
  },
  {
   "cell_type": "code",
   "execution_count": 33,
   "metadata": {},
   "outputs": [
    {
     "name": "stdout",
     "output_type": "stream",
     "text": [
      "37                                STUYVESANT HIGH SCHOOL\n",
      "151                         BRONX HIGH SCHOOL OF SCIENCE\n",
      "187                       BROOKLYN TECHNICAL HIGH SCHOOL\n",
      "327    QUEENS HIGH SCHOOL FOR THE SCIENCES AT YORK CO...\n",
      "356                  STATEN ISLAND TECHNICAL HIGH SCHOOL\n",
      "Name: SCHOOL NAME, dtype: object\n"
     ]
    }
   ],
   "source": [
    "print(hisp_less_than_10_and_sat_1800['SCHOOL NAME'])"
   ]
  },
  {
   "cell_type": "markdown",
   "metadata": {},
   "source": [
    "#### The schools with low hispanic proportions and high SAT schools are Elite High Schools and also focused on Technical Education. Though this may not explain the relation between Hispanic proportion and score but their high scores could be explained by the fact that they have an entrance based admission and have students who already did well in a standardized test."
   ]
  },
  {
   "cell_type": "markdown",
   "metadata": {},
   "source": [
    "### Exploring the relationship between Gender and SAT Scores"
   ]
  },
  {
   "cell_type": "code",
   "execution_count": 34,
   "metadata": {},
   "outputs": [
    {
     "name": "stdout",
     "output_type": "stream",
     "text": [
      "male_per     -0.112062\n",
      "female_per    0.112108\n",
      "Name: sat_score, dtype: float64\n"
     ]
    }
   ],
   "source": [
    "gender_cols = ['male_per', 'female_per']\n",
    "\n",
    "gender_corr = correlations[gender_cols]\n",
    "\n",
    "print(gender_corr)"
   ]
  },
  {
   "cell_type": "code",
   "execution_count": 35,
   "metadata": {},
   "outputs": [
    {
     "data": {
      "image/png": "[encoded data removed]",
      "text/plain": [
       "<Figure size 432x288 with 1 Axes>"
      ]
     },
     "metadata": {
      "needs_background": "light"
     },
     "output_type": "display_data"
    }
   ],
   "source": [
    "gender_corr.plot.bar()\n",
    "plt.xticks(rotation = 30)\n",
    "plt.show()"
   ]
  },
  {
   "cell_type": "markdown",
   "metadata": {},
   "source": [
    "#### Thus we can observe that there is a positive correlation between female percentage and SAT Scores. "
   ]
  },
  {
   "cell_type": "code",
   "execution_count": 36,
   "metadata": {},
   "outputs": [
    {
     "data": {
      "image/png": "[encoded data removed]",
      "text/plain": [
       "<Figure size 432x288 with 1 Axes>"
      ]
     },
     "metadata": {
      "needs_background": "light"
     },
     "output_type": "display_data"
    }
   ],
   "source": [
    "combined.plot.scatter('female_per', 'sat_score')\n",
    "plt.show()"
   ]
  },
  {
   "cell_type": "markdown",
   "metadata": {},
   "source": [
    "#### Based on the scatter plot, there doesn't seem to be any real correlation between sat_score and female_per. (A value of .11 was lower than the conventional threshold of 0.3 to begin with)\n",
    "#### However, there is a cluster of schools with a high percentage of females (60 to 80) and high SAT scores."
   ]
  },
  {
   "cell_type": "code",
   "execution_count": 37,
   "metadata": {},
   "outputs": [
    {
     "name": "stdout",
     "output_type": "stream",
     "text": [
      "5                         BARD HIGH SCHOOL EARLY COLLEGE\n",
      "26                         ELEANOR ROOSEVELT HIGH SCHOOL\n",
      "60                                    BEACON HIGH SCHOOL\n",
      "61     FIORELLO H. LAGUARDIA HIGH SCHOOL OF MUSIC & A...\n",
      "302                          TOWNSEND HARRIS HIGH SCHOOL\n",
      "Name: SCHOOL NAME, dtype: object\n"
     ]
    }
   ],
   "source": [
    "bool_high_sat_female = (combined['sat_score'] > 1700) & (combined['female_per'] > 60)\n",
    "high_sat_female = combined[bool_high_sat_female]\n",
    "\n",
    "print(high_sat_female['SCHOOL NAME'])"
   ]
  },
  {
   "cell_type": "markdown",
   "metadata": {},
   "source": [
    "#### These schools seem to be very selective high schools with a focus on preparing students for college entrances."
   ]
  },
  {
   "cell_type": "markdown",
   "metadata": {},
   "source": [
    "### Exploring the relationship between AP test taker proportions and SAT scores"
   ]
  },
  {
   "cell_type": "code",
   "execution_count": 38,
   "metadata": {},
   "outputs": [],
   "source": [
    "## Creating a separate column for AP test taker percentage of total enrollment\n",
    "\n",
    "combined['ap_per'] = combined['AP Test Takers '] / combined['total_enrollment']"
   ]
  },
  {
   "cell_type": "code",
   "execution_count": 39,
   "metadata": {},
   "outputs": [
    {
     "data": {
      "image/png": "[encoded data removed]",
      "text/plain": [
       "<Figure size 432x288 with 1 Axes>"
      ]
     },
     "metadata": {
      "needs_background": "light"
     },
     "output_type": "display_data"
    }
   ],
   "source": [
    "### Creating a scatter plot between AP test taker percentage and SAT scores\n",
    "\n",
    "combined.plot.scatter('ap_per', 'sat_score')\n",
    "plt.show()"
   ]
  },
  {
   "cell_type": "code",
   "execution_count": 40,
   "metadata": {},
   "outputs": [
    {
     "name": "stdout",
     "output_type": "stream",
     "text": [
      "0.05717081390766952\n"
     ]
    }
   ],
   "source": [
    "### Checking the actual correlation value\n",
    "\n",
    "ap_per_sat_score_corr = combined.corr()['sat_score'].loc['ap_per']\n",
    "print(ap_per_sat_score_corr)"
   ]
  },
  {
   "cell_type": "markdown",
   "metadata": {},
   "source": [
    "#### Based on the scatter plot, we observe there is some correlation but it is not a very strong one. "
   ]
  },
  {
   "cell_type": "markdown",
   "metadata": {},
   "source": [
    "## Conclusions:\n",
    "    - The following are indicators of high SAT scores:\n",
    "        a) Safety scores by Students\n",
    "        b) Saftey scores by Teachers\n",
    "        c) Racial Proportions - White / Asian could indicate high SAT scores, while Black/Hispanic would indicate low SAT scores\n",
    "        d) Gender is not a very strong indicator\n",
    "        e) The exceptions to the Racial Proportion indicators or Gender indicators are schools with high technical focus or with an admission criteria that involves a difficult standardized test.  "
   ]
  },
  {
   "cell_type": "code",
   "execution_count": null,
   "metadata": {},
   "outputs": [],
   "source": []
  }
 ],
 "metadata": {
  "hide_input": false,
  "kernelspec": {
   "display_name": "Python 3",
   "language": "python",
   "name": "python3"
  },
  "language_info": {
   "codemirror_mode": {
    "name": "ipython",
    "version": 3
   },
   "file_extension": ".py",
   "mimetype": "text/x-python",
   "name": "python",
   "nbconvert_exporter": "python",
   "pygments_lexer": "ipython3",
   "version": "3.8.8"
  }
 },
 "nbformat": 4,
 "nbformat_minor": 2
}
